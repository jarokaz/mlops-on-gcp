{
 "cells": [
  {
   "cell_type": "markdown",
   "metadata": {},
   "source": [
    "# TFX Components Walk-through"
   ]
  },
  {
   "cell_type": "markdown",
   "metadata": {},
   "source": [
    "## Learning Objectives\n",
    "\n",
    "1.  Develop a high level understanding of TFX pipeline components.\n",
    "2.  Learn how to use a TFX Interactive Context for prototype development of TFX pipelines.\n",
    "3.  Work with the Tensorflow Data Validation (TFDV) library to check and analyze input data.\n",
    "4.  Utilize the Tensorflow Transform (TFT) library for scalable data preprocessing and feature transformations.\n",
    "5.  Employ the Tensorflow Model Analysis (TFMA) library for model evaluation.\n",
    "\n",
    "In this lab, you will work with the [Covertype Data Set](https://github.com/jarokaz/mlops-labs/blob/master/datasets/covertype/README.md) and use TFX to analyze, understand, and pre-process the dataset and train, analyze, validate, and deploy a multi-class classification model to predict the type of forest cover from cartographic features.\n",
    "\n",
    "\n",
    "**Setup Note:**\n",
    "Currently, TFMA visualizations do not render properly in JupyterLab. It is recommended to run this notebook in Jupyter Classic Notebook. To switch to Classic Notebook select *Launch Classic Notebook* from the *Help* menu."
   ]
  },
  {
   "cell_type": "code",
   "execution_count": 1,
   "metadata": {},
   "outputs": [
    {
     "name": "stderr",
     "output_type": "stream",
     "text": [
      "/home/jupyter/.local/lib/python3.7/site-packages/tfx/orchestration/data_types.py:191: UserWarning: RuntimeParameter is only supported on KubeflowDagRunner currently.\n",
      "  warnings.warn('RuntimeParameter is only supported on KubeflowDagRunner '\n"
     ]
    }
   ],
   "source": [
    "import absl\n",
    "import os\n",
    "import tempfile\n",
    "import time\n",
    "\n",
    "import tensorflow as tf\n",
    "import tensorflow_data_validation as tfdv\n",
    "import tensorflow_model_analysis as tfma\n",
    "import tensorflow_transform as tft\n",
    "import tfx\n",
    "\n",
    "from pprint import pprint\n",
    "from tensorflow_metadata.proto.v0 import schema_pb2, statistics_pb2, anomalies_pb2\n",
    "from tensorflow_transform.tf_metadata import schema_utils\n",
    "\n",
    "from ml_metadata.metadata_store import metadata_store\n",
    "from ml_metadata.proto import metadata_store_pb2\n",
    "\n",
    "from tfx.components import CsvExampleGen\n",
    "from tfx.components import Evaluator\n",
    "from tfx.components import ExampleValidator\n",
    "from tfx.components import InfraValidator\n",
    "from tfx.components import Pusher\n",
    "from tfx.components import ResolverNode\n",
    "from tfx.components import SchemaGen\n",
    "from tfx.components import StatisticsGen\n",
    "from tfx.components import Trainer\n",
    "from tfx.components import Transform\n",
    "from tfx.components.base import executor_spec\n",
    "from tfx.components.common_nodes.importer_node import ImporterNode\n",
    "from tfx.components.trainer import executor as trainer_executor\n",
    "\n",
    "from tfx.dsl.experimental import latest_blessed_model_resolver\n",
    "\n",
    "from tfx.orchestration.beam.beam_dag_runner import BeamDagRunner\n",
    "from tfx.orchestration.metadata import sqlite_metadata_connection_config\n",
    "from tfx.orchestration.pipeline import Pipeline\n",
    "from tfx.orchestration import metadata\n",
    "\n",
    "from tfx.proto import evaluator_pb2\n",
    "from tfx.proto import example_gen_pb2\n",
    "from tfx.proto import infra_validator_pb2\n",
    "from tfx.proto import pusher_pb2\n",
    "from tfx.proto import trainer_pb2\n",
    "from tfx.proto.evaluator_pb2 import SingleSlicingSpec\n",
    "\n",
    "from tfx.utils.dsl_utils import external_input\n",
    "\n",
    "from tfx.types import Channel\n",
    "from tfx.types.standard_artifacts import Examples\n",
    "from tfx.types.standard_artifacts import ExampleStatistics\n",
    "from tfx.types.standard_artifacts import ExampleAnomalies\n",
    "from tfx.types.standard_artifacts import Model\n",
    "from tfx.types.standard_artifacts import ModelEvaluation\n",
    "from tfx.types.standard_artifacts import ModelBlessing\n",
    "from tfx.types.standard_artifacts import InfraBlessing"
   ]
  },
  {
   "cell_type": "markdown",
   "metadata": {},
   "source": [
    "## Set up the environment\n",
    "### Verify TFX SDK Version"
   ]
  },
  {
   "cell_type": "markdown",
   "metadata": {},
   "source": [
    "**Note**: this lab was developed and tested with the following TF ecosystem package versions:\n",
    "\n",
    "`Tensorflow Version: 2.3.0`  \n",
    "`TFX Version: 0.23.0.caip20200818`  \n",
    "`TFDV Version: 0.23.0`  \n",
    "`TFMA Version: 0.23.0`\n",
    "\n",
    "If you encounter errors with the above imports (e.g. TFX component not found), check your package versions in the cell below."
   ]
  },
  {
   "cell_type": "code",
   "execution_count": 2,
   "metadata": {
    "tags": []
   },
   "outputs": [
    {
     "name": "stdout",
     "output_type": "stream",
     "text": [
      "Tensorflow Version: 2.3.0\n",
      "TFX Version: 0.23.0.caip20200818\n",
      "TFDV Version: 0.23.0\n",
      "TFMA Version: 0.23.0\n"
     ]
    }
   ],
   "source": [
    "print(\"Tensorflow Version:\", tf.__version__)\n",
    "print(\"TFX Version:\", tfx.__version__)\n",
    "print(\"TFDV Version:\", tfdv.__version__)\n",
    "print(\"TFMA Version:\", tfma.VERSION_STRING)\n",
    "\n",
    "absl.logging.set_verbosity(absl.logging.INFO)"
   ]
  },
  {
   "cell_type": "markdown",
   "metadata": {},
   "source": [
    "If the versions above do not match, update your packages in the current Jupyter kernel. \n",
    "\n",
    "### Update `PATH` with the location of TFX SDK."
   ]
  },
  {
   "cell_type": "code",
   "execution_count": 3,
   "metadata": {},
   "outputs": [],
   "source": [
    "os.environ['PATH'] += os.pathsep + '/home/jupyter/.local/bin'"
   ]
  },
  {
   "cell_type": "markdown",
   "metadata": {},
   "source": [
    "## Configure lab settings\n",
    "\n",
    "Set constants, location paths and other environment settings. \n",
    "\n",
    "### Settings for Beam runner"
   ]
  },
  {
   "cell_type": "code",
   "execution_count": 4,
   "metadata": {},
   "outputs": [],
   "source": [
    "LOCAL_PIPELINE_ROOT= os.path.join(os.sep, 'home', 'jupyter', 'pipeline-root')\n",
    "METADATA_PATH = os.path.join(LOCAL_PIPELINE_ROOT, 'metadata.sqlite')\n",
    "SERVING_MODEL_DIR =os.path.join(os.sep, 'home', 'jupyter', 'serving_model')\n",
    "metadata_connection_config=sqlite_metadata_connection_config(METADATA_PATH)\n",
    "connection_config = metadata_store_pb2.ConnectionConfig()\n",
    "connection_config.sqlite.filename_uri = METADATA_PATH\n",
    "connection_config.sqlite.connection_mode = 3 # READWRITE_OPENCREATE"
   ]
  },
  {
   "cell_type": "markdown",
   "metadata": {},
   "source": [
    "### Settings for Managed Pipelines runner"
   ]
  },
  {
   "cell_type": "code",
   "execution_count": 5,
   "metadata": {},
   "outputs": [],
   "source": [
    "PROJECT_ID = 'mlops-dev-env'\n",
    "GCS_BUCKET_NAME = 'mlops-dev-workspace'\n",
    "GCS_PIPELINE_ROOT = f'gs://{GCS_BUCKET_NAME}/pipeline-root'\n",
    "BASE_IMAGE = f'gcr.io/caip-pipelines-assets/tfx:{tfx.__version__}'"
   ]
  },
  {
   "cell_type": "markdown",
   "metadata": {},
   "source": [
    "### Source dataset"
   ]
  },
  {
   "cell_type": "code",
   "execution_count": 6,
   "metadata": {},
   "outputs": [],
   "source": [
    "DATA_ROOT = 'gs://workshop-datasets/covertype/small'"
   ]
  },
  {
   "cell_type": "markdown",
   "metadata": {},
   "source": [
    "## Configure TFX Pipeline"
   ]
  },
  {
   "cell_type": "markdown",
   "metadata": {},
   "source": [
    "### Ingesting data using ExampleGen\n",
    "\n",
    "In any ML development process the first step  is to ingest the training and test datasets. The `ExampleGen` component ingests data into a TFX pipeline. It consumes external files/services to generate a set file files in the `TFRecord` format,  which will be used by other TFX components. It can also shuffle the data and split into an arbitrary number of partitions.\n",
    "\n",
    "<img src=https://github.com/GoogleCloudPlatform/mlops-on-gcp/raw/master/images/ExampleGen.png width=\"300\">\n",
    "\n",
    "\n",
    "In this exercise, you use the `CsvExampleGen` specialization of `ExampleGen` to ingest CSV files from a GCS location. The component is configured to split the input data into two splits - `train` and `eval` - using 4:1 ratio.  "
   ]
  },
  {
   "cell_type": "code",
   "execution_count": null,
   "metadata": {
    "tags": []
   },
   "outputs": [],
   "source": [
    "output_config = example_gen_pb2.Output(\n",
    "    split_config=example_gen_pb2.SplitConfig(splits=[\n",
    "        example_gen_pb2.SplitConfig.Split(name='train', hash_buckets=4),\n",
    "        example_gen_pb2.SplitConfig.Split(name='eval', hash_buckets=1)\n",
    "    ]))\n",
    "\n",
    "example_gen = tfx.components.CsvExampleGen(\n",
    "    instance_name='Data_Extraction_Spliting',\n",
    "    input_base=DATA_ROOT,\n",
    "    output_config=output_config\n",
    ")"
   ]
  },
  {
   "cell_type": "markdown",
   "metadata": {},
   "source": [
    "#### Create a simple pipeline to test the component"
   ]
  },
  {
   "cell_type": "code",
   "execution_count": null,
   "metadata": {
    "tags": []
   },
   "outputs": [],
   "source": [
    "pipeline_name = 'example_gen_only'\n",
    "components = [example_gen]\n",
    "\n",
    "pipeline = Pipeline(\n",
    "    pipeline_name=pipeline_name,\n",
    "    pipeline_root=f'{LOCAL_PIPELINE_ROOT}/{pipeline_name}',\n",
    "    metadata_connection_config=metadata_connection_config,\n",
    "    components=components\n",
    ")"
   ]
  },
  {
   "cell_type": "markdown",
   "metadata": {},
   "source": [
    "#### Run the pipeline"
   ]
  },
  {
   "cell_type": "code",
   "execution_count": null,
   "metadata": {
    "tags": []
   },
   "outputs": [],
   "source": [
    "BeamDagRunner().run(pipeline)"
   ]
  },
  {
   "cell_type": "markdown",
   "metadata": {},
   "source": [
    "#### Examine artifacts generated by the pipeline run"
   ]
  },
  {
   "cell_type": "code",
   "execution_count": null,
   "metadata": {
    "tags": []
   },
   "outputs": [],
   "source": [
    "with metadata.Metadata(connection_config) as store:\n",
    "    examples_artifacts = store.get_artifacts_by_type(Examples.TYPE_NAME)\n",
    "\n",
    "for element in examples_artifacts:\n",
    "    print(element.uri)\n",
    "    print(element.properties)"
   ]
  },
  {
   "cell_type": "markdown",
   "metadata": {},
   "source": [
    "#### Examine the ingested data"
   ]
  },
  {
   "cell_type": "code",
   "execution_count": null,
   "metadata": {
    "tags": []
   },
   "outputs": [],
   "source": [
    "examples_uri = examples_artifacts[-1].uri\n",
    "tfrecord_filenames = [os.path.join(examples_uri, 'train', name)\n",
    "                      for name in os.listdir(os.path.join(examples_uri, 'train'))]\n",
    "dataset = tf.data.TFRecordDataset(tfrecord_filenames, compression_type=\"GZIP\")\n",
    "for tfrecord in dataset.take(2):\n",
    "  example = tf.train.Example()\n",
    "  example.ParseFromString(tfrecord.numpy())\n",
    "  for name, feature in example.features.feature.items():\n",
    "    if feature.HasField('bytes_list'):\n",
    "        value = feature.bytes_list.value\n",
    "    if feature.HasField('float_list'):\n",
    "        value = feature.float_list.value\n",
    "    if feature.HasField('int64_list'):\n",
    "        value = feature.int64_list.value\n",
    "    print('{}: {}'.format(name, value))\n",
    "  print('******')"
   ]
  },
  {
   "cell_type": "markdown",
   "metadata": {},
   "source": [
    "### Generating statistics using StatisticsGen\n",
    "\n",
    "The `StatisticsGen`  component generates data statistics that can be used by other TFX components. StatisticsGen uses [TensorFlow Data Validation](https://www.tensorflow.org/tfx/data_validation/get_started). `StatisticsGen` generate statistics for each split in the `ExampleGen` component's output. In our case there two splits: `train` and `eval`.\n",
    "\n",
    "<img src=https://github.com/GoogleCloudPlatform/mlops-on-gcp/raw/master/images/StatisticsGen.png width=\"200\">"
   ]
  },
  {
   "cell_type": "code",
   "execution_count": null,
   "metadata": {
    "tags": []
   },
   "outputs": [],
   "source": [
    "statistics_gen = tfx.components.StatisticsGen(\n",
    "    instance_name='Statistics_Generation',\n",
    "    examples=example_gen.outputs['examples'])"
   ]
  },
  {
   "cell_type": "markdown",
   "metadata": {},
   "source": [
    "### Infering data schema using SchemaGen\n",
    "\n",
    "Some TFX components use a description input data called a schema. The schema is an instance of `schema.proto`. It can specify data types for feature values, whether a feature has to be present in all examples, allowed value ranges, and other properties. `SchemaGen` automatically generates the schema by inferring types, categories, and ranges from data statistics. The auto-generated schema is best-effort and only tries to infer basic properties of the data. It is expected that developers review and modify it as needed. `SchemaGen` uses [TensorFlow Data Validation](https://www.tensorflow.org/tfx/data_validation/get_started).\n",
    "\n",
    "The `SchemaGen` component generates the schema using the statistics for the `train` split. The statistics for other splits are ignored.\n",
    "\n",
    "<img src=https://github.com/GoogleCloudPlatform/mlops-on-gcp/raw/master/images/SchemaGen.png width=\"200\">"
   ]
  },
  {
   "cell_type": "code",
   "execution_count": null,
   "metadata": {
    "tags": []
   },
   "outputs": [],
   "source": [
    "schema_gen = SchemaGen(\n",
    "    statistics=statistics_gen.outputs['statistics'],\n",
    "    infer_feature_shape=False)"
   ]
  },
  {
   "cell_type": "markdown",
   "metadata": {},
   "source": [
    "### Validating data with ExampleValidator\n",
    "\n",
    "The `ExampleValidator` component identifies anomalies in data.  It identifies anomalies by comparing data statistics computed by the `StatisticsGen` component against a schema generated by `SchemaGen` or imported by `ImporterNode`.\n",
    "\n",
    "`ExampleValidator` can detect different classes of anomalies. For example it can:\n",
    "\n",
    "- perform validity checks by comparing data statistics against a schema \n",
    "- detect training-serving skew by comparing training and serving data.\n",
    "- detect data drift by looking at a series of data.\n",
    "\n",
    "\n",
    "The `ExampleValidator` component validates the data in the `eval` split only. Other splits are ignored. \n",
    "\n",
    "<img src=https://github.com/GoogleCloudPlatform/mlops-on-gcp/raw/master/images/ExampleValidator.png width=\"350\">"
   ]
  },
  {
   "cell_type": "code",
   "execution_count": null,
   "metadata": {
    "tags": []
   },
   "outputs": [],
   "source": [
    "example_validator = ExampleValidator(\n",
    "    statistics=statistics_gen.outputs['statistics'],\n",
    "    schema=schema_gen.outputs['schema'],\n",
    "    instance_name=\"Data_Validation\"\n",
    ")"
   ]
  },
  {
   "cell_type": "markdown",
   "metadata": {},
   "source": [
    "### Preprocessing data with Transform\n",
    "\n",
    "The `Transform` component performs data transformation and feature engineering. The `Transform` component consumes `tf.Examples` emitted from the `ExampleGen` component and emits the transformed feature data and the `SavedModel` graph that was used to process the data. The emitted `SavedModel`  can then be used by serving components to make sure that the same data pre-processing logic is applied at training and serving.\n",
    "\n",
    "The `Transform` component requires more code than many other components because of the arbitrary complexity of the feature engineering that you may need for the data and/or model that you're working with. It requires code files to be available which define the processing needed.\n",
    "\n",
    "<img src=https://github.com/GoogleCloudPlatform/mlops-on-gcp/raw/master/images/Transform.png width=\"400\">\n",
    "\n",
    "#### Define the pre-processing module\n",
    "\n",
    "To configure `Trainsform`, you need to encapsulate your pre-processing code in the Python `preprocessing_fn` function and save it to a  python module that is then provided to the Transform component as an input. This module will be loaded by transform and the `preprocessing_fn` function will be called when the `Transform` component runs.\n",
    "\n",
    "In most cases, your implementation of the `preprocessing_fn` makes extensive use of [TensorFlow Transform](https://www.tensorflow.org/tfx/guide/tft) for performing feature engineering on your dataset."
   ]
  },
  {
   "cell_type": "code",
   "execution_count": null,
   "metadata": {},
   "outputs": [],
   "source": [
    "FEATURES_MODULE = 'features.py'"
   ]
  },
  {
   "cell_type": "code",
   "execution_count": null,
   "metadata": {
    "tags": []
   },
   "outputs": [],
   "source": [
    "%%writefile {FEATURES_MODULE}\n",
    "# Copyright 2020 Google LLC. All Rights Reserved.\n",
    "#\n",
    "# Licensed under the Apache License, Version 2.0 (the \"License\");\n",
    "# you may not use this file except in compliance with the License.\n",
    "# You may obtain a copy of the License at\n",
    "#\n",
    "#     http://www.apache.org/licenses/LICENSE-2.0\n",
    "#\n",
    "# Unless required by applicable law or agreed to in writing, software\n",
    "# distributed under the License is distributed on an \"AS IS\" BASIS,\n",
    "# WITHOUT WARRANTIES OR CONDITIONS OF ANY KIND, either express or implied.\n",
    "# See the License for the specific language governing permissions and\n",
    "# limitations under the License.\n",
    "\"\"\"Covertype model  taxi model features.\"\"\"\n",
    "import tensorflow as tf\n",
    "import tensorflow_model_analysis as tfma\n",
    "import tensorflow_transform as tft\n",
    "from tensorflow_transform.tf_metadata import schema_utils\n",
    "\n",
    "NUMERIC_FEATURE_KEYS = [\n",
    "    'Elevation', 'Aspect', 'Slope', 'Horizontal_Distance_To_Hydrology',\n",
    "    'Vertical_Distance_To_Hydrology', 'Horizontal_Distance_To_Roadways',\n",
    "    'Hillshade_9am', 'Hillshade_Noon', 'Hillshade_3pm',\n",
    "    'Horizontal_Distance_To_Fire_Points'\n",
    "]\n",
    "\n",
    "CATEGORICAL_FEATURE_KEYS = ['Wilderness_Area', 'Soil_Type']\n",
    "\n",
    "LABEL_KEY = 'Cover_Type'\n",
    "NUM_CLASSES = 7\n",
    "\n",
    "def transformed_name(key):\n",
    "  return key + '_xf'"
   ]
  },
  {
   "cell_type": "code",
   "execution_count": null,
   "metadata": {},
   "outputs": [],
   "source": [
    "TRANSFORM_MODULE = 'preprocessing.py'"
   ]
  },
  {
   "cell_type": "code",
   "execution_count": null,
   "metadata": {
    "tags": []
   },
   "outputs": [],
   "source": [
    "%%writefile {TRANSFORM_MODULE}\n",
    "# Copyright 2020 Google LLC. All Rights Reserved.\n",
    "#\n",
    "# Licensed under the Apache License, Version 2.0 (the \"License\");\n",
    "# you may not use this file except in compliance with the License.\n",
    "# You may obtain a copy of the License at\n",
    "#\n",
    "#     http://www.apache.org/licenses/LICENSE-2.0\n",
    "#\n",
    "# Unless required by applicable law or agreed to in writing, software\n",
    "# distributed under the License is distributed on an \"AS IS\" BASIS,\n",
    "# WITHOUT WARRANTIES OR CONDITIONS OF ANY KIND, either express or implied.\n",
    "# See the License for the specific language governing permissions and\n",
    "# limitations under the License.\n",
    "\"\"\"Covertype preprocessing.\n",
    "This file defines a template for TFX Transform component.\n",
    "\"\"\"\n",
    "\n",
    "import tensorflow as tf\n",
    "import tensorflow_transform as tft\n",
    "\n",
    "import features\n",
    "\n",
    "def _fill_in_missing(x):\n",
    "  \"\"\"Replace missing values in a SparseTensor.\n",
    "  Fills in missing values of `x` with '' or 0, and converts to a dense tensor.\n",
    "  Args:\n",
    "    x: A `SparseTensor` of rank 2.  Its dense shape should have size at most 1\n",
    "      in the second dimension.\n",
    "  Returns:\n",
    "    A rank 1 tensor where missing values of `x` have been filled in.\n",
    "  \"\"\"\n",
    "  default_value = '' if x.dtype == tf.string else 0\n",
    "  return tf.squeeze(\n",
    "      tf.sparse.to_dense(\n",
    "          tf.SparseTensor(x.indices, x.values, [x.dense_shape[0], 1]),\n",
    "          default_value),\n",
    "      axis=1)\n",
    "\n",
    "def preprocessing_fn(inputs):\n",
    "  \"\"\"Preprocesses Covertype Dataset.\"\"\"\n",
    "\n",
    "  outputs = {}\n",
    "\n",
    "  # Scale numerical features\n",
    "  for key in features.NUMERIC_FEATURE_KEYS:\n",
    "    outputs[features.transformed_name(key)] = tft.scale_to_z_score(\n",
    "        _fill_in_missing(inputs[key]))\n",
    "\n",
    "  # Generate vocabularies and maps categorical features\n",
    "  for key in features.CATEGORICAL_FEATURE_KEYS:\n",
    "    outputs[features.transformed_name(key)] = tft.compute_and_apply_vocabulary(\n",
    "        x=_fill_in_missing(inputs[key]), num_oov_buckets=1, vocab_filename=key)\n",
    "\n",
    "  # Convert Cover_Type to dense tensor\n",
    "  outputs[features.transformed_name(features.LABEL_KEY)] = _fill_in_missing(\n",
    "      inputs[features.LABEL_KEY])\n",
    "\n",
    "  return outputs\n"
   ]
  },
  {
   "cell_type": "markdown",
   "metadata": {},
   "source": [
    "Configure the component."
   ]
  },
  {
   "cell_type": "code",
   "execution_count": null,
   "metadata": {
    "tags": []
   },
   "outputs": [],
   "source": [
    "transform = Transform(\n",
    "    examples=example_gen.outputs['examples'],\n",
    "    schema=schema_gen.outputs['schema'],\n",
    "    module_file=TRANSFORM_MODULE)"
   ]
  },
  {
   "cell_type": "markdown",
   "metadata": {},
   "source": [
    "### Train with the `Trainer` component\n",
    "\n",
    "The `Trainer` component trains a model using TensorFlow.\n",
    "\n",
    "`Trainer` takes:\n",
    "\n",
    "- tf.Examples used for training and eval.\n",
    "- A user provided module file that defines the trainer logic.\n",
    "- A data schema created by `SchemaGen` or imported by `ImporterNode`.\n",
    "- A proto definition of train args and eval args.\n",
    "- An optional transform graph produced by upstream Transform component.\n",
    "- An optional base models used for scenarios such as warmstart.\n",
    "\n",
    "<img src=https://github.com/GoogleCloudPlatform/mlops-on-gcp/raw/master/images/Trainer.png width=\"400\">\n",
    "\n",
    "\n",
    "#### Define the trainer module\n",
    "\n",
    "To configure `Trainer`, you need to encapsulate your training code in a Python module that is then provided to the `Trainer` as an input. \n"
   ]
  },
  {
   "cell_type": "code",
   "execution_count": null,
   "metadata": {},
   "outputs": [],
   "source": [
    "TRAINER_MODULE_FILE = 'model.py'"
   ]
  },
  {
   "cell_type": "code",
   "execution_count": null,
   "metadata": {
    "tags": []
   },
   "outputs": [],
   "source": [
    "%%writefile {TRAINER_MODULE_FILE}\n",
    "# Copyright 2020 Google LLC. All Rights Reserved.\n",
    "#\n",
    "# Licensed under the Apache License, Version 2.0 (the \"License\");\n",
    "# you may not use this file except in compliance with the License.\n",
    "# You may obtain a copy of the License at\n",
    "#\n",
    "#     http://www.apache.org/licenses/LICENSE-2.0\n",
    "#\n",
    "# Unless required by applicable law or agreed to in writing, software\n",
    "# distributed under the License is distributed on an \"AS IS\" BASIS,\n",
    "# WITHOUT WARRANTIES OR CONDITIONS OF ANY KIND, either express or implied.\n",
    "# See the License for the specific language governing permissions and\n",
    "# limitations under the License.\n",
    "\"\"\"The Covertype classifier DNN keras model.\"\"\"\n",
    "\n",
    "import absl\n",
    "import os\n",
    "\n",
    "import tensorflow as tf\n",
    "import tensorflow_model_analysis as tfma\n",
    "import tensorflow_transform as tft\n",
    "from tensorflow_transform.tf_metadata import schema_utils\n",
    "\n",
    "import features\n",
    "\n",
    "HIDDEN_UNITS = [16, 8]\n",
    "LEARNING_RATE = 0.001\n",
    "TRAIN_BATCH_SIZE = 64\n",
    "EVAL_BATCH_SIZE = 64\n",
    "\n",
    "LOCAL_LOG_DIR = '/tmp/logs'\n",
    "\n",
    "\n",
    "def _gzip_reader_fn(filenames):\n",
    "  \"\"\"Small utility returning a record reader that can read gzip'ed files.\"\"\"\n",
    "  return tf.data.TFRecordDataset(filenames, compression_type='GZIP')\n",
    "\n",
    "\n",
    "def _get_serve_tf_examples_fn(model, tf_transform_output):\n",
    "  \"\"\"Returns a function that parses a serialized tf.Example and applies TFT.\"\"\"\n",
    "\n",
    "  model.tft_layer = tf_transform_output.transform_features_layer()\n",
    "\n",
    "  @tf.function\n",
    "  def serve_tf_examples_fn(serialized_tf_examples):\n",
    "    \"\"\"Returns the output to be used in the serving signature.\"\"\"\n",
    "    feature_spec = tf_transform_output.raw_feature_spec()\n",
    "    feature_spec.pop(features.LABEL_KEY)\n",
    "    parsed_features = tf.io.parse_example(serialized_tf_examples, feature_spec)\n",
    "\n",
    "    transformed_features = model.tft_layer(parsed_features)\n",
    "\n",
    "    return model(transformed_features)\n",
    "\n",
    "  return serve_tf_examples_fn\n",
    "\n",
    "\n",
    "def _input_fn(file_pattern, tf_transform_output, batch_size=200):\n",
    "  \"\"\"Generates features and label for tuning/training.\n",
    "  Args:\n",
    "    file_pattern: input tfrecord file pattern.\n",
    "    tf_transform_output: A TFTransformOutput.\n",
    "    batch_size: representing the number of consecutive elements of returned\n",
    "      dataset to combine in a single batch\n",
    "  Returns:\n",
    "    A dataset that contains (features, indices) tuple where features is a\n",
    "      dictionary of Tensors, and indices is a single Tensor of label indices.\n",
    "  \"\"\"\n",
    "  transformed_feature_spec = (\n",
    "      tf_transform_output.transformed_feature_spec().copy())\n",
    "\n",
    "  dataset = tf.data.experimental.make_batched_features_dataset(\n",
    "      file_pattern=file_pattern,\n",
    "      batch_size=batch_size,\n",
    "      features=transformed_feature_spec,\n",
    "      reader=_gzip_reader_fn,\n",
    "      label_key=features.transformed_name(features.LABEL_KEY))\n",
    "\n",
    "  return dataset\n",
    "\n",
    "def _build_keras_model(tf_transform_output, hidden_units, learning_rate):\n",
    "  \"\"\"Creates a DNN Keras model for classifying taxi data.\n",
    "  Args:\n",
    "    hidden_units: [int], the layer sizes of the DNN (input layer first).\n",
    "  Returns:\n",
    "    A keras Model.\n",
    "  \"\"\"\n",
    "\n",
    "  numeric_columns = [\n",
    "      tf.feature_column.numeric_column(\n",
    "          key=features.transformed_name(key), \n",
    "          shape=())\n",
    "      for key in features.NUMERIC_FEATURE_KEYS\n",
    "  ]\n",
    "\n",
    "  categorical_columns = [\n",
    "      tf.feature_column.categorical_column_with_identity(\n",
    "          key=features.transformed_name(key), \n",
    "          num_buckets=tf_transform_output.num_buckets_for_transformed_feature(features.transformed_name(key)), \n",
    "          default_value=0)\n",
    "      for key in features.CATEGORICAL_FEATURE_KEYS\n",
    "  ]\n",
    "\n",
    "  indicator_columns = [\n",
    "      tf.feature_column.indicator_column(categorical_column)\n",
    "      for categorical_column in categorical_columns\n",
    "  ]\n",
    "\n",
    "  model = _wide_and_deep_classifier(\n",
    "      # TODO(b/139668410) replace with premade wide_and_deep keras model\n",
    "      wide_columns=indicator_columns,\n",
    "      deep_columns=numeric_columns,\n",
    "      dnn_hidden_units=hidden_units,\n",
    "      learning_rate=learning_rate)\n",
    "  return model\n",
    "\n",
    "\n",
    "def _wide_and_deep_classifier(wide_columns, deep_columns, dnn_hidden_units, learning_rate):\n",
    "  \"\"\"Builds a simple keras wide and deep model.\n",
    "  Args:\n",
    "    wide_columns: Feature columns wrapped in indicator_column for wide (linear)\n",
    "      part of the model.\n",
    "    deep_columns: Feature columns for deep part of the model.\n",
    "    dnn_hidden_units: [int], the layer sizes of the hidden DNN.\n",
    "  Returns:\n",
    "    A Wide and Deep Keras model\n",
    "  \"\"\"\n",
    "  \n",
    "  input_layers = {\n",
    "      column.key: tf.keras.layers.Input(name=column.key, shape=(), dtype=tf.float32)\n",
    "      for column in deep_columns\n",
    "  }\n",
    "  \n",
    "  input_layers.update({\n",
    "      column.categorical_column.key: tf.keras.layers.Input(name=column.categorical_column.key, shape=(), dtype=tf.int32)\n",
    "      for column in wide_columns\n",
    "  })\n",
    "    \n",
    "  deep = tf.keras.layers.DenseFeatures(deep_columns)(input_layers)\n",
    "  for numnodes in dnn_hidden_units:\n",
    "    deep = tf.keras.layers.Dense(numnodes)(deep)\n",
    "  wide = tf.keras.layers.DenseFeatures(wide_columns)(input_layers)\n",
    "\n",
    "  output = tf.keras.layers.Dense(features.NUM_CLASSES, activation='softmax')(\n",
    "               tf.keras.layers.concatenate([deep, wide]))\n",
    "\n",
    "  model = tf.keras.Model(input_layers, output)\n",
    "  model.compile(\n",
    "      loss='sparse_categorical_crossentropy',\n",
    "      optimizer=tf.keras.optimizers.Adam(lr=learning_rate),\n",
    "      metrics=[tf.keras.metrics.SparseCategoricalAccuracy()])\n",
    "  model.summary(print_fn=absl.logging.info)\n",
    "  return model\n",
    "\n",
    "def _copy_tensorboard_logs(local_path, saved_model_path):\n",
    "    \"\"\"Copies Tensorboard logs to the subfolder in the GCS SavedModel location.\"\"\"\n",
    "\n",
    "    if saved_model_path[0:5] == 'gs://':\n",
    "        pattern = '{}/*/events.out.tfevents.*'.format(local_path)\n",
    "        dest_path = saved_model_path.rstrip('/') + '/' + 'logs'\n",
    "        local_files = tf.io.gfile.glob(pattern)\n",
    "        dest_log_files = [local_file.replace(local_path, dest_path) for local_file in local_files]\n",
    "        for local_file, dest_file in zip(local_files, dest_log_files):\n",
    "            tf.io.gfile.copy(local_file, dest_file)\n",
    "\n",
    "# TFX Trainer will call this function.\n",
    "def run_fn(fn_args):\n",
    "  \"\"\"Trains a model based on given args.\n",
    "  Args:\n",
    "    fn_args: Holds args used to train the model as name/value pairs.\n",
    "  \"\"\"\n",
    "  \n",
    "  tf_transform_output = tft.TFTransformOutput(fn_args.transform_output)\n",
    "    \n",
    "  train_dataset = _input_fn(fn_args.train_files, tf_transform_output, TRAIN_BATCH_SIZE)\n",
    "  eval_dataset = _input_fn(fn_args.eval_files, tf_transform_output, EVAL_BATCH_SIZE)\n",
    "    \n",
    "  model = _build_keras_model(\n",
    "      tf_transform_output=tf_transform_output,\n",
    "      hidden_units=HIDDEN_UNITS,\n",
    "      learning_rate=LEARNING_RATE\n",
    "  )\n",
    "\n",
    "  tensorboard_callback = tf.keras.callbacks.TensorBoard(\n",
    "      log_dir=LOCAL_LOG_DIR, update_freq='batch')\n",
    "  callbacks = [ \n",
    "      tensorboard_callback\n",
    "  ]\n",
    "\n",
    "  model.fit(\n",
    "      train_dataset,\n",
    "      steps_per_epoch=fn_args.train_steps,\n",
    "      validation_data=eval_dataset,\n",
    "      validation_steps=fn_args.eval_steps,\n",
    "      verbose=2,\n",
    "      callbacks=callbacks)\n",
    "    \n",
    "  signatures = {\n",
    "      'serving_default':\n",
    "          _get_serve_tf_examples_fn(model,\n",
    "                                    tf_transform_output).get_concrete_function(\n",
    "                                        tf.TensorSpec(\n",
    "                                            shape=[None],\n",
    "                                            dtype=tf.string,\n",
    "                                            name='examples')),\n",
    "  }\n",
    "  \n",
    "  model.save(fn_args.serving_model_dir, save_format='tf', signatures=signatures)\n",
    "  _copy_tensorboard_logs(LOCAL_LOG_DIR, fn_args.serving_model_dir)\n",
    "    \n"
   ]
  },
  {
   "cell_type": "markdown",
   "metadata": {},
   "source": [
    "\n",
    "As of the 0.23 release of TFX, the `Trainer` component only supports passing a single field - `num_steps` - through the `train_args` and `eval_args` arguments. "
   ]
  },
  {
   "cell_type": "code",
   "execution_count": null,
   "metadata": {},
   "outputs": [],
   "source": [
    "trainer = Trainer(\n",
    "    custom_executor_spec=executor_spec.ExecutorClassSpec(trainer_executor.GenericExecutor),\n",
    "    module_file=TRAINER_MODULE_FILE,\n",
    "    transformed_examples=transform.outputs[\"transformed_examples\"],\n",
    "    schema=schema_gen.outputs[\"schema\"],\n",
    "    transform_graph=transform.outputs[\"transform_graph\"],\n",
    "    train_args=trainer_pb2.TrainArgs(num_steps=5000),\n",
    "    eval_args=trainer_pb2.EvalArgs(num_steps=1000))"
   ]
  },
  {
   "cell_type": "markdown",
   "metadata": {},
   "source": [
    "### Evaluating trained models with Evaluator\n",
    "The `Evaluator` component analyzes model performance using the [TensorFlow Model Analysis library](https://www.tensorflow.org/tfx/model_analysis/get_started). It runs inference requests on particular subsets of the test dataset, based on which slices are defined by the developer. Knowing which slices should be analyzed requires domain knowledge of what is important in this particular use case or domain. \n",
    "\n",
    "The `Evaluator` can also optionally validate a newly trained model against a previous model. In this lab, you only train one model, so the Evaluator automatically will label the model as \"blessed\".\n",
    "\n",
    "\n",
    "<img src=https://github.com/GoogleCloudPlatform/mlops-on-gcp/raw/master/images/Evaluator.png width=\"400\">"
   ]
  },
  {
   "cell_type": "markdown",
   "metadata": {},
   "source": [
    "You can use the `ResolverNode` to pick the previous model to compare against.  The model resolver is only required if performing model validation in addition to evaluation. In this case we validate against the latest blessed model. If no model has been blessed before (as in this case) the evaluator will make our candidate the first blessed model."
   ]
  },
  {
   "cell_type": "code",
   "execution_count": null,
   "metadata": {},
   "outputs": [],
   "source": [
    "model_resolver = ResolverNode(\n",
    "      instance_name='latest_blessed_model_resolver',\n",
    "      resolver_class=latest_blessed_model_resolver.LatestBlessedModelResolver,\n",
    "      model=Channel(type=Model),\n",
    "      model_blessing=Channel(type=ModelBlessing))"
   ]
  },
  {
   "cell_type": "markdown",
   "metadata": {},
   "source": [
    "Configure evaluation metrics and slices."
   ]
  },
  {
   "cell_type": "code",
   "execution_count": null,
   "metadata": {},
   "outputs": [],
   "source": [
    "accuracy_threshold = tfma.MetricThreshold(\n",
    "                value_threshold=tfma.GenericValueThreshold(\n",
    "                    lower_bound={'value': 0.5},\n",
    "                    upper_bound={'value': 0.99}),\n",
    "                change_threshold=tfma.GenericChangeThreshold(\n",
    "                    absolute={'value': 0.0001},\n",
    "                    direction=tfma.MetricDirection.HIGHER_IS_BETTER),\n",
    "                )\n",
    "\n",
    "metrics_specs = tfma.MetricsSpec(\n",
    "                   metrics = [\n",
    "                       tfma.MetricConfig(class_name='SparseCategoricalAccuracy',\n",
    "                           threshold=accuracy_threshold),\n",
    "                       tfma.MetricConfig(class_name='ExampleCount')])\n",
    "\n",
    "eval_config = tfma.EvalConfig(\n",
    "    model_specs=[\n",
    "        tfma.ModelSpec(label_key='Cover_Type')\n",
    "    ],\n",
    "    metrics_specs=[metrics_specs],\n",
    "    slicing_specs=[\n",
    "        tfma.SlicingSpec(),\n",
    "        tfma.SlicingSpec(feature_keys=['Wilderness_Area'])\n",
    "    ]\n",
    ")\n",
    "eval_config"
   ]
  },
  {
   "cell_type": "code",
   "execution_count": null,
   "metadata": {},
   "outputs": [],
   "source": [
    "model_analyzer = Evaluator(\n",
    "    examples=example_gen.outputs.examples,\n",
    "    model=trainer.outputs.model,\n",
    "    baseline_model=model_resolver.outputs.model,\n",
    "    eval_config=eval_config\n",
    ")"
   ]
  },
  {
   "cell_type": "markdown",
   "metadata": {},
   "source": [
    "### InfraValidator\n",
    "\n",
    "The `InfraValidator` component acts as an additional early warning layer by validating a candidate model in a sandbox version of its serving infrastructure to prevent an unservable model from being pushed to production. Compared to the `Evaluator` component above which validates a model's performance, the `InfraValidator` component is validating that a model is able to generate predictions from served examples in an environment configured to match production. The config below takes a model and examples, launches the model in a sand-boxed [TensorflowServing](https://www.tensorflow.org/tfx/guide/serving) model server from the latest image in a local docker engine, and optionally checks that the model binary can be loaded and queried before \"blessing\" it for production.\n",
    "\n",
    "<img src=https://github.com/GoogleCloudPlatform/mlops-on-gcp/raw/master/images/InfraValidator.png width=\"400\">"
   ]
  },
  {
   "cell_type": "code",
   "execution_count": null,
   "metadata": {},
   "outputs": [],
   "source": [
    "infra_validator = InfraValidator(\n",
    "    model=trainer.outputs['model'],\n",
    "    examples=example_gen.outputs['examples'],\n",
    "    serving_spec=infra_validator_pb2.ServingSpec(\n",
    "        tensorflow_serving=infra_validator_pb2.TensorFlowServing(\n",
    "            tags=['latest']),\n",
    "      local_docker=infra_validator_pb2.LocalDockerConfig(),\n",
    "  ),\n",
    "    validation_spec=infra_validator_pb2.ValidationSpec(\n",
    "        max_loading_time_seconds=60,\n",
    "        num_tries=5,\n",
    "    ),    \n",
    "  request_spec=infra_validator_pb2.RequestSpec(\n",
    "      tensorflow_serving=infra_validator_pb2.TensorFlowServingRequestSpec(),\n",
    "          num_examples=5,\n",
    "      )\n",
    ")"
   ]
  },
  {
   "cell_type": "markdown",
   "metadata": {},
   "source": [
    "### Deploying models with Pusher\n",
    "\n",
    "The `Pusher` component checks whether a model has been \"blessed\", and if so, deploys it by pushing the model to a well known file destination.\n",
    "\n",
    "<img src=https://github.com/GoogleCloudPlatform/mlops-on-gcp/raw/master/images/Pusher.png width=\"400\">\n",
    "\n"
   ]
  },
  {
   "cell_type": "code",
   "execution_count": null,
   "metadata": {},
   "outputs": [],
   "source": [
    "pusher = Pusher(\n",
    "    model=trainer.outputs['model'],\n",
    "    model_blessing=model_analyzer.outputs['blessing'],\n",
    "    infra_blessing=infra_validator.outputs['blessing'],\n",
    "    push_destination=pusher_pb2.PushDestination(\n",
    "        filesystem=pusher_pb2.PushDestination.Filesystem(\n",
    "            base_directory=SERVING_MODEL_DIR)))"
   ]
  },
  {
   "cell_type": "markdown",
   "metadata": {},
   "source": [
    "## Running the pipeline"
   ]
  },
  {
   "cell_type": "markdown",
   "metadata": {},
   "source": [
    "### Create the pipeline"
   ]
  },
  {
   "cell_type": "code",
   "execution_count": null,
   "metadata": {},
   "outputs": [],
   "source": [
    "pipeline_name = 'end-to-end'\n",
    "components = [example_gen, \n",
    "              statistics_gen, \n",
    "              schema_gen,\n",
    "              example_validator,\n",
    "              transform,\n",
    "              trainer,\n",
    "              model_resolver,\n",
    "              model_analyzer,\n",
    "              infra_validator,\n",
    "              pusher]\n",
    "\n",
    "pipeline = Pipeline(\n",
    "    pipeline_name=pipeline_name,\n",
    "    pipeline_root=f'{LOCAL_PIPELINE_ROOT}/{pipeline_name}',\n",
    "    metadata_connection_config=metadata_connection_config,\n",
    "    components=components\n",
    ")"
   ]
  },
  {
   "cell_type": "markdown",
   "metadata": {},
   "source": [
    "### Run the pipeline locally using Beam Runner"
   ]
  },
  {
   "cell_type": "code",
   "execution_count": null,
   "metadata": {
    "tags": [
     "outputPrepend"
    ]
   },
   "outputs": [],
   "source": [
    "BeamDagRunner().run(pipeline)"
   ]
  },
  {
   "cell_type": "markdown",
   "metadata": {},
   "source": [
    "### Examine the artifacts created by the pipeline run\n",
    "\n",
    "#### Visualize statistics"
   ]
  },
  {
   "cell_type": "code",
   "execution_count": 7,
   "metadata": {
    "tags": []
   },
   "outputs": [
    {
     "name": "stderr",
     "output_type": "stream",
     "text": [
      "INFO:absl:MetadataStore with DB connection initialized\n"
     ]
    },
    {
     "name": "stdout",
     "output_type": "stream",
     "text": [
      "WARNING:tensorflow:From /home/jupyter/.local/lib/python3.7/site-packages/tensorflow_data_validation/utils/stats_util.py:229: tf_record_iterator (from tensorflow.python.lib.io.tf_record) is deprecated and will be removed in a future version.\n",
      "Instructions for updating:\n",
      "Use eager execution and: \n",
      "`tf.data.TFRecordDataset(path)`\n"
     ]
    },
    {
     "data": {
      "text/html": [
       "<iframe id='facets-iframe' width=\"100%\" height=\"500px\"></iframe>\n",
       "        <script>\n",
       "        facets_iframe = document.getElementById('facets-iframe');\n",
       "        facets_html = '<script src=\"https://cdnjs.cloudflare.com/ajax/libs/webcomponentsjs/1.3.3/webcomponents-lite.js\"><\\/script><link rel=\"import\" href=\"https://raw.githubusercontent.com/PAIR-code/facets/master/facets-dist/facets-jupyter.html\"><facets-overview proto-input=\"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\"></facets-overview>';\n",
       "        facets_iframe.srcdoc = facets_html;\n",
       "         facets_iframe.id = \"\";\n",
       "         setTimeout(() => {\n",
       "           facets_iframe.setAttribute('height', facets_iframe.contentWindow.document.body.offsetHeight + 'px')\n",
       "         }, 1500)\n",
       "         </script>"
      ],
      "text/plain": [
       "<IPython.core.display.HTML object>"
      ]
     },
     "metadata": {},
     "output_type": "display_data"
    }
   ],
   "source": [
    "with metadata.Metadata(connection_config) as store:\n",
    "    stats_artifacts = store.get_artifacts_by_type(ExampleStatistics.TYPE_NAME)\n",
    "\n",
    "stats_path = stats_artifacts[-1].uri\n",
    "train_stats_file = os.path.join(stats_path, 'train', 'stats_tfrecord')\n",
    "eval_stats_file = os.path.join(stats_path, 'eval', 'stats_tfrecord')\n",
    "train_stats = tfdv.load_statistics(train_stats_file)\n",
    "eval_stats = tfdv.load_statistics(eval_stats_file)\n",
    "tfdv.visualize_statistics(lhs_statistics=eval_stats, rhs_statistics=train_stats,\n",
    "                          lhs_name='EVAL_DATASET', rhs_name='TRAIN_DATASET')"
   ]
  },
  {
   "cell_type": "markdown",
   "metadata": {},
   "source": [
    "#### Visualize model evaluations"
   ]
  },
  {
   "cell_type": "code",
   "execution_count": 8,
   "metadata": {
    "tags": []
   },
   "outputs": [
    {
     "name": "stderr",
     "output_type": "stream",
     "text": [
      "INFO:absl:MetadataStore with DB connection initialized\n"
     ]
    },
    {
     "data": {
      "application/vnd.jupyter.widget-view+json": {
       "model_id": "4922a359695147f0916d1598963e937b",
       "version_major": 2,
       "version_minor": 0
      },
      "text/plain": [
       "SlicingMetricsViewer(config={'weightedExamplesColumn': 'example_count'}, data=[{'slice': 'Wilderness_Area:Cach…"
      ]
     },
     "metadata": {},
     "output_type": "display_data"
    }
   ],
   "source": [
    "with metadata.Metadata(connection_config) as store:\n",
    "    model_eval_artifacts = store.get_artifacts_by_type(ModelEvaluation.TYPE_NAME)\n",
    "\n",
    "model_eval_path = model_eval_artifacts[-1].uri\n",
    "eval_result = tfma.load_eval_result(model_eval_path)\n",
    "tfma.view.render_slicing_metrics(\n",
    "    eval_result, slicing_column='Wilderness_Area')"
   ]
  },
  {
   "cell_type": "markdown",
   "metadata": {},
   "source": [
    "## Next steps\n",
    "\n",
    "This concludes your introductory walthrough through TFX pipeline components. In the lab, you used TFX to analyze, understand, and pre-process the dataset and train, analyze, validate, and deploy a multi-class classification model to predict the type of forest cover from cartographic features. You utilized a TFX Interactive Context for prototype development of a TFX pipeline directly in a Jupyter notebook. Next, you worked with the TFDV library to modify your dataset schema to add feature constraints to catch data anamolies that can negatively impact your model's performance. You utilized TFT library for feature proprocessing for consistent feature transformations for your model at training and serving time. Lastly, using the TFMA library, you added model performance constraints to ensure you only push more accurate models than previous runs to production.\n",
    "\n",
    "\n",
    "The next labs in the series will guide through developing a TFX pipeline, deploying and running the pipeline on **AI Platform Pipelines** and automating the pipeline build and deployment processes with **Cloud Build**."
   ]
  },
  {
   "cell_type": "markdown",
   "metadata": {},
   "source": [
    "## License"
   ]
  },
  {
   "cell_type": "markdown",
   "metadata": {},
   "source": [
    "<font size=-1>Licensed under the Apache License, Version 2.0 (the \\\"License\\\");\n",
    "you may not use this file except in compliance with the License.\n",
    "You may obtain a copy of the License at [https://www.apache.org/licenses/LICENSE-2.0](https://www.apache.org/licenses/LICENSE-2.0)\n",
    "\n",
    "Unless required by applicable law or agreed to in writing, software distributed under the License is distributed on an \\\"AS IS\\\" BASIS, WITHOUT WARRANTIES OR CONDITIONS OF ANY KIND, either express or implied.  See the License for the specific language governing permissions and limitations under the License.</font>"
   ]
  }
 ],
 "metadata": {
  "environment": {
   "name": "tf2-2-3-gpu.2-3.m55",
   "type": "gcloud",
   "uri": "gcr.io/deeplearning-platform-release/tf2-2-3-gpu.2-3:m55"
  },
  "kernelspec": {
   "display_name": "Python 3",
   "language": "python",
   "name": "python3"
  },
  "language_info": {
   "codemirror_mode": {
    "name": "ipython",
    "version": 3
   },
   "file_extension": ".py",
   "mimetype": "text/x-python",
   "name": "python",
   "nbconvert_exporter": "python",
   "pygments_lexer": "ipython3",
   "version": "3.7.8"
  }
 },
 "nbformat": 4,
 "nbformat_minor": 4
}
