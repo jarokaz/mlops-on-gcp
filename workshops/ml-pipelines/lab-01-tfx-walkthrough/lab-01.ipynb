{
 "cells": [
  {
   "cell_type": "markdown",
   "metadata": {},
   "source": [
    "# TFX Components Walk-through"
   ]
  },
  {
   "cell_type": "markdown",
   "metadata": {},
   "source": [
    "The goal of this lab is provide a high level overview of the core TFX components.\n",
    "\n",
    "You will work with the [Covertype Data Set](https://github.com/jarokaz/mlops-labs/blob/master/datasets/covertype/README.md) and build a TFX pipeline that trains and deploy a multi-class classification model to predict the type of forest cover from cartographic features.\n",
    "\n",
    "\n",
    "**Setup Note:**\n",
    "Currently, TFMA visualizations do not render properly in JupyterLab. It is recommended to run this notebook in Jupyter Classic Notebook. To switch to Classic Notebook select *Launch Classic Notebook* from the *Help* menu."
   ]
  },
  {
   "cell_type": "code",
   "execution_count": 1,
   "metadata": {},
   "outputs": [
    {
     "name": "stderr",
     "output_type": "stream",
     "text": [
      "/home/jupyter/.local/lib/python3.7/site-packages/tfx/orchestration/data_types.py:191: UserWarning: RuntimeParameter is only supported on KubeflowDagRunner currently.\n",
      "  warnings.warn('RuntimeParameter is only supported on KubeflowDagRunner '\n"
     ]
    }
   ],
   "source": [
    "import absl\n",
    "import os\n",
    "import tempfile\n",
    "import time\n",
    "\n",
    "import tensorflow as tf\n",
    "import tensorflow_data_validation as tfdv\n",
    "import tensorflow_model_analysis as tfma\n",
    "import tfx\n",
    "\n",
    "from tensorflow_metadata.proto.v0 import schema_pb2, statistics_pb2, anomalies_pb2\n",
    "from tensorflow_transform.tf_metadata import schema_utils\n",
    "\n",
    "from ml_metadata.metadata_store import metadata_store\n",
    "from ml_metadata.proto import metadata_store_pb2\n",
    "\n",
    "from tfx.components import CsvExampleGen\n",
    "from tfx.components import Evaluator\n",
    "from tfx.components import ExampleValidator\n",
    "from tfx.components import Pusher\n",
    "from tfx.components import ResolverNode\n",
    "from tfx.components import SchemaGen\n",
    "from tfx.components import StatisticsGen\n",
    "from tfx.components import Trainer\n",
    "from tfx.components import Transform\n",
    "from tfx.components.base import executor_spec\n",
    "from tfx.components.common_nodes.importer_node import ImporterNode\n",
    "from tfx.components.trainer import executor as trainer_executor\n",
    "\n",
    "from tfx.dsl.experimental import latest_blessed_model_resolver\n",
    "\n",
    "from tfx.orchestration.beam.beam_dag_runner import BeamDagRunner\n",
    "from tfx.orchestration.ai_platform_pipelines import ai_platform_pipelines_dag_runner\n",
    "from tfx.orchestration.metadata import sqlite_metadata_connection_config\n",
    "from tfx.orchestration.pipeline import Pipeline\n",
    "from tfx.orchestration import metadata\n",
    "\n",
    "from tfx.proto import evaluator_pb2\n",
    "from tfx.proto import example_gen_pb2\n",
    "from tfx.proto import infra_validator_pb2\n",
    "from tfx.proto import pusher_pb2\n",
    "from tfx.proto import trainer_pb2\n",
    "from tfx.proto.evaluator_pb2 import SingleSlicingSpec\n",
    "\n",
    "from tfx.utils.dsl_utils import external_input\n",
    "\n",
    "from tfx.types import Channel\n",
    "from tfx.types.standard_artifacts import Examples\n",
    "from tfx.types.standard_artifacts import ExampleStatistics\n",
    "from tfx.types.standard_artifacts import ExampleAnomalies\n",
    "from tfx.types.standard_artifacts import Model\n",
    "from tfx.types.standard_artifacts import ModelEvaluation\n",
    "from tfx.types.standard_artifacts import ModelBlessing\n",
    "from tfx.types.standard_artifacts import InfraBlessing"
   ]
  },
  {
   "cell_type": "markdown",
   "metadata": {},
   "source": [
    "## Set up the environment\n",
    "### Verify TFX SDK Version"
   ]
  },
  {
   "cell_type": "markdown",
   "metadata": {},
   "source": [
    "**Note**: this lab was developed and tested with the following TF ecosystem package versions:\n",
    "\n",
    "`Tensorflow Version: 2.3.0`  \n",
    "`TFX Version: 0.23.0.caip20200818`  \n",
    "`TFDV Version: 0.23.0`  \n",
    "`TFMA Version: 0.23.0`\n",
    "\n"
   ]
  },
  {
   "cell_type": "code",
   "execution_count": 4,
   "metadata": {
    "tags": []
   },
   "outputs": [
    {
     "name": "stdout",
     "output_type": "stream",
     "text": [
      "Tensorflow Version: 2.3.0\n",
      "TFX Version: 0.23.0.caip20200818\n",
      "TFDV Version: 0.23.0\n",
      "TFMA Version: 0.23.0\n"
     ]
    }
   ],
   "source": [
    "print(\"Tensorflow Version:\", tf.__version__)\n",
    "print(\"TFX Version:\", tfx.__version__)\n",
    "print(\"TFDV Version:\", tfdv.__version__)\n",
    "print(\"TFMA Version:\", tfma.VERSION_STRING)\n",
    "\n",
    "absl.logging.set_verbosity(absl.logging.INFO)"
   ]
  },
  {
   "cell_type": "markdown",
   "metadata": {},
   "source": [
    "If the versions above do not match, update your packages in the current Jupyter kernel. \n",
    "\n",
    "### Update `PATH` with the location of TFX SDK."
   ]
  },
  {
   "cell_type": "code",
   "execution_count": 5,
   "metadata": {},
   "outputs": [],
   "source": [
    "os.environ['PATH'] += os.pathsep + '/home/jupyter/.local/bin'"
   ]
  },
  {
   "cell_type": "markdown",
   "metadata": {},
   "source": [
    "## Configure lab settings\n",
    "\n",
    "Set constants, location paths and other environment settings. "
   ]
  },
  {
   "cell_type": "code",
   "execution_count": 6,
   "metadata": {},
   "outputs": [],
   "source": [
    "PROJECT_ID = 'mlops-dev-env'\n",
    "GCS_BUCKET_NAME = 'mlops-dev-workspace'\n",
    "MODEL_STORE = f'gs://{GCS_BUCKET_NAME}/model-store'"
   ]
  },
  {
   "cell_type": "markdown",
   "metadata": {},
   "source": [
    "### Settings for Beam runner"
   ]
  },
  {
   "cell_type": "code",
   "execution_count": 7,
   "metadata": {},
   "outputs": [],
   "source": [
    "LOCAL_PIPELINE_ROOT= os.path.join(os.sep, 'home', 'jupyter', 'pipeline-root')\n",
    "METADATA_PATH = os.path.join(LOCAL_PIPELINE_ROOT, 'metadata.sqlite')\n",
    "metadata_connection_config=sqlite_metadata_connection_config(METADATA_PATH)\n",
    "connection_config = metadata_store_pb2.ConnectionConfig()\n",
    "connection_config.sqlite.filename_uri = METADATA_PATH\n",
    "connection_config.sqlite.connection_mode = 3 # READWRITE_OPENCREATE"
   ]
  },
  {
   "cell_type": "markdown",
   "metadata": {},
   "source": [
    "### Settings for Managed Pipelines runner"
   ]
  },
  {
   "cell_type": "code",
   "execution_count": 8,
   "metadata": {},
   "outputs": [],
   "source": [
    "GCS_PIPELINE_ROOT = f'gs://{GCS_BUCKET_NAME}/pipeline-root'\n",
    "BASE_IMAGE = f'gcr.io/caip-pipelines-assets/tfx:{tfx.__version__}'"
   ]
  },
  {
   "cell_type": "markdown",
   "metadata": {},
   "source": [
    "### Source dataset"
   ]
  },
  {
   "cell_type": "code",
   "execution_count": 9,
   "metadata": {},
   "outputs": [],
   "source": [
    "DATA_ROOT = 'gs://workshop-datasets/covertype/small'"
   ]
  },
  {
   "cell_type": "markdown",
   "metadata": {},
   "source": [
    "## Configure TFX Pipeline"
   ]
  },
  {
   "cell_type": "markdown",
   "metadata": {},
   "source": [
    "### Ingesting data using ExampleGen\n",
    "\n",
    "In any ML development process the first step  is to ingest the training and test datasets. The `ExampleGen` component ingests data into a TFX pipeline. It consumes external files/services to generate a set file files in the `TFRecord` format,  which will be used by other TFX components. It can also shuffle the data and split into an arbitrary number of partitions.\n",
    "\n",
    "<img src=https://github.com/GoogleCloudPlatform/mlops-on-gcp/raw/master/images/ExampleGen.png width=\"300\">\n",
    "\n",
    "\n",
    "In this exercise, you use the `CsvExampleGen` specialization of `ExampleGen` to ingest CSV files from a GCS location. The component is configured to split the input data into two splits - `train` and `eval` - using 4:1 ratio.  "
   ]
  },
  {
   "cell_type": "code",
   "execution_count": 10,
   "metadata": {
    "tags": []
   },
   "outputs": [],
   "source": [
    "output_config = example_gen_pb2.Output(\n",
    "    split_config=example_gen_pb2.SplitConfig(splits=[\n",
    "        example_gen_pb2.SplitConfig.Split(name='train', hash_buckets=4),\n",
    "        example_gen_pb2.SplitConfig.Split(name='eval', hash_buckets=1)\n",
    "    ]))\n",
    "\n",
    "example_gen = tfx.components.CsvExampleGen(\n",
    "    instance_name='Data_Extraction_Spliting',\n",
    "    input_base=DATA_ROOT,\n",
    "    output_config=output_config\n",
    ")"
   ]
  },
  {
   "cell_type": "markdown",
   "metadata": {},
   "source": [
    "#### Create a simple pipeline to test the component"
   ]
  },
  {
   "cell_type": "code",
   "execution_count": 11,
   "metadata": {
    "tags": []
   },
   "outputs": [],
   "source": [
    "pipeline_name = 'example_gen_only'\n",
    "components = [example_gen]\n",
    "\n",
    "pipeline = Pipeline(\n",
    "    pipeline_name=pipeline_name,\n",
    "    pipeline_root=f'{LOCAL_PIPELINE_ROOT}/{pipeline_name}',\n",
    "    metadata_connection_config=metadata_connection_config,\n",
    "    components=components\n",
    ")"
   ]
  },
  {
   "cell_type": "markdown",
   "metadata": {},
   "source": [
    "#### Run the pipeline"
   ]
  },
  {
   "cell_type": "code",
   "execution_count": 12,
   "metadata": {
    "tags": []
   },
   "outputs": [
    {
     "name": "stderr",
     "output_type": "stream",
     "text": [
      "WARNING:apache_beam.runners.interactive.interactive_environment:Dependencies required for Interactive Beam PCollection visualization are not available, please use: `pip install apache-beam[interactive]` to install necessary dependencies to enable all data visualization features.\n"
     ]
    },
    {
     "data": {
      "application/javascript": [
       "\n",
       "        if (typeof window.interactive_beam_jquery == 'undefined') {\n",
       "          var jqueryScript = document.createElement('script');\n",
       "          jqueryScript.src = 'https://code.jquery.com/jquery-3.4.1.slim.min.js';\n",
       "          jqueryScript.type = 'text/javascript';\n",
       "          jqueryScript.onload = function() {\n",
       "            var datatableScript = document.createElement('script');\n",
       "            datatableScript.src = 'https://cdn.datatables.net/1.10.20/js/jquery.dataTables.min.js';\n",
       "            datatableScript.type = 'text/javascript';\n",
       "            datatableScript.onload = function() {\n",
       "              window.interactive_beam_jquery = jQuery.noConflict(true);\n",
       "              window.interactive_beam_jquery(document).ready(function($){\n",
       "                \n",
       "              });\n",
       "            }\n",
       "            document.head.appendChild(datatableScript);\n",
       "          };\n",
       "          document.head.appendChild(jqueryScript);\n",
       "        } else {\n",
       "          window.interactive_beam_jquery(document).ready(function($){\n",
       "            \n",
       "          });\n",
       "        }"
      ]
     },
     "metadata": {},
     "output_type": "display_data"
    },
    {
     "data": {
      "application/javascript": [
       "\n",
       "        var import_html = () => {\n",
       "          ['https://raw.githubusercontent.com/PAIR-code/facets/1.0.0/facets-dist/facets-jupyter.html'].forEach(href => {\n",
       "            var link = document.createElement('link');\n",
       "            link.rel = 'import'\n",
       "            link.href = href;\n",
       "            document.head.appendChild(link);\n",
       "          });\n",
       "        }\n",
       "        if ('import' in document.createElement('link')) {\n",
       "          import_html();\n",
       "        } else {\n",
       "          var webcomponentScript = document.createElement('script');\n",
       "          webcomponentScript.src = 'https://cdnjs.cloudflare.com/ajax/libs/webcomponentsjs/1.3.3/webcomponents-lite.js';\n",
       "          webcomponentScript.type = 'text/javascript';\n",
       "          webcomponentScript.onload = function(){\n",
       "            import_html();\n",
       "          };\n",
       "          document.head.appendChild(webcomponentScript);\n",
       "        }"
      ]
     },
     "metadata": {},
     "output_type": "display_data"
    },
    {
     "name": "stderr",
     "output_type": "stream",
     "text": [
      "INFO:absl:Component CsvExampleGen.Data_Extraction_Spliting depends on [].\n",
      "INFO:absl:Component CsvExampleGen.Data_Extraction_Spliting is scheduled.\n",
      "INFO:absl:Component CsvExampleGen.Data_Extraction_Spliting is running.\n",
      "INFO:absl:Running driver for CsvExampleGen.Data_Extraction_Spliting\n",
      "INFO:absl:MetadataStore with DB connection initialized\n",
      "INFO:absl:select span and version = (0, None)\n",
      "INFO:absl:latest span and version = (0, None)\n",
      "INFO:absl:Running executor for CsvExampleGen.Data_Extraction_Spliting\n",
      "INFO:absl:Generating examples.\n",
      "INFO:absl:Processing input csv data gs://workshop-datasets/covertype/small/* to TFExample.\n",
      "WARNING:apache_beam.io.tfrecordio:Couldn't find python-snappy so the implementation of _TFRecordUtil._masked_crc32c is not as fast as it could be.\n",
      "INFO:absl:Examples generated.\n",
      "INFO:absl:Running publisher for CsvExampleGen.Data_Extraction_Spliting\n",
      "INFO:absl:MetadataStore with DB connection initialized\n",
      "INFO:absl:Component CsvExampleGen.Data_Extraction_Spliting is finished.\n"
     ]
    }
   ],
   "source": [
    "BeamDagRunner().run(pipeline)"
   ]
  },
  {
   "cell_type": "markdown",
   "metadata": {},
   "source": [
    "#### Examine artifacts generated by the pipeline run"
   ]
  },
  {
   "cell_type": "code",
   "execution_count": 13,
   "metadata": {
    "tags": []
   },
   "outputs": [
    {
     "name": "stderr",
     "output_type": "stream",
     "text": [
      "INFO:absl:MetadataStore with DB connection initialized\n"
     ]
    },
    {
     "name": "stdout",
     "output_type": "stream",
     "text": [
      "/home/jupyter/pipeline-root/example_gen_only/CsvExampleGen.Data_Extraction_Spliting/examples/1\n",
      "{'split_names': string_value: \"[\\\"train\\\", \\\"eval\\\"]\"\n",
      "}\n"
     ]
    }
   ],
   "source": [
    "with metadata.Metadata(connection_config) as store:\n",
    "    examples_artifacts = store.get_artifacts_by_type(Examples.TYPE_NAME)\n",
    "\n",
    "for element in examples_artifacts:\n",
    "    print(element.uri)\n",
    "    print(element.properties)"
   ]
  },
  {
   "cell_type": "markdown",
   "metadata": {},
   "source": [
    "#### Examine the ingested data"
   ]
  },
  {
   "cell_type": "code",
   "execution_count": 14,
   "metadata": {
    "tags": []
   },
   "outputs": [
    {
     "name": "stdout",
     "output_type": "stream",
     "text": [
      "Horizontal_Distance_To_Hydrology: [648]\n",
      "Elevation: [3142]\n",
      "Slope: [9]\n",
      "Horizontal_Distance_To_Roadways: [757]\n",
      "Wilderness_Area: [b'Commanche']\n",
      "Vertical_Distance_To_Hydrology: [101]\n",
      "Soil_Type: [b'C7757']\n",
      "Cover_Type: [1]\n",
      "Hillshade_3pm: [157]\n",
      "Hillshade_Noon: [247]\n",
      "Horizontal_Distance_To_Fire_Points: [1871]\n",
      "Hillshade_9am: [223]\n",
      "Aspect: [183]\n",
      "******\n",
      "Horizontal_Distance_To_Fire_Points: [451]\n",
      "Hillshade_Noon: [227]\n",
      "Hillshade_9am: [245]\n",
      "Aspect: [124]\n",
      "Horizontal_Distance_To_Hydrology: [60]\n",
      "Elevation: [1967]\n",
      "Horizontal_Distance_To_Roadways: [124]\n",
      "Slope: [16]\n",
      "Wilderness_Area: [b'Cache']\n",
      "Vertical_Distance_To_Hydrology: [9]\n",
      "Soil_Type: [b'C2704']\n",
      "Cover_Type: [2]\n",
      "Hillshade_3pm: [105]\n",
      "******\n"
     ]
    }
   ],
   "source": [
    "examples_uri = examples_artifacts[-1].uri\n",
    "tfrecord_filenames = [os.path.join(examples_uri, 'train', name)\n",
    "                      for name in os.listdir(os.path.join(examples_uri, 'train'))]\n",
    "dataset = tf.data.TFRecordDataset(tfrecord_filenames, compression_type=\"GZIP\")\n",
    "for tfrecord in dataset.take(2):\n",
    "  example = tf.train.Example()\n",
    "  example.ParseFromString(tfrecord.numpy())\n",
    "  for name, feature in example.features.feature.items():\n",
    "    if feature.HasField('bytes_list'):\n",
    "        value = feature.bytes_list.value\n",
    "    if feature.HasField('float_list'):\n",
    "        value = feature.float_list.value\n",
    "    if feature.HasField('int64_list'):\n",
    "        value = feature.int64_list.value\n",
    "    print('{}: {}'.format(name, value))\n",
    "  print('******')"
   ]
  },
  {
   "cell_type": "markdown",
   "metadata": {},
   "source": [
    "### Generating statistics using StatisticsGen\n",
    "\n",
    "The `StatisticsGen`  component generates data statistics that can be used by other TFX components. StatisticsGen uses [TensorFlow Data Validation](https://www.tensorflow.org/tfx/data_validation/get_started). `StatisticsGen` generate statistics for each split in the `ExampleGen` component's output. In our case there two splits: `train` and `eval`.\n",
    "\n",
    "<img src=https://github.com/GoogleCloudPlatform/mlops-on-gcp/raw/master/images/StatisticsGen.png width=\"200\">"
   ]
  },
  {
   "cell_type": "code",
   "execution_count": 15,
   "metadata": {
    "tags": []
   },
   "outputs": [
    {
     "name": "stderr",
     "output_type": "stream",
     "text": [
      "INFO:absl:Excluding no splits because exclude_splits is not set.\n"
     ]
    }
   ],
   "source": [
    "statistics_gen = tfx.components.StatisticsGen(\n",
    "    instance_name='Statistics_Generation',\n",
    "    examples=example_gen.outputs['examples'])"
   ]
  },
  {
   "cell_type": "markdown",
   "metadata": {},
   "source": [
    "### Infering data schema using SchemaGen\n",
    "\n",
    "Some TFX components use a description input data called a schema. The schema is an instance of `schema.proto`. It can specify data types for feature values, whether a feature has to be present in all examples, allowed value ranges, and other properties. `SchemaGen` automatically generates the schema by inferring types, categories, and ranges from data statistics. The auto-generated schema is best-effort and only tries to infer basic properties of the data. It is expected that developers review and modify it as needed. `SchemaGen` uses [TensorFlow Data Validation](https://www.tensorflow.org/tfx/data_validation/get_started).\n",
    "\n",
    "The `SchemaGen` component generates the schema using the statistics for the `train` split. The statistics for other splits are ignored.\n",
    "\n",
    "<img src=https://github.com/GoogleCloudPlatform/mlops-on-gcp/raw/master/images/SchemaGen.png width=\"200\">"
   ]
  },
  {
   "cell_type": "code",
   "execution_count": 16,
   "metadata": {
    "tags": []
   },
   "outputs": [
    {
     "name": "stderr",
     "output_type": "stream",
     "text": [
      "INFO:absl:Excluding no splits because exclude_splits is not set.\n"
     ]
    }
   ],
   "source": [
    "schema_gen = SchemaGen(\n",
    "    statistics=statistics_gen.outputs['statistics'],\n",
    "    infer_feature_shape=False)"
   ]
  },
  {
   "cell_type": "markdown",
   "metadata": {},
   "source": [
    "### Validating data with ExampleValidator\n",
    "\n",
    "The `ExampleValidator` component identifies anomalies in data.  It identifies anomalies by comparing data statistics computed by the `StatisticsGen` component against a schema generated by `SchemaGen` or imported by `ImporterNode`.\n",
    "\n",
    "`ExampleValidator` can detect different classes of anomalies. For example it can:\n",
    "\n",
    "- perform validity checks by comparing data statistics against a schema \n",
    "- detect training-serving skew by comparing training and serving data.\n",
    "- detect data drift by looking at a series of data.\n",
    "\n",
    "\n",
    "The `ExampleValidator` component validates the data in the `eval` split only. Other splits are ignored. \n",
    "\n",
    "<img src=https://github.com/GoogleCloudPlatform/mlops-on-gcp/raw/master/images/ExampleValidator.png width=\"350\">"
   ]
  },
  {
   "cell_type": "code",
   "execution_count": 17,
   "metadata": {
    "tags": []
   },
   "outputs": [
    {
     "name": "stderr",
     "output_type": "stream",
     "text": [
      "INFO:absl:Excluding no splits because exclude_splits is not set.\n"
     ]
    }
   ],
   "source": [
    "example_validator = ExampleValidator(\n",
    "    statistics=statistics_gen.outputs['statistics'],\n",
    "    schema=schema_gen.outputs['schema'],\n",
    "    instance_name=\"Data_Validation\"\n",
    ")"
   ]
  },
  {
   "cell_type": "markdown",
   "metadata": {},
   "source": [
    "### Preprocessing data with Transform\n",
    "\n",
    "The `Transform` component performs data transformation and feature engineering. The `Transform` component consumes `tf.Examples` emitted from the `ExampleGen` component and emits the transformed feature data and the `SavedModel` graph that was used to process the data. The emitted `SavedModel`  can then be used by serving components to make sure that the same data pre-processing logic is applied at training and serving.\n",
    "\n",
    "The `Transform` component requires more code than many other components because of the arbitrary complexity of the feature engineering that you may need for the data and/or model that you're working with. It requires code files to be available which define the processing needed.\n",
    "\n",
    "<img src=https://github.com/GoogleCloudPlatform/mlops-on-gcp/raw/master/images/Transform.png width=\"400\">\n",
    "\n",
    "#### Define the pre-processing module\n",
    "\n",
    "To configure `Trainsform`, you need to encapsulate your pre-processing code in the Python `preprocessing_fn` function and save it to a  python module that is then provided to the Transform component as an input. This module will be loaded by transform and the `preprocessing_fn` function will be called when the `Transform` component runs.\n",
    "\n",
    "In most cases, your implementation of the `preprocessing_fn` makes extensive use of [TensorFlow Transform](https://www.tensorflow.org/tfx/guide/tft) for performing feature engineering on your dataset."
   ]
  },
  {
   "cell_type": "code",
   "execution_count": 18,
   "metadata": {},
   "outputs": [],
   "source": [
    "FEATURES_MODULE = 'features.py'"
   ]
  },
  {
   "cell_type": "code",
   "execution_count": 38,
   "metadata": {
    "tags": []
   },
   "outputs": [
    {
     "name": "stdout",
     "output_type": "stream",
     "text": [
      "Writing features.py\n"
     ]
    }
   ],
   "source": [
    "%%writefile {FEATURES_MODULE}\n",
    "# Copyright 2020 Google LLC. All Rights Reserved.\n",
    "#\n",
    "# Licensed under the Apache License, Version 2.0 (the \"License\");\n",
    "# you may not use this file except in compliance with the License.\n",
    "# You may obtain a copy of the License at\n",
    "#\n",
    "#     http://www.apache.org/licenses/LICENSE-2.0\n",
    "#\n",
    "# Unless required by applicable law or agreed to in writing, software\n",
    "# distributed under the License is distributed on an \"AS IS\" BASIS,\n",
    "# WITHOUT WARRANTIES OR CONDITIONS OF ANY KIND, either express or implied.\n",
    "# See the License for the specific language governing permissions and\n",
    "# limitations under the License.\n",
    "\"\"\"Covertype model  taxi model features.\"\"\"\n",
    "import tensorflow as tf\n",
    "import tensorflow_model_analysis as tfma\n",
    "import tensorflow_transform as tft\n",
    "from tensorflow_transform.tf_metadata import schema_utils\n",
    "\n",
    "NUMERIC_FEATURE_KEYS = [\n",
    "    'Elevation', 'Aspect', 'Slope', 'Horizontal_Distance_To_Hydrology',\n",
    "    'Vertical_Distance_To_Hydrology', 'Horizontal_Distance_To_Roadways',\n",
    "    'Hillshade_9am', 'Hillshade_Noon', 'Hillshade_3pm',\n",
    "    'Horizontal_Distance_To_Fire_Points'\n",
    "]\n",
    "\n",
    "CATEGORICAL_FEATURE_KEYS = ['Wilderness_Area', 'Soil_Type']\n",
    "\n",
    "LABEL_KEY = 'Cover_Type'\n",
    "NUM_CLASSES = 7\n",
    "\n",
    "def transformed_name(key):\n",
    "  return key + '_xf'"
   ]
  },
  {
   "cell_type": "code",
   "execution_count": 39,
   "metadata": {},
   "outputs": [],
   "source": [
    "TRANSFORM_MODULE = 'preprocessing.py'"
   ]
  },
  {
   "cell_type": "code",
   "execution_count": 40,
   "metadata": {
    "tags": []
   },
   "outputs": [
    {
     "name": "stdout",
     "output_type": "stream",
     "text": [
      "Writing preprocessing.py\n"
     ]
    }
   ],
   "source": [
    "%%writefile {TRANSFORM_MODULE}\n",
    "# Copyright 2020 Google LLC. All Rights Reserved.\n",
    "#\n",
    "# Licensed under the Apache License, Version 2.0 (the \"License\");\n",
    "# you may not use this file except in compliance with the License.\n",
    "# You may obtain a copy of the License at\n",
    "#\n",
    "#     http://www.apache.org/licenses/LICENSE-2.0\n",
    "#\n",
    "# Unless required by applicable law or agreed to in writing, software\n",
    "# distributed under the License is distributed on an \"AS IS\" BASIS,\n",
    "# WITHOUT WARRANTIES OR CONDITIONS OF ANY KIND, either express or implied.\n",
    "# See the License for the specific language governing permissions and\n",
    "# limitations under the License.\n",
    "\"\"\"Covertype preprocessing.\n",
    "This file defines a template for TFX Transform component.\n",
    "\"\"\"\n",
    "\n",
    "import tensorflow as tf\n",
    "import tensorflow_transform as tft\n",
    "\n",
    "import features\n",
    "\n",
    "def _fill_in_missing(x):\n",
    "  \"\"\"Replace missing values in a SparseTensor.\n",
    "  Fills in missing values of `x` with '' or 0, and converts to a dense tensor.\n",
    "  Args:\n",
    "    x: A `SparseTensor` of rank 2.  Its dense shape should have size at most 1\n",
    "      in the second dimension.\n",
    "  Returns:\n",
    "    A rank 1 tensor where missing values of `x` have been filled in.\n",
    "  \"\"\"\n",
    "  default_value = '' if x.dtype == tf.string else 0\n",
    "  return tf.squeeze(\n",
    "      tf.sparse.to_dense(\n",
    "          tf.SparseTensor(x.indices, x.values, [x.dense_shape[0], 1]),\n",
    "          default_value),\n",
    "      axis=1)\n",
    "\n",
    "def preprocessing_fn(inputs):\n",
    "  \"\"\"Preprocesses Covertype Dataset.\"\"\"\n",
    "\n",
    "  outputs = {}\n",
    "\n",
    "  # Scale numerical features\n",
    "  for key in features.NUMERIC_FEATURE_KEYS:\n",
    "    outputs[features.transformed_name(key)] = tft.scale_to_z_score(\n",
    "        _fill_in_missing(inputs[key]))\n",
    "\n",
    "  # Generate vocabularies and maps categorical features\n",
    "  for key in features.CATEGORICAL_FEATURE_KEYS:\n",
    "    outputs[features.transformed_name(key)] = tft.compute_and_apply_vocabulary(\n",
    "        x=_fill_in_missing(inputs[key]), num_oov_buckets=1, vocab_filename=key)\n",
    "\n",
    "  # Convert Cover_Type to dense tensor\n",
    "  outputs[features.transformed_name(features.LABEL_KEY)] = _fill_in_missing(\n",
    "      inputs[features.LABEL_KEY])\n",
    "\n",
    "  return outputs\n"
   ]
  },
  {
   "cell_type": "markdown",
   "metadata": {},
   "source": [
    "Configure the component."
   ]
  },
  {
   "cell_type": "code",
   "execution_count": 22,
   "metadata": {
    "tags": []
   },
   "outputs": [
    {
     "name": "stderr",
     "output_type": "stream",
     "text": [
      "WARNING:absl:Only one of `artifacts` and `matching_channel_name` should be set.\n"
     ]
    }
   ],
   "source": [
    "transform = Transform(\n",
    "    examples=example_gen.outputs['examples'],\n",
    "    schema=schema_gen.outputs['schema'],\n",
    "    module_file=TRANSFORM_MODULE)"
   ]
  },
  {
   "cell_type": "markdown",
   "metadata": {},
   "source": [
    "### Train with the `Trainer` component\n",
    "\n",
    "The `Trainer` component trains a model using TensorFlow.\n",
    "\n",
    "`Trainer` takes:\n",
    "\n",
    "- tf.Examples used for training and eval.\n",
    "- A user provided module file that defines the trainer logic.\n",
    "- A data schema created by `SchemaGen` or imported by `ImporterNode`.\n",
    "- A proto definition of train args and eval args.\n",
    "- An optional transform graph produced by upstream Transform component.\n",
    "- An optional base models used for scenarios such as warmstart.\n",
    "\n",
    "<img src=https://github.com/GoogleCloudPlatform/mlops-on-gcp/raw/master/images/Trainer.png width=\"400\">\n",
    "\n",
    "\n",
    "#### Define the trainer module\n",
    "\n",
    "To configure `Trainer`, you need to encapsulate your training code in a Python module that is then provided to the `Trainer` as an input. \n"
   ]
  },
  {
   "cell_type": "code",
   "execution_count": 23,
   "metadata": {},
   "outputs": [],
   "source": [
    "TRAINER_MODULE_FILE = 'model.py'"
   ]
  },
  {
   "cell_type": "code",
   "execution_count": 41,
   "metadata": {
    "tags": []
   },
   "outputs": [
    {
     "name": "stdout",
     "output_type": "stream",
     "text": [
      "Writing model.py\n"
     ]
    }
   ],
   "source": [
    "%%writefile {TRAINER_MODULE_FILE}\n",
    "# Copyright 2020 Google LLC. All Rights Reserved.\n",
    "#\n",
    "# Licensed under the Apache License, Version 2.0 (the \"License\");\n",
    "# you may not use this file except in compliance with the License.\n",
    "# You may obtain a copy of the License at\n",
    "#\n",
    "#     http://www.apache.org/licenses/LICENSE-2.0\n",
    "#\n",
    "# Unless required by applicable law or agreed to in writing, software\n",
    "# distributed under the License is distributed on an \"AS IS\" BASIS,\n",
    "# WITHOUT WARRANTIES OR CONDITIONS OF ANY KIND, either express or implied.\n",
    "# See the License for the specific language governing permissions and\n",
    "# limitations under the License.\n",
    "\"\"\"The Covertype classifier DNN keras model.\"\"\"\n",
    "\n",
    "import absl\n",
    "import os\n",
    "\n",
    "import tensorflow as tf\n",
    "import tensorflow_model_analysis as tfma\n",
    "import tensorflow_transform as tft\n",
    "from tensorflow_transform.tf_metadata import schema_utils\n",
    "\n",
    "import features\n",
    "\n",
    "HIDDEN_UNITS = [16, 8]\n",
    "LEARNING_RATE = 0.001\n",
    "TRAIN_BATCH_SIZE = 64\n",
    "EVAL_BATCH_SIZE = 64\n",
    "\n",
    "LOCAL_LOG_DIR = '/tmp/logs'\n",
    "\n",
    "\n",
    "def _gzip_reader_fn(filenames):\n",
    "  \"\"\"Small utility returning a record reader that can read gzip'ed files.\"\"\"\n",
    "  return tf.data.TFRecordDataset(filenames, compression_type='GZIP')\n",
    "\n",
    "\n",
    "def _get_serve_tf_examples_fn(model, tf_transform_output):\n",
    "  \"\"\"Returns a function that parses a serialized tf.Example and applies TFT.\"\"\"\n",
    "\n",
    "  model.tft_layer = tf_transform_output.transform_features_layer()\n",
    "\n",
    "  @tf.function\n",
    "  def serve_tf_examples_fn(serialized_tf_examples):\n",
    "    \"\"\"Returns the output to be used in the serving signature.\"\"\"\n",
    "    feature_spec = tf_transform_output.raw_feature_spec()\n",
    "    feature_spec.pop(features.LABEL_KEY)\n",
    "    parsed_features = tf.io.parse_example(serialized_tf_examples, feature_spec)\n",
    "\n",
    "    transformed_features = model.tft_layer(parsed_features)\n",
    "\n",
    "    return model(transformed_features)\n",
    "\n",
    "  return serve_tf_examples_fn\n",
    "\n",
    "\n",
    "def _input_fn(file_pattern, tf_transform_output, batch_size=200):\n",
    "  \"\"\"Generates features and label for tuning/training.\n",
    "  Args:\n",
    "    file_pattern: input tfrecord file pattern.\n",
    "    tf_transform_output: A TFTransformOutput.\n",
    "    batch_size: representing the number of consecutive elements of returned\n",
    "      dataset to combine in a single batch\n",
    "  Returns:\n",
    "    A dataset that contains (features, indices) tuple where features is a\n",
    "      dictionary of Tensors, and indices is a single Tensor of label indices.\n",
    "  \"\"\"\n",
    "  transformed_feature_spec = (\n",
    "      tf_transform_output.transformed_feature_spec().copy())\n",
    "\n",
    "  dataset = tf.data.experimental.make_batched_features_dataset(\n",
    "      file_pattern=file_pattern,\n",
    "      batch_size=batch_size,\n",
    "      features=transformed_feature_spec,\n",
    "      reader=_gzip_reader_fn,\n",
    "      label_key=features.transformed_name(features.LABEL_KEY))\n",
    "\n",
    "  return dataset\n",
    "\n",
    "def _build_keras_model(tf_transform_output, hidden_units, learning_rate):\n",
    "  \"\"\"Creates a DNN Keras model for classifying taxi data.\n",
    "  Args:\n",
    "    hidden_units: [int], the layer sizes of the DNN (input layer first).\n",
    "  Returns:\n",
    "    A keras Model.\n",
    "  \"\"\"\n",
    "\n",
    "  numeric_columns = [\n",
    "      tf.feature_column.numeric_column(\n",
    "          key=features.transformed_name(key), \n",
    "          shape=())\n",
    "      for key in features.NUMERIC_FEATURE_KEYS\n",
    "  ]\n",
    "\n",
    "  categorical_columns = [\n",
    "      tf.feature_column.categorical_column_with_identity(\n",
    "          key=features.transformed_name(key), \n",
    "          num_buckets=tf_transform_output.num_buckets_for_transformed_feature(features.transformed_name(key)), \n",
    "          default_value=0)\n",
    "      for key in features.CATEGORICAL_FEATURE_KEYS\n",
    "  ]\n",
    "\n",
    "  indicator_columns = [\n",
    "      tf.feature_column.indicator_column(categorical_column)\n",
    "      for categorical_column in categorical_columns\n",
    "  ]\n",
    "\n",
    "  model = _wide_and_deep_classifier(\n",
    "      # TODO(b/139668410) replace with premade wide_and_deep keras model\n",
    "      wide_columns=indicator_columns,\n",
    "      deep_columns=numeric_columns,\n",
    "      dnn_hidden_units=hidden_units,\n",
    "      learning_rate=learning_rate)\n",
    "  return model\n",
    "\n",
    "\n",
    "def _wide_and_deep_classifier(wide_columns, deep_columns, dnn_hidden_units, learning_rate):\n",
    "  \"\"\"Builds a simple keras wide and deep model.\n",
    "  Args:\n",
    "    wide_columns: Feature columns wrapped in indicator_column for wide (linear)\n",
    "      part of the model.\n",
    "    deep_columns: Feature columns for deep part of the model.\n",
    "    dnn_hidden_units: [int], the layer sizes of the hidden DNN.\n",
    "  Returns:\n",
    "    A Wide and Deep Keras model\n",
    "  \"\"\"\n",
    "  \n",
    "  input_layers = {\n",
    "      column.key: tf.keras.layers.Input(name=column.key, shape=(), dtype=tf.float32)\n",
    "      for column in deep_columns\n",
    "  }\n",
    "  \n",
    "  input_layers.update({\n",
    "      column.categorical_column.key: tf.keras.layers.Input(name=column.categorical_column.key, shape=(), dtype=tf.int32)\n",
    "      for column in wide_columns\n",
    "  })\n",
    "    \n",
    "  deep = tf.keras.layers.DenseFeatures(deep_columns)(input_layers)\n",
    "  for numnodes in dnn_hidden_units:\n",
    "    deep = tf.keras.layers.Dense(numnodes)(deep)\n",
    "  wide = tf.keras.layers.DenseFeatures(wide_columns)(input_layers)\n",
    "\n",
    "  output = tf.keras.layers.Dense(features.NUM_CLASSES, activation='softmax')(\n",
    "               tf.keras.layers.concatenate([deep, wide]))\n",
    "\n",
    "  model = tf.keras.Model(input_layers, output)\n",
    "  model.compile(\n",
    "      loss='sparse_categorical_crossentropy',\n",
    "      optimizer=tf.keras.optimizers.Adam(lr=learning_rate),\n",
    "      metrics=[tf.keras.metrics.SparseCategoricalAccuracy()])\n",
    "  model.summary(print_fn=absl.logging.info)\n",
    "  return model\n",
    "\n",
    "def _copy_tensorboard_logs(local_path, saved_model_path):\n",
    "    \"\"\"Copies Tensorboard logs to the subfolder in the GCS SavedModel location.\"\"\"\n",
    "\n",
    "    if saved_model_path[0:5] == 'gs://':\n",
    "        pattern = '{}/*/events.out.tfevents.*'.format(local_path)\n",
    "        dest_path = saved_model_path.rstrip('/') + '/' + 'logs'\n",
    "        local_files = tf.io.gfile.glob(pattern)\n",
    "        dest_log_files = [local_file.replace(local_path, dest_path) for local_file in local_files]\n",
    "        for local_file, dest_file in zip(local_files, dest_log_files):\n",
    "            tf.io.gfile.copy(local_file, dest_file)\n",
    "\n",
    "# TFX Trainer will call this function.\n",
    "def run_fn(fn_args):\n",
    "  \"\"\"Trains a model based on given args.\n",
    "  Args:\n",
    "    fn_args: Holds args used to train the model as name/value pairs.\n",
    "  \"\"\"\n",
    "  \n",
    "  tf_transform_output = tft.TFTransformOutput(fn_args.transform_output)\n",
    "    \n",
    "  train_dataset = _input_fn(fn_args.train_files, tf_transform_output, TRAIN_BATCH_SIZE)\n",
    "  eval_dataset = _input_fn(fn_args.eval_files, tf_transform_output, EVAL_BATCH_SIZE)\n",
    "    \n",
    "  model = _build_keras_model(\n",
    "      tf_transform_output=tf_transform_output,\n",
    "      hidden_units=HIDDEN_UNITS,\n",
    "      learning_rate=LEARNING_RATE\n",
    "  )\n",
    "\n",
    "  tensorboard_callback = tf.keras.callbacks.TensorBoard(\n",
    "      log_dir=LOCAL_LOG_DIR, update_freq='batch')\n",
    "  callbacks = [ \n",
    "      tensorboard_callback\n",
    "  ]\n",
    "\n",
    "  model.fit(\n",
    "      train_dataset,\n",
    "      steps_per_epoch=fn_args.train_steps,\n",
    "      validation_data=eval_dataset,\n",
    "      validation_steps=fn_args.eval_steps,\n",
    "      verbose=2,\n",
    "      callbacks=callbacks)\n",
    "    \n",
    "  signatures = {\n",
    "      'serving_default':\n",
    "          _get_serve_tf_examples_fn(model,\n",
    "                                    tf_transform_output).get_concrete_function(\n",
    "                                        tf.TensorSpec(\n",
    "                                            shape=[None],\n",
    "                                            dtype=tf.string,\n",
    "                                            name='examples')),\n",
    "  }\n",
    "  \n",
    "  model.save(fn_args.serving_model_dir, save_format='tf', signatures=signatures)\n",
    "  _copy_tensorboard_logs(LOCAL_LOG_DIR, fn_args.serving_model_dir)\n",
    "    \n"
   ]
  },
  {
   "cell_type": "markdown",
   "metadata": {},
   "source": [
    "\n",
    "As of the 0.23 release of TFX, the `Trainer` component only supports passing a single field - `num_steps` - through the `train_args` and `eval_args` arguments. "
   ]
  },
  {
   "cell_type": "code",
   "execution_count": 25,
   "metadata": {},
   "outputs": [],
   "source": [
    "trainer = Trainer(\n",
    "    custom_executor_spec=executor_spec.ExecutorClassSpec(trainer_executor.GenericExecutor),\n",
    "    module_file=TRAINER_MODULE_FILE,\n",
    "    transformed_examples=transform.outputs[\"transformed_examples\"],\n",
    "    schema=schema_gen.outputs[\"schema\"],\n",
    "    transform_graph=transform.outputs[\"transform_graph\"],\n",
    "    train_args=trainer_pb2.TrainArgs(num_steps=5000),\n",
    "    eval_args=trainer_pb2.EvalArgs(num_steps=1000))"
   ]
  },
  {
   "cell_type": "markdown",
   "metadata": {},
   "source": [
    "### Evaluating trained models with Evaluator\n",
    "The `Evaluator` component analyzes model performance using the [TensorFlow Model Analysis library](https://www.tensorflow.org/tfx/model_analysis/get_started). It runs inference requests on particular subsets of the test dataset, based on which slices are defined by the developer. Knowing which slices should be analyzed requires domain knowledge of what is important in this particular use case or domain. \n",
    "\n",
    "The `Evaluator` can also optionally validate a newly trained model against a previous model. In this lab, you only train one model, so the Evaluator automatically will label the model as \"blessed\".\n",
    "\n",
    "\n",
    "<img src=https://github.com/GoogleCloudPlatform/mlops-on-gcp/raw/master/images/Evaluator.png width=\"400\">"
   ]
  },
  {
   "cell_type": "markdown",
   "metadata": {},
   "source": [
    "You can use the `ResolverNode` to pick the previous model to compare against.  The model resolver is only required if performing model validation in addition to evaluation. In this case we validate against the latest blessed model. If no model has been blessed before (as in this case) the evaluator will make our candidate the first blessed model."
   ]
  },
  {
   "cell_type": "code",
   "execution_count": 26,
   "metadata": {},
   "outputs": [],
   "source": [
    "model_resolver = ResolverNode(\n",
    "      instance_name='latest_blessed_model_resolver',\n",
    "      resolver_class=latest_blessed_model_resolver.LatestBlessedModelResolver,\n",
    "      model=Channel(type=Model),\n",
    "      model_blessing=Channel(type=ModelBlessing))"
   ]
  },
  {
   "cell_type": "markdown",
   "metadata": {},
   "source": [
    "Configure evaluation metrics and slices."
   ]
  },
  {
   "cell_type": "code",
   "execution_count": 27,
   "metadata": {},
   "outputs": [
    {
     "data": {
      "text/plain": [
       "model_specs {\n",
       "  label_key: \"Cover_Type\"\n",
       "}\n",
       "slicing_specs {\n",
       "}\n",
       "slicing_specs {\n",
       "  feature_keys: \"Wilderness_Area\"\n",
       "}\n",
       "metrics_specs {\n",
       "  metrics {\n",
       "    class_name: \"SparseCategoricalAccuracy\"\n",
       "    threshold {\n",
       "      value_threshold {\n",
       "        lower_bound {\n",
       "          value: 0.5\n",
       "        }\n",
       "        upper_bound {\n",
       "          value: 0.99\n",
       "        }\n",
       "      }\n",
       "      change_threshold {\n",
       "        absolute {\n",
       "          value: 0.0001\n",
       "        }\n",
       "        direction: HIGHER_IS_BETTER\n",
       "      }\n",
       "    }\n",
       "  }\n",
       "  metrics {\n",
       "    class_name: \"ExampleCount\"\n",
       "  }\n",
       "}"
      ]
     },
     "execution_count": 27,
     "metadata": {},
     "output_type": "execute_result"
    }
   ],
   "source": [
    "accuracy_threshold = tfma.MetricThreshold(\n",
    "                value_threshold=tfma.GenericValueThreshold(\n",
    "                    lower_bound={'value': 0.5},\n",
    "                    upper_bound={'value': 0.99}),\n",
    "                change_threshold=tfma.GenericChangeThreshold(\n",
    "                    absolute={'value': 0.0001},\n",
    "                    direction=tfma.MetricDirection.HIGHER_IS_BETTER),\n",
    "                )\n",
    "\n",
    "metrics_specs = tfma.MetricsSpec(\n",
    "                   metrics = [\n",
    "                       tfma.MetricConfig(class_name='SparseCategoricalAccuracy',\n",
    "                           threshold=accuracy_threshold),\n",
    "                       tfma.MetricConfig(class_name='ExampleCount')])\n",
    "\n",
    "eval_config = tfma.EvalConfig(\n",
    "    model_specs=[\n",
    "        tfma.ModelSpec(label_key='Cover_Type')\n",
    "    ],\n",
    "    metrics_specs=[metrics_specs],\n",
    "    slicing_specs=[\n",
    "        tfma.SlicingSpec(),\n",
    "        tfma.SlicingSpec(feature_keys=['Wilderness_Area'])\n",
    "    ]\n",
    ")\n",
    "eval_config"
   ]
  },
  {
   "cell_type": "code",
   "execution_count": 28,
   "metadata": {},
   "outputs": [],
   "source": [
    "model_analyzer = Evaluator(\n",
    "    examples=example_gen.outputs.examples,\n",
    "    model=trainer.outputs.model,\n",
    "    baseline_model=model_resolver.outputs.model,\n",
    "    eval_config=eval_config\n",
    ")"
   ]
  },
  {
   "cell_type": "markdown",
   "metadata": {},
   "source": [
    "### Deploying models with Pusher\n",
    "\n",
    "The `Pusher` component checks whether a model has been \"blessed\", and if so, deploys it by pushing the model to a well known file destination.\n",
    "\n",
    "<img src=https://github.com/GoogleCloudPlatform/mlops-on-gcp/raw/master/images/Pusher.png width=\"400\">\n",
    "\n"
   ]
  },
  {
   "cell_type": "code",
   "execution_count": 29,
   "metadata": {},
   "outputs": [],
   "source": [
    "serving_model_dir = '{}/covertype_classifier'.format(MODEL_STORE)\n",
    "pusher = Pusher(\n",
    "    model=trainer.outputs['model'],\n",
    "    model_blessing=model_analyzer.outputs['blessing'],\n",
    "    push_destination=pusher_pb2.PushDestination(\n",
    "        filesystem=pusher_pb2.PushDestination.Filesystem(\n",
    "            base_directory=serving_model_dir)))"
   ]
  },
  {
   "cell_type": "markdown",
   "metadata": {},
   "source": [
    "## Running the pipeline"
   ]
  },
  {
   "cell_type": "markdown",
   "metadata": {},
   "source": [
    "### Create the pipeline"
   ]
  },
  {
   "cell_type": "code",
   "execution_count": 30,
   "metadata": {},
   "outputs": [],
   "source": [
    "pipeline_name = 'covertype-end-to-end'\n",
    "components = [example_gen, \n",
    "              statistics_gen, \n",
    "              schema_gen,\n",
    "              example_validator,\n",
    "              transform,\n",
    "              trainer,\n",
    "              model_resolver,\n",
    "              model_analyzer,\n",
    "              pusher]\n",
    "\n",
    "pipeline = Pipeline(\n",
    "    pipeline_name=pipeline_name,\n",
    "    pipeline_root=f'{LOCAL_PIPELINE_ROOT}/{pipeline_name}',\n",
    "    metadata_connection_config=metadata_connection_config,\n",
    "    components=components\n",
    ")"
   ]
  },
  {
   "cell_type": "markdown",
   "metadata": {},
   "source": [
    "### Run the pipeline locally using Beam Runner"
   ]
  },
  {
   "cell_type": "code",
   "execution_count": 31,
   "metadata": {
    "tags": [
     "outputPrepend"
    ]
   },
   "outputs": [
    {
     "name": "stderr",
     "output_type": "stream",
     "text": [
      "INFO:absl:Component CsvExampleGen.Data_Extraction_Spliting depends on [].\n",
      "INFO:absl:Component CsvExampleGen.Data_Extraction_Spliting is scheduled.\n",
      "INFO:absl:Component ResolverNode.latest_blessed_model_resolver depends on [].\n",
      "INFO:absl:Component ResolverNode.latest_blessed_model_resolver is scheduled.\n",
      "INFO:absl:Component StatisticsGen.Statistics_Generation depends on ['Run[CsvExampleGen.Data_Extraction_Spliting]'].\n",
      "INFO:absl:Component StatisticsGen.Statistics_Generation is scheduled.\n",
      "INFO:absl:Component SchemaGen depends on ['Run[StatisticsGen.Statistics_Generation]'].\n",
      "INFO:absl:Component SchemaGen is scheduled.\n",
      "INFO:absl:Component ExampleValidator.Data_Validation depends on ['Run[StatisticsGen.Statistics_Generation]', 'Run[SchemaGen]'].\n",
      "INFO:absl:Component ExampleValidator.Data_Validation is scheduled.\n",
      "INFO:absl:Component Transform depends on ['Run[SchemaGen]', 'Run[CsvExampleGen.Data_Extraction_Spliting]'].\n",
      "INFO:absl:Component Transform is scheduled.\n",
      "INFO:absl:Component Trainer depends on ['Run[SchemaGen]', 'Run[Transform]'].\n",
      "INFO:absl:Component Trainer is scheduled.\n",
      "INFO:absl:Component Evaluator depends on ['Run[ResolverNode.latest_blessed_model_resolver]', 'Run[Trainer]', 'Run[CsvExampleGen.Data_Extraction_Spliting]'].\n",
      "INFO:absl:Component Evaluator is scheduled.\n",
      "INFO:absl:Component Pusher depends on ['Run[Trainer]', 'Run[Evaluator]'].\n",
      "INFO:absl:Component Pusher is scheduled.\n",
      "INFO:absl:Component ResolverNode.latest_blessed_model_resolver is running.\n",
      "INFO:absl:Running driver for ResolverNode.latest_blessed_model_resolver\n",
      "INFO:absl:MetadataStore with DB connection initialized\n",
      "INFO:absl:Running publisher for ResolverNode.latest_blessed_model_resolver\n",
      "INFO:absl:MetadataStore with DB connection initialized\n",
      "INFO:absl:Component ResolverNode.latest_blessed_model_resolver is finished.\n",
      "INFO:absl:Component CsvExampleGen.Data_Extraction_Spliting is running.\n",
      "INFO:absl:Running driver for CsvExampleGen.Data_Extraction_Spliting\n",
      "INFO:absl:MetadataStore with DB connection initialized\n",
      "INFO:absl:select span and version = (0, None)\n",
      "INFO:absl:latest span and version = (0, None)\n",
      "INFO:absl:Running executor for CsvExampleGen.Data_Extraction_Spliting\n",
      "INFO:absl:Generating examples.\n",
      "INFO:absl:Processing input csv data gs://workshop-datasets/covertype/small/* to TFExample.\n",
      "INFO:absl:Examples generated.\n",
      "INFO:absl:Running publisher for CsvExampleGen.Data_Extraction_Spliting\n",
      "INFO:absl:MetadataStore with DB connection initialized\n",
      "INFO:absl:Component CsvExampleGen.Data_Extraction_Spliting is finished.\n",
      "INFO:absl:Component StatisticsGen.Statistics_Generation is running.\n",
      "INFO:absl:Running driver for StatisticsGen.Statistics_Generation\n",
      "INFO:absl:MetadataStore with DB connection initialized\n",
      "INFO:absl:Running executor for StatisticsGen.Statistics_Generation\n",
      "INFO:absl:We decided to produce LargeList and LargeBinary types.\n",
      "INFO:absl:We decided to produce LargeList and LargeBinary types.\n",
      "INFO:absl:Generating statistics for split train.\n",
      "INFO:absl:Statistics for split train written to /home/jupyter/pipeline-root/covertype-end-to-end/StatisticsGen.Statistics_Generation/statistics/4/train.\n",
      "INFO:absl:Generating statistics for split eval.\n",
      "INFO:absl:Statistics for split eval written to /home/jupyter/pipeline-root/covertype-end-to-end/StatisticsGen.Statistics_Generation/statistics/4/eval.\n",
      "INFO:absl:Running publisher for StatisticsGen.Statistics_Generation\n",
      "INFO:absl:MetadataStore with DB connection initialized\n",
      "INFO:absl:Component StatisticsGen.Statistics_Generation is finished.\n",
      "INFO:absl:Component SchemaGen is running.\n",
      "INFO:absl:Running driver for SchemaGen\n",
      "INFO:absl:MetadataStore with DB connection initialized\n",
      "INFO:absl:Running executor for SchemaGen\n",
      "INFO:absl:Processing schema from statistics for split train.\n"
     ]
    },
    {
     "name": "stdout",
     "output_type": "stream",
     "text": [
      "WARNING:tensorflow:From /home/jupyter/.local/lib/python3.7/site-packages/tensorflow_data_validation/utils/stats_util.py:229: tf_record_iterator (from tensorflow.python.lib.io.tf_record) is deprecated and will be removed in a future version.\n",
      "Instructions for updating:\n",
      "Use eager execution and: \n",
      "`tf.data.TFRecordDataset(path)`\n"
     ]
    },
    {
     "name": "stderr",
     "output_type": "stream",
     "text": [
      "INFO:absl:Processing schema from statistics for split eval.\n",
      "INFO:absl:Schema written to /home/jupyter/pipeline-root/covertype-end-to-end/SchemaGen/schema/5/schema.pbtxt.\n",
      "INFO:absl:Running publisher for SchemaGen\n",
      "INFO:absl:MetadataStore with DB connection initialized\n",
      "INFO:absl:Component SchemaGen is finished.\n",
      "INFO:absl:Component Transform is running.\n",
      "INFO:absl:Running driver for Transform\n",
      "INFO:absl:MetadataStore with DB connection initialized\n",
      "INFO:absl:Running executor for Transform\n"
     ]
    },
    {
     "name": "stdout",
     "output_type": "stream",
     "text": [
      "WARNING:tensorflow:From /home/jupyter/.local/lib/python3.7/site-packages/tfx/components/transform/executor.py:485: Schema (from tensorflow_transform.tf_metadata.dataset_schema) is deprecated and will be removed in a future version.\n",
      "Instructions for updating:\n",
      "Schema is a deprecated, use schema_utils.schema_from_feature_spec to create a `Schema`\n"
     ]
    },
    {
     "name": "stderr",
     "output_type": "stream",
     "text": [
      "INFO:absl:We decided to produce LargeList and LargeBinary types.\n",
      "INFO:absl:We decided to produce LargeList and LargeBinary types.\n",
      "INFO:absl:We decided to produce LargeList and LargeBinary types.\n",
      "INFO:absl:Feature Aspect has no shape. Setting to VarLenSparseTensor.\n",
      "INFO:absl:Feature Cover_Type has no shape. Setting to VarLenSparseTensor.\n",
      "INFO:absl:Feature Elevation has no shape. Setting to VarLenSparseTensor.\n",
      "INFO:absl:Feature Hillshade_3pm has no shape. Setting to VarLenSparseTensor.\n",
      "INFO:absl:Feature Hillshade_9am has no shape. Setting to VarLenSparseTensor.\n",
      "INFO:absl:Feature Hillshade_Noon has no shape. Setting to VarLenSparseTensor.\n",
      "INFO:absl:Feature Horizontal_Distance_To_Fire_Points has no shape. Setting to VarLenSparseTensor.\n",
      "INFO:absl:Feature Horizontal_Distance_To_Hydrology has no shape. Setting to VarLenSparseTensor.\n",
      "INFO:absl:Feature Horizontal_Distance_To_Roadways has no shape. Setting to VarLenSparseTensor.\n",
      "INFO:absl:Feature Slope has no shape. Setting to VarLenSparseTensor.\n",
      "INFO:absl:Feature Soil_Type has no shape. Setting to VarLenSparseTensor.\n",
      "INFO:absl:Feature Vertical_Distance_To_Hydrology has no shape. Setting to VarLenSparseTensor.\n",
      "INFO:absl:Feature Wilderness_Area has no shape. Setting to VarLenSparseTensor.\n"
     ]
    },
    {
     "name": "stdout",
     "output_type": "stream",
     "text": [
      "WARNING:tensorflow:From /home/jupyter/.local/lib/python3.7/site-packages/tensorflow_transform/tf_utils.py:218: Tensor.experimental_ref (from tensorflow.python.framework.ops) is deprecated and will be removed in a future version.\n",
      "Instructions for updating:\n",
      "Use ref() instead.\n"
     ]
    },
    {
     "name": "stderr",
     "output_type": "stream",
     "text": [
      "INFO:absl:Feature Aspect has no shape. Setting to VarLenSparseTensor.\n",
      "INFO:absl:Feature Cover_Type has no shape. Setting to VarLenSparseTensor.\n",
      "INFO:absl:Feature Elevation has no shape. Setting to VarLenSparseTensor.\n",
      "INFO:absl:Feature Hillshade_3pm has no shape. Setting to VarLenSparseTensor.\n",
      "INFO:absl:Feature Hillshade_9am has no shape. Setting to VarLenSparseTensor.\n",
      "INFO:absl:Feature Hillshade_Noon has no shape. Setting to VarLenSparseTensor.\n",
      "INFO:absl:Feature Horizontal_Distance_To_Fire_Points has no shape. Setting to VarLenSparseTensor.\n",
      "INFO:absl:Feature Horizontal_Distance_To_Hydrology has no shape. Setting to VarLenSparseTensor.\n",
      "INFO:absl:Feature Horizontal_Distance_To_Roadways has no shape. Setting to VarLenSparseTensor.\n",
      "INFO:absl:Feature Slope has no shape. Setting to VarLenSparseTensor.\n",
      "INFO:absl:Feature Soil_Type has no shape. Setting to VarLenSparseTensor.\n",
      "INFO:absl:Feature Vertical_Distance_To_Hydrology has no shape. Setting to VarLenSparseTensor.\n",
      "INFO:absl:Feature Wilderness_Area has no shape. Setting to VarLenSparseTensor.\n",
      "INFO:absl:Feature Aspect has no shape. Setting to VarLenSparseTensor.\n",
      "INFO:absl:Feature Cover_Type has no shape. Setting to VarLenSparseTensor.\n",
      "INFO:absl:Feature Elevation has no shape. Setting to VarLenSparseTensor.\n",
      "INFO:absl:Feature Hillshade_3pm has no shape. Setting to VarLenSparseTensor.\n",
      "INFO:absl:Feature Hillshade_9am has no shape. Setting to VarLenSparseTensor.\n",
      "INFO:absl:Feature Hillshade_Noon has no shape. Setting to VarLenSparseTensor.\n",
      "INFO:absl:Feature Horizontal_Distance_To_Fire_Points has no shape. Setting to VarLenSparseTensor.\n",
      "INFO:absl:Feature Horizontal_Distance_To_Hydrology has no shape. Setting to VarLenSparseTensor.\n",
      "INFO:absl:Feature Horizontal_Distance_To_Roadways has no shape. Setting to VarLenSparseTensor.\n",
      "INFO:absl:Feature Slope has no shape. Setting to VarLenSparseTensor.\n",
      "INFO:absl:Feature Soil_Type has no shape. Setting to VarLenSparseTensor.\n",
      "INFO:absl:Feature Vertical_Distance_To_Hydrology has no shape. Setting to VarLenSparseTensor.\n",
      "INFO:absl:Feature Wilderness_Area has no shape. Setting to VarLenSparseTensor.\n",
      "INFO:absl:We decided to produce LargeList and LargeBinary types.\n",
      "INFO:absl:Feature Aspect has no shape. Setting to VarLenSparseTensor.\n",
      "INFO:absl:Feature Cover_Type has no shape. Setting to VarLenSparseTensor.\n",
      "INFO:absl:Feature Elevation has no shape. Setting to VarLenSparseTensor.\n",
      "INFO:absl:Feature Hillshade_3pm has no shape. Setting to VarLenSparseTensor.\n",
      "INFO:absl:Feature Hillshade_9am has no shape. Setting to VarLenSparseTensor.\n",
      "INFO:absl:Feature Hillshade_Noon has no shape. Setting to VarLenSparseTensor.\n",
      "INFO:absl:Feature Horizontal_Distance_To_Fire_Points has no shape. Setting to VarLenSparseTensor.\n",
      "INFO:absl:Feature Horizontal_Distance_To_Hydrology has no shape. Setting to VarLenSparseTensor.\n",
      "INFO:absl:Feature Horizontal_Distance_To_Roadways has no shape. Setting to VarLenSparseTensor.\n",
      "INFO:absl:Feature Slope has no shape. Setting to VarLenSparseTensor.\n",
      "INFO:absl:Feature Soil_Type has no shape. Setting to VarLenSparseTensor.\n",
      "INFO:absl:Feature Vertical_Distance_To_Hydrology has no shape. Setting to VarLenSparseTensor.\n",
      "INFO:absl:Feature Wilderness_Area has no shape. Setting to VarLenSparseTensor.\n",
      "INFO:absl:Feature Aspect has no shape. Setting to VarLenSparseTensor.\n",
      "INFO:absl:Feature Cover_Type has no shape. Setting to VarLenSparseTensor.\n",
      "INFO:absl:Feature Elevation has no shape. Setting to VarLenSparseTensor.\n",
      "INFO:absl:Feature Hillshade_3pm has no shape. Setting to VarLenSparseTensor.\n",
      "INFO:absl:Feature Hillshade_9am has no shape. Setting to VarLenSparseTensor.\n",
      "INFO:absl:Feature Hillshade_Noon has no shape. Setting to VarLenSparseTensor.\n",
      "INFO:absl:Feature Horizontal_Distance_To_Fire_Points has no shape. Setting to VarLenSparseTensor.\n",
      "INFO:absl:Feature Horizontal_Distance_To_Hydrology has no shape. Setting to VarLenSparseTensor.\n",
      "INFO:absl:Feature Horizontal_Distance_To_Roadways has no shape. Setting to VarLenSparseTensor.\n",
      "INFO:absl:Feature Slope has no shape. Setting to VarLenSparseTensor.\n",
      "INFO:absl:Feature Soil_Type has no shape. Setting to VarLenSparseTensor.\n",
      "INFO:absl:Feature Vertical_Distance_To_Hydrology has no shape. Setting to VarLenSparseTensor.\n",
      "INFO:absl:Feature Wilderness_Area has no shape. Setting to VarLenSparseTensor.\n",
      "INFO:absl:We decided to produce LargeList and LargeBinary types.\n",
      "INFO:absl:Feature Aspect has no shape. Setting to VarLenSparseTensor.\n",
      "INFO:absl:Feature Cover_Type has no shape. Setting to VarLenSparseTensor.\n",
      "INFO:absl:Feature Elevation has no shape. Setting to VarLenSparseTensor.\n",
      "INFO:absl:Feature Hillshade_3pm has no shape. Setting to VarLenSparseTensor.\n",
      "INFO:absl:Feature Hillshade_9am has no shape. Setting to VarLenSparseTensor.\n",
      "INFO:absl:Feature Hillshade_Noon has no shape. Setting to VarLenSparseTensor.\n",
      "INFO:absl:Feature Horizontal_Distance_To_Fire_Points has no shape. Setting to VarLenSparseTensor.\n",
      "INFO:absl:Feature Horizontal_Distance_To_Hydrology has no shape. Setting to VarLenSparseTensor.\n",
      "INFO:absl:Feature Horizontal_Distance_To_Roadways has no shape. Setting to VarLenSparseTensor.\n",
      "INFO:absl:Feature Slope has no shape. Setting to VarLenSparseTensor.\n",
      "INFO:absl:Feature Soil_Type has no shape. Setting to VarLenSparseTensor.\n",
      "INFO:absl:Feature Vertical_Distance_To_Hydrology has no shape. Setting to VarLenSparseTensor.\n",
      "INFO:absl:Feature Wilderness_Area has no shape. Setting to VarLenSparseTensor.\n",
      "INFO:absl:We decided to produce LargeList and LargeBinary types.\n"
     ]
    },
    {
     "name": "stdout",
     "output_type": "stream",
     "text": [
      "WARNING:tensorflow:Tensorflow version (2.3.0) found. Note that Tensorflow Transform support for TF 2.0 is currently in beta, and features such as tf.function may not work as intended. \n"
     ]
    },
    {
     "name": "stderr",
     "output_type": "stream",
     "text": [
      "WARNING:apache_beam.utils.interactive_utils:Failed to alter the label of a transform with the ipython prompt metadata. Cannot figure out the pipeline that the given pvalueish ({DatasetKey(key='covertype-end-to-end-CsvExampleGen.Data_Extraction_Spliting-examples-3-train-STAR'): <PCollection[TFXIOReadAndDecode[AnalysisIndex0]/RawRecordToRecordBatch/CollectRecordBatchTelemetry/ProfileRecordBatches.None] at 0x7fc0b60d9c50>}, None, TensorAdapterConfig(arrow_schema=Aspect: large_list<item: int64>\n",
      "  child 0, item: int64\n",
      "Elevation: large_list<item: int64>\n",
      "  child 0, item: int64\n",
      "Hillshade_3pm: large_list<item: int64>\n",
      "  child 0, item: int64\n",
      "Hillshade_9am: large_list<item: int64>\n",
      "  child 0, item: int64\n",
      "Hillshade_Noon: large_list<item: int64>\n",
      "  child 0, item: int64\n",
      "Horizontal_Distance_To_Fire_Points: large_list<item: int64>\n",
      "  child 0, item: int64\n",
      "Horizontal_Distance_To_Hydrology: large_list<item: int64>\n",
      "  child 0, item: int64\n",
      "Horizontal_Distance_To_Roadways: large_list<item: int64>\n",
      "  child 0, item: int64\n",
      "Slope: large_list<item: int64>\n",
      "  child 0, item: int64\n",
      "Soil_Type: large_list<item: large_binary>\n",
      "  child 0, item: large_binary\n",
      "Vertical_Distance_To_Hydrology: large_list<item: int64>\n",
      "  child 0, item: int64\n",
      "Wilderness_Area: large_list<item: large_binary>\n",
      "  child 0, item: large_binary, tensor_representations={'Hillshade_9am': varlen_sparse_tensor {\n",
      "  column_name: \"Hillshade_9am\"\n",
      "}\n",
      ", 'Aspect': varlen_sparse_tensor {\n",
      "  column_name: \"Aspect\"\n",
      "}\n",
      ", 'Horizontal_Distance_To_Hydrology': varlen_sparse_tensor {\n",
      "  column_name: \"Horizontal_Distance_To_Hydrology\"\n",
      "}\n",
      ", 'Elevation': varlen_sparse_tensor {\n",
      "  column_name: \"Elevation\"\n",
      "}\n",
      ", 'Horizontal_Distance_To_Roadways': varlen_sparse_tensor {\n",
      "  column_name: \"Horizontal_Distance_To_Roadways\"\n",
      "}\n",
      ", 'Slope': varlen_sparse_tensor {\n",
      "  column_name: \"Slope\"\n",
      "}\n",
      ", 'Wilderness_Area': varlen_sparse_tensor {\n",
      "  column_name: \"Wilderness_Area\"\n",
      "}\n",
      ", 'Vertical_Distance_To_Hydrology': varlen_sparse_tensor {\n",
      "  column_name: \"Vertical_Distance_To_Hydrology\"\n",
      "}\n",
      ", 'Soil_Type': varlen_sparse_tensor {\n",
      "  column_name: \"Soil_Type\"\n",
      "}\n",
      ", 'Hillshade_3pm': varlen_sparse_tensor {\n",
      "  column_name: \"Hillshade_3pm\"\n",
      "}\n",
      ", 'Hillshade_Noon': varlen_sparse_tensor {\n",
      "  column_name: \"Hillshade_Noon\"\n",
      "}\n",
      ", 'Horizontal_Distance_To_Fire_Points': varlen_sparse_tensor {\n",
      "  column_name: \"Horizontal_Distance_To_Fire_Points\"\n",
      "}\n",
      "}, original_type_specs={'Aspect': SparseTensorSpec(TensorShape([None, None]), tf.int64), 'Cover_Type': SparseTensorSpec(TensorShape([None, None]), tf.int64), 'Elevation': SparseTensorSpec(TensorShape([None, None]), tf.int64), 'Hillshade_3pm': SparseTensorSpec(TensorShape([None, None]), tf.int64), 'Hillshade_9am': SparseTensorSpec(TensorShape([None, None]), tf.int64), 'Hillshade_Noon': SparseTensorSpec(TensorShape([None, None]), tf.int64), 'Horizontal_Distance_To_Fire_Points': SparseTensorSpec(TensorShape([None, None]), tf.int64), 'Horizontal_Distance_To_Hydrology': SparseTensorSpec(TensorShape([None, None]), tf.int64), 'Horizontal_Distance_To_Roadways': SparseTensorSpec(TensorShape([None, None]), tf.int64), 'Slope': SparseTensorSpec(TensorShape([None, None]), tf.int64), 'Soil_Type': SparseTensorSpec(TensorShape([None, None]), tf.string), 'Vertical_Distance_To_Hydrology': SparseTensorSpec(TensorShape([None, None]), tf.int64), 'Wilderness_Area': SparseTensorSpec(TensorShape([None, None]), tf.string)})) belongs to. Thus noop.\n"
     ]
    },
    {
     "name": "stdout",
     "output_type": "stream",
     "text": [
      "WARNING:tensorflow:From /opt/conda/lib/python3.7/site-packages/tensorflow/python/saved_model/signature_def_utils_impl.py:201: build_tensor_info (from tensorflow.python.saved_model.utils_impl) is deprecated and will be removed in a future version.\n",
      "Instructions for updating:\n",
      "This function will only be available through the v1 compatibility library as tf.compat.v1.saved_model.utils.build_tensor_info or tf.compat.v1.saved_model.build_tensor_info.\n",
      "INFO:tensorflow:Assets added to graph.\n",
      "INFO:tensorflow:No assets to write.\n",
      "WARNING:tensorflow:Issue encountered when serializing tft_mapper_use.\n",
      "Type is unsupported, or the types of the items don't match field type in CollectionDef. Note this is a warning and probably safe to ignore.\n",
      "'Counter' object has no attribute 'name'\n",
      "INFO:tensorflow:SavedModel written to: /home/jupyter/pipeline-root/covertype-end-to-end/Transform/transform_graph/6/.temp_path/tftransform_tmp/40eb5f4f2ce344199a38c0b93b5b85a9/saved_model.pb\n",
      "INFO:tensorflow:Assets added to graph.\n",
      "INFO:tensorflow:No assets to write.\n",
      "WARNING:tensorflow:Issue encountered when serializing tft_mapper_use.\n",
      "Type is unsupported, or the types of the items don't match field type in CollectionDef. Note this is a warning and probably safe to ignore.\n",
      "'Counter' object has no attribute 'name'\n",
      "INFO:tensorflow:SavedModel written to: /home/jupyter/pipeline-root/covertype-end-to-end/Transform/transform_graph/6/.temp_path/tftransform_tmp/2dd12b6929e14c93ad3f5eecda06ef88/saved_model.pb\n"
     ]
    },
    {
     "name": "stderr",
     "output_type": "stream",
     "text": [
      "WARNING:apache_beam.utils.interactive_utils:Failed to alter the label of a transform with the ipython prompt metadata. Cannot figure out the pipeline that the given pvalueish {'_schema': feature {\n",
      "  name: \"Aspect\"\n",
      "  value_count {\n",
      "    min: 1\n",
      "    max: 1\n",
      "  }\n",
      "  type: INT\n",
      "  presence {\n",
      "    min_fraction: 1.0\n",
      "    min_count: 1\n",
      "  }\n",
      "}\n",
      "feature {\n",
      "  name: \"Cover_Type\"\n",
      "  value_count {\n",
      "    min: 1\n",
      "    max: 1\n",
      "  }\n",
      "  type: INT\n",
      "  presence {\n",
      "    min_fraction: 1.0\n",
      "    min_count: 1\n",
      "  }\n",
      "}\n",
      "feature {\n",
      "  name: \"Elevation\"\n",
      "  value_count {\n",
      "    min: 1\n",
      "    max: 1\n",
      "  }\n",
      "  type: INT\n",
      "  presence {\n",
      "    min_fraction: 1.0\n",
      "    min_count: 1\n",
      "  }\n",
      "}\n",
      "feature {\n",
      "  name: \"Hillshade_3pm\"\n",
      "  value_count {\n",
      "    min: 1\n",
      "    max: 1\n",
      "  }\n",
      "  type: INT\n",
      "  presence {\n",
      "    min_fraction: 1.0\n",
      "    min_count: 1\n",
      "  }\n",
      "}\n",
      "feature {\n",
      "  name: \"Hillshade_9am\"\n",
      "  value_count {\n",
      "    min: 1\n",
      "    max: 1\n",
      "  }\n",
      "  type: INT\n",
      "  presence {\n",
      "    min_fraction: 1.0\n",
      "    min_count: 1\n",
      "  }\n",
      "}\n",
      "feature {\n",
      "  name: \"Hillshade_Noon\"\n",
      "  value_count {\n",
      "    min: 1\n",
      "    max: 1\n",
      "  }\n",
      "  type: INT\n",
      "  presence {\n",
      "    min_fraction: 1.0\n",
      "    min_count: 1\n",
      "  }\n",
      "}\n",
      "feature {\n",
      "  name: \"Horizontal_Distance_To_Fire_Points\"\n",
      "  value_count {\n",
      "    min: 1\n",
      "    max: 1\n",
      "  }\n",
      "  type: INT\n",
      "  presence {\n",
      "    min_fraction: 1.0\n",
      "    min_count: 1\n",
      "  }\n",
      "}\n",
      "feature {\n",
      "  name: \"Horizontal_Distance_To_Hydrology\"\n",
      "  value_count {\n",
      "    min: 1\n",
      "    max: 1\n",
      "  }\n",
      "  type: INT\n",
      "  presence {\n",
      "    min_fraction: 1.0\n",
      "    min_count: 1\n",
      "  }\n",
      "}\n",
      "feature {\n",
      "  name: \"Horizontal_Distance_To_Roadways\"\n",
      "  value_count {\n",
      "    min: 1\n",
      "    max: 1\n",
      "  }\n",
      "  type: INT\n",
      "  presence {\n",
      "    min_fraction: 1.0\n",
      "    min_count: 1\n",
      "  }\n",
      "}\n",
      "feature {\n",
      "  name: \"Slope\"\n",
      "  value_count {\n",
      "    min: 1\n",
      "    max: 1\n",
      "  }\n",
      "  type: INT\n",
      "  presence {\n",
      "    min_fraction: 1.0\n",
      "    min_count: 1\n",
      "  }\n",
      "}\n",
      "feature {\n",
      "  name: \"Soil_Type\"\n",
      "  value_count {\n",
      "    min: 1\n",
      "    max: 1\n",
      "  }\n",
      "  type: BYTES\n",
      "  domain: \"Soil_Type\"\n",
      "  presence {\n",
      "    min_fraction: 1.0\n",
      "    min_count: 1\n",
      "  }\n",
      "}\n",
      "feature {\n",
      "  name: \"Vertical_Distance_To_Hydrology\"\n",
      "  value_count {\n",
      "    min: 1\n",
      "    max: 1\n",
      "  }\n",
      "  type: INT\n",
      "  presence {\n",
      "    min_fraction: 1.0\n",
      "    min_count: 1\n",
      "  }\n",
      "}\n",
      "feature {\n",
      "  name: \"Wilderness_Area\"\n",
      "  value_count {\n",
      "    min: 1\n",
      "    max: 1\n",
      "  }\n",
      "  type: BYTES\n",
      "  domain: \"Wilderness_Area\"\n",
      "  presence {\n",
      "    min_fraction: 1.0\n",
      "    min_count: 1\n",
      "  }\n",
      "}\n",
      "string_domain {\n",
      "  name: \"Soil_Type\"\n",
      "  value: \"C2702\"\n",
      "  value: \"C2703\"\n",
      "  value: \"C2704\"\n",
      "  value: \"C2705\"\n",
      "  value: \"C2706\"\n",
      "  value: \"C2717\"\n",
      "  value: \"C3501\"\n",
      "  value: \"C3502\"\n",
      "  value: \"C4201\"\n",
      "  value: \"C4703\"\n",
      "  value: \"C4704\"\n",
      "  value: \"C4744\"\n",
      "  value: \"C4758\"\n",
      "  value: \"C5101\"\n",
      "  value: \"C5151\"\n",
      "  value: \"C6101\"\n",
      "  value: \"C6102\"\n",
      "  value: \"C6731\"\n",
      "  value: \"C7101\"\n",
      "  value: \"C7102\"\n",
      "  value: \"C7103\"\n",
      "  value: \"C7201\"\n",
      "  value: \"C7202\"\n",
      "  value: \"C7700\"\n",
      "  value: \"C7701\"\n",
      "  value: \"C7702\"\n",
      "  value: \"C7709\"\n",
      "  value: \"C7710\"\n",
      "  value: \"C7745\"\n",
      "  value: \"C7746\"\n",
      "  value: \"C7755\"\n",
      "  value: \"C7756\"\n",
      "  value: \"C7757\"\n",
      "  value: \"C7790\"\n",
      "  value: \"C8703\"\n",
      "  value: \"C8707\"\n",
      "  value: \"C8708\"\n",
      "  value: \"C8771\"\n",
      "  value: \"C8772\"\n",
      "  value: \"C8776\"\n",
      "}\n",
      "string_domain {\n",
      "  name: \"Wilderness_Area\"\n",
      "  value: \"Cache\"\n",
      "  value: \"Commanche\"\n",
      "  value: \"Neota\"\n",
      "  value: \"Rawah\"\n",
      "}\n",
      "} belongs to. Thus noop.\n",
      "INFO:absl:Feature Aspect has no shape. Setting to VarLenSparseTensor.\n",
      "INFO:absl:Feature Cover_Type has no shape. Setting to VarLenSparseTensor.\n",
      "INFO:absl:Feature Elevation has no shape. Setting to VarLenSparseTensor.\n",
      "INFO:absl:Feature Hillshade_3pm has no shape. Setting to VarLenSparseTensor.\n",
      "INFO:absl:Feature Hillshade_9am has no shape. Setting to VarLenSparseTensor.\n",
      "INFO:absl:Feature Hillshade_Noon has no shape. Setting to VarLenSparseTensor.\n",
      "INFO:absl:Feature Horizontal_Distance_To_Fire_Points has no shape. Setting to VarLenSparseTensor.\n",
      "INFO:absl:Feature Horizontal_Distance_To_Hydrology has no shape. Setting to VarLenSparseTensor.\n",
      "INFO:absl:Feature Horizontal_Distance_To_Roadways has no shape. Setting to VarLenSparseTensor.\n",
      "INFO:absl:Feature Slope has no shape. Setting to VarLenSparseTensor.\n",
      "INFO:absl:Feature Soil_Type has no shape. Setting to VarLenSparseTensor.\n",
      "INFO:absl:Feature Vertical_Distance_To_Hydrology has no shape. Setting to VarLenSparseTensor.\n",
      "INFO:absl:Feature Wilderness_Area has no shape. Setting to VarLenSparseTensor.\n"
     ]
    },
    {
     "name": "stdout",
     "output_type": "stream",
     "text": [
      "WARNING:tensorflow:Tensorflow version (2.3.0) found. Note that Tensorflow Transform support for TF 2.0 is currently in beta, and features such as tf.function may not work as intended. \n"
     ]
    },
    {
     "name": "stderr",
     "output_type": "stream",
     "text": [
      "WARNING:apache_beam.utils.interactive_utils:Failed to alter the label of a transform with the ipython prompt metadata. Cannot figure out the pipeline that the given pvalueish ((<PCollection[TFXIOReadAndDecode[TransformIndex0]/RawRecordToRecordBatch/CollectRecordBatchTelemetry/ProfileRecordBatches.None] at 0x7fc0b6247d50>, TensorAdapterConfig(arrow_schema=Aspect: large_list<item: int64>\n",
      "  child 0, item: int64\n",
      "Cover_Type: large_list<item: int64>\n",
      "  child 0, item: int64\n",
      "Elevation: large_list<item: int64>\n",
      "  child 0, item: int64\n",
      "Hillshade_3pm: large_list<item: int64>\n",
      "  child 0, item: int64\n",
      "Hillshade_9am: large_list<item: int64>\n",
      "  child 0, item: int64\n",
      "Hillshade_Noon: large_list<item: int64>\n",
      "  child 0, item: int64\n",
      "Horizontal_Distance_To_Fire_Points: large_list<item: int64>\n",
      "  child 0, item: int64\n",
      "Horizontal_Distance_To_Hydrology: large_list<item: int64>\n",
      "  child 0, item: int64\n",
      "Horizontal_Distance_To_Roadways: large_list<item: int64>\n",
      "  child 0, item: int64\n",
      "Slope: large_list<item: int64>\n",
      "  child 0, item: int64\n",
      "Soil_Type: large_list<item: large_binary>\n",
      "  child 0, item: large_binary\n",
      "Vertical_Distance_To_Hydrology: large_list<item: int64>\n",
      "  child 0, item: int64\n",
      "Wilderness_Area: large_list<item: large_binary>\n",
      "  child 0, item: large_binary, tensor_representations={'Cover_Type': varlen_sparse_tensor {\n",
      "  column_name: \"Cover_Type\"\n",
      "}\n",
      ", 'Soil_Type': varlen_sparse_tensor {\n",
      "  column_name: \"Soil_Type\"\n",
      "}\n",
      ", 'Hillshade_3pm': varlen_sparse_tensor {\n",
      "  column_name: \"Hillshade_3pm\"\n",
      "}\n",
      ", 'Hillshade_Noon': varlen_sparse_tensor {\n",
      "  column_name: \"Hillshade_Noon\"\n",
      "}\n",
      ", 'Horizontal_Distance_To_Fire_Points': varlen_sparse_tensor {\n",
      "  column_name: \"Horizontal_Distance_To_Fire_Points\"\n",
      "}\n",
      ", 'Hillshade_9am': varlen_sparse_tensor {\n",
      "  column_name: \"Hillshade_9am\"\n",
      "}\n",
      ", 'Aspect': varlen_sparse_tensor {\n",
      "  column_name: \"Aspect\"\n",
      "}\n",
      ", 'Horizontal_Distance_To_Hydrology': varlen_sparse_tensor {\n",
      "  column_name: \"Horizontal_Distance_To_Hydrology\"\n",
      "}\n",
      ", 'Elevation': varlen_sparse_tensor {\n",
      "  column_name: \"Elevation\"\n",
      "}\n",
      ", 'Horizontal_Distance_To_Roadways': varlen_sparse_tensor {\n",
      "  column_name: \"Horizontal_Distance_To_Roadways\"\n",
      "}\n",
      ", 'Slope': varlen_sparse_tensor {\n",
      "  column_name: \"Slope\"\n",
      "}\n",
      ", 'Wilderness_Area': varlen_sparse_tensor {\n",
      "  column_name: \"Wilderness_Area\"\n",
      "}\n",
      ", 'Vertical_Distance_To_Hydrology': varlen_sparse_tensor {\n",
      "  column_name: \"Vertical_Distance_To_Hydrology\"\n",
      "}\n",
      "}, original_type_specs={'Aspect': SparseTensorSpec(TensorShape([None, None]), tf.int64), 'Cover_Type': SparseTensorSpec(TensorShape([None, None]), tf.int64), 'Elevation': SparseTensorSpec(TensorShape([None, None]), tf.int64), 'Hillshade_3pm': SparseTensorSpec(TensorShape([None, None]), tf.int64), 'Hillshade_9am': SparseTensorSpec(TensorShape([None, None]), tf.int64), 'Hillshade_Noon': SparseTensorSpec(TensorShape([None, None]), tf.int64), 'Horizontal_Distance_To_Fire_Points': SparseTensorSpec(TensorShape([None, None]), tf.int64), 'Horizontal_Distance_To_Hydrology': SparseTensorSpec(TensorShape([None, None]), tf.int64), 'Horizontal_Distance_To_Roadways': SparseTensorSpec(TensorShape([None, None]), tf.int64), 'Slope': SparseTensorSpec(TensorShape([None, None]), tf.int64), 'Soil_Type': SparseTensorSpec(TensorShape([None, None]), tf.string), 'Vertical_Distance_To_Hydrology': SparseTensorSpec(TensorShape([None, None]), tf.int64), 'Wilderness_Area': SparseTensorSpec(TensorShape([None, None]), tf.string)})), (<PCollection[Analyze/CreateSavedModel/BindTensors/ReplaceWithConstants.None] at 0x7fc0b75d6590>, BeamDatasetMetadata(dataset_metadata={'_schema': feature {\n",
      "  name: \"Aspect_xf\"\n",
      "  type: FLOAT\n",
      "  presence {\n",
      "    min_fraction: 1.0\n",
      "  }\n",
      "  shape {\n",
      "  }\n",
      "}\n",
      "feature {\n",
      "  name: \"Cover_Type_xf\"\n",
      "  type: INT\n",
      "  presence {\n",
      "    min_fraction: 1.0\n",
      "  }\n",
      "  shape {\n",
      "  }\n",
      "}\n",
      "feature {\n",
      "  name: \"Elevation_xf\"\n",
      "  type: FLOAT\n",
      "  presence {\n",
      "    min_fraction: 1.0\n",
      "  }\n",
      "  shape {\n",
      "  }\n",
      "}\n",
      "feature {\n",
      "  name: \"Hillshade_3pm_xf\"\n",
      "  type: FLOAT\n",
      "  presence {\n",
      "    min_fraction: 1.0\n",
      "  }\n",
      "  shape {\n",
      "  }\n",
      "}\n",
      "feature {\n",
      "  name: \"Hillshade_9am_xf\"\n",
      "  type: FLOAT\n",
      "  presence {\n",
      "    min_fraction: 1.0\n",
      "  }\n",
      "  shape {\n",
      "  }\n",
      "}\n",
      "feature {\n",
      "  name: \"Hillshade_Noon_xf\"\n",
      "  type: FLOAT\n",
      "  presence {\n",
      "    min_fraction: 1.0\n",
      "  }\n",
      "  shape {\n",
      "  }\n",
      "}\n",
      "feature {\n",
      "  name: \"Horizontal_Distance_To_Fire_Points_xf\"\n",
      "  type: FLOAT\n",
      "  presence {\n",
      "    min_fraction: 1.0\n",
      "  }\n",
      "  shape {\n",
      "  }\n",
      "}\n",
      "feature {\n",
      "  name: \"Horizontal_Distance_To_Hydrology_xf\"\n",
      "  type: FLOAT\n",
      "  presence {\n",
      "    min_fraction: 1.0\n",
      "  }\n",
      "  shape {\n",
      "  }\n",
      "}\n",
      "feature {\n",
      "  name: \"Horizontal_Distance_To_Roadways_xf\"\n",
      "  type: FLOAT\n",
      "  presence {\n",
      "    min_fraction: 1.0\n",
      "  }\n",
      "  shape {\n",
      "  }\n",
      "}\n",
      "feature {\n",
      "  name: \"Slope_xf\"\n",
      "  type: FLOAT\n",
      "  presence {\n",
      "    min_fraction: 1.0\n",
      "  }\n",
      "  shape {\n",
      "  }\n",
      "}\n",
      "feature {\n",
      "  name: \"Soil_Type_xf\"\n",
      "  type: INT\n",
      "  int_domain {\n",
      "    is_categorical: true\n",
      "  }\n",
      "  presence {\n",
      "    min_fraction: 1.0\n",
      "  }\n",
      "  shape {\n",
      "  }\n",
      "}\n",
      "feature {\n",
      "  name: \"Vertical_Distance_To_Hydrology_xf\"\n",
      "  type: FLOAT\n",
      "  presence {\n",
      "    min_fraction: 1.0\n",
      "  }\n",
      "  shape {\n",
      "  }\n",
      "}\n",
      "feature {\n",
      "  name: \"Wilderness_Area_xf\"\n",
      "  type: INT\n",
      "  int_domain {\n",
      "    is_categorical: true\n",
      "  }\n",
      "  presence {\n",
      "    min_fraction: 1.0\n",
      "  }\n",
      "  shape {\n",
      "  }\n",
      "}\n",
      "}, deferred_metadata=<PCollection[Analyze/ComputeDeferredMetadata.None] at 0x7fc0a01e4dd0>))) belongs to. Thus noop.\n",
      "WARNING:apache_beam.typehints.typehints:Ignoring send_type hint: <class 'NoneType'>\n",
      "WARNING:apache_beam.typehints.typehints:Ignoring return_type hint: <class 'NoneType'>\n",
      "WARNING:apache_beam.typehints.typehints:Ignoring send_type hint: <class 'NoneType'>\n",
      "WARNING:apache_beam.typehints.typehints:Ignoring return_type hint: <class 'NoneType'>\n",
      "WARNING:apache_beam.typehints.typehints:Ignoring send_type hint: <class 'NoneType'>\n",
      "WARNING:apache_beam.typehints.typehints:Ignoring return_type hint: <class 'NoneType'>\n",
      "INFO:absl:Feature Aspect has no shape. Setting to VarLenSparseTensor.\n",
      "INFO:absl:Feature Cover_Type has no shape. Setting to VarLenSparseTensor.\n",
      "INFO:absl:Feature Elevation has no shape. Setting to VarLenSparseTensor.\n",
      "INFO:absl:Feature Hillshade_3pm has no shape. Setting to VarLenSparseTensor.\n",
      "INFO:absl:Feature Hillshade_9am has no shape. Setting to VarLenSparseTensor.\n",
      "INFO:absl:Feature Hillshade_Noon has no shape. Setting to VarLenSparseTensor.\n",
      "INFO:absl:Feature Horizontal_Distance_To_Fire_Points has no shape. Setting to VarLenSparseTensor.\n",
      "INFO:absl:Feature Horizontal_Distance_To_Hydrology has no shape. Setting to VarLenSparseTensor.\n",
      "INFO:absl:Feature Horizontal_Distance_To_Roadways has no shape. Setting to VarLenSparseTensor.\n",
      "INFO:absl:Feature Slope has no shape. Setting to VarLenSparseTensor.\n",
      "INFO:absl:Feature Soil_Type has no shape. Setting to VarLenSparseTensor.\n",
      "INFO:absl:Feature Vertical_Distance_To_Hydrology has no shape. Setting to VarLenSparseTensor.\n",
      "INFO:absl:Feature Wilderness_Area has no shape. Setting to VarLenSparseTensor.\n"
     ]
    },
    {
     "name": "stdout",
     "output_type": "stream",
     "text": [
      "WARNING:tensorflow:Tensorflow version (2.3.0) found. Note that Tensorflow Transform support for TF 2.0 is currently in beta, and features such as tf.function may not work as intended. \n"
     ]
    },
    {
     "name": "stderr",
     "output_type": "stream",
     "text": [
      "WARNING:apache_beam.utils.interactive_utils:Failed to alter the label of a transform with the ipython prompt metadata. Cannot figure out the pipeline that the given pvalueish ((<PCollection[TFXIOReadAndDecode[TransformIndex1]/RawRecordToRecordBatch/CollectRecordBatchTelemetry/ProfileRecordBatches.None] at 0x7fc0b7503710>, TensorAdapterConfig(arrow_schema=Aspect: large_list<item: int64>\n",
      "  child 0, item: int64\n",
      "Cover_Type: large_list<item: int64>\n",
      "  child 0, item: int64\n",
      "Elevation: large_list<item: int64>\n",
      "  child 0, item: int64\n",
      "Hillshade_3pm: large_list<item: int64>\n",
      "  child 0, item: int64\n",
      "Hillshade_9am: large_list<item: int64>\n",
      "  child 0, item: int64\n",
      "Hillshade_Noon: large_list<item: int64>\n",
      "  child 0, item: int64\n",
      "Horizontal_Distance_To_Fire_Points: large_list<item: int64>\n",
      "  child 0, item: int64\n",
      "Horizontal_Distance_To_Hydrology: large_list<item: int64>\n",
      "  child 0, item: int64\n",
      "Horizontal_Distance_To_Roadways: large_list<item: int64>\n",
      "  child 0, item: int64\n",
      "Slope: large_list<item: int64>\n",
      "  child 0, item: int64\n",
      "Soil_Type: large_list<item: large_binary>\n",
      "  child 0, item: large_binary\n",
      "Vertical_Distance_To_Hydrology: large_list<item: int64>\n",
      "  child 0, item: int64\n",
      "Wilderness_Area: large_list<item: large_binary>\n",
      "  child 0, item: large_binary, tensor_representations={'Hillshade_9am': varlen_sparse_tensor {\n",
      "  column_name: \"Hillshade_9am\"\n",
      "}\n",
      ", 'Aspect': varlen_sparse_tensor {\n",
      "  column_name: \"Aspect\"\n",
      "}\n",
      ", 'Horizontal_Distance_To_Hydrology': varlen_sparse_tensor {\n",
      "  column_name: \"Horizontal_Distance_To_Hydrology\"\n",
      "}\n",
      ", 'Elevation': varlen_sparse_tensor {\n",
      "  column_name: \"Elevation\"\n",
      "}\n",
      ", 'Horizontal_Distance_To_Roadways': varlen_sparse_tensor {\n",
      "  column_name: \"Horizontal_Distance_To_Roadways\"\n",
      "}\n",
      ", 'Slope': varlen_sparse_tensor {\n",
      "  column_name: \"Slope\"\n",
      "}\n",
      ", 'Wilderness_Area': varlen_sparse_tensor {\n",
      "  column_name: \"Wilderness_Area\"\n",
      "}\n",
      ", 'Vertical_Distance_To_Hydrology': varlen_sparse_tensor {\n",
      "  column_name: \"Vertical_Distance_To_Hydrology\"\n",
      "}\n",
      ", 'Cover_Type': varlen_sparse_tensor {\n",
      "  column_name: \"Cover_Type\"\n",
      "}\n",
      ", 'Soil_Type': varlen_sparse_tensor {\n",
      "  column_name: \"Soil_Type\"\n",
      "}\n",
      ", 'Hillshade_3pm': varlen_sparse_tensor {\n",
      "  column_name: \"Hillshade_3pm\"\n",
      "}\n",
      ", 'Hillshade_Noon': varlen_sparse_tensor {\n",
      "  column_name: \"Hillshade_Noon\"\n",
      "}\n",
      ", 'Horizontal_Distance_To_Fire_Points': varlen_sparse_tensor {\n",
      "  column_name: \"Horizontal_Distance_To_Fire_Points\"\n",
      "}\n",
      "}, original_type_specs={'Aspect': SparseTensorSpec(TensorShape([None, None]), tf.int64), 'Cover_Type': SparseTensorSpec(TensorShape([None, None]), tf.int64), 'Elevation': SparseTensorSpec(TensorShape([None, None]), tf.int64), 'Hillshade_3pm': SparseTensorSpec(TensorShape([None, None]), tf.int64), 'Hillshade_9am': SparseTensorSpec(TensorShape([None, None]), tf.int64), 'Hillshade_Noon': SparseTensorSpec(TensorShape([None, None]), tf.int64), 'Horizontal_Distance_To_Fire_Points': SparseTensorSpec(TensorShape([None, None]), tf.int64), 'Horizontal_Distance_To_Hydrology': SparseTensorSpec(TensorShape([None, None]), tf.int64), 'Horizontal_Distance_To_Roadways': SparseTensorSpec(TensorShape([None, None]), tf.int64), 'Slope': SparseTensorSpec(TensorShape([None, None]), tf.int64), 'Soil_Type': SparseTensorSpec(TensorShape([None, None]), tf.string), 'Vertical_Distance_To_Hydrology': SparseTensorSpec(TensorShape([None, None]), tf.int64), 'Wilderness_Area': SparseTensorSpec(TensorShape([None, None]), tf.string)})), (<PCollection[Analyze/CreateSavedModel/BindTensors/ReplaceWithConstants.None] at 0x7fc0b75d6590>, BeamDatasetMetadata(dataset_metadata={'_schema': feature {\n",
      "  name: \"Aspect_xf\"\n",
      "  type: FLOAT\n",
      "  presence {\n",
      "    min_fraction: 1.0\n",
      "  }\n",
      "  shape {\n",
      "  }\n",
      "}\n",
      "feature {\n",
      "  name: \"Cover_Type_xf\"\n",
      "  type: INT\n",
      "  presence {\n",
      "    min_fraction: 1.0\n",
      "  }\n",
      "  shape {\n",
      "  }\n",
      "}\n",
      "feature {\n",
      "  name: \"Elevation_xf\"\n",
      "  type: FLOAT\n",
      "  presence {\n",
      "    min_fraction: 1.0\n",
      "  }\n",
      "  shape {\n",
      "  }\n",
      "}\n",
      "feature {\n",
      "  name: \"Hillshade_3pm_xf\"\n",
      "  type: FLOAT\n",
      "  presence {\n",
      "    min_fraction: 1.0\n",
      "  }\n",
      "  shape {\n",
      "  }\n",
      "}\n",
      "feature {\n",
      "  name: \"Hillshade_9am_xf\"\n",
      "  type: FLOAT\n",
      "  presence {\n",
      "    min_fraction: 1.0\n",
      "  }\n",
      "  shape {\n",
      "  }\n",
      "}\n",
      "feature {\n",
      "  name: \"Hillshade_Noon_xf\"\n",
      "  type: FLOAT\n",
      "  presence {\n",
      "    min_fraction: 1.0\n",
      "  }\n",
      "  shape {\n",
      "  }\n",
      "}\n",
      "feature {\n",
      "  name: \"Horizontal_Distance_To_Fire_Points_xf\"\n",
      "  type: FLOAT\n",
      "  presence {\n",
      "    min_fraction: 1.0\n",
      "  }\n",
      "  shape {\n",
      "  }\n",
      "}\n",
      "feature {\n",
      "  name: \"Horizontal_Distance_To_Hydrology_xf\"\n",
      "  type: FLOAT\n",
      "  presence {\n",
      "    min_fraction: 1.0\n",
      "  }\n",
      "  shape {\n",
      "  }\n",
      "}\n",
      "feature {\n",
      "  name: \"Horizontal_Distance_To_Roadways_xf\"\n",
      "  type: FLOAT\n",
      "  presence {\n",
      "    min_fraction: 1.0\n",
      "  }\n",
      "  shape {\n",
      "  }\n",
      "}\n",
      "feature {\n",
      "  name: \"Slope_xf\"\n",
      "  type: FLOAT\n",
      "  presence {\n",
      "    min_fraction: 1.0\n",
      "  }\n",
      "  shape {\n",
      "  }\n",
      "}\n",
      "feature {\n",
      "  name: \"Soil_Type_xf\"\n",
      "  type: INT\n",
      "  int_domain {\n",
      "    is_categorical: true\n",
      "  }\n",
      "  presence {\n",
      "    min_fraction: 1.0\n",
      "  }\n",
      "  shape {\n",
      "  }\n",
      "}\n",
      "feature {\n",
      "  name: \"Vertical_Distance_To_Hydrology_xf\"\n",
      "  type: FLOAT\n",
      "  presence {\n",
      "    min_fraction: 1.0\n",
      "  }\n",
      "  shape {\n",
      "  }\n",
      "}\n",
      "feature {\n",
      "  name: \"Wilderness_Area_xf\"\n",
      "  type: INT\n",
      "  int_domain {\n",
      "    is_categorical: true\n",
      "  }\n",
      "  presence {\n",
      "    min_fraction: 1.0\n",
      "  }\n",
      "  shape {\n",
      "  }\n",
      "}\n",
      "}, deferred_metadata=<PCollection[Analyze/ComputeDeferredMetadata.None] at 0x7fc0a01e4dd0>))) belongs to. Thus noop.\n",
      "WARNING:apache_beam.typehints.typehints:Ignoring send_type hint: <class 'NoneType'>\n",
      "WARNING:apache_beam.typehints.typehints:Ignoring return_type hint: <class 'NoneType'>\n",
      "WARNING:apache_beam.typehints.typehints:Ignoring send_type hint: <class 'NoneType'>\n",
      "WARNING:apache_beam.typehints.typehints:Ignoring return_type hint: <class 'NoneType'>\n",
      "WARNING:apache_beam.typehints.typehints:Ignoring send_type hint: <class 'NoneType'>\n",
      "WARNING:apache_beam.typehints.typehints:Ignoring return_type hint: <class 'NoneType'>\n"
     ]
    },
    {
     "name": "stdout",
     "output_type": "stream",
     "text": [
      "INFO:tensorflow:Saver not created because there are no variables in the graph to restore\n",
      "INFO:tensorflow:Saver not created because there are no variables in the graph to restore\n",
      "INFO:tensorflow:Assets added to graph.\n",
      "INFO:tensorflow:Assets written to: /home/jupyter/pipeline-root/covertype-end-to-end/Transform/transform_graph/6/.temp_path/tftransform_tmp/5790db65ed174aff878bab9e60ebdf9e/assets\n",
      "INFO:tensorflow:SavedModel written to: /home/jupyter/pipeline-root/covertype-end-to-end/Transform/transform_graph/6/.temp_path/tftransform_tmp/5790db65ed174aff878bab9e60ebdf9e/saved_model.pb\n",
      "WARNING:tensorflow:Expected binary or unicode string, got type_url: \"type.googleapis.com/tensorflow.AssetFileDef\"\n",
      "value: \"\\n\\013\\n\\tConst_3:0\\022\\017Wilderness_Area\"\n",
      "\n",
      "WARNING:tensorflow:Expected binary or unicode string, got type_url: \"type.googleapis.com/tensorflow.AssetFileDef\"\n",
      "value: \"\\n\\013\\n\\tConst_5:0\\022\\tSoil_Type\"\n",
      "\n",
      "INFO:tensorflow:Saver not created because there are no variables in the graph to restore\n",
      "WARNING:tensorflow:Expected binary or unicode string, got type_url: \"type.googleapis.com/tensorflow.AssetFileDef\"\n",
      "value: \"\\n\\013\\n\\tConst_3:0\\022\\017Wilderness_Area\"\n",
      "\n",
      "WARNING:tensorflow:Expected binary or unicode string, got type_url: \"type.googleapis.com/tensorflow.AssetFileDef\"\n",
      "value: \"\\n\\013\\n\\tConst_5:0\\022\\tSoil_Type\"\n",
      "\n",
      "INFO:tensorflow:Saver not created because there are no variables in the graph to restore\n",
      "WARNING:tensorflow:Expected binary or unicode string, got type_url: \"type.googleapis.com/tensorflow.AssetFileDef\"\n",
      "value: \"\\n\\013\\n\\tConst_3:0\\022\\017Wilderness_Area\"\n",
      "\n",
      "WARNING:tensorflow:Expected binary or unicode string, got type_url: \"type.googleapis.com/tensorflow.AssetFileDef\"\n",
      "value: \"\\n\\013\\n\\tConst_5:0\\022\\tSoil_Type\"\n",
      "\n",
      "INFO:tensorflow:Saver not created because there are no variables in the graph to restore\n"
     ]
    },
    {
     "name": "stderr",
     "output_type": "stream",
     "text": [
      "INFO:absl:Running publisher for Transform\n",
      "INFO:absl:MetadataStore with DB connection initialized\n",
      "INFO:absl:Component Transform is finished.\n",
      "INFO:absl:Component Trainer is running.\n",
      "INFO:absl:Running driver for Trainer\n",
      "INFO:absl:MetadataStore with DB connection initialized\n",
      "INFO:absl:Running executor for Trainer\n",
      "INFO:absl:Train on the 'train' split when train_args.splits is not set.\n",
      "INFO:absl:Evaluate on the 'eval' split when eval_args.splits is not set.\n",
      "INFO:absl:Training model.\n",
      "INFO:absl:Model: \"functional_1\"\n",
      "INFO:absl:__________________________________________________________________________________________________\n",
      "INFO:absl:Layer (type)                    Output Shape         Param #     Connected to                     \n",
      "INFO:absl:==================================================================================================\n",
      "INFO:absl:Aspect_xf (InputLayer)          [(None,)]            0                                            \n",
      "INFO:absl:__________________________________________________________________________________________________\n",
      "INFO:absl:Elevation_xf (InputLayer)       [(None,)]            0                                            \n",
      "INFO:absl:__________________________________________________________________________________________________\n",
      "INFO:absl:Hillshade_3pm_xf (InputLayer)   [(None,)]            0                                            \n",
      "INFO:absl:__________________________________________________________________________________________________\n",
      "INFO:absl:Hillshade_9am_xf (InputLayer)   [(None,)]            0                                            \n",
      "INFO:absl:__________________________________________________________________________________________________\n",
      "INFO:absl:Hillshade_Noon_xf (InputLayer)  [(None,)]            0                                            \n",
      "INFO:absl:__________________________________________________________________________________________________\n",
      "INFO:absl:Horizontal_Distance_To_Fire_Poi [(None,)]            0                                            \n",
      "INFO:absl:__________________________________________________________________________________________________\n",
      "INFO:absl:Horizontal_Distance_To_Hydrolog [(None,)]            0                                            \n",
      "INFO:absl:__________________________________________________________________________________________________\n",
      "INFO:absl:Horizontal_Distance_To_Roadways [(None,)]            0                                            \n",
      "INFO:absl:__________________________________________________________________________________________________\n",
      "INFO:absl:Slope_xf (InputLayer)           [(None,)]            0                                            \n",
      "INFO:absl:__________________________________________________________________________________________________\n",
      "INFO:absl:Soil_Type_xf (InputLayer)       [(None,)]            0                                            \n",
      "INFO:absl:__________________________________________________________________________________________________\n",
      "INFO:absl:Vertical_Distance_To_Hydrology_ [(None,)]            0                                            \n",
      "INFO:absl:__________________________________________________________________________________________________\n",
      "INFO:absl:Wilderness_Area_xf (InputLayer) [(None,)]            0                                            \n",
      "INFO:absl:__________________________________________________________________________________________________\n",
      "INFO:absl:dense_features (DenseFeatures)  (None, 10)           0           Aspect_xf[0][0]                  \n",
      "INFO:absl:                                                                 Elevation_xf[0][0]               \n",
      "INFO:absl:                                                                 Hillshade_3pm_xf[0][0]           \n",
      "INFO:absl:                                                                 Hillshade_9am_xf[0][0]           \n",
      "INFO:absl:                                                                 Hillshade_Noon_xf[0][0]          \n",
      "INFO:absl:                                                                 Horizontal_Distance_To_Fire_Point\n",
      "INFO:absl:                                                                 Horizontal_Distance_To_Hydrology_\n",
      "INFO:absl:                                                                 Horizontal_Distance_To_Roadways_x\n",
      "INFO:absl:                                                                 Slope_xf[0][0]                   \n",
      "INFO:absl:                                                                 Soil_Type_xf[0][0]               \n",
      "INFO:absl:                                                                 Vertical_Distance_To_Hydrology_xf\n",
      "INFO:absl:                                                                 Wilderness_Area_xf[0][0]         \n",
      "INFO:absl:__________________________________________________________________________________________________\n",
      "INFO:absl:dense (Dense)                   (None, 16)           176         dense_features[0][0]             \n",
      "INFO:absl:__________________________________________________________________________________________________\n",
      "INFO:absl:dense_1 (Dense)                 (None, 8)            136         dense[0][0]                      \n",
      "INFO:absl:__________________________________________________________________________________________________\n",
      "INFO:absl:dense_features_1 (DenseFeatures (None, 46)           0           Aspect_xf[0][0]                  \n",
      "INFO:absl:                                                                 Elevation_xf[0][0]               \n",
      "INFO:absl:                                                                 Hillshade_3pm_xf[0][0]           \n",
      "INFO:absl:                                                                 Hillshade_9am_xf[0][0]           \n",
      "INFO:absl:                                                                 Hillshade_Noon_xf[0][0]          \n",
      "INFO:absl:                                                                 Horizontal_Distance_To_Fire_Point\n",
      "INFO:absl:                                                                 Horizontal_Distance_To_Hydrology_\n",
      "INFO:absl:                                                                 Horizontal_Distance_To_Roadways_x\n",
      "INFO:absl:                                                                 Slope_xf[0][0]                   \n",
      "INFO:absl:                                                                 Soil_Type_xf[0][0]               \n",
      "INFO:absl:                                                                 Vertical_Distance_To_Hydrology_xf\n",
      "INFO:absl:                                                                 Wilderness_Area_xf[0][0]         \n",
      "INFO:absl:__________________________________________________________________________________________________\n",
      "INFO:absl:concatenate (Concatenate)       (None, 54)           0           dense_1[0][0]                    \n",
      "INFO:absl:                                                                 dense_features_1[0][0]           \n",
      "INFO:absl:__________________________________________________________________________________________________\n",
      "INFO:absl:dense_2 (Dense)                 (None, 7)            385         concatenate[0][0]                \n",
      "INFO:absl:==================================================================================================\n",
      "INFO:absl:Total params: 697\n",
      "INFO:absl:Trainable params: 697\n",
      "INFO:absl:Non-trainable params: 0\n",
      "INFO:absl:__________________________________________________________________________________________________\n"
     ]
    },
    {
     "name": "stdout",
     "output_type": "stream",
     "text": [
      "WARNING:tensorflow:From /opt/conda/lib/python3.7/site-packages/tensorflow/python/ops/summary_ops_v2.py:1277: stop (from tensorflow.python.eager.profiler) is deprecated and will be removed after 2020-07-01.\n",
      "Instructions for updating:\n",
      "use `tf.profiler.experimental.stop` instead.\n",
      "WARNING:tensorflow:Callbacks method `on_train_batch_end` is slow compared to the batch time (batch time: 0.0069s vs `on_train_batch_end` time: 0.0310s). Check your callbacks.\n",
      "5000/5000 - 26s - loss: 0.7066 - sparse_categorical_accuracy: 0.7040 - val_loss: 0.6493 - val_sparse_categorical_accuracy: 0.7203\n",
      "INFO:tensorflow:Saver not created because there are no variables in the graph to restore\n",
      "WARNING:tensorflow:From /opt/conda/lib/python3.7/site-packages/tensorflow/python/training/tracking/tracking.py:111: Model.state_updates (from tensorflow.python.keras.engine.training) is deprecated and will be removed in a future version.\n",
      "Instructions for updating:\n",
      "This property should not be used in TensorFlow 2.0, as updates are applied automatically.\n",
      "WARNING:tensorflow:From /opt/conda/lib/python3.7/site-packages/tensorflow/python/training/tracking/tracking.py:111: Layer.updates (from tensorflow.python.keras.engine.base_layer) is deprecated and will be removed in a future version.\n",
      "Instructions for updating:\n",
      "This property should not be used in TensorFlow 2.0, as updates are applied automatically.\n",
      "INFO:tensorflow:Assets written to: /home/jupyter/pipeline-root/covertype-end-to-end/Trainer/model/7/serving_model_dir/assets\n"
     ]
    },
    {
     "name": "stderr",
     "output_type": "stream",
     "text": [
      "INFO:absl:Training complete. Model written to /home/jupyter/pipeline-root/covertype-end-to-end/Trainer/model/7/serving_model_dir. ModelRun written to /home/jupyter/pipeline-root/covertype-end-to-end/Trainer/model_run/7\n",
      "INFO:absl:Running publisher for Trainer\n",
      "INFO:absl:MetadataStore with DB connection initialized\n",
      "INFO:absl:Component Trainer is finished.\n",
      "INFO:absl:Component Evaluator is running.\n",
      "INFO:absl:Running driver for Evaluator\n",
      "INFO:absl:MetadataStore with DB connection initialized\n",
      "INFO:absl:Running executor for Evaluator\n",
      "INFO:absl:Request was made to ignore the baseline ModelSpec and any change thresholds. This is likely because a baseline model was not provided: updated_config=\n",
      "model_specs {\n",
      "  label_key: \"Cover_Type\"\n",
      "}\n",
      "slicing_specs {\n",
      "}\n",
      "slicing_specs {\n",
      "  feature_keys: \"Wilderness_Area\"\n",
      "}\n",
      "metrics_specs {\n",
      "  metrics {\n",
      "    class_name: \"SparseCategoricalAccuracy\"\n",
      "    threshold {\n",
      "      value_threshold {\n",
      "        lower_bound {\n",
      "          value: 0.5\n",
      "        }\n",
      "        upper_bound {\n",
      "          value: 0.99\n",
      "        }\n",
      "      }\n",
      "    }\n",
      "  }\n",
      "  metrics {\n",
      "    class_name: \"ExampleCount\"\n",
      "    threshold {\n",
      "    }\n",
      "  }\n",
      "}\n",
      "\n",
      "INFO:absl:Using /home/jupyter/pipeline-root/covertype-end-to-end/Trainer/model/7/serving_model_dir as  model.\n",
      "INFO:absl:The 'example_splits' parameter is not set, using 'eval' split.\n",
      "INFO:absl:Evaluating model.\n"
     ]
    },
    {
     "name": "stdout",
     "output_type": "stream",
     "text": [
      "WARNING:tensorflow:5 out of the last 5 calls to <function recreate_function.<locals>.restored_function_body at 0x7fc026956e60> triggered tf.function retracing. Tracing is expensive and the excessive number of tracings could be due to (1) creating @tf.function repeatedly in a loop, (2) passing tensors with different shapes, (3) passing Python objects instead of tensors. For (1), please define your @tf.function outside of the loop. For (2), @tf.function has experimental_relax_shapes=True option that relaxes argument shapes that can avoid unnecessary retracing. For (3), please refer to https://www.tensorflow.org/tutorials/customization/performance#python_or_tensor_args and https://www.tensorflow.org/api_docs/python/tf/function for  more details.\n"
     ]
    },
    {
     "name": "stderr",
     "output_type": "stream",
     "text": [
      "WARNING:absl:inputs do not match those expected by the model: input_names=['examples'], found in extracts={}\n",
      "INFO:absl:Evaluation complete. Results written to /home/jupyter/pipeline-root/covertype-end-to-end/Evaluator/evaluation/8.\n",
      "INFO:absl:Checking validation results.\n",
      "INFO:absl:Blessing result True written to /home/jupyter/pipeline-root/covertype-end-to-end/Evaluator/blessing/8.\n",
      "INFO:absl:Running publisher for Evaluator\n",
      "INFO:absl:MetadataStore with DB connection initialized\n",
      "INFO:absl:Component Evaluator is finished.\n",
      "INFO:absl:Component ExampleValidator.Data_Validation is running.\n",
      "INFO:absl:Running driver for ExampleValidator.Data_Validation\n",
      "INFO:absl:MetadataStore with DB connection initialized\n",
      "INFO:absl:Running executor for ExampleValidator.Data_Validation\n",
      "INFO:absl:Validating schema against the computed statistics for split train.\n",
      "INFO:absl:Validation complete for split train. Anomalies written to /home/jupyter/pipeline-root/covertype-end-to-end/ExampleValidator.Data_Validation/anomalies/9/train.\n",
      "INFO:absl:Validating schema against the computed statistics for split eval.\n",
      "INFO:absl:Validation complete for split eval. Anomalies written to /home/jupyter/pipeline-root/covertype-end-to-end/ExampleValidator.Data_Validation/anomalies/9/eval.\n",
      "INFO:absl:Running publisher for ExampleValidator.Data_Validation\n",
      "INFO:absl:MetadataStore with DB connection initialized\n",
      "INFO:absl:Component ExampleValidator.Data_Validation is finished.\n",
      "INFO:absl:Component Pusher is running.\n",
      "INFO:absl:Running driver for Pusher\n",
      "INFO:absl:MetadataStore with DB connection initialized\n",
      "INFO:absl:Running executor for Pusher\n",
      "INFO:absl:Model version: 1598932975\n",
      "INFO:absl:Model written to serving path gs://mlops-dev-workspace/model-store/covertype_classifier/1598932975.\n",
      "INFO:absl:Model pushed to /home/jupyter/pipeline-root/covertype-end-to-end/Pusher/pushed_model/10.\n",
      "INFO:absl:Running publisher for Pusher\n",
      "INFO:absl:MetadataStore with DB connection initialized\n",
      "INFO:absl:Component Pusher is finished.\n"
     ]
    }
   ],
   "source": [
    "BeamDagRunner().run(pipeline)"
   ]
  },
  {
   "cell_type": "markdown",
   "metadata": {},
   "source": [
    "### Examine the artifacts created by the pipeline run\n",
    "\n",
    "#### Visualize statistics"
   ]
  },
  {
   "cell_type": "code",
   "execution_count": 32,
   "metadata": {
    "tags": []
   },
   "outputs": [
    {
     "name": "stderr",
     "output_type": "stream",
     "text": [
      "INFO:absl:MetadataStore with DB connection initialized\n"
     ]
    },
    {
     "data": {
      "text/html": [
       "<iframe id='facets-iframe' width=\"100%\" height=\"500px\"></iframe>\n",
       "        <script>\n",
       "        facets_iframe = document.getElementById('facets-iframe');\n",
       "        facets_html = '<script src=\"https://cdnjs.cloudflare.com/ajax/libs/webcomponentsjs/1.3.3/webcomponents-lite.js\"><\\/script><link rel=\"import\" href=\"https://raw.githubusercontent.com/PAIR-code/facets/master/facets-dist/facets-jupyter.html\"><facets-overview proto-input=\"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\"></facets-overview>';\n",
       "        facets_iframe.srcdoc = facets_html;\n",
       "         facets_iframe.id = \"\";\n",
       "         setTimeout(() => {\n",
       "           facets_iframe.setAttribute('height', facets_iframe.contentWindow.document.body.offsetHeight + 'px')\n",
       "         }, 1500)\n",
       "         </script>"
      ],
      "text/plain": [
       "<IPython.core.display.HTML object>"
      ]
     },
     "metadata": {},
     "output_type": "display_data"
    }
   ],
   "source": [
    "with metadata.Metadata(connection_config) as store:\n",
    "    stats_artifacts = store.get_artifacts_by_type(ExampleStatistics.TYPE_NAME)\n",
    "\n",
    "stats_path = stats_artifacts[-1].uri\n",
    "train_stats_file = os.path.join(stats_path, 'train', 'stats_tfrecord')\n",
    "eval_stats_file = os.path.join(stats_path, 'eval', 'stats_tfrecord')\n",
    "train_stats = tfdv.load_statistics(train_stats_file)\n",
    "eval_stats = tfdv.load_statistics(eval_stats_file)\n",
    "tfdv.visualize_statistics(lhs_statistics=eval_stats, rhs_statistics=train_stats,\n",
    "                          lhs_name='EVAL_DATASET', rhs_name='TRAIN_DATASET')"
   ]
  },
  {
   "cell_type": "markdown",
   "metadata": {},
   "source": [
    "#### Visualize model evaluations"
   ]
  },
  {
   "cell_type": "code",
   "execution_count": 33,
   "metadata": {
    "tags": []
   },
   "outputs": [
    {
     "name": "stderr",
     "output_type": "stream",
     "text": [
      "INFO:absl:MetadataStore with DB connection initialized\n"
     ]
    },
    {
     "data": {
      "application/vnd.jupyter.widget-view+json": {
       "model_id": "37cb4b691eb440f693656c7ba20747d3",
       "version_major": 2,
       "version_minor": 0
      },
      "text/plain": [
       "SlicingMetricsViewer(config={'weightedExamplesColumn': 'example_count'}, data=[{'slice': 'Wilderness_Area:Cach…"
      ]
     },
     "metadata": {},
     "output_type": "display_data"
    }
   ],
   "source": [
    "with metadata.Metadata(connection_config) as store:\n",
    "    model_eval_artifacts = store.get_artifacts_by_type(ModelEvaluation.TYPE_NAME)\n",
    "\n",
    "model_eval_path = model_eval_artifacts[-1].uri\n",
    "eval_result = tfma.load_eval_result(model_eval_path)\n",
    "tfma.view.render_slicing_metrics(\n",
    "    eval_result, slicing_column='Wilderness_Area')"
   ]
  },
  {
   "cell_type": "markdown",
   "metadata": {},
   "source": [
    "## Submit a pipeline run to Managed Pipelines\n",
    "\n",
    "### Create custom docker image\n",
    "\n",
    "Write the Dockerfile."
   ]
  },
  {
   "cell_type": "code",
   "execution_count": 47,
   "metadata": {},
   "outputs": [
    {
     "name": "stdout",
     "output_type": "stream",
     "text": [
      "Overwriting Dockerfile\n"
     ]
    }
   ],
   "source": [
    "%%writefile Dockerfile\n",
    "FROM gcr.io/caip-pipelines-assets/tfx:latest\n",
    "WORKDIR /pipeline\n",
    "COPY ./*.py ./\n",
    "ENV PYTHONPATH=\"/pipeline:${PYTHONPATH}\""
   ]
  },
  {
   "cell_type": "markdown",
   "metadata": {},
   "source": [
    "Create the Skaffold build configuration."
   ]
  },
  {
   "cell_type": "code",
   "execution_count": 48,
   "metadata": {},
   "outputs": [
    {
     "name": "stdout",
     "output_type": "stream",
     "text": [
      "\n",
      "apiVersion: skaffold/v2beta3\n",
      "kind: Config\n",
      "metadata:\n",
      "  name: my-pipeline\n",
      "build:\n",
      "  artifacts:\n",
      "  - image: 'gcr.io/mlops-dev-env/caip-tfx-custom-demo'\n",
      "    context: .\n",
      "    docker:\n",
      "      dockerfile: Dockerfile\n",
      "  tagPolicy:\n",
      "    envTemplate:\n",
      "      template: \"{{.IMAGE_NAME}}:latest\"\n"
     ]
    }
   ],
   "source": [
    "TAG = 'latest'\n",
    "SK_TEMPLATE = \"{{{{.IMAGE_NAME}}}}:{}\".format(TAG)\n",
    "CUSTOM_IMAGE = f'gcr.io/{PROJECT_ID}/caip-tfx-custom-demo'\n",
    "\n",
    "skaffold_template = f\"\"\"\n",
    "apiVersion: skaffold/v2beta3\n",
    "kind: Config\n",
    "metadata:\n",
    "  name: my-pipeline\n",
    "build:\n",
    "  artifacts:\n",
    "  - image: '{CUSTOM_IMAGE}'\n",
    "    context: .\n",
    "    docker:\n",
    "      dockerfile: Dockerfile\n",
    "  tagPolicy:\n",
    "    envTemplate:\n",
    "      template: \"{{SK_TEMPLATE}}\"\n",
    "\"\"\"\n",
    "\n",
    "with open('skaffold.yaml', 'w') as f:\n",
    "    f.write(skaffold_template.format(**globals()))\n",
    "\n",
    "!cat skaffold.yaml"
   ]
  },
  {
   "cell_type": "markdown",
   "metadata": {},
   "source": [
    "Build and push the image"
   ]
  },
  {
   "cell_type": "code",
   "execution_count": 49,
   "metadata": {},
   "outputs": [
    {
     "name": "stdout",
     "output_type": "stream",
     "text": [
      "Generating tags...\n",
      " - gcr.io/mlops-dev-env/caip-tfx-custom-demo -> WARN[0000] {{.IMAGE_NAME}} is deprecated, envTemplate's template should only specify the tag value. See https://skaffold.dev/docs/pipeline-stages/taggers/ \n",
      "gcr.io/mlops-dev-env/caip-tfx-custom-demo:latest\n",
      "Checking cache...\n",
      " - gcr.io/mlops-dev-env/caip-tfx-custom-demo: Not found. Building\n",
      "Building [gcr.io/mlops-dev-env/caip-tfx-custom-demo]...\n",
      "Sending build context to Docker daemon  14.85kB\n",
      "Step 1/4 : FROM gcr.io/caip-pipelines-assets/tfx:latest\n",
      " ---> 19c14dda2bb5\n",
      "Step 2/4 : WORKDIR /pipeline\n",
      " ---> Using cache\n",
      " ---> 73280faa1be8\n",
      "Step 3/4 : COPY ./*.py ./\n",
      " ---> Using cache\n",
      " ---> 1157ab40c72a\n",
      "Step 4/4 : ENV PYTHONPATH=\"/pipeline:${PYTHONPATH}\"\n",
      " ---> Running in 163d88f504ea\n",
      " ---> 310c1af00c54\n",
      "Successfully built 310c1af00c54\n",
      "Successfully tagged gcr.io/mlops-dev-env/caip-tfx-custom-demo:latest\n",
      "The push refers to repository [gcr.io/mlops-dev-env/caip-tfx-custom-demo]\n",
      "\n",
      "ed8503093cd8: Preparing \n",
      "096a31859079: Preparing \n",
      "040e39b76df7: Preparing \n",
      "34d223592bf6: Preparing \n",
      "076274ac0c03: Preparing \n",
      "d73a82f851f0: Preparing \n",
      "4058ae03fa32: Preparing \n",
      "e3437c61d457: Preparing \n",
      "84ff92691f90: Preparing \n",
      "54b00d861a7a: Preparing \n",
      "84ff92691f90: Preparing \n",
      "c4e66be694ce: Preparing \n",
      "latest: digest: sha256:eeb4fef7447442a116771b2c1ddc4e3014329dbde5e354a211ad7edbf1e1eab1 size: 3264\n"
     ]
    }
   ],
   "source": [
    "!skaffold build "
   ]
  },
  {
   "cell_type": "markdown",
   "metadata": {},
   "source": [
    "### Create the pipeline"
   ]
  },
  {
   "cell_type": "code",
   "execution_count": 50,
   "metadata": {},
   "outputs": [],
   "source": [
    "pipeline_name = 'covertype-end-to-end'\n",
    "pipeline_root = f'{GCS_PIPELINE_ROOT}/{pipeline_name}'\n",
    "\n",
    "components = [example_gen, \n",
    "              statistics_gen, \n",
    "              schema_gen,\n",
    "              example_validator,\n",
    "              transform,\n",
    "              trainer,\n",
    "              model_resolver,\n",
    "              model_analyzer,\n",
    "              pusher]\n",
    "\n",
    "pipeline = Pipeline(\n",
    "    pipeline_name=pipeline_name,\n",
    "    pipeline_root=pipeline_root,\n",
    "    components=components\n",
    ")"
   ]
  },
  {
   "cell_type": "markdown",
   "metadata": {},
   "source": [
    "### Configure Manage Pipelines runner"
   ]
  },
  {
   "cell_type": "code",
   "execution_count": 51,
   "metadata": {},
   "outputs": [],
   "source": [
    "pipeline_display_name = 'Covertype Classifier Training'\n",
    "\n",
    "runner = ai_platform_pipelines_dag_runner.AIPlatformPipelinesDagRunner(\n",
    "    config=ai_platform_pipelines_dag_runner.AIPlatformPipelinesDagRunnerConfig(\n",
    "        project_id=PROJECT_ID,\n",
    "        display_name=pipeline_display_name,\n",
    "        default_image=CUSTOM_IMAGE))"
   ]
  },
  {
   "cell_type": "markdown",
   "metadata": {},
   "source": [
    "### Submit run"
   ]
  },
  {
   "cell_type": "code",
   "execution_count": 52,
   "metadata": {},
   "outputs": [
    {
     "name": "stderr",
     "output_type": "stream",
     "text": [
      "INFO:absl:Compiled JSON request: {\"name\": \"projects/mlops-dev-env/pipelineJobs/covertype-end-to-end_20200901042132\", \"displayName\": \"Covertype Classifier Training\", \"spec\": {\"pipelineContext\": \"covertype-end-to-end\", \"steps\": {\"ResolverNode.latest_blessed_model_resolver\": {\"resolver\": {\"resolverPolicy\": \"LATEST_BLESSED_MODEL\"}, \"cachePolicy\": {}}, \"ExampleValidator.Data_Validation\": {\"task\": {\"inputs\": {\"schema\": {\"stepOutput\": {\"step\": \"SchemaGen\", \"output\": \"schema\"}}, \"statistics\": {\"stepOutput\": {\"step\": \"StatisticsGen.Statistics_Generation\", \"output\": \"statistics\"}}}, \"executionProperties\": {\"exclude_splits\": {\"stringValue\": \"[]\"}}, \"outputs\": {\"anomalies\": {\"artifact\": {\"customProperties\": {\"custom:pipeline_name\": {\"stringValue\": \"covertype-end-to-end\"}, \"tfx_type\": {\"stringValue\": \"tfx.types.standard_artifacts.ExampleAnomalies\"}, \"type_name\": {\"stringValue\": \"ExampleAnomalies\"}, \"custom:producer_component\": {\"stringValue\": \"ExampleValidator.Data_Validation\"}, \"custom:name\": {\"stringValue\": \"anomalies\"}}, \"file\": {}}}}, \"container\": {\"image\": \"gcr.io/mlops-dev-env/caip-tfx-custom-demo\", \"command\": [\"python3\", \"/tfx-src/tfx/orchestration/ai_platform_pipelines/container/ai_platform_run_executor.py\"], \"args\": [\"--executor_class_path\", \"tfx.components.example_validator.executor.Executor\", \"--json_serialized_invocation_args\", \"{{$}}\"]}}, \"dependencies\": [{\"step\": \"SchemaGen\"}, {\"step\": \"StatisticsGen.Statistics_Generation\"}], \"cachePolicy\": {}}, \"Evaluator\": {\"task\": {\"inputs\": {\"model\": {\"stepOutput\": {\"step\": \"Trainer\", \"output\": \"model\"}}, \"examples\": {\"stepOutput\": {\"step\": \"CsvExampleGen.Data_Extraction_Spliting\", \"output\": \"examples\"}}, \"baseline_model\": {\"stepOutput\": {\"step\": \"ResolverNode.latest_blessed_model_resolver\", \"output\": \"model\"}}}, \"executionProperties\": {\"example_splits\": {\"stringValue\": \"null\"}, \"eval_config\": {\"stringValue\": \"{\\n  \\\"metrics_specs\\\": [\\n    {\\n      \\\"metrics\\\": [\\n        {\\n          \\\"class_name\\\": \\\"SparseCategoricalAccuracy\\\",\\n          \\\"threshold\\\": {\\n            \\\"change_threshold\\\": {\\n              \\\"absolute\\\": 0.0001,\\n              \\\"direction\\\": \\\"HIGHER_IS_BETTER\\\"\\n            },\\n            \\\"value_threshold\\\": {\\n              \\\"lower_bound\\\": 0.5,\\n              \\\"upper_bound\\\": 0.99\\n            }\\n          }\\n        },\\n        {\\n          \\\"class_name\\\": \\\"ExampleCount\\\"\\n        }\\n      ]\\n    }\\n  ],\\n  \\\"model_specs\\\": [\\n    {\\n      \\\"label_key\\\": \\\"Cover_Type\\\"\\n    }\\n  ],\\n  \\\"slicing_specs\\\": [\\n    {},\\n    {\\n      \\\"feature_keys\\\": [\\n        \\\"Wilderness_Area\\\"\\n      ]\\n    }\\n  ]\\n}\"}}, \"outputs\": {\"blessing\": {\"artifact\": {\"customProperties\": {\"custom:pipeline_name\": {\"stringValue\": \"covertype-end-to-end\"}, \"tfx_type\": {\"stringValue\": \"tfx.types.standard_artifacts.ModelBlessing\"}, \"type_name\": {\"stringValue\": \"ModelBlessing\"}, \"custom:producer_component\": {\"stringValue\": \"Evaluator\"}, \"custom:name\": {\"stringValue\": \"blessing\"}}, \"file\": {}}}, \"evaluation\": {\"artifact\": {\"customProperties\": {\"custom:producer_component\": {\"stringValue\": \"Evaluator\"}, \"custom:name\": {\"stringValue\": \"evaluation\"}, \"custom:pipeline_name\": {\"stringValue\": \"covertype-end-to-end\"}, \"tfx_type\": {\"stringValue\": \"tfx.types.standard_artifacts.ModelEvaluation\"}, \"type_name\": {\"stringValue\": \"ModelEvaluation\"}}, \"metrics\": {}}}}, \"container\": {\"image\": \"gcr.io/mlops-dev-env/caip-tfx-custom-demo\", \"command\": [\"python3\", \"/tfx-src/tfx/orchestration/ai_platform_pipelines/container/ai_platform_run_executor.py\"], \"args\": [\"--executor_class_path\", \"tfx.components.evaluator.executor.Executor\", \"--json_serialized_invocation_args\", \"{{$}}\"]}}, \"dependencies\": [{\"step\": \"CsvExampleGen.Data_Extraction_Spliting\"}, {\"step\": \"ResolverNode.latest_blessed_model_resolver\"}, {\"step\": \"Trainer\"}], \"cachePolicy\": {}}, \"SchemaGen\": {\"task\": {\"inputs\": {\"statistics\": {\"stepOutput\": {\"step\": \"StatisticsGen.Statistics_Generation\", \"output\": \"statistics\"}}}, \"executionProperties\": {\"exclude_splits\": {\"stringValue\": \"[]\"}, \"infer_feature_shape\": {\"intValue\": \"0\"}}, \"outputs\": {\"schema\": {\"artifact\": {\"customProperties\": {\"custom:producer_component\": {\"stringValue\": \"SchemaGen\"}, \"custom:name\": {\"stringValue\": \"schema\"}, \"custom:pipeline_name\": {\"stringValue\": \"covertype-end-to-end\"}, \"tfx_type\": {\"stringValue\": \"tfx.types.standard_artifacts.Schema\"}, \"type_name\": {\"stringValue\": \"Schema\"}}, \"schema\": {}}}}, \"container\": {\"image\": \"gcr.io/mlops-dev-env/caip-tfx-custom-demo\", \"command\": [\"python3\", \"/tfx-src/tfx/orchestration/ai_platform_pipelines/container/ai_platform_run_executor.py\"], \"args\": [\"--executor_class_path\", \"tfx.components.schema_gen.executor.Executor\", \"--json_serialized_invocation_args\", \"{{$}}\"]}}, \"dependencies\": [{\"step\": \"StatisticsGen.Statistics_Generation\"}], \"cachePolicy\": {}}, \"Transform\": {\"task\": {\"inputs\": {\"schema\": {\"stepOutput\": {\"step\": \"SchemaGen\", \"output\": \"schema\"}}, \"examples\": {\"stepOutput\": {\"step\": \"CsvExampleGen.Data_Extraction_Spliting\", \"output\": \"examples\"}}}, \"executionProperties\": {\"custom_config\": {\"stringValue\": \"null\"}, \"module_file\": {\"stringValue\": \"preprocessing.py\"}}, \"outputs\": {\"transformed_examples\": {\"artifact\": {\"customProperties\": {\"custom:name\": {\"stringValue\": \"transformed_examples\"}, \"custom:pipeline_name\": {\"stringValue\": \"covertype-end-to-end\"}, \"tfx_type\": {\"stringValue\": \"tfx.types.standard_artifacts.Examples\"}, \"type_name\": {\"stringValue\": \"Examples\"}, \"custom:producer_component\": {\"stringValue\": \"Transform\"}}, \"dataset\": {}}}, \"transform_graph\": {\"artifact\": {\"customProperties\": {\"custom:name\": {\"stringValue\": \"transform_graph\"}, \"custom:pipeline_name\": {\"stringValue\": \"covertype-end-to-end\"}, \"tfx_type\": {\"stringValue\": \"tfx.types.standard_artifacts.TransformGraph\"}, \"type_name\": {\"stringValue\": \"TransformGraph\"}, \"custom:producer_component\": {\"stringValue\": \"Transform\"}}, \"file\": {}}}}, \"container\": {\"image\": \"gcr.io/mlops-dev-env/caip-tfx-custom-demo\", \"command\": [\"python3\", \"/tfx-src/tfx/orchestration/ai_platform_pipelines/container/ai_platform_run_executor.py\"], \"args\": [\"--executor_class_path\", \"tfx.components.transform.executor.Executor\", \"--json_serialized_invocation_args\", \"{{$}}\"]}}, \"dependencies\": [{\"step\": \"CsvExampleGen.Data_Extraction_Spliting\"}, {\"step\": \"SchemaGen\"}], \"cachePolicy\": {}}, \"StatisticsGen.Statistics_Generation\": {\"task\": {\"inputs\": {\"examples\": {\"stepOutput\": {\"step\": \"CsvExampleGen.Data_Extraction_Spliting\", \"output\": \"examples\"}}}, \"executionProperties\": {\"exclude_splits\": {\"stringValue\": \"[]\"}}, \"outputs\": {\"statistics\": {\"artifact\": {\"customProperties\": {\"type_name\": {\"stringValue\": \"ExampleStatistics\"}, \"custom:producer_component\": {\"stringValue\": \"StatisticsGen.Statistics_Generation\"}, \"custom:name\": {\"stringValue\": \"statistics\"}, \"custom:pipeline_name\": {\"stringValue\": \"covertype-end-to-end\"}, \"tfx_type\": {\"stringValue\": \"tfx.types.standard_artifacts.ExampleStatistics\"}}, \"statistics\": {}}}}, \"container\": {\"image\": \"gcr.io/mlops-dev-env/caip-tfx-custom-demo\", \"command\": [\"python3\", \"/tfx-src/tfx/orchestration/ai_platform_pipelines/container/ai_platform_run_executor.py\"], \"args\": [\"--executor_class_path\", \"tfx.components.statistics_gen.executor.Executor\", \"--json_serialized_invocation_args\", \"{{$}}\"]}}, \"dependencies\": [{\"step\": \"CsvExampleGen.Data_Extraction_Spliting\"}], \"cachePolicy\": {}}, \"Trainer\": {\"task\": {\"inputs\": {\"transform_graph\": {\"stepOutput\": {\"step\": \"Transform\", \"output\": \"transform_graph\"}}, \"schema\": {\"stepOutput\": {\"step\": \"SchemaGen\", \"output\": \"schema\"}}, \"examples\": {\"stepOutput\": {\"step\": \"Transform\", \"output\": \"transformed_examples\"}}}, \"executionProperties\": {\"module_file\": {\"stringValue\": \"model.py\"}, \"eval_args\": {\"stringValue\": \"{\\n  \\\"num_steps\\\": 1000\\n}\"}, \"train_args\": {\"stringValue\": \"{\\n  \\\"num_steps\\\": 5000\\n}\"}, \"custom_config\": {\"stringValue\": \"null\"}}, \"outputs\": {\"model_run\": {\"artifact\": {\"customProperties\": {\"custom:name\": {\"stringValue\": \"model_run\"}, \"custom:pipeline_name\": {\"stringValue\": \"covertype-end-to-end\"}, \"tfx_type\": {\"stringValue\": \"tfx.types.standard_artifacts.ModelRun\"}, \"type_name\": {\"stringValue\": \"ModelRun\"}, \"custom:producer_component\": {\"stringValue\": \"Trainer\"}}, \"file\": {}}}, \"model\": {\"artifact\": {\"customProperties\": {\"custom:pipeline_name\": {\"stringValue\": \"covertype-end-to-end\"}, \"tfx_type\": {\"stringValue\": \"tfx.types.standard_artifacts.Model\"}, \"type_name\": {\"stringValue\": \"Model\"}, \"custom:producer_component\": {\"stringValue\": \"Trainer\"}, \"custom:name\": {\"stringValue\": \"model\"}}, \"model\": {}}}}, \"container\": {\"image\": \"gcr.io/mlops-dev-env/caip-tfx-custom-demo\", \"command\": [\"python3\", \"/tfx-src/tfx/orchestration/ai_platform_pipelines/container/ai_platform_run_executor.py\"], \"args\": [\"--executor_class_path\", \"tfx.components.trainer.executor.GenericExecutor\", \"--json_serialized_invocation_args\", \"{{$}}\"]}}, \"dependencies\": [{\"step\": \"SchemaGen\"}, {\"step\": \"Transform\"}], \"cachePolicy\": {}}, \"CsvExampleGen.Data_Extraction_Spliting\": {\"fileBasedExampleGen\": {\"inputBaseUri\": \"gs://workshop-datasets/covertype/small\", \"inputConfig\": {\"splits\": [{\"pattern\": \"*\", \"name\": \"single_split\"}]}, \"outputConfig\": {\"split_config\": {\"splits\": [{\"hash_buckets\": 4.0, \"name\": \"train\"}, {\"hash_buckets\": 1.0, \"name\": \"eval\"}]}}, \"container\": {\"image\": \"gcr.io/mlops-dev-env/caip-tfx-custom-demo\", \"command\": [\"python3\", \"/tfx-src/tfx/orchestration/ai_platform_pipelines/container/ai_platform_run_executor.py\"], \"args\": [\"--executor_class_path\", \"tfx.components.example_gen.csv_example_gen.executor.Executor\", \"--json_serialized_invocation_args\", \"{{$}}\"]}}, \"cachePolicy\": {}}, \"Pusher\": {\"task\": {\"inputs\": {\"model\": {\"stepOutput\": {\"step\": \"Trainer\", \"output\": \"model\"}}, \"model_blessing\": {\"stepOutput\": {\"step\": \"Evaluator\", \"output\": \"blessing\"}}}, \"executionProperties\": {\"custom_config\": {\"stringValue\": \"null\"}, \"push_destination\": {\"stringValue\": \"{\\n  \\\"filesystem\\\": {\\n    \\\"base_directory\\\": \\\"gs://mlops-dev-workspace/model-store/covertype_classifier\\\"\\n  }\\n}\"}}, \"outputs\": {\"pushed_model\": {\"artifact\": {\"customProperties\": {\"custom:producer_component\": {\"stringValue\": \"Pusher\"}, \"custom:name\": {\"stringValue\": \"pushed_model\"}, \"custom:pipeline_name\": {\"stringValue\": \"covertype-end-to-end\"}, \"tfx_type\": {\"stringValue\": \"tfx.types.standard_artifacts.PushedModel\"}, \"type_name\": {\"stringValue\": \"PushedModel\"}}, \"file\": {}}}}, \"container\": {\"image\": \"gcr.io/mlops-dev-env/caip-tfx-custom-demo\", \"command\": [\"python3\", \"/tfx-src/tfx/orchestration/ai_platform_pipelines/container/ai_platform_run_executor.py\"], \"args\": [\"--executor_class_path\", \"tfx.components.pusher.executor.Executor\", \"--json_serialized_invocation_args\", \"{{$}}\"]}}, \"dependencies\": [{\"step\": \"Evaluator\"}, {\"step\": \"Trainer\"}], \"cachePolicy\": {}}}}, \"outputPathConfig\": {\"pipelineRoot\": \"gs://mlops-dev-workspace/pipeline-root/covertype-end-to-end\"}}\n",
      "INFO:absl:Received server response: {\"name\": \"projects/mlops-dev-env/pipelineJobs/covertype-end-to-end_20200901042132\", \"displayName\": \"Covertype Classifier Training\", \"spec\": {\"pipelineContext\": \"covertype-end-to-end\", \"steps\": {\"ExampleValidator.Data_Validation\": {\"task\": {\"inputs\": {\"statistics\": {\"stepOutput\": {\"step\": \"StatisticsGen.Statistics_Generation\", \"output\": \"statistics\"}}, \"schema\": {\"stepOutput\": {\"step\": \"SchemaGen\", \"output\": \"schema\"}}}, \"executionProperties\": {\"exclude_splits\": {\"stringValue\": \"[]\"}}, \"outputs\": {\"anomalies\": {\"artifact\": {\"customProperties\": {\"custom:name\": {\"stringValue\": \"anomalies\"}, \"custom:pipeline_name\": {\"stringValue\": \"covertype-end-to-end\"}, \"custom:producer_component\": {\"stringValue\": \"ExampleValidator.Data_Validation\"}, \"type_name\": {\"stringValue\": \"ExampleAnomalies\"}, \"tfx_type\": {\"stringValue\": \"tfx.types.standard_artifacts.ExampleAnomalies\"}}, \"file\": {}}}}, \"container\": {\"image\": \"gcr.io/mlops-dev-env/caip-tfx-custom-demo\", \"command\": [\"python3\", \"/tfx-src/tfx/orchestration/ai_platform_pipelines/container/ai_platform_run_executor.py\"], \"args\": [\"--executor_class_path\", \"tfx.components.example_validator.executor.Executor\", \"--json_serialized_invocation_args\", \"{{$}}\"]}}, \"dependencies\": [{\"step\": \"SchemaGen\"}, {\"step\": \"StatisticsGen.Statistics_Generation\"}], \"cachePolicy\": {}}, \"CsvExampleGen.Data_Extraction_Spliting\": {\"fileBasedExampleGen\": {\"inputBaseUri\": \"gs://workshop-datasets/covertype/small\", \"inputConfig\": {\"splits\": [{\"pattern\": \"*\", \"name\": \"single_split\"}]}, \"outputConfig\": {\"split_config\": {\"splits\": [{\"name\": \"train\", \"hash_buckets\": 4}, {\"hash_buckets\": 1, \"name\": \"eval\"}]}}, \"container\": {\"image\": \"gcr.io/mlops-dev-env/caip-tfx-custom-demo\", \"command\": [\"python3\", \"/tfx-src/tfx/orchestration/ai_platform_pipelines/container/ai_platform_run_executor.py\"], \"args\": [\"--executor_class_path\", \"tfx.components.example_gen.csv_example_gen.executor.Executor\", \"--json_serialized_invocation_args\", \"{{$}}\"]}}, \"cachePolicy\": {}}, \"Evaluator\": {\"task\": {\"inputs\": {\"baseline_model\": {\"stepOutput\": {\"step\": \"ResolverNode.latest_blessed_model_resolver\", \"output\": \"model\"}}, \"examples\": {\"stepOutput\": {\"step\": \"CsvExampleGen.Data_Extraction_Spliting\", \"output\": \"examples\"}}, \"model\": {\"stepOutput\": {\"step\": \"Trainer\", \"output\": \"model\"}}}, \"executionProperties\": {\"example_splits\": {\"stringValue\": \"null\"}, \"eval_config\": {\"stringValue\": \"{\\n  \\\"metrics_specs\\\": [\\n    {\\n      \\\"metrics\\\": [\\n        {\\n          \\\"class_name\\\": \\\"SparseCategoricalAccuracy\\\",\\n          \\\"threshold\\\": {\\n            \\\"change_threshold\\\": {\\n              \\\"absolute\\\": 0.0001,\\n              \\\"direction\\\": \\\"HIGHER_IS_BETTER\\\"\\n            },\\n            \\\"value_threshold\\\": {\\n              \\\"lower_bound\\\": 0.5,\\n              \\\"upper_bound\\\": 0.99\\n            }\\n          }\\n        },\\n        {\\n          \\\"class_name\\\": \\\"ExampleCount\\\"\\n        }\\n      ]\\n    }\\n  ],\\n  \\\"model_specs\\\": [\\n    {\\n      \\\"label_key\\\": \\\"Cover_Type\\\"\\n    }\\n  ],\\n  \\\"slicing_specs\\\": [\\n    {},\\n    {\\n      \\\"feature_keys\\\": [\\n        \\\"Wilderness_Area\\\"\\n      ]\\n    }\\n  ]\\n}\"}}, \"outputs\": {\"evaluation\": {\"artifact\": {\"customProperties\": {\"custom:producer_component\": {\"stringValue\": \"Evaluator\"}, \"custom:name\": {\"stringValue\": \"evaluation\"}, \"custom:pipeline_name\": {\"stringValue\": \"covertype-end-to-end\"}, \"type_name\": {\"stringValue\": \"ModelEvaluation\"}, \"tfx_type\": {\"stringValue\": \"tfx.types.standard_artifacts.ModelEvaluation\"}}, \"metrics\": {}}}, \"blessing\": {\"artifact\": {\"customProperties\": {\"custom:producer_component\": {\"stringValue\": \"Evaluator\"}, \"tfx_type\": {\"stringValue\": \"tfx.types.standard_artifacts.ModelBlessing\"}, \"type_name\": {\"stringValue\": \"ModelBlessing\"}, \"custom:pipeline_name\": {\"stringValue\": \"covertype-end-to-end\"}, \"custom:name\": {\"stringValue\": \"blessing\"}}, \"file\": {}}}}, \"container\": {\"image\": \"gcr.io/mlops-dev-env/caip-tfx-custom-demo\", \"command\": [\"python3\", \"/tfx-src/tfx/orchestration/ai_platform_pipelines/container/ai_platform_run_executor.py\"], \"args\": [\"--executor_class_path\", \"tfx.components.evaluator.executor.Executor\", \"--json_serialized_invocation_args\", \"{{$}}\"]}}, \"dependencies\": [{\"step\": \"CsvExampleGen.Data_Extraction_Spliting\"}, {\"step\": \"ResolverNode.latest_blessed_model_resolver\"}, {\"step\": \"Trainer\"}], \"cachePolicy\": {}}, \"StatisticsGen.Statistics_Generation\": {\"task\": {\"inputs\": {\"examples\": {\"stepOutput\": {\"step\": \"CsvExampleGen.Data_Extraction_Spliting\", \"output\": \"examples\"}}}, \"executionProperties\": {\"exclude_splits\": {\"stringValue\": \"[]\"}}, \"outputs\": {\"statistics\": {\"artifact\": {\"customProperties\": {\"type_name\": {\"stringValue\": \"ExampleStatistics\"}, \"custom:name\": {\"stringValue\": \"statistics\"}, \"custom:pipeline_name\": {\"stringValue\": \"covertype-end-to-end\"}, \"tfx_type\": {\"stringValue\": \"tfx.types.standard_artifacts.ExampleStatistics\"}, \"custom:producer_component\": {\"stringValue\": \"StatisticsGen.Statistics_Generation\"}}, \"statistics\": {}}}}, \"container\": {\"image\": \"gcr.io/mlops-dev-env/caip-tfx-custom-demo\", \"command\": [\"python3\", \"/tfx-src/tfx/orchestration/ai_platform_pipelines/container/ai_platform_run_executor.py\"], \"args\": [\"--executor_class_path\", \"tfx.components.statistics_gen.executor.Executor\", \"--json_serialized_invocation_args\", \"{{$}}\"]}}, \"dependencies\": [{\"step\": \"CsvExampleGen.Data_Extraction_Spliting\"}], \"cachePolicy\": {}}, \"ResolverNode.latest_blessed_model_resolver\": {\"resolver\": {\"resolverPolicy\": \"LATEST_BLESSED_MODEL\"}, \"cachePolicy\": {}}, \"Transform\": {\"task\": {\"inputs\": {\"schema\": {\"stepOutput\": {\"step\": \"SchemaGen\", \"output\": \"schema\"}}, \"examples\": {\"stepOutput\": {\"step\": \"CsvExampleGen.Data_Extraction_Spliting\", \"output\": \"examples\"}}}, \"executionProperties\": {\"custom_config\": {\"stringValue\": \"null\"}, \"module_file\": {\"stringValue\": \"preprocessing.py\"}}, \"outputs\": {\"transformed_examples\": {\"artifact\": {\"customProperties\": {\"custom:pipeline_name\": {\"stringValue\": \"covertype-end-to-end\"}, \"custom:name\": {\"stringValue\": \"transformed_examples\"}, \"type_name\": {\"stringValue\": \"Examples\"}, \"custom:producer_component\": {\"stringValue\": \"Transform\"}, \"tfx_type\": {\"stringValue\": \"tfx.types.standard_artifacts.Examples\"}}, \"dataset\": {}}}, \"transform_graph\": {\"artifact\": {\"customProperties\": {\"custom:name\": {\"stringValue\": \"transform_graph\"}, \"custom:producer_component\": {\"stringValue\": \"Transform\"}, \"type_name\": {\"stringValue\": \"TransformGraph\"}, \"custom:pipeline_name\": {\"stringValue\": \"covertype-end-to-end\"}, \"tfx_type\": {\"stringValue\": \"tfx.types.standard_artifacts.TransformGraph\"}}, \"file\": {}}}}, \"container\": {\"image\": \"gcr.io/mlops-dev-env/caip-tfx-custom-demo\", \"command\": [\"python3\", \"/tfx-src/tfx/orchestration/ai_platform_pipelines/container/ai_platform_run_executor.py\"], \"args\": [\"--executor_class_path\", \"tfx.components.transform.executor.Executor\", \"--json_serialized_invocation_args\", \"{{$}}\"]}}, \"dependencies\": [{\"step\": \"CsvExampleGen.Data_Extraction_Spliting\"}, {\"step\": \"SchemaGen\"}], \"cachePolicy\": {}}, \"Trainer\": {\"task\": {\"inputs\": {\"schema\": {\"stepOutput\": {\"step\": \"SchemaGen\", \"output\": \"schema\"}}, \"examples\": {\"stepOutput\": {\"step\": \"Transform\", \"output\": \"transformed_examples\"}}, \"transform_graph\": {\"stepOutput\": {\"step\": \"Transform\", \"output\": \"transform_graph\"}}}, \"executionProperties\": {\"custom_config\": {\"stringValue\": \"null\"}, \"module_file\": {\"stringValue\": \"model.py\"}, \"eval_args\": {\"stringValue\": \"{\\n  \\\"num_steps\\\": 1000\\n}\"}, \"train_args\": {\"stringValue\": \"{\\n  \\\"num_steps\\\": 5000\\n}\"}}, \"outputs\": {\"model_run\": {\"artifact\": {\"customProperties\": {\"custom:pipeline_name\": {\"stringValue\": \"covertype-end-to-end\"}, \"custom:producer_component\": {\"stringValue\": \"Trainer\"}, \"type_name\": {\"stringValue\": \"ModelRun\"}, \"tfx_type\": {\"stringValue\": \"tfx.types.standard_artifacts.ModelRun\"}, \"custom:name\": {\"stringValue\": \"model_run\"}}, \"file\": {}}}, \"model\": {\"artifact\": {\"customProperties\": {\"tfx_type\": {\"stringValue\": \"tfx.types.standard_artifacts.Model\"}, \"custom:producer_component\": {\"stringValue\": \"Trainer\"}, \"custom:name\": {\"stringValue\": \"model\"}, \"type_name\": {\"stringValue\": \"Model\"}, \"custom:pipeline_name\": {\"stringValue\": \"covertype-end-to-end\"}}, \"model\": {}}}}, \"container\": {\"image\": \"gcr.io/mlops-dev-env/caip-tfx-custom-demo\", \"command\": [\"python3\", \"/tfx-src/tfx/orchestration/ai_platform_pipelines/container/ai_platform_run_executor.py\"], \"args\": [\"--executor_class_path\", \"tfx.components.trainer.executor.GenericExecutor\", \"--json_serialized_invocation_args\", \"{{$}}\"]}}, \"dependencies\": [{\"step\": \"SchemaGen\"}, {\"step\": \"Transform\"}], \"cachePolicy\": {}}, \"SchemaGen\": {\"task\": {\"inputs\": {\"statistics\": {\"stepOutput\": {\"step\": \"StatisticsGen.Statistics_Generation\", \"output\": \"statistics\"}}}, \"executionProperties\": {\"exclude_splits\": {\"stringValue\": \"[]\"}, \"infer_feature_shape\": {\"intValue\": \"0\"}}, \"outputs\": {\"schema\": {\"artifact\": {\"customProperties\": {\"custom:pipeline_name\": {\"stringValue\": \"covertype-end-to-end\"}, \"custom:name\": {\"stringValue\": \"schema\"}, \"custom:producer_component\": {\"stringValue\": \"SchemaGen\"}, \"type_name\": {\"stringValue\": \"Schema\"}, \"tfx_type\": {\"stringValue\": \"tfx.types.standard_artifacts.Schema\"}}, \"schema\": {}}}}, \"container\": {\"image\": \"gcr.io/mlops-dev-env/caip-tfx-custom-demo\", \"command\": [\"python3\", \"/tfx-src/tfx/orchestration/ai_platform_pipelines/container/ai_platform_run_executor.py\"], \"args\": [\"--executor_class_path\", \"tfx.components.schema_gen.executor.Executor\", \"--json_serialized_invocation_args\", \"{{$}}\"]}}, \"dependencies\": [{\"step\": \"StatisticsGen.Statistics_Generation\"}], \"cachePolicy\": {}}, \"Pusher\": {\"task\": {\"inputs\": {\"model_blessing\": {\"stepOutput\": {\"step\": \"Evaluator\", \"output\": \"blessing\"}}, \"model\": {\"stepOutput\": {\"step\": \"Trainer\", \"output\": \"model\"}}}, \"executionProperties\": {\"custom_config\": {\"stringValue\": \"null\"}, \"push_destination\": {\"stringValue\": \"{\\n  \\\"filesystem\\\": {\\n    \\\"base_directory\\\": \\\"gs://mlops-dev-workspace/model-store/covertype_classifier\\\"\\n  }\\n}\"}}, \"outputs\": {\"pushed_model\": {\"artifact\": {\"customProperties\": {\"tfx_type\": {\"stringValue\": \"tfx.types.standard_artifacts.PushedModel\"}, \"custom:producer_component\": {\"stringValue\": \"Pusher\"}, \"type_name\": {\"stringValue\": \"PushedModel\"}, \"custom:name\": {\"stringValue\": \"pushed_model\"}, \"custom:pipeline_name\": {\"stringValue\": \"covertype-end-to-end\"}}, \"file\": {}}}}, \"container\": {\"image\": \"gcr.io/mlops-dev-env/caip-tfx-custom-demo\", \"command\": [\"python3\", \"/tfx-src/tfx/orchestration/ai_platform_pipelines/container/ai_platform_run_executor.py\"], \"args\": [\"--executor_class_path\", \"tfx.components.pusher.executor.Executor\", \"--json_serialized_invocation_args\", \"{{$}}\"]}}, \"dependencies\": [{\"step\": \"Evaluator\"}, {\"step\": \"Trainer\"}], \"cachePolicy\": {}}}}, \"state\": \"PENDING\", \"outputPathConfig\": {\"pipelineRoot\": \"gs://mlops-dev-workspace/pipeline-root/covertype-end-to-end\"}}\n"
     ]
    },
    {
     "name": "stdout",
     "output_type": "stream",
     "text": [
      "Execution triggered. Job name: projects/mlops-dev-env/pipelineJobs/covertype-end-to-end_20200901042132\n"
     ]
    },
    {
     "data": {
      "text/plain": [
       "'projects/mlops-dev-env/pipelineJobs/covertype-end-to-end_20200901042132'"
      ]
     },
     "execution_count": 52,
     "metadata": {},
     "output_type": "execute_result"
    }
   ],
   "source": [
    "api_key = ''\n",
    "\n",
    "runner.run(pipeline, api_key=api_key)"
   ]
  },
  {
   "cell_type": "markdown",
   "metadata": {},
   "source": [
    "## License"
   ]
  },
  {
   "cell_type": "markdown",
   "metadata": {},
   "source": [
    "<font size=-1>Licensed under the Apache License, Version 2.0 (the \\\"License\\\");\n",
    "you may not use this file except in compliance with the License.\n",
    "You may obtain a copy of the License at [https://www.apache.org/licenses/LICENSE-2.0](https://www.apache.org/licenses/LICENSE-2.0)\n",
    "\n",
    "Unless required by applicable law or agreed to in writing, software distributed under the License is distributed on an \\\"AS IS\\\" BASIS, WITHOUT WARRANTIES OR CONDITIONS OF ANY KIND, either express or implied.  See the License for the specific language governing permissions and limitations under the License.</font>"
   ]
  }
 ],
 "metadata": {
  "environment": {
   "name": "tf2-2-3-gpu.2-3.m55",
   "type": "gcloud",
   "uri": "gcr.io/deeplearning-platform-release/tf2-2-3-gpu.2-3:m55"
  },
  "kernelspec": {
   "display_name": "Python 3",
   "language": "python",
   "name": "python3"
  },
  "language_info": {
   "codemirror_mode": {
    "name": "ipython",
    "version": 3
   },
   "file_extension": ".py",
   "mimetype": "text/x-python",
   "name": "python",
   "nbconvert_exporter": "python",
   "pygments_lexer": "ipython3",
   "version": "3.7.8"
  }
 },
 "nbformat": 4,
 "nbformat_minor": 4
}
