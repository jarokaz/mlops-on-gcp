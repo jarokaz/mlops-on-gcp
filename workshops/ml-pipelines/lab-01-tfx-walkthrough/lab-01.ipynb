{
 "cells": [
  {
   "cell_type": "markdown",
   "metadata": {},
   "source": [
    "# TFX Components Walk-through"
   ]
  },
  {
   "cell_type": "markdown",
   "metadata": {},
   "source": [
    "## Learning Objectives\n",
    "\n",
    "1.  Develop a high level understanding of TFX pipeline components.\n",
    "2.  Learn how to use a TFX Interactive Context for prototype development of TFX pipelines.\n",
    "3.  Work with the Tensorflow Data Validation (TFDV) library to check and analyze input data.\n",
    "4.  Utilize the Tensorflow Transform (TFT) library for scalable data preprocessing and feature transformations.\n",
    "5.  Employ the Tensorflow Model Analysis (TFMA) library for model evaluation.\n",
    "\n",
    "In this lab, you will work with the [Covertype Data Set](https://github.com/jarokaz/mlops-labs/blob/master/datasets/covertype/README.md) and use TFX to analyze, understand, and pre-process the dataset and train, analyze, validate, and deploy a multi-class classification model to predict the type of forest cover from cartographic features.\n",
    "\n",
    "You will utilize  **TFX Interactive Context** to work with the TFX components interactivelly in a Jupyter notebook environment. Working in an interactive notebook is useful when doing initial data exploration, experimenting with models, and designing ML pipelines. You should be aware that there are differences in the way interactive notebooks are orchestrated, and how they access metadata artifacts. In a production deployment of TFX on GCP, you will use Managed Pipelines to ochestrate the flow and run components. In an interactive mode, the notebook itself is the orchestrator, running each TFX component as you execute the notebook cells. In a production deployment, ML Metadata will be managed in Managed ML Metadata service, and artifacts in apersistent store such as Google Cloud Storage. In an interactive mode, both properties and payloads are stored in a local file system of the Jupyter host.\n",
    "\n",
    "**Setup Note:**\n",
    "Currently, TFMA visualizations do not render properly in JupyterLab. It is recommended to run this notebook in Jupyter Classic Notebook. To switch to Classic Notebook select *Launch Classic Notebook* from the *Help* menu."
   ]
  },
  {
   "cell_type": "code",
   "execution_count": 61,
   "metadata": {},
   "outputs": [],
   "source": [
    "import absl\n",
    "import os\n",
    "import tempfile\n",
    "import time\n",
    "\n",
    "import tensorflow as tf\n",
    "import tensorflow_data_validation as tfdv\n",
    "import tensorflow_model_analysis as tfma\n",
    "import tensorflow_transform as tft\n",
    "import tfx\n",
    "\n",
    "from pprint import pprint\n",
    "from tensorflow_metadata.proto.v0 import schema_pb2, statistics_pb2, anomalies_pb2\n",
    "from tensorflow_transform.tf_metadata import schema_utils\n",
    "\n",
    "from ml_metadata.metadata_store import metadata_store\n",
    "from ml_metadata.proto import metadata_store_pb2\n",
    "\n",
    "from tfx.components import CsvExampleGen\n",
    "from tfx.components import Evaluator\n",
    "from tfx.components import ExampleValidator\n",
    "from tfx.components import InfraValidator\n",
    "from tfx.components import Pusher\n",
    "from tfx.components import ResolverNode\n",
    "from tfx.components import SchemaGen\n",
    "from tfx.components import StatisticsGen\n",
    "from tfx.components import Trainer\n",
    "from tfx.components import Transform\n",
    "from tfx.components.base import executor_spec\n",
    "from tfx.components.common_nodes.importer_node import ImporterNode\n",
    "from tfx.components.trainer import executor as trainer_executor\n",
    "\n",
    "from tfx.dsl.experimental import latest_blessed_model_resolver\n",
    "\n",
    "from tfx.orchestration.beam.beam_dag_runner import BeamDagRunner\n",
    "from tfx.orchestration.metadata import sqlite_metadata_connection_config\n",
    "from tfx.orchestration.pipeline import Pipeline\n",
    "from tfx.orchestration import metadata\n",
    "\n",
    "from tfx.proto import evaluator_pb2\n",
    "from tfx.proto import example_gen_pb2\n",
    "from tfx.proto import infra_validator_pb2\n",
    "from tfx.proto import pusher_pb2\n",
    "from tfx.proto import trainer_pb2\n",
    "from tfx.proto.evaluator_pb2 import SingleSlicingSpec\n",
    "\n",
    "from tfx.utils.dsl_utils import external_input\n",
    "\n",
    "from tfx.types import Channel\n",
    "from tfx.types.standard_artifacts import Examples\n",
    "from tfx.types.standard_artifacts import ExampleStatistics\n",
    "from tfx.types.standard_artifacts import ExampleAnomalies\n",
    "from tfx.types.standard_artifacts import Model\n",
    "from tfx.types.standard_artifacts import ModelEvaluation\n",
    "from tfx.types.standard_artifacts import ModelBlessing\n",
    "from tfx.types.standard_artifacts import InfraBlessing"
   ]
  },
  {
   "cell_type": "markdown",
   "metadata": {},
   "source": [
    "## Set up the environment\n",
    "### Verify TFX SDK Version"
   ]
  },
  {
   "cell_type": "markdown",
   "metadata": {},
   "source": [
    "**Note**: this lab was developed and tested with the following TF ecosystem package versions:\n",
    "\n",
    "`Tensorflow Version: 2.3.0`  \n",
    "`TFX Version: 0.23.0.caip20200818`  \n",
    "`TFDV Version: 0.23.0`  \n",
    "`TFMA Version: 0.23.0`\n",
    "\n",
    "If you encounter errors with the above imports (e.g. TFX component not found), check your package versions in the cell below."
   ]
  },
  {
   "cell_type": "code",
   "execution_count": 2,
   "metadata": {
    "tags": []
   },
   "outputs": [
    {
     "output_type": "stream",
     "name": "stdout",
     "text": "Tensorflow Version:2.3.0\nTFX Version:0.23.0.caip20200818\nTFDV Version:0.23.0\nTFMA Version:0.23.0\n"
    }
   ],
   "source": [
    "print(\"Tensorflow Version:\", tf.__version__)\n",
    "print(\"TFX Version:\", tfx.__version__)\n",
    "print(\"TFDV Version:\", tfdv.__version__)\n",
    "print(\"TFMA Version:\", tfma.VERSION_STRING)\n",
    "\n",
    "absl.logging.set_verbosity(absl.logging.INFO)"
   ]
  },
  {
   "cell_type": "markdown",
   "metadata": {},
   "source": [
    "If the versions above do not match, update your packages in the current Jupyter kernel. \n",
    "\n",
    "### Update `PATH` with the location of TFX SDK."
   ]
  },
  {
   "cell_type": "code",
   "execution_count": 3,
   "metadata": {},
   "outputs": [],
   "source": [
    "os.environ['PATH'] += os.pathsep + '/home/jupyter/.local/bin'"
   ]
  },
  {
   "cell_type": "markdown",
   "metadata": {},
   "source": [
    "## Configure lab settings\n",
    "\n",
    "Set constants, location paths and other environment settings. \n",
    "\n",
    "### Settings for Beam runner"
   ]
  },
  {
   "cell_type": "code",
   "execution_count": 4,
   "metadata": {},
   "outputs": [],
   "source": [
    "LOCAL_PIPELINE_ROOT= os.path.join(os.sep, 'home', 'jupyter', 'pipeline-root')\n",
    "METADATA_PATH = os.path.join(LOCAL_PIPELINE_ROOT, 'metadata.sqlite')\n",
    "SERVING_MODEL_DIR =os.path.join(os.sep, 'home', 'jupyter', 'serving_model')\n",
    "metadata_connection_config=sqlite_metadata_connection_config(METADATA_PATH)"
   ]
  },
  {
   "cell_type": "markdown",
   "metadata": {},
   "source": [
    "### Settings for Managed Pipelines runner"
   ]
  },
  {
   "cell_type": "code",
   "execution_count": 5,
   "metadata": {},
   "outputs": [],
   "source": [
    "PROJECT_ID = 'mlops-dev-env'\n",
    "GCS_BUCKET_NAME = 'mlops-dev-workspace'\n",
    "GCS_PIPELINE_ROOT = f'gs://{GCS_BUCKET_NAME}/pipeline-root'\n",
    "BASE_IMAGE = f'gcr.io/caip-pipelines-assets/tfx:{tfx.__version__}'"
   ]
  },
  {
   "cell_type": "markdown",
   "metadata": {},
   "source": [
    "### Source dataset"
   ]
  },
  {
   "cell_type": "code",
   "execution_count": 7,
   "metadata": {},
   "outputs": [],
   "source": [
    "DATA_ROOT = 'gs://workshop-datasets/covertype/small'"
   ]
  },
  {
   "cell_type": "markdown",
   "metadata": {},
   "source": [
    "## Configure TFX Pipeline"
   ]
  },
  {
   "cell_type": "markdown",
   "metadata": {},
   "source": [
    "### Ingesting data using ExampleGen\n",
    "\n",
    "In any ML development process the first step  is to ingest the training and test datasets. The `ExampleGen` component ingests data into a TFX pipeline. It consumes external files/services to generate a set file files in the `TFRecord` format,  which will be used by other TFX components. It can also shuffle the data and split into an arbitrary number of partitions.\n",
    "\n",
    "<img src=https://github.com/GoogleCloudPlatform/mlops-on-gcp/raw/master/images/ExampleGen.png width=\"300\">\n",
    "\n",
    "\n",
    "In this exercise, you use the `CsvExampleGen` specialization of `ExampleGen` to ingest CSV files from a GCS location. The component is configured to split the input data into two splits - `train` and `eval` - using 4:1 ratio.  "
   ]
  },
  {
   "cell_type": "code",
   "execution_count": 8,
   "metadata": {
    "tags": []
   },
   "outputs": [],
   "source": [
    "output_config = example_gen_pb2.Output(\n",
    "    split_config=example_gen_pb2.SplitConfig(splits=[\n",
    "        example_gen_pb2.SplitConfig.Split(name='train', hash_buckets=4),\n",
    "        example_gen_pb2.SplitConfig.Split(name='eval', hash_buckets=1)\n",
    "    ]))\n",
    "\n",
    "example_gen = tfx.components.CsvExampleGen(\n",
    "    instance_name='Data_Extraction_Spliting',\n",
    "    input_base=DATA_ROOT,\n",
    "    output_config=output_config\n",
    ")"
   ]
  },
  {
   "cell_type": "markdown",
   "metadata": {},
   "source": [
    "#### Create the pipeline"
   ]
  },
  {
   "cell_type": "code",
   "execution_count": 9,
   "metadata": {
    "tags": []
   },
   "outputs": [],
   "source": [
    "pipeline_name = 'example_gen_only'\n",
    "components = [example_gen]\n",
    "\n",
    "pipeline = Pipeline(\n",
    "    pipeline_name=pipeline_name,\n",
    "    pipeline_root=f'{LOCAL_PIPELINE_ROOT}/{pipeline_name}',\n",
    "    metadata_connection_config=metadata_connection_config,\n",
    "    components=components\n",
    ")"
   ]
  },
  {
   "cell_type": "markdown",
   "metadata": {},
   "source": [
    "#### Run the pipeline"
   ]
  },
  {
   "cell_type": "code",
   "execution_count": 10,
   "metadata": {
    "tags": []
   },
   "outputs": [
    {
     "output_type": "stream",
     "name": "stderr",
     "text": "WARNING:apache_beam.runners.interactive.interactive_environment:Dependencies required for Interactive Beam PCollection visualization are not available, please use: `pip install apache-beam[interactive]` to install necessary dependencies to enable all data visualization features.\n"
    },
    {
     "output_type": "display_data",
     "data": {
      "application/javascript": "\n        if (typeof window.interactive_beam_jquery == 'undefined') {\n          var jqueryScript = document.createElement('script');\n          jqueryScript.src = 'https://code.jquery.com/jquery-3.4.1.slim.min.js';\n          jqueryScript.type = 'text/javascript';\n          jqueryScript.onload = function() {\n            var datatableScript = document.createElement('script');\n            datatableScript.src = 'https://cdn.datatables.net/1.10.20/js/jquery.dataTables.min.js';\n            datatableScript.type = 'text/javascript';\n            datatableScript.onload = function() {\n              window.interactive_beam_jquery = jQuery.noConflict(true);\n              window.interactive_beam_jquery(document).ready(function($){\n                \n              });\n            }\n            document.head.appendChild(datatableScript);\n          };\n          document.head.appendChild(jqueryScript);\n        } else {\n          window.interactive_beam_jquery(document).ready(function($){\n            \n          });\n        }"
     },
     "metadata": {}
    },
    {
     "output_type": "display_data",
     "data": {
      "application/javascript": "\n        var import_html = () => {\n          ['https://raw.githubusercontent.com/PAIR-code/facets/1.0.0/facets-dist/facets-jupyter.html'].forEach(href => {\n            var link = document.createElement('link');\n            link.rel = 'import'\n            link.href = href;\n            document.head.appendChild(link);\n          });\n        }\n        if ('import' in document.createElement('link')) {\n          import_html();\n        } else {\n          var webcomponentScript = document.createElement('script');\n          webcomponentScript.src = 'https://cdnjs.cloudflare.com/ajax/libs/webcomponentsjs/1.3.3/webcomponents-lite.js';\n          webcomponentScript.type = 'text/javascript';\n          webcomponentScript.onload = function(){\n            import_html();\n          };\n          document.head.appendChild(webcomponentScript);\n        }"
     },
     "metadata": {}
    },
    {
     "output_type": "stream",
     "name": "stderr",
     "text": "INFO:absl:Component CsvExampleGen.Data_Extraction_Spliting depends on [].\nINFO:absl:Component CsvExampleGen.Data_Extraction_Spliting is scheduled.\nINFO:absl:Component CsvExampleGen.Data_Extraction_Spliting is running.\nINFO:absl:Running driver for CsvExampleGen.Data_Extraction_Spliting\nINFO:absl:MetadataStore with DB connection initialized\nINFO:absl:select span and version = (0, None)\nINFO:absl:latest span and version = (0, None)\nINFO:absl:Running executor for CsvExampleGen.Data_Extraction_Spliting\nINFO:absl:Generating examples.\nINFO:absl:Processing input csv data gs://workshop-datasets/covertype/small/* to TFExample.\nWARNING:apache_beam.io.tfrecordio:Couldn't find python-snappy so the implementation of _TFRecordUtil._masked_crc32c is not as fast as it could be.\nINFO:absl:Examples generated.\nINFO:absl:Running publisher for CsvExampleGen.Data_Extraction_Spliting\nINFO:absl:MetadataStore with DB connection initialized\nINFO:absl:Component CsvExampleGen.Data_Extraction_Spliting is finished.\n"
    }
   ],
   "source": [
    "BeamDagRunner().run(pipeline)"
   ]
  },
  {
   "cell_type": "markdown",
   "metadata": {},
   "source": [
    "#### Examine artifacts generated by the pipeline run"
   ]
  },
  {
   "cell_type": "code",
   "execution_count": 11,
   "metadata": {
    "tags": []
   },
   "outputs": [
    {
     "output_type": "stream",
     "name": "stderr",
     "text": "INFO:absl:MetadataStore with DB connection initialized\n/home/jupyter/pipeline-root/example_gen_only/CsvExampleGen.Data_Extraction_Spliting/examples/1\n{'split_names': string_value: \"[\\\"train\\\", \\\"eval\\\"]\"\n}\n/home/jupyter/pipeline-root/example_gen_only/CsvExampleGen.Data_Extraction_Spliting/examples/2\n{'split_names': string_value: \"[\\\"train\\\", \\\"eval\\\"]\"\n}\n/home/jupyter/pipeline-root/example_gen_only/CsvExampleGen.Data_Extraction_Spliting/examples/3\n{'split_names': string_value: \"[\\\"train\\\", \\\"eval\\\"]\"\n}\n"
    }
   ],
   "source": [
    "connection_config = metadata_store_pb2.ConnectionConfig()\n",
    "connection_config.sqlite.filename_uri = METADATA_PATH\n",
    "connection_config.sqlite.connection_mode = 3 # READWRITE_OPENCREATE\n",
    "\n",
    "with metadata.Metadata(connection_config) as store:\n",
    "    examples_artifacts = store.get_artifacts_by_type(Examples.TYPE_NAME)\n",
    "\n",
    "for element in examples_artifacts:\n",
    "    print(element.uri)\n",
    "    print(element.properties)"
   ]
  },
  {
   "cell_type": "markdown",
   "metadata": {},
   "source": [
    "#### Examine the ingested data"
   ]
  },
  {
   "cell_type": "code",
   "execution_count": 15,
   "metadata": {
    "tags": []
   },
   "outputs": [
    {
     "output_type": "stream",
     "name": "stdout",
     "text": "Horizontal_Distance_To_Roadways: [757]\nElevation: [3142]\nSlope: [9]\nWilderness_Area: [b'Commanche']\nVertical_Distance_To_Hydrology: [101]\nCover_Type: [1]\nSoil_Type: [b'C7757']\nHillshade_3pm: [157]\nHorizontal_Distance_To_Fire_Points: [1871]\nHillshade_Noon: [247]\nHillshade_9am: [223]\nAspect: [183]\nHorizontal_Distance_To_Hydrology: [648]\n******\nHorizontal_Distance_To_Fire_Points: [451]\nHillshade_Noon: [227]\nHillshade_9am: [245]\nAspect: [124]\nHorizontal_Distance_To_Hydrology: [60]\nSlope: [16]\nHorizontal_Distance_To_Roadways: [124]\nElevation: [1967]\nWilderness_Area: [b'Cache']\nVertical_Distance_To_Hydrology: [9]\nSoil_Type: [b'C2704']\nCover_Type: [2]\nHillshade_3pm: [105]\n******\n"
    }
   ],
   "source": [
    "examples_uri = examples_artifacts[-1].uri\n",
    "tfrecord_filenames = [os.path.join(examples_uri, 'train', name)\n",
    "                      for name in os.listdir(os.path.join(examples_uri, 'train'))]\n",
    "dataset = tf.data.TFRecordDataset(tfrecord_filenames, compression_type=\"GZIP\")\n",
    "for tfrecord in dataset.take(2):\n",
    "  example = tf.train.Example()\n",
    "  example.ParseFromString(tfrecord.numpy())\n",
    "  for name, feature in example.features.feature.items():\n",
    "    if feature.HasField('bytes_list'):\n",
    "        value = feature.bytes_list.value\n",
    "    if feature.HasField('float_list'):\n",
    "        value = feature.float_list.value\n",
    "    if feature.HasField('int64_list'):\n",
    "        value = feature.int64_list.value\n",
    "    print('{}: {}'.format(name, value))\n",
    "  print('******')"
   ]
  },
  {
   "cell_type": "markdown",
   "metadata": {},
   "source": [
    "### Generating statistics using StatisticsGen\n",
    "\n",
    "The `StatisticsGen`  component generates data statistics that can be used by other TFX components. StatisticsGen uses [TensorFlow Data Validation](https://www.tensorflow.org/tfx/data_validation/get_started). `StatisticsGen` generate statistics for each split in the `ExampleGen` component's output. In our case there two splits: `train` and `eval`.\n",
    "\n",
    "<img src=https://github.com/GoogleCloudPlatform/mlops-on-gcp/raw/master/images/StatisticsGen.png width=\"200\">"
   ]
  },
  {
   "cell_type": "code",
   "execution_count": 22,
   "metadata": {
    "tags": []
   },
   "outputs": [
    {
     "output_type": "stream",
     "name": "stderr",
     "text": "INFO:absl:Excluding no splits because exclude_splits is not set.\n"
    }
   ],
   "source": [
    "statistics_gen = tfx.components.StatisticsGen(\n",
    "    instance_name='Statistics_Generation',\n",
    "    examples=example_gen.outputs['examples'])"
   ]
  },
  {
   "cell_type": "markdown",
   "metadata": {},
   "source": [
    "### Infering data schema using SchemaGen\n",
    "\n",
    "Some TFX components use a description input data called a schema. The schema is an instance of `schema.proto`. It can specify data types for feature values, whether a feature has to be present in all examples, allowed value ranges, and other properties. `SchemaGen` automatically generates the schema by inferring types, categories, and ranges from data statistics. The auto-generated schema is best-effort and only tries to infer basic properties of the data. It is expected that developers review and modify it as needed. `SchemaGen` uses [TensorFlow Data Validation](https://www.tensorflow.org/tfx/data_validation/get_started).\n",
    "\n",
    "The `SchemaGen` component generates the schema using the statistics for the `train` split. The statistics for other splits are ignored.\n",
    "\n",
    "<img src=https://github.com/GoogleCloudPlatform/mlops-on-gcp/raw/master/images/SchemaGen.png width=\"200\">"
   ]
  },
  {
   "cell_type": "code",
   "execution_count": 25,
   "metadata": {
    "tags": []
   },
   "outputs": [
    {
     "output_type": "stream",
     "name": "stderr",
     "text": "INFO:absl:Excluding no splits because exclude_splits is not set.\n"
    }
   ],
   "source": [
    "schema_gen = SchemaGen(\n",
    "    statistics=statistics_gen.outputs['statistics'],\n",
    "    infer_feature_shape=False)"
   ]
  },
  {
   "cell_type": "markdown",
   "metadata": {},
   "source": [
    "### Validating data with ExampleValidator\n",
    "\n",
    "The `ExampleValidator` component identifies anomalies in data.  It identifies anomalies by comparing data statistics computed by the `StatisticsGen` component against a schema generated by `SchemaGen` or imported by `ImporterNode`.\n",
    "\n",
    "`ExampleValidator` can detect different classes of anomalies. For example it can:\n",
    "\n",
    "- perform validity checks by comparing data statistics against a schema \n",
    "- detect training-serving skew by comparing training and serving data.\n",
    "- detect data drift by looking at a series of data.\n",
    "\n",
    "\n",
    "The `ExampleValidator` component validates the data in the `eval` split only. Other splits are ignored. \n",
    "\n",
    "<img src=https://github.com/GoogleCloudPlatform/mlops-on-gcp/raw/master/images/ExampleValidator.png width=\"350\">"
   ]
  },
  {
   "cell_type": "code",
   "execution_count": 28,
   "metadata": {
    "tags": []
   },
   "outputs": [
    {
     "output_type": "stream",
     "name": "stderr",
     "text": "INFO:absl:Excluding no splits because exclude_splits is not set.\n"
    }
   ],
   "source": [
    "example_validator = ExampleValidator(\n",
    "    statistics=statistics_gen.outputs['statistics'],\n",
    "    schema=schema_gen.outputs['schema'],\n",
    "    instance_name=\"Data_Validation\"\n",
    ")"
   ]
  },
  {
   "cell_type": "markdown",
   "metadata": {},
   "source": [
    "### Preprocessing data with Transform\n",
    "\n",
    "The `Transform` component performs data transformation and feature engineering. The `Transform` component consumes `tf.Examples` emitted from the `ExampleGen` component and emits the transformed feature data and the `SavedModel` graph that was used to process the data. The emitted `SavedModel`  can then be used by serving components to make sure that the same data pre-processing logic is applied at training and serving.\n",
    "\n",
    "The `Transform` component requires more code than many other components because of the arbitrary complexity of the feature engineering that you may need for the data and/or model that you're working with. It requires code files to be available which define the processing needed.\n",
    "\n",
    "<img src=https://github.com/GoogleCloudPlatform/mlops-on-gcp/raw/master/images/Transform.png width=\"400\">\n",
    "\n",
    "#### Define the pre-processing module\n",
    "\n",
    "To configure `Trainsform`, you need to encapsulate your pre-processing code in the Python `preprocessing_fn` function and save it to a  python module that is then provided to the Transform component as an input. This module will be loaded by transform and the `preprocessing_fn` function will be called when the `Transform` component runs.\n",
    "\n",
    "In most cases, your implementation of the `preprocessing_fn` makes extensive use of [TensorFlow Transform](https://www.tensorflow.org/tfx/guide/tft) for performing feature engineering on your dataset."
   ]
  },
  {
   "cell_type": "code",
   "execution_count": 29,
   "metadata": {},
   "outputs": [],
   "source": [
    "TRANSFORM_MODULE = 'preprocessing.py'"
   ]
  },
  {
   "cell_type": "code",
   "execution_count": 30,
   "metadata": {
    "tags": []
   },
   "outputs": [
    {
     "output_type": "stream",
     "name": "stdout",
     "text": "Writing {FEATURES_MODULE}\n"
    }
   ],
   "source": [
    "%%writefile {FEATURES_MODULE}\n",
    "# Copyright 2020 Google LLC. All Rights Reserved.\n",
    "#\n",
    "# Licensed under the Apache License, Version 2.0 (the \"License\");\n",
    "# you may not use this file except in compliance with the License.\n",
    "# You may obtain a copy of the License at\n",
    "#\n",
    "#     http://www.apache.org/licenses/LICENSE-2.0\n",
    "#\n",
    "# Unless required by applicable law or agreed to in writing, software\n",
    "# distributed under the License is distributed on an \"AS IS\" BASIS,\n",
    "# WITHOUT WARRANTIES OR CONDITIONS OF ANY KIND, either express or implied.\n",
    "# See the License for the specific language governing permissions and\n",
    "# limitations under the License.\n",
    "\"\"\"Covertype model  taxi model features.\"\"\"\n",
    "import tensorflow as tf\n",
    "import tensorflow_model_analysis as tfma\n",
    "import tensorflow_transform as tft\n",
    "from tensorflow_transform.tf_metadata import schema_utils\n",
    "\n",
    "NUMERIC_FEATURE_KEYS = [\n",
    "    'Elevation', 'Aspect', 'Slope', 'Horizontal_Distance_To_Hydrology',\n",
    "    'Vertical_Distance_To_Hydrology', 'Horizontal_Distance_To_Roadways',\n",
    "    'Hillshade_9am', 'Hillshade_Noon', 'Hillshade_3pm',\n",
    "    'Horizontal_Distance_To_Fire_Points'\n",
    "]\n",
    "\n",
    "CATEGORICAL_FEATURE_KEYS = ['Wilderness_Area', 'Soil_Type']\n",
    "\n",
    "LABEL_KEY = 'Cover_Type'\n",
    "NUM_CLASSES = 7\n",
    "\n",
    "def transformed_name(key):\n",
    "  return key + '_xf'"
   ]
  },
  {
   "cell_type": "code",
   "execution_count": 31,
   "metadata": {},
   "outputs": [],
   "source": [
    "FEATURES_MODULE = 'features.py'"
   ]
  },
  {
   "cell_type": "code",
   "execution_count": 32,
   "metadata": {
    "tags": []
   },
   "outputs": [
    {
     "output_type": "stream",
     "name": "stdout",
     "text": "Overwriting preprocessing.py\n"
    }
   ],
   "source": [
    "%%writefile {TRANSFORM_MODULE}\n",
    "# Copyright 2020 Google LLC. All Rights Reserved.\n",
    "#\n",
    "# Licensed under the Apache License, Version 2.0 (the \"License\");\n",
    "# you may not use this file except in compliance with the License.\n",
    "# You may obtain a copy of the License at\n",
    "#\n",
    "#     http://www.apache.org/licenses/LICENSE-2.0\n",
    "#\n",
    "# Unless required by applicable law or agreed to in writing, software\n",
    "# distributed under the License is distributed on an \"AS IS\" BASIS,\n",
    "# WITHOUT WARRANTIES OR CONDITIONS OF ANY KIND, either express or implied.\n",
    "# See the License for the specific language governing permissions and\n",
    "# limitations under the License.\n",
    "\"\"\"Covertype preprocessing.\n",
    "This file defines a template for TFX Transform component.\n",
    "\"\"\"\n",
    "\n",
    "import tensorflow as tf\n",
    "import tensorflow_transform as tft\n",
    "\n",
    "import features\n",
    "\n",
    "def _fill_in_missing(x):\n",
    "  \"\"\"Replace missing values in a SparseTensor.\n",
    "  Fills in missing values of `x` with '' or 0, and converts to a dense tensor.\n",
    "  Args:\n",
    "    x: A `SparseTensor` of rank 2.  Its dense shape should have size at most 1\n",
    "      in the second dimension.\n",
    "  Returns:\n",
    "    A rank 1 tensor where missing values of `x` have been filled in.\n",
    "  \"\"\"\n",
    "  default_value = '' if x.dtype == tf.string else 0\n",
    "  return tf.squeeze(\n",
    "      tf.sparse.to_dense(\n",
    "          tf.SparseTensor(x.indices, x.values, [x.dense_shape[0], 1]),\n",
    "          default_value),\n",
    "      axis=1)\n",
    "\n",
    "def preprocessing_fn(inputs):\n",
    "  \"\"\"Preprocesses Covertype Dataset.\"\"\"\n",
    "\n",
    "  outputs = {}\n",
    "\n",
    "  # Scale numerical features\n",
    "  for key in features.NUMERIC_FEATURE_KEYS:\n",
    "    outputs[features.transformed_name(key)] = tft.scale_to_z_score(\n",
    "        _fill_in_missing(inputs[key]))\n",
    "\n",
    "  # Generate vocabularies and maps categorical features\n",
    "  for key in features.CATEGORICAL_FEATURE_KEYS:\n",
    "    outputs[features.transformed_name(key)] = tft.compute_and_apply_vocabulary(\n",
    "        x=_fill_in_missing(inputs[key]), num_oov_buckets=1, vocab_filename=key)\n",
    "\n",
    "  # Convert Cover_Type to dense tensor\n",
    "  outputs[features.transformed_name(features.LABEL_KEY)] = _fill_in_missing(\n",
    "      inputs[features.LABEL_KEY])\n",
    "\n",
    "  return outputs\n"
   ]
  },
  {
   "cell_type": "markdown",
   "metadata": {},
   "source": [
    "Configure the component."
   ]
  },
  {
   "cell_type": "code",
   "execution_count": 34,
   "metadata": {
    "tags": []
   },
   "outputs": [
    {
     "output_type": "stream",
     "name": "stderr",
     "text": "WARNING:absl:Only one of `artifacts` and `matching_channel_name` should be set.\n"
    }
   ],
   "source": [
    "transform = Transform(\n",
    "    examples=example_gen.outputs['examples'],\n",
    "    schema=schema_gen.outputs['schema'],\n",
    "    module_file=TRANSFORM_MODULE)"
   ]
  },
  {
   "cell_type": "markdown",
   "metadata": {},
   "source": [
    "### Train with the `Trainer` component\n",
    "\n",
    "The `Trainer` component trains a model using TensorFlow.\n",
    "\n",
    "`Trainer` takes:\n",
    "\n",
    "- tf.Examples used for training and eval.\n",
    "- A user provided module file that defines the trainer logic.\n",
    "- A data schema created by `SchemaGen` or imported by `ImporterNode`.\n",
    "- A proto definition of train args and eval args.\n",
    "- An optional transform graph produced by upstream Transform component.\n",
    "- An optional base models used for scenarios such as warmstart.\n",
    "\n",
    "<img src=https://github.com/GoogleCloudPlatform/mlops-on-gcp/raw/master/images/Trainer.png width=\"400\">\n",
    "\n",
    "\n",
    "#### Define the trainer module\n",
    "\n",
    "To configure `Trainer`, you need to encapsulate your training code in a Python module that is then provided to the `Trainer` as an input. \n"
   ]
  },
  {
   "cell_type": "code",
   "execution_count": 36,
   "metadata": {},
   "outputs": [],
   "source": [
    "TRAINER_MODULE_FILE = 'model.py'"
   ]
  },
  {
   "cell_type": "code",
   "execution_count": 55,
   "metadata": {
    "tags": []
   },
   "outputs": [
    {
     "output_type": "stream",
     "name": "stdout",
     "text": "Overwriting model.py\n"
    }
   ],
   "source": [
    "%%writefile {TRAINER_MODULE_FILE}\n",
    "# Copyright 2020 Google LLC. All Rights Reserved.\n",
    "#\n",
    "# Licensed under the Apache License, Version 2.0 (the \"License\");\n",
    "# you may not use this file except in compliance with the License.\n",
    "# You may obtain a copy of the License at\n",
    "#\n",
    "#     http://www.apache.org/licenses/LICENSE-2.0\n",
    "#\n",
    "# Unless required by applicable law or agreed to in writing, software\n",
    "# distributed under the License is distributed on an \"AS IS\" BASIS,\n",
    "# WITHOUT WARRANTIES OR CONDITIONS OF ANY KIND, either express or implied.\n",
    "# See the License for the specific language governing permissions and\n",
    "# limitations under the License.\n",
    "\"\"\"The Covertype classifier DNN keras model.\"\"\"\n",
    "\n",
    "import absl\n",
    "import os\n",
    "\n",
    "import tensorflow as tf\n",
    "import tensorflow_model_analysis as tfma\n",
    "import tensorflow_transform as tft\n",
    "from tensorflow_transform.tf_metadata import schema_utils\n",
    "\n",
    "import features\n",
    "\n",
    "HIDDEN_UNITS = [16, 8]\n",
    "LEARNING_RATE = 0.001\n",
    "TRAIN_BATCH_SIZE = 64\n",
    "EVAL_BATCH_SIZE = 64\n",
    "\n",
    "LOCAL_LOG_DIR = '/tmp/logs'\n",
    "\n",
    "\n",
    "def _gzip_reader_fn(filenames):\n",
    "  \"\"\"Small utility returning a record reader that can read gzip'ed files.\"\"\"\n",
    "  return tf.data.TFRecordDataset(filenames, compression_type='GZIP')\n",
    "\n",
    "\n",
    "def _get_serve_tf_examples_fn(model, tf_transform_output):\n",
    "  \"\"\"Returns a function that parses a serialized tf.Example and applies TFT.\"\"\"\n",
    "\n",
    "  model.tft_layer = tf_transform_output.transform_features_layer()\n",
    "\n",
    "  @tf.function\n",
    "  def serve_tf_examples_fn(serialized_tf_examples):\n",
    "    \"\"\"Returns the output to be used in the serving signature.\"\"\"\n",
    "    feature_spec = tf_transform_output.raw_feature_spec()\n",
    "    feature_spec.pop(features.LABEL_KEY)\n",
    "    parsed_features = tf.io.parse_example(serialized_tf_examples, feature_spec)\n",
    "\n",
    "    transformed_features = model.tft_layer(parsed_features)\n",
    "\n",
    "    return model(transformed_features)\n",
    "\n",
    "  return serve_tf_examples_fn\n",
    "\n",
    "\n",
    "def _input_fn(file_pattern, tf_transform_output, batch_size=200):\n",
    "  \"\"\"Generates features and label for tuning/training.\n",
    "  Args:\n",
    "    file_pattern: input tfrecord file pattern.\n",
    "    tf_transform_output: A TFTransformOutput.\n",
    "    batch_size: representing the number of consecutive elements of returned\n",
    "      dataset to combine in a single batch\n",
    "  Returns:\n",
    "    A dataset that contains (features, indices) tuple where features is a\n",
    "      dictionary of Tensors, and indices is a single Tensor of label indices.\n",
    "  \"\"\"\n",
    "  transformed_feature_spec = (\n",
    "      tf_transform_output.transformed_feature_spec().copy())\n",
    "\n",
    "  dataset = tf.data.experimental.make_batched_features_dataset(\n",
    "      file_pattern=file_pattern,\n",
    "      batch_size=batch_size,\n",
    "      features=transformed_feature_spec,\n",
    "      reader=_gzip_reader_fn,\n",
    "      label_key=features.transformed_name(features.LABEL_KEY))\n",
    "\n",
    "  return dataset\n",
    "\n",
    "def _build_keras_model(tf_transform_output, hidden_units, learning_rate):\n",
    "  \"\"\"Creates a DNN Keras model for classifying taxi data.\n",
    "  Args:\n",
    "    hidden_units: [int], the layer sizes of the DNN (input layer first).\n",
    "  Returns:\n",
    "    A keras Model.\n",
    "  \"\"\"\n",
    "\n",
    "  numeric_columns = [\n",
    "      tf.feature_column.numeric_column(\n",
    "          key=features.transformed_name(key), \n",
    "          shape=())\n",
    "      for key in features.NUMERIC_FEATURE_KEYS\n",
    "  ]\n",
    "\n",
    "  categorical_columns = [\n",
    "      tf.feature_column.categorical_column_with_identity(\n",
    "          key=features.transformed_name(key), \n",
    "          num_buckets=tf_transform_output.num_buckets_for_transformed_feature(features.transformed_name(key)), \n",
    "          default_value=0)\n",
    "      for key in features.CATEGORICAL_FEATURE_KEYS\n",
    "  ]\n",
    "\n",
    "  indicator_columns = [\n",
    "      tf.feature_column.indicator_column(categorical_column)\n",
    "      for categorical_column in categorical_columns\n",
    "  ]\n",
    "\n",
    "  model = _wide_and_deep_classifier(\n",
    "      # TODO(b/139668410) replace with premade wide_and_deep keras model\n",
    "      wide_columns=indicator_columns,\n",
    "      deep_columns=numeric_columns,\n",
    "      dnn_hidden_units=hidden_units,\n",
    "      learning_rate=learning_rate)\n",
    "  return model\n",
    "\n",
    "\n",
    "def _wide_and_deep_classifier(wide_columns, deep_columns, dnn_hidden_units, learning_rate):\n",
    "  \"\"\"Builds a simple keras wide and deep model.\n",
    "  Args:\n",
    "    wide_columns: Feature columns wrapped in indicator_column for wide (linear)\n",
    "      part of the model.\n",
    "    deep_columns: Feature columns for deep part of the model.\n",
    "    dnn_hidden_units: [int], the layer sizes of the hidden DNN.\n",
    "  Returns:\n",
    "    A Wide and Deep Keras model\n",
    "  \"\"\"\n",
    "  \n",
    "  input_layers = {\n",
    "      column.key: tf.keras.layers.Input(name=column.key, shape=(), dtype=tf.float32)\n",
    "      for column in deep_columns\n",
    "  }\n",
    "  \n",
    "  input_layers.update({\n",
    "      column.categorical_column.key: tf.keras.layers.Input(name=column.categorical_column.key, shape=(), dtype=tf.int32)\n",
    "      for column in wide_columns\n",
    "  })\n",
    "    \n",
    "  deep = tf.keras.layers.DenseFeatures(deep_columns)(input_layers)\n",
    "  for numnodes in dnn_hidden_units:\n",
    "    deep = tf.keras.layers.Dense(numnodes)(deep)\n",
    "  wide = tf.keras.layers.DenseFeatures(wide_columns)(input_layers)\n",
    "\n",
    "  output = tf.keras.layers.Dense(features.NUM_CLASSES, activation='softmax')(\n",
    "               tf.keras.layers.concatenate([deep, wide]))\n",
    "\n",
    "  model = tf.keras.Model(input_layers, output)\n",
    "  model.compile(\n",
    "      loss='sparse_categorical_crossentropy',\n",
    "      optimizer=tf.keras.optimizers.Adam(lr=learning_rate),\n",
    "      metrics=[tf.keras.metrics.SparseCategoricalAccuracy()])\n",
    "  model.summary(print_fn=absl.logging.info)\n",
    "  return model\n",
    "\n",
    "def _copy_tensorboard_logs(local_path, saved_model_path):\n",
    "    \"\"\"Copies Tensorboard logs to the subfolder in the GCS SavedModel location.\"\"\"\n",
    "\n",
    "    if saved_model_path[0:5] == 'gs://':\n",
    "        pattern = '{}/*/events.out.tfevents.*'.format(local_path)\n",
    "        dest_path = saved_model_path.rstrip('/') + '/' + 'logs'\n",
    "        local_files = tf.io.gfile.glob(pattern)\n",
    "        dest_log_files = [local_file.replace(local_path, dest_path) for local_file in local_files]\n",
    "        for local_file, dest_file in zip(local_files, dest_log_files):\n",
    "            tf.io.gfile.copy(local_file, dest_file)\n",
    "\n",
    "# TFX Trainer will call this function.\n",
    "def run_fn(fn_args):\n",
    "  \"\"\"Trains a model based on given args.\n",
    "  Args:\n",
    "    fn_args: Holds args used to train the model as name/value pairs.\n",
    "  \"\"\"\n",
    "  \n",
    "  tf_transform_output = tft.TFTransformOutput(fn_args.transform_output)\n",
    "    \n",
    "  train_dataset = _input_fn(fn_args.train_files, tf_transform_output, TRAIN_BATCH_SIZE)\n",
    "  eval_dataset = _input_fn(fn_args.eval_files, tf_transform_output, EVAL_BATCH_SIZE)\n",
    "    \n",
    "  model = _build_keras_model(\n",
    "      tf_transform_output=tf_transform_output,\n",
    "      hidden_units=HIDDEN_UNITS,\n",
    "      learning_rate=LEARNING_RATE\n",
    "  )\n",
    "\n",
    "  tensorboard_callback = tf.keras.callbacks.TensorBoard(\n",
    "      log_dir=LOCAL_LOG_DIR, update_freq='batch')\n",
    "  callbacks = [ \n",
    "      tensorboard_callback\n",
    "  ]\n",
    "\n",
    "  model.fit(\n",
    "      train_dataset,\n",
    "      steps_per_epoch=fn_args.train_steps,\n",
    "      validation_data=eval_dataset,\n",
    "      validation_steps=fn_args.eval_steps,\n",
    "      verbose=2,\n",
    "      callbacks=callbacks)\n",
    "    \n",
    "  signatures = {\n",
    "      'serving_default':\n",
    "          _get_serve_tf_examples_fn(model,\n",
    "                                    tf_transform_output).get_concrete_function(\n",
    "                                        tf.TensorSpec(\n",
    "                                            shape=[None],\n",
    "                                            dtype=tf.string,\n",
    "                                            name='examples')),\n",
    "  }\n",
    "  \n",
    "  model.save(fn_args.serving_model_dir, save_format='tf', signatures=signatures)\n",
    "  _copy_tensorboard_logs(LOCAL_LOG_DIR, fn_args.serving_model_dir)\n",
    "    \n"
   ]
  },
  {
   "cell_type": "markdown",
   "metadata": {},
   "source": [
    "\n",
    "As of the 0.23 release of TFX, the `Trainer` component only supports passing a single field - `num_steps` - through the `train_args` and `eval_args` arguments. "
   ]
  },
  {
   "cell_type": "code",
   "execution_count": 39,
   "metadata": {},
   "outputs": [],
   "source": [
    "trainer = Trainer(\n",
    "    custom_executor_spec=executor_spec.ExecutorClassSpec(trainer_executor.GenericExecutor),\n",
    "    module_file=TRAINER_MODULE_FILE,\n",
    "    transformed_examples=transform.outputs[\"transformed_examples\"],\n",
    "    schema=schema_gen.outputs[\"schema\"],\n",
    "    transform_graph=transform.outputs[\"transform_graph\"],\n",
    "    train_args=trainer_pb2.TrainArgs(num_steps=5000),\n",
    "    eval_args=trainer_pb2.EvalArgs(num_steps=1000))"
   ]
  },
  {
   "cell_type": "markdown",
   "metadata": {},
   "source": [
    "### Evaluating trained models with Evaluator\n",
    "The `Evaluator` component analyzes model performance using the [TensorFlow Model Analysis library](https://www.tensorflow.org/tfx/model_analysis/get_started). It runs inference requests on particular subsets of the test dataset, based on which slices are defined by the developer. Knowing which slices should be analyzed requires domain knowledge of what is important in this particular use case or domain. \n",
    "\n",
    "The `Evaluator` can also optionally validate a newly trained model against a previous model. In this lab, you only train one model, so the Evaluator automatically will label the model as \"blessed\".\n",
    "\n",
    "\n",
    "<img src=https://github.com/GoogleCloudPlatform/mlops-on-gcp/raw/master/images/Evaluator.png width=\"400\">"
   ]
  },
  {
   "cell_type": "markdown",
   "metadata": {},
   "source": [
    "You can use the `ResolverNode` to pick the previous model to compare against.  The model resolver is only required if performing model validation in addition to evaluation. In this case we validate against the latest blessed model. If no model has been blessed before (as in this case) the evaluator will make our candidate the first blessed model."
   ]
  },
  {
   "cell_type": "code",
   "execution_count": 40,
   "metadata": {},
   "outputs": [],
   "source": [
    "model_resolver = ResolverNode(\n",
    "      instance_name='latest_blessed_model_resolver',\n",
    "      resolver_class=latest_blessed_model_resolver.LatestBlessedModelResolver,\n",
    "      model=Channel(type=Model),\n",
    "      model_blessing=Channel(type=ModelBlessing))"
   ]
  },
  {
   "cell_type": "markdown",
   "metadata": {},
   "source": [
    "Configure evaluation metrics and slices."
   ]
  },
  {
   "cell_type": "code",
   "execution_count": 41,
   "metadata": {},
   "outputs": [
    {
     "output_type": "execute_result",
     "data": {
      "text/plain": "model_specs {\n  label_key: \"Cover_Type\"\n}\nslicing_specs {\n}\nslicing_specs {\n  feature_keys: \"Wilderness_Area\"\n}\nmetrics_specs {\n  metrics {\n    class_name: \"SparseCategoricalAccuracy\"\n    threshold {\n      value_threshold {\n        lower_bound {\n          value: 0.5\n        }\n        upper_bound {\n          value: 0.99\n        }\n      }\n      change_threshold {\n        absolute {\n          value: 0.0001\n        }\n        direction: HIGHER_IS_BETTER\n      }\n    }\n  }\n  metrics {\n    class_name: \"ExampleCount\"\n  }\n}"
     },
     "metadata": {},
     "execution_count": 41
    }
   ],
   "source": [
    "accuracy_threshold = tfma.MetricThreshold(\n",
    "                value_threshold=tfma.GenericValueThreshold(\n",
    "                    lower_bound={'value': 0.5},\n",
    "                    upper_bound={'value': 0.99}),\n",
    "                change_threshold=tfma.GenericChangeThreshold(\n",
    "                    absolute={'value': 0.0001},\n",
    "                    direction=tfma.MetricDirection.HIGHER_IS_BETTER),\n",
    "                )\n",
    "\n",
    "metrics_specs = tfma.MetricsSpec(\n",
    "                   metrics = [\n",
    "                       tfma.MetricConfig(class_name='SparseCategoricalAccuracy',\n",
    "                           threshold=accuracy_threshold),\n",
    "                       tfma.MetricConfig(class_name='ExampleCount')])\n",
    "\n",
    "eval_config = tfma.EvalConfig(\n",
    "    model_specs=[\n",
    "        tfma.ModelSpec(label_key='Cover_Type')\n",
    "    ],\n",
    "    metrics_specs=[metrics_specs],\n",
    "    slicing_specs=[\n",
    "        tfma.SlicingSpec(),\n",
    "        tfma.SlicingSpec(feature_keys=['Wilderness_Area'])\n",
    "    ]\n",
    ")\n",
    "eval_config"
   ]
  },
  {
   "cell_type": "code",
   "execution_count": 42,
   "metadata": {},
   "outputs": [],
   "source": [
    "model_analyzer = Evaluator(\n",
    "    examples=example_gen.outputs.examples,\n",
    "    model=trainer.outputs.model,\n",
    "    baseline_model=model_resolver.outputs.model,\n",
    "    eval_config=eval_config\n",
    ")"
   ]
  },
  {
   "cell_type": "markdown",
   "metadata": {},
   "source": [
    "### InfraValidator\n",
    "\n",
    "The `InfraValidator` component acts as an additional early warning layer by validating a candidate model in a sandbox version of its serving infrastructure to prevent an unservable model from being pushed to production. Compared to the `Evaluator` component above which validates a model's performance, the `InfraValidator` component is validating that a model is able to generate predictions from served examples in an environment configured to match production. The config below takes a model and examples, launches the model in a sand-boxed [TensorflowServing](https://www.tensorflow.org/tfx/guide/serving) model server from the latest image in a local docker engine, and optionally checks that the model binary can be loaded and queried before \"blessing\" it for production.\n",
    "\n",
    "<img src=https://github.com/GoogleCloudPlatform/mlops-on-gcp/raw/master/images/InfraValidator.png width=\"400\">"
   ]
  },
  {
   "cell_type": "code",
   "execution_count": 44,
   "metadata": {},
   "outputs": [],
   "source": [
    "infra_validator = InfraValidator(\n",
    "    model=trainer.outputs['model'],\n",
    "    examples=example_gen.outputs['examples'],\n",
    "    serving_spec=infra_validator_pb2.ServingSpec(\n",
    "        tensorflow_serving=infra_validator_pb2.TensorFlowServing(\n",
    "            tags=['latest']),\n",
    "      local_docker=infra_validator_pb2.LocalDockerConfig(),\n",
    "  ),\n",
    "    validation_spec=infra_validator_pb2.ValidationSpec(\n",
    "        max_loading_time_seconds=60,\n",
    "        num_tries=5,\n",
    "    ),    \n",
    "  request_spec=infra_validator_pb2.RequestSpec(\n",
    "      tensorflow_serving=infra_validator_pb2.TensorFlowServingRequestSpec(),\n",
    "          num_examples=5,\n",
    "      )\n",
    ")"
   ]
  },
  {
   "cell_type": "markdown",
   "metadata": {},
   "source": [
    "### Deploying models with Pusher\n",
    "\n",
    "The `Pusher` component checks whether a model has been \"blessed\", and if so, deploys it by pushing the model to a well known file destination.\n",
    "\n",
    "<img src=https://github.com/GoogleCloudPlatform/mlops-on-gcp/raw/master/images/Pusher.png width=\"400\">\n",
    "\n"
   ]
  },
  {
   "cell_type": "code",
   "execution_count": 46,
   "metadata": {},
   "outputs": [],
   "source": [
    "pusher = Pusher(\n",
    "    model=trainer.outputs['model'],\n",
    "    model_blessing=model_analyzer.outputs['blessing'],\n",
    "    infra_blessing=infra_validator.outputs['blessing'],\n",
    "    push_destination=pusher_pb2.PushDestination(\n",
    "        filesystem=pusher_pb2.PushDestination.Filesystem(\n",
    "            base_directory=SERVING_MODEL_DIR)))"
   ]
  },
  {
   "cell_type": "markdown",
   "metadata": {},
   "source": [
    "## Running the pipeline"
   ]
  },
  {
   "cell_type": "markdown",
   "metadata": {},
   "source": [
    "### Create the pipeline"
   ]
  },
  {
   "cell_type": "code",
   "execution_count": 47,
   "metadata": {},
   "outputs": [],
   "source": [
    "pipeline_name = 'end-to-end'\n",
    "components = [example_gen, \n",
    "              statistics_gen, \n",
    "              schema_gen,\n",
    "              example_validator,\n",
    "              transform,\n",
    "              trainer,\n",
    "              model_resolver,\n",
    "              model_analyzer,\n",
    "              infra_validator,\n",
    "              pusher]\n",
    "\n",
    "pipeline = Pipeline(\n",
    "    pipeline_name=pipeline_name,\n",
    "    pipeline_root=f'{LOCAL_PIPELINE_ROOT}/{pipeline_name}',\n",
    "    metadata_connection_config=metadata_connection_config,\n",
    "    components=components\n",
    ")"
   ]
  },
  {
   "cell_type": "markdown",
   "metadata": {},
   "source": [
    "### Run the pipeline locally using Beam Runner"
   ]
  },
  {
   "cell_type": "code",
   "execution_count": 56,
   "metadata": {
    "tags": [
     "outputPrepend"
    ]
   },
   "outputs": [
    {
     "output_type": "stream",
     "name": "stderr",
     "text": "e_binary>\n  child 0, item: large_binary\nWilderness_Area: large_list<item: large_binary>\n  child 0, item: large_binary\nAspect: large_list<item: int64>\n  child 0, item: int64\nCover_Type: large_list<item: int64>\n  child 0, item: int64\nElevation: large_list<item: int64>\n  child 0, item: int64\nHillshade_3pm: large_list<item: int64>\n  child 0, item: int64\nHillshade_9am: large_list<item: int64>\n  child 0, item: int64\nHillshade_Noon: large_list<item: int64>\n  child 0, item: int64\nHorizontal_Distance_To_Fire_Points: large_list<item: int64>\n  child 0, item: int64\nHorizontal_Distance_To_Hydrology: large_list<item: int64>\n  child 0, item: int64\nHorizontal_Distance_To_Roadways: large_list<item: int64>\n  child 0, item: int64\nSlope: large_list<item: int64>\n  child 0, item: int64\nVertical_Distance_To_Hydrology: large_list<item: int64>\n  child 0, item: int64, tensor_representations={'Aspect': varlen_sparse_tensor {\n  column_name: \"Aspect\"\n}\n, 'Hillshade_9am': varlen_sparse_tensor {\n  column_name: \"Hillshade_9am\"\n}\n, 'Horizontal_Distance_To_Hydrology': varlen_sparse_tensor {\n  column_name: \"Horizontal_Distance_To_Hydrology\"\n}\n, 'Slope': varlen_sparse_tensor {\n  column_name: \"Slope\"\n}\n, 'Elevation': varlen_sparse_tensor {\n  column_name: \"Elevation\"\n}\n, 'Horizontal_Distance_To_Roadways': varlen_sparse_tensor {\n  column_name: \"Horizontal_Distance_To_Roadways\"\n}\n, 'Wilderness_Area': varlen_sparse_tensor {\n  column_name: \"Wilderness_Area\"\n}\n, 'Vertical_Distance_To_Hydrology': varlen_sparse_tensor {\n  column_name: \"Vertical_Distance_To_Hydrology\"\n}\n, 'Cover_Type': varlen_sparse_tensor {\n  column_name: \"Cover_Type\"\n}\n, 'Soil_Type': varlen_sparse_tensor {\n  column_name: \"Soil_Type\"\n}\n, 'Hillshade_3pm': varlen_sparse_tensor {\n  column_name: \"Hillshade_3pm\"\n}\n, 'Hillshade_Noon': varlen_sparse_tensor {\n  column_name: \"Hillshade_Noon\"\n}\n, 'Horizontal_Distance_To_Fire_Points': varlen_sparse_tensor {\n  column_name: \"Horizontal_Distance_To_Fire_Points\"\n}\n}, original_type_specs={'Soil_Type': SparseTensorSpec(TensorShape([None, None]), tf.string), 'Wilderness_Area': SparseTensorSpec(TensorShape([None, None]), tf.string), 'Aspect': SparseTensorSpec(TensorShape([None, None]), tf.int64), 'Cover_Type': SparseTensorSpec(TensorShape([None, None]), tf.int64), 'Elevation': SparseTensorSpec(TensorShape([None, None]), tf.int64), 'Hillshade_3pm': SparseTensorSpec(TensorShape([None, None]), tf.int64), 'Hillshade_9am': SparseTensorSpec(TensorShape([None, None]), tf.int64), 'Hillshade_Noon': SparseTensorSpec(TensorShape([None, None]), tf.int64), 'Horizontal_Distance_To_Fire_Points': SparseTensorSpec(TensorShape([None, None]), tf.int64), 'Horizontal_Distance_To_Hydrology': SparseTensorSpec(TensorShape([None, None]), tf.int64), 'Horizontal_Distance_To_Roadways': SparseTensorSpec(TensorShape([None, None]), tf.int64), 'Slope': SparseTensorSpec(TensorShape([None, None]), tf.int64), 'Vertical_Distance_To_Hydrology': SparseTensorSpec(TensorShape([None, None]), tf.int64)})), (<PCollection[Analyze/CreateSavedModel/BindTensors/ReplaceWithConstants.None] at 0x7f2a007bbd10>, BeamDatasetMetadata(dataset_metadata={'_schema': feature {\n  name: \"Aspect_xf\"\n  type: FLOAT\n  presence {\n    min_fraction: 1.0\n  }\n  shape {\n  }\n}\nfeature {\n  name: \"Cover_Type_xf\"\n  type: INT\n  presence {\n    min_fraction: 1.0\n  }\n  shape {\n  }\n}\nfeature {\n  name: \"Elevation_xf\"\n  type: FLOAT\n  presence {\n    min_fraction: 1.0\n  }\n  shape {\n  }\n}\nfeature {\n  name: \"Hillshade_3pm_xf\"\n  type: FLOAT\n  presence {\n    min_fraction: 1.0\n  }\n  shape {\n  }\n}\nfeature {\n  name: \"Hillshade_9am_xf\"\n  type: FLOAT\n  presence {\n    min_fraction: 1.0\n  }\n  shape {\n  }\n}\nfeature {\n  name: \"Hillshade_Noon_xf\"\n  type: FLOAT\n  presence {\n    min_fraction: 1.0\n  }\n  shape {\n  }\n}\nfeature {\n  name: \"Horizontal_Distance_To_Fire_Points_xf\"\n  type: FLOAT\n  presence {\n    min_fraction: 1.0\n  }\n  shape {\n  }\n}\nfeature {\n  name: \"Horizontal_Distance_To_Hydrology_xf\"\n  type: FLOAT\n  presence {\n    min_fraction: 1.0\n  }\n  shape {\n  }\n}\nfeature {\n  name: \"Horizontal_Distance_To_Roadways_xf\"\n  type: FLOAT\n  presence {\n    min_fraction: 1.0\n  }\n  shape {\n  }\n}\nfeature {\n  name: \"Slope_xf\"\n  type: FLOAT\n  presence {\n    min_fraction: 1.0\n  }\n  shape {\n  }\n}\nfeature {\n  name: \"Soil_Type_xf\"\n  type: INT\n  int_domain {\n    is_categorical: true\n  }\n  presence {\n    min_fraction: 1.0\n  }\n  shape {\n  }\n}\nfeature {\n  name: \"Vertical_Distance_To_Hydrology_xf\"\n  type: FLOAT\n  presence {\n    min_fraction: 1.0\n  }\n  shape {\n  }\n}\nfeature {\n  name: \"Wilderness_Area_xf\"\n  type: INT\n  int_domain {\n    is_categorical: true\n  }\n  presence {\n    min_fraction: 1.0\n  }\n  shape {\n  }\n}\n}, deferred_metadata=<PCollection[Analyze/ComputeDeferredMetadata.None] at 0x7f29f40b6e90>))) belongs to. Thus noop.\nWARNING:apache_beam.typehints.typehints:Ignoring send_type hint: <class 'NoneType'>\nWARNING:apache_beam.typehints.typehints:Ignoring return_type hint: <class 'NoneType'>\nWARNING:apache_beam.typehints.typehints:Ignoring send_type hint: <class 'NoneType'>\nWARNING:apache_beam.typehints.typehints:Ignoring return_type hint: <class 'NoneType'>\nWARNING:apache_beam.typehints.typehints:Ignoring send_type hint: <class 'NoneType'>\nWARNING:apache_beam.typehints.typehints:Ignoring return_type hint: <class 'NoneType'>\nINFO:tensorflow:Saver not created because there are no variables in the graph to restore\nINFO:tensorflow:Saver not created because there are no variables in the graph to restore\nINFO:tensorflow:Assets added to graph.\nINFO:tensorflow:Assets written to: /home/jupyter/pipeline-root/end-to-end/Transform/transform_graph/33/.temp_path/tftransform_tmp/71ceb24cb7064c7bb2d82babef652bba/assets\nINFO:tensorflow:SavedModel written to: /home/jupyter/pipeline-root/end-to-end/Transform/transform_graph/33/.temp_path/tftransform_tmp/71ceb24cb7064c7bb2d82babef652bba/saved_model.pb\nWARNING:tensorflow:Expected binary or unicode string, got type_url: \"type.googleapis.com/tensorflow.AssetFileDef\"\nvalue: \"\\n\\013\\n\\tConst_3:0\\022\\017Wilderness_Area\"\n\nWARNING:tensorflow:Expected binary or unicode string, got type_url: \"type.googleapis.com/tensorflow.AssetFileDef\"\nvalue: \"\\n\\013\\n\\tConst_5:0\\022\\tSoil_Type\"\n\nINFO:tensorflow:Saver not created because there are no variables in the graph to restore\nWARNING:tensorflow:Expected binary or unicode string, got type_url: \"type.googleapis.com/tensorflow.AssetFileDef\"\nvalue: \"\\n\\013\\n\\tConst_3:0\\022\\017Wilderness_Area\"\n\nWARNING:tensorflow:Expected binary or unicode string, got type_url: \"type.googleapis.com/tensorflow.AssetFileDef\"\nvalue: \"\\n\\013\\n\\tConst_5:0\\022\\tSoil_Type\"\n\nINFO:tensorflow:Saver not created because there are no variables in the graph to restore\nWARNING:tensorflow:Expected binary or unicode string, got type_url: \"type.googleapis.com/tensorflow.AssetFileDef\"\nvalue: \"\\n\\013\\n\\tConst_3:0\\022\\017Wilderness_Area\"\n\nWARNING:tensorflow:Expected binary or unicode string, got type_url: \"type.googleapis.com/tensorflow.AssetFileDef\"\nvalue: \"\\n\\013\\n\\tConst_5:0\\022\\tSoil_Type\"\n\nINFO:tensorflow:Saver not created because there are no variables in the graph to restore\nINFO:absl:Running publisher for Transform\nINFO:absl:MetadataStore with DB connection initialized\nINFO:absl:Component Transform is finished.\nINFO:absl:Component Trainer is running.\nINFO:absl:Running driver for Trainer\nINFO:absl:MetadataStore with DB connection initialized\nINFO:absl:Running executor for Trainer\nINFO:absl:Train on the 'train' split when train_args.splits is not set.\nINFO:absl:Evaluate on the 'eval' split when eval_args.splits is not set.\nINFO:absl:Training model.\nINFO:absl:Model: \"functional_5\"\nINFO:absl:__________________________________________________________________________________________________\nINFO:absl:Layer (type)                    Output Shape         Param #     Connected to                     \nINFO:absl:==================================================================================================\nINFO:absl:Aspect_xf (InputLayer)          [(None,)]            0                                            \nINFO:absl:__________________________________________________________________________________________________\nINFO:absl:Elevation_xf (InputLayer)       [(None,)]            0                                            \nINFO:absl:__________________________________________________________________________________________________\nINFO:absl:Hillshade_3pm_xf (InputLayer)   [(None,)]            0                                            \nINFO:absl:__________________________________________________________________________________________________\nINFO:absl:Hillshade_9am_xf (InputLayer)   [(None,)]            0                                            \nINFO:absl:__________________________________________________________________________________________________\nINFO:absl:Hillshade_Noon_xf (InputLayer)  [(None,)]            0                                            \nINFO:absl:__________________________________________________________________________________________________\nINFO:absl:Horizontal_Distance_To_Fire_Poi [(None,)]            0                                            \nINFO:absl:__________________________________________________________________________________________________\nINFO:absl:Horizontal_Distance_To_Hydrolog [(None,)]            0                                            \nINFO:absl:__________________________________________________________________________________________________\nINFO:absl:Horizontal_Distance_To_Roadways [(None,)]            0                                            \nINFO:absl:__________________________________________________________________________________________________\nINFO:absl:Slope_xf (InputLayer)           [(None,)]            0                                            \nINFO:absl:__________________________________________________________________________________________________\nINFO:absl:Soil_Type_xf (InputLayer)       [(None,)]            0                                            \nINFO:absl:__________________________________________________________________________________________________\nINFO:absl:Vertical_Distance_To_Hydrology_ [(None,)]            0                                            \nINFO:absl:__________________________________________________________________________________________________\nINFO:absl:Wilderness_Area_xf (InputLayer) [(None,)]            0                                            \nINFO:absl:__________________________________________________________________________________________________\nINFO:absl:dense_features_4 (DenseFeatures (None, 10)           0           Aspect_xf[0][0]                  \nINFO:absl:                                                                 Elevation_xf[0][0]               \nINFO:absl:                                                                 Hillshade_3pm_xf[0][0]           \nINFO:absl:                                                                 Hillshade_9am_xf[0][0]           \nINFO:absl:                                                                 Hillshade_Noon_xf[0][0]          \nINFO:absl:                                                                 Horizontal_Distance_To_Fire_Point\nINFO:absl:                                                                 Horizontal_Distance_To_Hydrology_\nINFO:absl:                                                                 Horizontal_Distance_To_Roadways_x\nINFO:absl:                                                                 Slope_xf[0][0]                   \nINFO:absl:                                                                 Soil_Type_xf[0][0]               \nINFO:absl:                                                                 Vertical_Distance_To_Hydrology_xf\nINFO:absl:                                                                 Wilderness_Area_xf[0][0]         \nINFO:absl:__________________________________________________________________________________________________\nINFO:absl:dense_6 (Dense)                 (None, 16)           176         dense_features_4[0][0]           \nINFO:absl:__________________________________________________________________________________________________\nINFO:absl:dense_7 (Dense)                 (None, 8)            136         dense_6[0][0]                    \nINFO:absl:__________________________________________________________________________________________________\nINFO:absl:dense_features_5 (DenseFeatures (None, 46)           0           Aspect_xf[0][0]                  \nINFO:absl:                                                                 Elevation_xf[0][0]               \nINFO:absl:                                                                 Hillshade_3pm_xf[0][0]           \nINFO:absl:                                                                 Hillshade_9am_xf[0][0]           \nINFO:absl:                                                                 Hillshade_Noon_xf[0][0]          \nINFO:absl:                                                                 Horizontal_Distance_To_Fire_Point\nINFO:absl:                                                                 Horizontal_Distance_To_Hydrology_\nINFO:absl:                                                                 Horizontal_Distance_To_Roadways_x\nINFO:absl:                                                                 Slope_xf[0][0]                   \nINFO:absl:                                                                 Soil_Type_xf[0][0]               \nINFO:absl:                                                                 Vertical_Distance_To_Hydrology_xf\nINFO:absl:                                                                 Wilderness_Area_xf[0][0]         \nINFO:absl:__________________________________________________________________________________________________\nINFO:absl:concatenate_2 (Concatenate)     (None, 54)           0           dense_7[0][0]                    \nINFO:absl:                                                                 dense_features_5[0][0]           \nINFO:absl:__________________________________________________________________________________________________\nINFO:absl:dense_8 (Dense)                 (None, 7)            385         concatenate_2[0][0]              \nINFO:absl:==================================================================================================\nINFO:absl:Total params: 697\nINFO:absl:Trainable params: 697\nINFO:absl:Non-trainable params: 0\nINFO:absl:__________________________________________________________________________________________________\nWARNING:tensorflow:Callbacks method `on_train_batch_end` is slow compared to the batch time (batch time: 0.0163s vs `on_train_batch_end` time: 0.2057s). Check your callbacks.\n5000/5000 - 28s - loss: 0.7104 - sparse_categorical_accuracy: 0.7004 - val_loss: 0.6443 - val_sparse_categorical_accuracy: 0.7221\nINFO:tensorflow:Saver not created because there are no variables in the graph to restore\nINFO:tensorflow:Assets written to: /home/jupyter/pipeline-root/end-to-end/Trainer/model/34/serving_model_dir/assets\nINFO:absl:Training complete. Model written to /home/jupyter/pipeline-root/end-to-end/Trainer/model/34/serving_model_dir. ModelRun written to /home/jupyter/pipeline-root/end-to-end/Trainer/model_run/34\nINFO:absl:Running publisher for Trainer\nINFO:absl:MetadataStore with DB connection initialized\nINFO:absl:Component Trainer is finished.\nINFO:absl:Component InfraValidator is running.\nINFO:absl:Running driver for InfraValidator\nINFO:absl:MetadataStore with DB connection initialized\nINFO:absl:Running executor for InfraValidator\nINFO:absl:Unable to register signal handler for non-MainThread (name=Thread-8). SIGTERM will not be handled.\nINFO:absl:InfraValidator will be run in LOAD_AND_QUERY mode.\nINFO:absl:tag_set is not given. Using {'serve'} instead.\nINFO:absl:signature_names are not given. Using ['serving_default'] instead.\nINFO:absl:Creating temp directory at /home/jupyter/pipeline-root/end-to-end/.temp/35/\nINFO:absl:Starting infra validation (attempt 1/5).\nINFO:absl:Starting LocalDockerRunner(image: tensorflow/serving:latest).\nINFO:absl:Running container with parameter {'auto_remove': True, 'detach': True, 'publish_all_ports': True, 'image': 'tensorflow/serving:latest', 'environment': {'MODEL_NAME': 'infra-validation-model', 'MODEL_BASE_PATH': '/model'}, 'mounts': [{'Target': '/model/infra-validation-model/1', 'Source': '/home/jupyter/pipeline-root/end-to-end/.temp/35/infra-validation-model/1598728199', 'Type': 'bind', 'ReadOnly': True}]}\nINFO:absl:Error while obtaining model status:\n<_InactiveRpcError of RPC that terminated with:\n\tstatus = StatusCode.UNAVAILABLE\n\tdetails = \"Socket closed\"\n\tdebug_error_string = \"{\"created\":\"@1598728205.835467623\",\"description\":\"Error received from peer ipv6:[::1]:32769\",\"file\":\"src/core/lib/surface/call.cc\",\"file_line\":1062,\"grpc_message\":\"Socket closed\",\"grpc_status\":14}\"\n>\nINFO:absl:Waiting for model to be loaded...\nINFO:absl:Model is successfully loaded.\nINFO:absl:Stopping LocalDockerRunner(image: tensorflow/serving:latest).\nINFO:absl:Stopping container.\nINFO:absl:Model passed infra validation.\nINFO:absl:Running publisher for InfraValidator\nINFO:absl:MetadataStore with DB connection initialized\nINFO:absl:Component InfraValidator is finished.\nINFO:absl:Component Evaluator is running.\nINFO:absl:Running driver for Evaluator\nINFO:absl:MetadataStore with DB connection initialized\nINFO:absl:Running executor for Evaluator\nINFO:absl:Request was made to ignore the baseline ModelSpec and any change thresholds. This is likely because a baseline model was not provided: updated_config=\nmodel_specs {\n  label_key: \"Cover_Type\"\n}\nslicing_specs {\n}\nslicing_specs {\n  feature_keys: \"Wilderness_Area\"\n}\nmetrics_specs {\n  metrics {\n    class_name: \"SparseCategoricalAccuracy\"\n    threshold {\n      value_threshold {\n        lower_bound {\n          value: 0.5\n        }\n        upper_bound {\n          value: 0.99\n        }\n      }\n    }\n  }\n  metrics {\n    class_name: \"ExampleCount\"\n    threshold {\n    }\n  }\n}\n\nINFO:absl:Using /home/jupyter/pipeline-root/end-to-end/Trainer/model/34/serving_model_dir as  model.\nINFO:absl:The 'example_splits' parameter is not set, using 'eval' split.\nINFO:absl:Evaluating model.\nWARNING:tensorflow:5 out of the last 5 calls to <function recreate_function.<locals>.restored_function_body at 0x7f2999b16710> triggered tf.function retracing. Tracing is expensive and the excessive number of tracings could be due to (1) creating @tf.function repeatedly in a loop, (2) passing tensors with different shapes, (3) passing Python objects instead of tensors. For (1), please define your @tf.function outside of the loop. For (2), @tf.function has experimental_relax_shapes=True option that relaxes argument shapes that can avoid unnecessary retracing. For (3), please refer to https://www.tensorflow.org/tutorials/customization/performance#python_or_tensor_args and https://www.tensorflow.org/api_docs/python/tf/function for  more details.\nWARNING:absl:inputs do not match those expected by the model: input_names=['examples'], found in extracts={}\nINFO:absl:Evaluation complete. Results written to /home/jupyter/pipeline-root/end-to-end/Evaluator/evaluation/36.\nINFO:absl:Checking validation results.\nINFO:absl:Blessing result True written to /home/jupyter/pipeline-root/end-to-end/Evaluator/blessing/36.\nINFO:absl:Running publisher for Evaluator\nINFO:absl:MetadataStore with DB connection initialized\nINFO:absl:Component Evaluator is finished.\nINFO:absl:Component Pusher is running.\nINFO:absl:Running driver for Pusher\nINFO:absl:MetadataStore with DB connection initialized\nINFO:absl:Running executor for Pusher\nINFO:absl:Model version: 1598728239\nINFO:absl:Model written to serving path /home/jupyter/serving_model/1598728239.\nINFO:absl:Model pushed to /home/jupyter/pipeline-root/end-to-end/Pusher/pushed_model/37.\nINFO:absl:Running publisher for Pusher\nINFO:absl:MetadataStore with DB connection initialized\nINFO:absl:Component Pusher is finished.\n"
    }
   ],
   "source": [
    "BeamDagRunner().run(pipeline)"
   ]
  },
  {
   "cell_type": "markdown",
   "metadata": {},
   "source": [
    "### Examine the artifacts created by the pipeline run\n",
    "\n",
    "#### Visualize statistics"
   ]
  },
  {
   "cell_type": "code",
   "execution_count": 60,
   "metadata": {
    "tags": []
   },
   "outputs": [
    {
     "output_type": "stream",
     "name": "stderr",
     "text": "INFO:absl:MetadataStore with DB connection initialized\n"
    },
    {
     "output_type": "display_data",
     "data": {
      "text/plain": "<IPython.core.display.HTML object>",
      "text/html": "<iframe id='facets-iframe' width=\"100%\" height=\"500px\"></iframe>\n        <script>\n        facets_iframe = document.getElementById('facets-iframe');\n        facets_html = '<script src=\"https://cdnjs.cloudflare.com/ajax/libs/webcomponentsjs/1.3.3/webcomponents-lite.js\"><\\/script><link rel=\"import\" href=\"https://raw.githubusercontent.com/PAIR-code/facets/master/facets-dist/facets-jupyter.html\"><facets-overview proto-input=\"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\"></facets-overview>';\n        facets_iframe.srcdoc = facets_html;\n         facets_iframe.id = \"\";\n         setTimeout(() => {\n           facets_iframe.setAttribute('height', facets_iframe.contentWindow.document.body.offsetHeight + 'px')\n         }, 1500)\n         </script>"
     },
     "metadata": {}
    }
   ],
   "source": [
    "with metadata.Metadata(connection_config) as store:\n",
    "    stats_artifacts = store.get_artifacts_by_type(ExampleStatistics.TYPE_NAME)\n",
    "\n",
    "stats_path = stats_artifacts[-1].uri\n",
    "train_stats_file = os.path.join(stats_path, 'train', 'stats_tfrecord')\n",
    "eval_stats_file = os.path.join(stats_path, 'eval', 'stats_tfrecord')\n",
    "train_stats = tfdv.load_statistics(train_stats_file)\n",
    "eval_stats = tfdv.load_statistics(eval_stats_file)\n",
    "tfdv.visualize_statistics(lhs_statistics=eval_stats, rhs_statistics=train_stats,\n",
    "                          lhs_name='EVAL_DATASET', rhs_name='TRAIN_DATASET')"
   ]
  },
  {
   "cell_type": "markdown",
   "metadata": {},
   "source": [
    "#### Visualize model evaluations"
   ]
  },
  {
   "cell_type": "code",
   "execution_count": 63,
   "metadata": {
    "tags": []
   },
   "outputs": [
    {
     "output_type": "stream",
     "name": "stderr",
     "text": "INFO:absl:MetadataStore with DB connection initialized\n"
    }
   ],
   "source": [
    "with metadata.Metadata(connection_config) as store:\n",
    "    model_eval_artifacts = store.get_artifacts_by_type(ModelEvaluation.TYPE_NAME)\n",
    "\n",
    "model_eval_path = model_eval_artifacts[-1].uri\n",
    "eval_result = tfma.load_eval_result(model_eval_path)\n",
    "tfma.view.render_slicing_metrics(\n",
    "    eval_result, slicing_column='Wilderness_Area')"
   ]
  },
  {
   "cell_type": "markdown",
   "metadata": {},
   "source": [
    "## Next steps\n",
    "\n",
    "This concludes your introductory walthrough through TFX pipeline components. In the lab, you used TFX to analyze, understand, and pre-process the dataset and train, analyze, validate, and deploy a multi-class classification model to predict the type of forest cover from cartographic features. You utilized a TFX Interactive Context for prototype development of a TFX pipeline directly in a Jupyter notebook. Next, you worked with the TFDV library to modify your dataset schema to add feature constraints to catch data anamolies that can negatively impact your model's performance. You utilized TFT library for feature proprocessing for consistent feature transformations for your model at training and serving time. Lastly, using the TFMA library, you added model performance constraints to ensure you only push more accurate models than previous runs to production.\n",
    "\n",
    "\n",
    "The next labs in the series will guide through developing a TFX pipeline, deploying and running the pipeline on **AI Platform Pipelines** and automating the pipeline build and deployment processes with **Cloud Build**."
   ]
  },
  {
   "cell_type": "markdown",
   "metadata": {},
   "source": [
    "## License"
   ]
  },
  {
   "cell_type": "markdown",
   "metadata": {},
   "source": [
    "<font size=-1>Licensed under the Apache License, Version 2.0 (the \\\"License\\\");\n",
    "you may not use this file except in compliance with the License.\n",
    "You may obtain a copy of the License at [https://www.apache.org/licenses/LICENSE-2.0](https://www.apache.org/licenses/LICENSE-2.0)\n",
    "\n",
    "Unless required by applicable law or agreed to in writing, software distributed under the License is distributed on an \\\"AS IS\\\" BASIS, WITHOUT WARRANTIES OR CONDITIONS OF ANY KIND, either express or implied.  See the License for the specific language governing permissions and limitations under the License.</font>"
   ]
  }
 ],
 "metadata": {
  "environment": {
   "name": "tf2-2-3-gpu.2-3.m55",
   "type": "gcloud",
   "uri": "gcr.io/deeplearning-platform-release/tf2-2-3-gpu.2-3:m55"
  },
  "kernelspec": {
   "display_name": "Python 3",
   "language": "python",
   "name": "python3"
  },
  "language_info": {
   "codemirror_mode": {
    "name": "ipython",
    "version": 3
   },
   "file_extension": ".py",
   "mimetype": "text/x-python",
   "name": "python",
   "nbconvert_exporter": "python",
   "pygments_lexer": "ipython3",
   "version": "3.7.8-final"
  }
 },
 "nbformat": 4,
 "nbformat_minor": 4
}