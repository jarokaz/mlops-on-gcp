{
 "cells": [
  {
   "cell_type": "markdown",
   "metadata": {},
   "source": [
    "# TFX Components Walk-through"
   ]
  },
  {
   "cell_type": "markdown",
   "metadata": {},
   "source": [
    "The goal of this lab is provide a high level overview of the core TFX components.\n",
    "\n",
    "You will work with the [Covertype Data Set](https://github.com/jarokaz/mlops-labs/blob/master/datasets/covertype/README.md) and build a TFX pipeline that trains and deploy a multi-class classification model to predict the type of forest cover from cartographic features.\n",
    "\n",
    "\n",
    "**Setup Note:**\n",
    "Currently, TFMA visualizations do not render properly in JupyterLab. It is recommended to run this notebook in Jupyter Classic Notebook. To switch to Classic Notebook select *Launch Classic Notebook* from the *Help* menu."
   ]
  },
  {
   "cell_type": "code",
   "execution_count": 1,
   "metadata": {},
   "outputs": [
    {
     "name": "stderr",
     "output_type": "stream",
     "text": [
      "/home/jupyter/.local/lib/python3.7/site-packages/tfx/orchestration/data_types.py:191: UserWarning: RuntimeParameter is only supported on KubeflowDagRunner currently.\n",
      "  warnings.warn('RuntimeParameter is only supported on KubeflowDagRunner '\n"
     ]
    }
   ],
   "source": [
    "import absl\n",
    "import os\n",
    "import tempfile\n",
    "import time\n",
    "\n",
    "import tensorflow as tf\n",
    "import tensorflow_data_validation as tfdv\n",
    "import tensorflow_model_analysis as tfma\n",
    "import tfx\n",
    "\n",
    "from tensorflow_metadata.proto.v0 import schema_pb2, statistics_pb2, anomalies_pb2\n",
    "from tensorflow_transform.tf_metadata import schema_utils\n",
    "\n",
    "from ml_metadata.metadata_store import metadata_store\n",
    "from ml_metadata.proto import metadata_store_pb2\n",
    "\n",
    "from tfx.components import CsvExampleGen\n",
    "from tfx.components import Evaluator\n",
    "from tfx.components import ExampleValidator\n",
    "from tfx.components import Pusher\n",
    "from tfx.components import ResolverNode\n",
    "from tfx.components import SchemaGen\n",
    "from tfx.components import StatisticsGen\n",
    "from tfx.components import Trainer\n",
    "from tfx.components import Transform\n",
    "from tfx.components.base import executor_spec\n",
    "from tfx.components.common_nodes.importer_node import ImporterNode\n",
    "from tfx.components.trainer import executor as trainer_executor\n",
    "\n",
    "from tfx.dsl.experimental import latest_blessed_model_resolver\n",
    "\n",
    "from tfx.orchestration.beam.beam_dag_runner import BeamDagRunner\n",
    "from tfx.orchestration.ai_platform_pipelines import ai_platform_pipelines_dag_runner\n",
    "from tfx.orchestration.metadata import sqlite_metadata_connection_config\n",
    "from tfx.orchestration.pipeline import Pipeline\n",
    "from tfx.orchestration import metadata\n",
    "\n",
    "from tfx.proto import evaluator_pb2\n",
    "from tfx.proto import example_gen_pb2\n",
    "from tfx.proto import infra_validator_pb2\n",
    "from tfx.proto import pusher_pb2\n",
    "from tfx.proto import trainer_pb2\n",
    "from tfx.proto.evaluator_pb2 import SingleSlicingSpec\n",
    "\n",
    "from tfx.utils.dsl_utils import external_input\n",
    "\n",
    "from tfx.types import Channel\n",
    "from tfx.types.standard_artifacts import Examples\n",
    "from tfx.types.standard_artifacts import ExampleStatistics\n",
    "from tfx.types.standard_artifacts import ExampleAnomalies\n",
    "from tfx.types.standard_artifacts import Model\n",
    "from tfx.types.standard_artifacts import ModelEvaluation\n",
    "from tfx.types.standard_artifacts import ModelBlessing\n",
    "from tfx.types.standard_artifacts import InfraBlessing"
   ]
  },
  {
   "cell_type": "markdown",
   "metadata": {},
   "source": [
    "## Set up the environment\n",
    "### Verify TFX SDK Version"
   ]
  },
  {
   "cell_type": "markdown",
   "metadata": {},
   "source": [
    "**Note**: this lab was developed and tested with the following TF ecosystem package versions:\n",
    "\n",
    "`Tensorflow Version: 2.3.0`  \n",
    "`TFX Version: 0.23.0.caip20200818`  \n",
    "`TFDV Version: 0.23.0`  \n",
    "`TFMA Version: 0.23.0`\n",
    "\n"
   ]
  },
  {
   "cell_type": "code",
   "execution_count": 2,
   "metadata": {
    "tags": []
   },
   "outputs": [
    {
     "name": "stdout",
     "output_type": "stream",
     "text": [
      "Tensorflow Version: 2.3.0\n",
      "TFX Version: 0.23.0.caip20200818\n",
      "TFDV Version: 0.23.0\n",
      "TFMA Version: 0.23.0\n"
     ]
    }
   ],
   "source": [
    "print(\"Tensorflow Version:\", tf.__version__)\n",
    "print(\"TFX Version:\", tfx.__version__)\n",
    "print(\"TFDV Version:\", tfdv.__version__)\n",
    "print(\"TFMA Version:\", tfma.VERSION_STRING)\n",
    "\n",
    "absl.logging.set_verbosity(absl.logging.INFO)"
   ]
  },
  {
   "cell_type": "markdown",
   "metadata": {},
   "source": [
    "If the versions above do not match, update your packages in the current Jupyter kernel. \n",
    "\n",
    "### Update `PATH` with the location of TFX SDK."
   ]
  },
  {
   "cell_type": "code",
   "execution_count": 5,
   "metadata": {},
   "outputs": [],
   "source": [
    "os.environ['PATH'] += os.pathsep + '/home/jupyter/.local/bin'"
   ]
  },
  {
   "cell_type": "markdown",
   "metadata": {},
   "source": [
    "## Configure lab settings\n",
    "\n",
    "Set constants, location paths and other environment settings. "
   ]
  },
  {
   "cell_type": "code",
   "execution_count": 6,
   "metadata": {},
   "outputs": [],
   "source": [
    "PROJECT_ID = 'mlops-dev-env'\n",
    "GCS_BUCKET_NAME = 'mlops-dev-workspace'\n",
    "MODEL_STORE = f'gs://{GCS_BUCKET_NAME}/model-store'"
   ]
  },
  {
   "cell_type": "markdown",
   "metadata": {},
   "source": [
    "### Settings for Beam runner"
   ]
  },
  {
   "cell_type": "code",
   "execution_count": 7,
   "metadata": {},
   "outputs": [],
   "source": [
    "LOCAL_PIPELINE_ROOT= os.path.join(os.sep, 'home', 'jupyter', 'pipeline-root')\n",
    "METADATA_PATH = os.path.join(LOCAL_PIPELINE_ROOT, 'metadata.sqlite')\n",
    "metadata_connection_config=sqlite_metadata_connection_config(METADATA_PATH)\n",
    "connection_config = metadata_store_pb2.ConnectionConfig()\n",
    "connection_config.sqlite.filename_uri = METADATA_PATH\n",
    "connection_config.sqlite.connection_mode = 3 # READWRITE_OPENCREATE"
   ]
  },
  {
   "cell_type": "markdown",
   "metadata": {},
   "source": [
    "### Settings for Managed Pipelines runner"
   ]
  },
  {
   "cell_type": "code",
   "execution_count": 8,
   "metadata": {},
   "outputs": [],
   "source": [
    "GCS_PIPELINE_ROOT = f'gs://{GCS_BUCKET_NAME}/pipeline-root'\n",
    "BASE_IMAGE = f'gcr.io/caip-pipelines-assets/tfx:{tfx.__version__}'"
   ]
  },
  {
   "cell_type": "markdown",
   "metadata": {},
   "source": [
    "### Source dataset"
   ]
  },
  {
   "cell_type": "code",
   "execution_count": 9,
   "metadata": {},
   "outputs": [],
   "source": [
    "DATA_ROOT = 'gs://workshop-datasets/covertype/small'"
   ]
  },
  {
   "cell_type": "markdown",
   "metadata": {},
   "source": [
    "## Configure TFX Pipeline"
   ]
  },
  {
   "cell_type": "markdown",
   "metadata": {},
   "source": [
    "### Ingesting data using ExampleGen\n",
    "\n",
    "In any ML development process the first step  is to ingest the training and test datasets. The `ExampleGen` component ingests data into a TFX pipeline. It consumes external files/services to generate a set file files in the `TFRecord` format,  which will be used by other TFX components. It can also shuffle the data and split into an arbitrary number of partitions.\n",
    "\n",
    "<img src=https://github.com/GoogleCloudPlatform/mlops-on-gcp/raw/master/images/ExampleGen.png width=\"300\">\n",
    "\n",
    "\n",
    "In this exercise, you use the `CsvExampleGen` specialization of `ExampleGen` to ingest CSV files from a GCS location. The component is configured to split the input data into two splits - `train` and `eval` - using 4:1 ratio.  "
   ]
  },
  {
   "cell_type": "code",
   "execution_count": 10,
   "metadata": {
    "tags": []
   },
   "outputs": [],
   "source": [
    "output_config = example_gen_pb2.Output(\n",
    "    split_config=example_gen_pb2.SplitConfig(splits=[\n",
    "        example_gen_pb2.SplitConfig.Split(name='train', hash_buckets=4),\n",
    "        example_gen_pb2.SplitConfig.Split(name='eval', hash_buckets=1)\n",
    "    ]))\n",
    "\n",
    "example_gen = tfx.components.CsvExampleGen(\n",
    "    instance_name='Data_Extraction_Spliting',\n",
    "    input_base=DATA_ROOT,\n",
    "    output_config=output_config\n",
    ")"
   ]
  },
  {
   "cell_type": "markdown",
   "metadata": {},
   "source": [
    "#### Create a simple pipeline to test the component"
   ]
  },
  {
   "cell_type": "code",
   "execution_count": 11,
   "metadata": {
    "tags": []
   },
   "outputs": [],
   "source": [
    "pipeline_name = 'example_gen_only'\n",
    "components = [example_gen]\n",
    "\n",
    "pipeline = Pipeline(\n",
    "    pipeline_name=pipeline_name,\n",
    "    pipeline_root=f'{LOCAL_PIPELINE_ROOT}/{pipeline_name}',\n",
    "    metadata_connection_config=metadata_connection_config,\n",
    "    components=components\n",
    ")"
   ]
  },
  {
   "cell_type": "markdown",
   "metadata": {},
   "source": [
    "#### Run the pipeline"
   ]
  },
  {
   "cell_type": "code",
   "execution_count": 12,
   "metadata": {
    "tags": []
   },
   "outputs": [
    {
     "name": "stderr",
     "output_type": "stream",
     "text": [
      "WARNING:apache_beam.runners.interactive.interactive_environment:Dependencies required for Interactive Beam PCollection visualization are not available, please use: `pip install apache-beam[interactive]` to install necessary dependencies to enable all data visualization features.\n"
     ]
    },
    {
     "data": {
      "application/javascript": [
       "\n",
       "        if (typeof window.interactive_beam_jquery == 'undefined') {\n",
       "          var jqueryScript = document.createElement('script');\n",
       "          jqueryScript.src = 'https://code.jquery.com/jquery-3.4.1.slim.min.js';\n",
       "          jqueryScript.type = 'text/javascript';\n",
       "          jqueryScript.onload = function() {\n",
       "            var datatableScript = document.createElement('script');\n",
       "            datatableScript.src = 'https://cdn.datatables.net/1.10.20/js/jquery.dataTables.min.js';\n",
       "            datatableScript.type = 'text/javascript';\n",
       "            datatableScript.onload = function() {\n",
       "              window.interactive_beam_jquery = jQuery.noConflict(true);\n",
       "              window.interactive_beam_jquery(document).ready(function($){\n",
       "                \n",
       "              });\n",
       "            }\n",
       "            document.head.appendChild(datatableScript);\n",
       "          };\n",
       "          document.head.appendChild(jqueryScript);\n",
       "        } else {\n",
       "          window.interactive_beam_jquery(document).ready(function($){\n",
       "            \n",
       "          });\n",
       "        }"
      ]
     },
     "metadata": {},
     "output_type": "display_data"
    },
    {
     "data": {
      "application/javascript": [
       "\n",
       "        var import_html = () => {\n",
       "          ['https://raw.githubusercontent.com/PAIR-code/facets/1.0.0/facets-dist/facets-jupyter.html'].forEach(href => {\n",
       "            var link = document.createElement('link');\n",
       "            link.rel = 'import'\n",
       "            link.href = href;\n",
       "            document.head.appendChild(link);\n",
       "          });\n",
       "        }\n",
       "        if ('import' in document.createElement('link')) {\n",
       "          import_html();\n",
       "        } else {\n",
       "          var webcomponentScript = document.createElement('script');\n",
       "          webcomponentScript.src = 'https://cdnjs.cloudflare.com/ajax/libs/webcomponentsjs/1.3.3/webcomponents-lite.js';\n",
       "          webcomponentScript.type = 'text/javascript';\n",
       "          webcomponentScript.onload = function(){\n",
       "            import_html();\n",
       "          };\n",
       "          document.head.appendChild(webcomponentScript);\n",
       "        }"
      ]
     },
     "metadata": {},
     "output_type": "display_data"
    },
    {
     "name": "stderr",
     "output_type": "stream",
     "text": [
      "INFO:absl:Component CsvExampleGen.Data_Extraction_Spliting depends on [].\n",
      "INFO:absl:Component CsvExampleGen.Data_Extraction_Spliting is scheduled.\n",
      "INFO:absl:Component CsvExampleGen.Data_Extraction_Spliting is running.\n",
      "INFO:absl:Running driver for CsvExampleGen.Data_Extraction_Spliting\n",
      "INFO:absl:MetadataStore with DB connection initialized\n",
      "INFO:absl:select span and version = (0, None)\n",
      "INFO:absl:latest span and version = (0, None)\n",
      "INFO:absl:Running executor for CsvExampleGen.Data_Extraction_Spliting\n",
      "INFO:absl:Generating examples.\n",
      "INFO:absl:Processing input csv data gs://workshop-datasets/covertype/small/* to TFExample.\n",
      "WARNING:apache_beam.io.tfrecordio:Couldn't find python-snappy so the implementation of _TFRecordUtil._masked_crc32c is not as fast as it could be.\n",
      "INFO:absl:Examples generated.\n",
      "INFO:absl:Running publisher for CsvExampleGen.Data_Extraction_Spliting\n",
      "INFO:absl:MetadataStore with DB connection initialized\n",
      "INFO:absl:Component CsvExampleGen.Data_Extraction_Spliting is finished.\n"
     ]
    }
   ],
   "source": [
    "BeamDagRunner().run(pipeline)"
   ]
  },
  {
   "cell_type": "markdown",
   "metadata": {},
   "source": [
    "#### Examine artifacts generated by the pipeline run"
   ]
  },
  {
   "cell_type": "code",
   "execution_count": 13,
   "metadata": {
    "tags": []
   },
   "outputs": [
    {
     "name": "stderr",
     "output_type": "stream",
     "text": [
      "INFO:absl:MetadataStore with DB connection initialized\n"
     ]
    },
    {
     "name": "stdout",
     "output_type": "stream",
     "text": [
      "/home/jupyter/pipeline-root/example_gen_only/CsvExampleGen.Data_Extraction_Spliting/examples/1\n",
      "{'split_names': string_value: \"[\\\"train\\\", \\\"eval\\\"]\"\n",
      "}\n"
     ]
    }
   ],
   "source": [
    "with metadata.Metadata(connection_config) as store:\n",
    "    examples_artifacts = store.get_artifacts_by_type(Examples.TYPE_NAME)\n",
    "\n",
    "for element in examples_artifacts:\n",
    "    print(element.uri)\n",
    "    print(element.properties)"
   ]
  },
  {
   "cell_type": "markdown",
   "metadata": {},
   "source": [
    "#### Examine the ingested data"
   ]
  },
  {
   "cell_type": "code",
   "execution_count": 14,
   "metadata": {
    "tags": []
   },
   "outputs": [
    {
     "name": "stdout",
     "output_type": "stream",
     "text": [
      "Wilderness_Area: [b'Commanche']\n",
      "Vertical_Distance_To_Hydrology: [101]\n",
      "Cover_Type: [1]\n",
      "Soil_Type: [b'C7757']\n",
      "Hillshade_3pm: [157]\n",
      "Horizontal_Distance_To_Fire_Points: [1871]\n",
      "Hillshade_Noon: [247]\n",
      "Aspect: [183]\n",
      "Hillshade_9am: [223]\n",
      "Horizontal_Distance_To_Hydrology: [648]\n",
      "Horizontal_Distance_To_Roadways: [757]\n",
      "Slope: [9]\n",
      "Elevation: [3142]\n",
      "******\n",
      "Hillshade_9am: [245]\n",
      "Aspect: [124]\n",
      "Horizontal_Distance_To_Hydrology: [60]\n",
      "Elevation: [1967]\n",
      "Horizontal_Distance_To_Roadways: [124]\n",
      "Slope: [16]\n",
      "Wilderness_Area: [b'Cache']\n",
      "Vertical_Distance_To_Hydrology: [9]\n",
      "Soil_Type: [b'C2704']\n",
      "Cover_Type: [2]\n",
      "Hillshade_3pm: [105]\n",
      "Horizontal_Distance_To_Fire_Points: [451]\n",
      "Hillshade_Noon: [227]\n",
      "******\n"
     ]
    }
   ],
   "source": [
    "examples_uri = examples_artifacts[-1].uri\n",
    "tfrecord_filenames = [os.path.join(examples_uri, 'train', name)\n",
    "                      for name in os.listdir(os.path.join(examples_uri, 'train'))]\n",
    "dataset = tf.data.TFRecordDataset(tfrecord_filenames, compression_type=\"GZIP\")\n",
    "for tfrecord in dataset.take(2):\n",
    "  example = tf.train.Example()\n",
    "  example.ParseFromString(tfrecord.numpy())\n",
    "  for name, feature in example.features.feature.items():\n",
    "    if feature.HasField('bytes_list'):\n",
    "        value = feature.bytes_list.value\n",
    "    if feature.HasField('float_list'):\n",
    "        value = feature.float_list.value\n",
    "    if feature.HasField('int64_list'):\n",
    "        value = feature.int64_list.value\n",
    "    print('{}: {}'.format(name, value))\n",
    "  print('******')"
   ]
  },
  {
   "cell_type": "markdown",
   "metadata": {},
   "source": [
    "### Generating statistics using StatisticsGen\n",
    "\n",
    "The `StatisticsGen`  component generates data statistics that can be used by other TFX components. StatisticsGen uses [TensorFlow Data Validation](https://www.tensorflow.org/tfx/data_validation/get_started). `StatisticsGen` generate statistics for each split in the `ExampleGen` component's output. In our case there two splits: `train` and `eval`.\n",
    "\n",
    "<img src=https://github.com/GoogleCloudPlatform/mlops-on-gcp/raw/master/images/StatisticsGen.png width=\"200\">"
   ]
  },
  {
   "cell_type": "code",
   "execution_count": 15,
   "metadata": {
    "tags": []
   },
   "outputs": [
    {
     "name": "stderr",
     "output_type": "stream",
     "text": [
      "INFO:absl:Excluding no splits because exclude_splits is not set.\n"
     ]
    }
   ],
   "source": [
    "statistics_gen = tfx.components.StatisticsGen(\n",
    "    instance_name='Statistics_Generation',\n",
    "    examples=example_gen.outputs['examples'])"
   ]
  },
  {
   "cell_type": "markdown",
   "metadata": {},
   "source": [
    "### Infering data schema using SchemaGen\n",
    "\n",
    "Some TFX components use a description input data called a schema. The schema is an instance of `schema.proto`. It can specify data types for feature values, whether a feature has to be present in all examples, allowed value ranges, and other properties. `SchemaGen` automatically generates the schema by inferring types, categories, and ranges from data statistics. The auto-generated schema is best-effort and only tries to infer basic properties of the data. It is expected that developers review and modify it as needed. `SchemaGen` uses [TensorFlow Data Validation](https://www.tensorflow.org/tfx/data_validation/get_started).\n",
    "\n",
    "The `SchemaGen` component generates the schema using the statistics for the `train` split. The statistics for other splits are ignored.\n",
    "\n",
    "<img src=https://github.com/GoogleCloudPlatform/mlops-on-gcp/raw/master/images/SchemaGen.png width=\"200\">"
   ]
  },
  {
   "cell_type": "code",
   "execution_count": 16,
   "metadata": {
    "tags": []
   },
   "outputs": [
    {
     "name": "stderr",
     "output_type": "stream",
     "text": [
      "INFO:absl:Excluding no splits because exclude_splits is not set.\n"
     ]
    }
   ],
   "source": [
    "schema_gen = SchemaGen(\n",
    "    statistics=statistics_gen.outputs['statistics'],\n",
    "    infer_feature_shape=False)"
   ]
  },
  {
   "cell_type": "markdown",
   "metadata": {},
   "source": [
    "### Validating data with ExampleValidator\n",
    "\n",
    "The `ExampleValidator` component identifies anomalies in data.  It identifies anomalies by comparing data statistics computed by the `StatisticsGen` component against a schema generated by `SchemaGen` or imported by `ImporterNode`.\n",
    "\n",
    "`ExampleValidator` can detect different classes of anomalies. For example it can:\n",
    "\n",
    "- perform validity checks by comparing data statistics against a schema \n",
    "- detect training-serving skew by comparing training and serving data.\n",
    "- detect data drift by looking at a series of data.\n",
    "\n",
    "\n",
    "The `ExampleValidator` component validates the data in the `eval` split only. Other splits are ignored. \n",
    "\n",
    "<img src=https://github.com/GoogleCloudPlatform/mlops-on-gcp/raw/master/images/ExampleValidator.png width=\"350\">"
   ]
  },
  {
   "cell_type": "code",
   "execution_count": 17,
   "metadata": {
    "tags": []
   },
   "outputs": [
    {
     "name": "stderr",
     "output_type": "stream",
     "text": [
      "INFO:absl:Excluding no splits because exclude_splits is not set.\n"
     ]
    }
   ],
   "source": [
    "example_validator = ExampleValidator(\n",
    "    statistics=statistics_gen.outputs['statistics'],\n",
    "    schema=schema_gen.outputs['schema'],\n",
    "    instance_name=\"Data_Validation\"\n",
    ")"
   ]
  },
  {
   "cell_type": "markdown",
   "metadata": {},
   "source": [
    "### Preprocessing data with Transform\n",
    "\n",
    "The `Transform` component performs data transformation and feature engineering. The `Transform` component consumes `tf.Examples` emitted from the `ExampleGen` component and emits the transformed feature data and the `SavedModel` graph that was used to process the data. The emitted `SavedModel`  can then be used by serving components to make sure that the same data pre-processing logic is applied at training and serving.\n",
    "\n",
    "The `Transform` component requires more code than many other components because of the arbitrary complexity of the feature engineering that you may need for the data and/or model that you're working with. It requires code files to be available which define the processing needed.\n",
    "\n",
    "<img src=https://github.com/GoogleCloudPlatform/mlops-on-gcp/raw/master/images/Transform.png width=\"400\">\n",
    "\n",
    "#### Define the pre-processing module\n",
    "\n",
    "To configure `Trainsform`, you need to encapsulate your pre-processing code in the Python `preprocessing_fn` function and save it to a  python module that is then provided to the Transform component as an input. This module will be loaded by transform and the `preprocessing_fn` function will be called when the `Transform` component runs.\n",
    "\n",
    "In most cases, your implementation of the `preprocessing_fn` makes extensive use of [TensorFlow Transform](https://www.tensorflow.org/tfx/guide/tft) for performing feature engineering on your dataset."
   ]
  },
  {
   "cell_type": "code",
   "execution_count": 18,
   "metadata": {},
   "outputs": [],
   "source": [
    "FEATURES_MODULE = 'features.py'"
   ]
  },
  {
   "cell_type": "code",
   "execution_count": 19,
   "metadata": {
    "tags": []
   },
   "outputs": [
    {
     "name": "stdout",
     "output_type": "stream",
     "text": [
      "Overwriting features.py\n"
     ]
    }
   ],
   "source": [
    "%%writefile {FEATURES_MODULE}\n",
    "# Copyright 2020 Google LLC. All Rights Reserved.\n",
    "#\n",
    "# Licensed under the Apache License, Version 2.0 (the \"License\");\n",
    "# you may not use this file except in compliance with the License.\n",
    "# You may obtain a copy of the License at\n",
    "#\n",
    "#     http://www.apache.org/licenses/LICENSE-2.0\n",
    "#\n",
    "# Unless required by applicable law or agreed to in writing, software\n",
    "# distributed under the License is distributed on an \"AS IS\" BASIS,\n",
    "# WITHOUT WARRANTIES OR CONDITIONS OF ANY KIND, either express or implied.\n",
    "# See the License for the specific language governing permissions and\n",
    "# limitations under the License.\n",
    "\"\"\"Covertype model  taxi model features.\"\"\"\n",
    "import tensorflow as tf\n",
    "import tensorflow_model_analysis as tfma\n",
    "import tensorflow_transform as tft\n",
    "from tensorflow_transform.tf_metadata import schema_utils\n",
    "\n",
    "NUMERIC_FEATURE_KEYS = [\n",
    "    'Elevation', 'Aspect', 'Slope', 'Horizontal_Distance_To_Hydrology',\n",
    "    'Vertical_Distance_To_Hydrology', 'Horizontal_Distance_To_Roadways',\n",
    "    'Hillshade_9am', 'Hillshade_Noon', 'Hillshade_3pm',\n",
    "    'Horizontal_Distance_To_Fire_Points'\n",
    "]\n",
    "\n",
    "CATEGORICAL_FEATURE_KEYS = ['Wilderness_Area', 'Soil_Type']\n",
    "\n",
    "LABEL_KEY = 'Cover_Type'\n",
    "NUM_CLASSES = 7\n",
    "\n",
    "def transformed_name(key):\n",
    "  return key + '_xf'"
   ]
  },
  {
   "cell_type": "code",
   "execution_count": 20,
   "metadata": {},
   "outputs": [],
   "source": [
    "TRANSFORM_MODULE = 'preprocessing.py'"
   ]
  },
  {
   "cell_type": "code",
   "execution_count": 21,
   "metadata": {
    "tags": []
   },
   "outputs": [
    {
     "name": "stdout",
     "output_type": "stream",
     "text": [
      "Overwriting preprocessing.py\n"
     ]
    }
   ],
   "source": [
    "%%writefile {TRANSFORM_MODULE}\n",
    "# Copyright 2020 Google LLC. All Rights Reserved.\n",
    "#\n",
    "# Licensed under the Apache License, Version 2.0 (the \"License\");\n",
    "# you may not use this file except in compliance with the License.\n",
    "# You may obtain a copy of the License at\n",
    "#\n",
    "#     http://www.apache.org/licenses/LICENSE-2.0\n",
    "#\n",
    "# Unless required by applicable law or agreed to in writing, software\n",
    "# distributed under the License is distributed on an \"AS IS\" BASIS,\n",
    "# WITHOUT WARRANTIES OR CONDITIONS OF ANY KIND, either express or implied.\n",
    "# See the License for the specific language governing permissions and\n",
    "# limitations under the License.\n",
    "\"\"\"Covertype preprocessing.\n",
    "This file defines a template for TFX Transform component.\n",
    "\"\"\"\n",
    "\n",
    "import tensorflow as tf\n",
    "import tensorflow_transform as tft\n",
    "\n",
    "import features\n",
    "\n",
    "def _fill_in_missing(x):\n",
    "  \"\"\"Replace missing values in a SparseTensor.\n",
    "  Fills in missing values of `x` with '' or 0, and converts to a dense tensor.\n",
    "  Args:\n",
    "    x: A `SparseTensor` of rank 2.  Its dense shape should have size at most 1\n",
    "      in the second dimension.\n",
    "  Returns:\n",
    "    A rank 1 tensor where missing values of `x` have been filled in.\n",
    "  \"\"\"\n",
    "  default_value = '' if x.dtype == tf.string else 0\n",
    "  return tf.squeeze(\n",
    "      tf.sparse.to_dense(\n",
    "          tf.SparseTensor(x.indices, x.values, [x.dense_shape[0], 1]),\n",
    "          default_value),\n",
    "      axis=1)\n",
    "\n",
    "def preprocessing_fn(inputs):\n",
    "  \"\"\"Preprocesses Covertype Dataset.\"\"\"\n",
    "\n",
    "  outputs = {}\n",
    "\n",
    "  # Scale numerical features\n",
    "  for key in features.NUMERIC_FEATURE_KEYS:\n",
    "    outputs[features.transformed_name(key)] = tft.scale_to_z_score(\n",
    "        _fill_in_missing(inputs[key]))\n",
    "\n",
    "  # Generate vocabularies and maps categorical features\n",
    "  for key in features.CATEGORICAL_FEATURE_KEYS:\n",
    "    outputs[features.transformed_name(key)] = tft.compute_and_apply_vocabulary(\n",
    "        x=_fill_in_missing(inputs[key]), num_oov_buckets=1, vocab_filename=key)\n",
    "\n",
    "  # Convert Cover_Type to dense tensor\n",
    "  outputs[features.transformed_name(features.LABEL_KEY)] = _fill_in_missing(\n",
    "      inputs[features.LABEL_KEY])\n",
    "\n",
    "  return outputs\n"
   ]
  },
  {
   "cell_type": "markdown",
   "metadata": {},
   "source": [
    "Configure the component."
   ]
  },
  {
   "cell_type": "code",
   "execution_count": 22,
   "metadata": {
    "tags": []
   },
   "outputs": [
    {
     "name": "stderr",
     "output_type": "stream",
     "text": [
      "WARNING:absl:Only one of `artifacts` and `matching_channel_name` should be set.\n"
     ]
    }
   ],
   "source": [
    "transform = Transform(\n",
    "    examples=example_gen.outputs['examples'],\n",
    "    schema=schema_gen.outputs['schema'],\n",
    "    module_file=TRANSFORM_MODULE)"
   ]
  },
  {
   "cell_type": "markdown",
   "metadata": {},
   "source": [
    "### Train with the `Trainer` component\n",
    "\n",
    "The `Trainer` component trains a model using TensorFlow.\n",
    "\n",
    "`Trainer` takes:\n",
    "\n",
    "- tf.Examples used for training and eval.\n",
    "- A user provided module file that defines the trainer logic.\n",
    "- A data schema created by `SchemaGen` or imported by `ImporterNode`.\n",
    "- A proto definition of train args and eval args.\n",
    "- An optional transform graph produced by upstream Transform component.\n",
    "- An optional base models used for scenarios such as warmstart.\n",
    "\n",
    "<img src=https://github.com/GoogleCloudPlatform/mlops-on-gcp/raw/master/images/Trainer.png width=\"400\">\n",
    "\n",
    "\n",
    "#### Define the trainer module\n",
    "\n",
    "To configure `Trainer`, you need to encapsulate your training code in a Python module that is then provided to the `Trainer` as an input. \n"
   ]
  },
  {
   "cell_type": "code",
   "execution_count": 23,
   "metadata": {},
   "outputs": [],
   "source": [
    "TRAINER_MODULE_FILE = 'model.py'"
   ]
  },
  {
   "cell_type": "code",
   "execution_count": 24,
   "metadata": {
    "tags": []
   },
   "outputs": [
    {
     "name": "stdout",
     "output_type": "stream",
     "text": [
      "Overwriting model.py\n"
     ]
    }
   ],
   "source": [
    "%%writefile {TRAINER_MODULE_FILE}\n",
    "# Copyright 2020 Google LLC. All Rights Reserved.\n",
    "#\n",
    "# Licensed under the Apache License, Version 2.0 (the \"License\");\n",
    "# you may not use this file except in compliance with the License.\n",
    "# You may obtain a copy of the License at\n",
    "#\n",
    "#     http://www.apache.org/licenses/LICENSE-2.0\n",
    "#\n",
    "# Unless required by applicable law or agreed to in writing, software\n",
    "# distributed under the License is distributed on an \"AS IS\" BASIS,\n",
    "# WITHOUT WARRANTIES OR CONDITIONS OF ANY KIND, either express or implied.\n",
    "# See the License for the specific language governing permissions and\n",
    "# limitations under the License.\n",
    "\"\"\"The Covertype classifier DNN keras model.\"\"\"\n",
    "\n",
    "import absl\n",
    "import os\n",
    "\n",
    "import tensorflow as tf\n",
    "import tensorflow_model_analysis as tfma\n",
    "import tensorflow_transform as tft\n",
    "from tensorflow_transform.tf_metadata import schema_utils\n",
    "\n",
    "import features\n",
    "\n",
    "HIDDEN_UNITS = [16, 8]\n",
    "LEARNING_RATE = 0.001\n",
    "TRAIN_BATCH_SIZE = 64\n",
    "EVAL_BATCH_SIZE = 64\n",
    "\n",
    "LOCAL_LOG_DIR = '/tmp/logs'\n",
    "\n",
    "\n",
    "def _gzip_reader_fn(filenames):\n",
    "  \"\"\"Small utility returning a record reader that can read gzip'ed files.\"\"\"\n",
    "  return tf.data.TFRecordDataset(filenames, compression_type='GZIP')\n",
    "\n",
    "\n",
    "def _get_serve_tf_examples_fn(model, tf_transform_output):\n",
    "  \"\"\"Returns a function that parses a serialized tf.Example and applies TFT.\"\"\"\n",
    "\n",
    "  model.tft_layer = tf_transform_output.transform_features_layer()\n",
    "\n",
    "  @tf.function\n",
    "  def serve_tf_examples_fn(serialized_tf_examples):\n",
    "    \"\"\"Returns the output to be used in the serving signature.\"\"\"\n",
    "    feature_spec = tf_transform_output.raw_feature_spec()\n",
    "    feature_spec.pop(features.LABEL_KEY)\n",
    "    parsed_features = tf.io.parse_example(serialized_tf_examples, feature_spec)\n",
    "\n",
    "    transformed_features = model.tft_layer(parsed_features)\n",
    "\n",
    "    return model(transformed_features)\n",
    "\n",
    "  return serve_tf_examples_fn\n",
    "\n",
    "\n",
    "def _input_fn(file_pattern, tf_transform_output, batch_size=200):\n",
    "  \"\"\"Generates features and label for tuning/training.\n",
    "  Args:\n",
    "    file_pattern: input tfrecord file pattern.\n",
    "    tf_transform_output: A TFTransformOutput.\n",
    "    batch_size: representing the number of consecutive elements of returned\n",
    "      dataset to combine in a single batch\n",
    "  Returns:\n",
    "    A dataset that contains (features, indices) tuple where features is a\n",
    "      dictionary of Tensors, and indices is a single Tensor of label indices.\n",
    "  \"\"\"\n",
    "  transformed_feature_spec = (\n",
    "      tf_transform_output.transformed_feature_spec().copy())\n",
    "\n",
    "  dataset = tf.data.experimental.make_batched_features_dataset(\n",
    "      file_pattern=file_pattern,\n",
    "      batch_size=batch_size,\n",
    "      features=transformed_feature_spec,\n",
    "      reader=_gzip_reader_fn,\n",
    "      label_key=features.transformed_name(features.LABEL_KEY))\n",
    "\n",
    "  return dataset\n",
    "\n",
    "def _build_keras_model(tf_transform_output, hidden_units, learning_rate):\n",
    "  \"\"\"Creates a DNN Keras model for classifying taxi data.\n",
    "  Args:\n",
    "    hidden_units: [int], the layer sizes of the DNN (input layer first).\n",
    "  Returns:\n",
    "    A keras Model.\n",
    "  \"\"\"\n",
    "\n",
    "  numeric_columns = [\n",
    "      tf.feature_column.numeric_column(\n",
    "          key=features.transformed_name(key), \n",
    "          shape=())\n",
    "      for key in features.NUMERIC_FEATURE_KEYS\n",
    "  ]\n",
    "\n",
    "  categorical_columns = [\n",
    "      tf.feature_column.categorical_column_with_identity(\n",
    "          key=features.transformed_name(key), \n",
    "          num_buckets=tf_transform_output.num_buckets_for_transformed_feature(features.transformed_name(key)), \n",
    "          default_value=0)\n",
    "      for key in features.CATEGORICAL_FEATURE_KEYS\n",
    "  ]\n",
    "\n",
    "  indicator_columns = [\n",
    "      tf.feature_column.indicator_column(categorical_column)\n",
    "      for categorical_column in categorical_columns\n",
    "  ]\n",
    "\n",
    "  model = _wide_and_deep_classifier(\n",
    "      # TODO(b/139668410) replace with premade wide_and_deep keras model\n",
    "      wide_columns=indicator_columns,\n",
    "      deep_columns=numeric_columns,\n",
    "      dnn_hidden_units=hidden_units,\n",
    "      learning_rate=learning_rate)\n",
    "  return model\n",
    "\n",
    "\n",
    "def _wide_and_deep_classifier(wide_columns, deep_columns, dnn_hidden_units, learning_rate):\n",
    "  \"\"\"Builds a simple keras wide and deep model.\n",
    "  Args:\n",
    "    wide_columns: Feature columns wrapped in indicator_column for wide (linear)\n",
    "      part of the model.\n",
    "    deep_columns: Feature columns for deep part of the model.\n",
    "    dnn_hidden_units: [int], the layer sizes of the hidden DNN.\n",
    "  Returns:\n",
    "    A Wide and Deep Keras model\n",
    "  \"\"\"\n",
    "  \n",
    "  input_layers = {\n",
    "      column.key: tf.keras.layers.Input(name=column.key, shape=(), dtype=tf.float32)\n",
    "      for column in deep_columns\n",
    "  }\n",
    "  \n",
    "  input_layers.update({\n",
    "      column.categorical_column.key: tf.keras.layers.Input(name=column.categorical_column.key, shape=(), dtype=tf.int32)\n",
    "      for column in wide_columns\n",
    "  })\n",
    "    \n",
    "  deep = tf.keras.layers.DenseFeatures(deep_columns)(input_layers)\n",
    "  for numnodes in dnn_hidden_units:\n",
    "    deep = tf.keras.layers.Dense(numnodes)(deep)\n",
    "  wide = tf.keras.layers.DenseFeatures(wide_columns)(input_layers)\n",
    "\n",
    "  output = tf.keras.layers.Dense(features.NUM_CLASSES, activation='softmax')(\n",
    "               tf.keras.layers.concatenate([deep, wide]))\n",
    "\n",
    "  model = tf.keras.Model(input_layers, output)\n",
    "  model.compile(\n",
    "      loss='sparse_categorical_crossentropy',\n",
    "      optimizer=tf.keras.optimizers.Adam(lr=learning_rate),\n",
    "      metrics=[tf.keras.metrics.SparseCategoricalAccuracy()])\n",
    "  model.summary(print_fn=absl.logging.info)\n",
    "  return model\n",
    "\n",
    "def _copy_tensorboard_logs(local_path, saved_model_path):\n",
    "    \"\"\"Copies Tensorboard logs to the subfolder in the GCS SavedModel location.\"\"\"\n",
    "\n",
    "    if saved_model_path[0:5] == 'gs://':\n",
    "        pattern = '{}/*/events.out.tfevents.*'.format(local_path)\n",
    "        dest_path = saved_model_path.rstrip('/') + '/' + 'logs'\n",
    "        local_files = tf.io.gfile.glob(pattern)\n",
    "        dest_log_files = [local_file.replace(local_path, dest_path) for local_file in local_files]\n",
    "        for local_file, dest_file in zip(local_files, dest_log_files):\n",
    "            tf.io.gfile.copy(local_file, dest_file)\n",
    "\n",
    "# TFX Trainer will call this function.\n",
    "def run_fn(fn_args):\n",
    "  \"\"\"Trains a model based on given args.\n",
    "  Args:\n",
    "    fn_args: Holds args used to train the model as name/value pairs.\n",
    "  \"\"\"\n",
    "  \n",
    "  tf_transform_output = tft.TFTransformOutput(fn_args.transform_output)\n",
    "    \n",
    "  train_dataset = _input_fn(fn_args.train_files, tf_transform_output, TRAIN_BATCH_SIZE)\n",
    "  eval_dataset = _input_fn(fn_args.eval_files, tf_transform_output, EVAL_BATCH_SIZE)\n",
    "    \n",
    "  model = _build_keras_model(\n",
    "      tf_transform_output=tf_transform_output,\n",
    "      hidden_units=HIDDEN_UNITS,\n",
    "      learning_rate=LEARNING_RATE\n",
    "  )\n",
    "\n",
    "  tensorboard_callback = tf.keras.callbacks.TensorBoard(\n",
    "      log_dir=LOCAL_LOG_DIR, update_freq='batch')\n",
    "  callbacks = [ \n",
    "      tensorboard_callback\n",
    "  ]\n",
    "\n",
    "  model.fit(\n",
    "      train_dataset,\n",
    "      steps_per_epoch=fn_args.train_steps,\n",
    "      validation_data=eval_dataset,\n",
    "      validation_steps=fn_args.eval_steps,\n",
    "      verbose=2,\n",
    "      callbacks=callbacks)\n",
    "    \n",
    "  signatures = {\n",
    "      'serving_default':\n",
    "          _get_serve_tf_examples_fn(model,\n",
    "                                    tf_transform_output).get_concrete_function(\n",
    "                                        tf.TensorSpec(\n",
    "                                            shape=[None],\n",
    "                                            dtype=tf.string,\n",
    "                                            name='examples')),\n",
    "  }\n",
    "  \n",
    "  model.save(fn_args.serving_model_dir, save_format='tf', signatures=signatures)\n",
    "  _copy_tensorboard_logs(LOCAL_LOG_DIR, fn_args.serving_model_dir)\n",
    "    \n"
   ]
  },
  {
   "cell_type": "markdown",
   "metadata": {},
   "source": [
    "\n",
    "As of the 0.23 release of TFX, the `Trainer` component only supports passing a single field - `num_steps` - through the `train_args` and `eval_args` arguments. "
   ]
  },
  {
   "cell_type": "code",
   "execution_count": 25,
   "metadata": {},
   "outputs": [],
   "source": [
    "trainer = Trainer(\n",
    "    custom_executor_spec=executor_spec.ExecutorClassSpec(trainer_executor.GenericExecutor),\n",
    "    module_file=TRAINER_MODULE_FILE,\n",
    "    transformed_examples=transform.outputs[\"transformed_examples\"],\n",
    "    schema=schema_gen.outputs[\"schema\"],\n",
    "    transform_graph=transform.outputs[\"transform_graph\"],\n",
    "    train_args=trainer_pb2.TrainArgs(num_steps=5000),\n",
    "    eval_args=trainer_pb2.EvalArgs(num_steps=1000))"
   ]
  },
  {
   "cell_type": "markdown",
   "metadata": {},
   "source": [
    "### Evaluating trained models with Evaluator\n",
    "The `Evaluator` component analyzes model performance using the [TensorFlow Model Analysis library](https://www.tensorflow.org/tfx/model_analysis/get_started). It runs inference requests on particular subsets of the test dataset, based on which slices are defined by the developer. Knowing which slices should be analyzed requires domain knowledge of what is important in this particular use case or domain. \n",
    "\n",
    "The `Evaluator` can also optionally validate a newly trained model against a previous model. In this lab, you only train one model, so the Evaluator automatically will label the model as \"blessed\".\n",
    "\n",
    "\n",
    "<img src=https://github.com/GoogleCloudPlatform/mlops-on-gcp/raw/master/images/Evaluator.png width=\"400\">"
   ]
  },
  {
   "cell_type": "markdown",
   "metadata": {},
   "source": [
    "You can use the `ResolverNode` to pick the previous model to compare against.  The model resolver is only required if performing model validation in addition to evaluation. In this case we validate against the latest blessed model. If no model has been blessed before (as in this case) the evaluator will make our candidate the first blessed model."
   ]
  },
  {
   "cell_type": "code",
   "execution_count": 26,
   "metadata": {},
   "outputs": [],
   "source": [
    "model_resolver = ResolverNode(\n",
    "      instance_name='latest_blessed_model_resolver',\n",
    "      resolver_class=latest_blessed_model_resolver.LatestBlessedModelResolver,\n",
    "      model=Channel(type=Model),\n",
    "      model_blessing=Channel(type=ModelBlessing))"
   ]
  },
  {
   "cell_type": "markdown",
   "metadata": {},
   "source": [
    "Configure evaluation metrics and slices."
   ]
  },
  {
   "cell_type": "code",
   "execution_count": 27,
   "metadata": {},
   "outputs": [
    {
     "data": {
      "text/plain": [
       "model_specs {\n",
       "  label_key: \"Cover_Type\"\n",
       "}\n",
       "slicing_specs {\n",
       "}\n",
       "slicing_specs {\n",
       "  feature_keys: \"Wilderness_Area\"\n",
       "}\n",
       "metrics_specs {\n",
       "  metrics {\n",
       "    class_name: \"SparseCategoricalAccuracy\"\n",
       "    threshold {\n",
       "      value_threshold {\n",
       "        lower_bound {\n",
       "          value: 0.5\n",
       "        }\n",
       "        upper_bound {\n",
       "          value: 0.99\n",
       "        }\n",
       "      }\n",
       "      change_threshold {\n",
       "        absolute {\n",
       "          value: 0.0001\n",
       "        }\n",
       "        direction: HIGHER_IS_BETTER\n",
       "      }\n",
       "    }\n",
       "  }\n",
       "  metrics {\n",
       "    class_name: \"ExampleCount\"\n",
       "  }\n",
       "}"
      ]
     },
     "execution_count": 27,
     "metadata": {},
     "output_type": "execute_result"
    }
   ],
   "source": [
    "accuracy_threshold = tfma.MetricThreshold(\n",
    "                value_threshold=tfma.GenericValueThreshold(\n",
    "                    lower_bound={'value': 0.5},\n",
    "                    upper_bound={'value': 0.99}),\n",
    "                change_threshold=tfma.GenericChangeThreshold(\n",
    "                    absolute={'value': 0.0001},\n",
    "                    direction=tfma.MetricDirection.HIGHER_IS_BETTER),\n",
    "                )\n",
    "\n",
    "metrics_specs = tfma.MetricsSpec(\n",
    "                   metrics = [\n",
    "                       tfma.MetricConfig(class_name='SparseCategoricalAccuracy',\n",
    "                           threshold=accuracy_threshold),\n",
    "                       tfma.MetricConfig(class_name='ExampleCount')])\n",
    "\n",
    "eval_config = tfma.EvalConfig(\n",
    "    model_specs=[\n",
    "        tfma.ModelSpec(label_key='Cover_Type')\n",
    "    ],\n",
    "    metrics_specs=[metrics_specs],\n",
    "    slicing_specs=[\n",
    "        tfma.SlicingSpec(),\n",
    "        tfma.SlicingSpec(feature_keys=['Wilderness_Area'])\n",
    "    ]\n",
    ")\n",
    "eval_config"
   ]
  },
  {
   "cell_type": "code",
   "execution_count": 28,
   "metadata": {},
   "outputs": [],
   "source": [
    "model_analyzer = Evaluator(\n",
    "    examples=example_gen.outputs.examples,\n",
    "    model=trainer.outputs.model,\n",
    "    baseline_model=model_resolver.outputs.model,\n",
    "    eval_config=eval_config\n",
    ")"
   ]
  },
  {
   "cell_type": "markdown",
   "metadata": {},
   "source": [
    "### Deploying models with Pusher\n",
    "\n",
    "The `Pusher` component checks whether a model has been \"blessed\", and if so, deploys it by pushing the model to a well known file destination.\n",
    "\n",
    "<img src=https://github.com/GoogleCloudPlatform/mlops-on-gcp/raw/master/images/Pusher.png width=\"400\">\n",
    "\n"
   ]
  },
  {
   "cell_type": "code",
   "execution_count": 31,
   "metadata": {},
   "outputs": [],
   "source": [
    "serving_model_dir = '{}/covertype_classifier'.format(MODEL_STORE)\n",
    "pusher = Pusher(\n",
    "    model=trainer.outputs['model'],\n",
    "    model_blessing=model_analyzer.outputs['blessing'],\n",
    "    push_destination=pusher_pb2.PushDestination(\n",
    "        filesystem=pusher_pb2.PushDestination.Filesystem(\n",
    "            base_directory=serving_model_dir)))"
   ]
  },
  {
   "cell_type": "markdown",
   "metadata": {},
   "source": [
    "## Running the pipeline"
   ]
  },
  {
   "cell_type": "markdown",
   "metadata": {},
   "source": [
    "### Create the pipeline"
   ]
  },
  {
   "cell_type": "code",
   "execution_count": 32,
   "metadata": {},
   "outputs": [],
   "source": [
    "pipeline_name = 'covertype-end-to-end'\n",
    "components = [example_gen, \n",
    "              statistics_gen, \n",
    "              schema_gen,\n",
    "              example_validator,\n",
    "              transform,\n",
    "              trainer,\n",
    "              model_resolver,\n",
    "              model_analyzer,\n",
    "              pusher]\n",
    "\n",
    "pipeline = Pipeline(\n",
    "    pipeline_name=pipeline_name,\n",
    "    pipeline_root=f'{LOCAL_PIPELINE_ROOT}/{pipeline_name}',\n",
    "    metadata_connection_config=metadata_connection_config,\n",
    "    components=components\n",
    ")"
   ]
  },
  {
   "cell_type": "markdown",
   "metadata": {},
   "source": [
    "### Run the pipeline locally using Beam Runner"
   ]
  },
  {
   "cell_type": "code",
   "execution_count": 33,
   "metadata": {
    "tags": [
     "outputPrepend"
    ]
   },
   "outputs": [
    {
     "name": "stderr",
     "output_type": "stream",
     "text": [
      "INFO:absl:Component CsvExampleGen.Data_Extraction_Spliting depends on [].\n",
      "INFO:absl:Component CsvExampleGen.Data_Extraction_Spliting is scheduled.\n",
      "INFO:absl:Component ResolverNode.latest_blessed_model_resolver depends on [].\n",
      "INFO:absl:Component ResolverNode.latest_blessed_model_resolver is scheduled.\n",
      "INFO:absl:Component StatisticsGen.Statistics_Generation depends on ['Run[CsvExampleGen.Data_Extraction_Spliting]'].\n",
      "INFO:absl:Component StatisticsGen.Statistics_Generation is scheduled.\n",
      "INFO:absl:Component SchemaGen depends on ['Run[StatisticsGen.Statistics_Generation]'].\n",
      "INFO:absl:Component SchemaGen is scheduled.\n",
      "INFO:absl:Component ExampleValidator.Data_Validation depends on ['Run[StatisticsGen.Statistics_Generation]', 'Run[SchemaGen]'].\n",
      "INFO:absl:Component ExampleValidator.Data_Validation is scheduled.\n",
      "INFO:absl:Component Transform depends on ['Run[SchemaGen]', 'Run[CsvExampleGen.Data_Extraction_Spliting]'].\n",
      "INFO:absl:Component Transform is scheduled.\n",
      "INFO:absl:Component Trainer depends on ['Run[SchemaGen]', 'Run[Transform]'].\n",
      "INFO:absl:Component Trainer is scheduled.\n",
      "INFO:absl:Component Evaluator depends on ['Run[Trainer]', 'Run[CsvExampleGen.Data_Extraction_Spliting]', 'Run[ResolverNode.latest_blessed_model_resolver]'].\n",
      "INFO:absl:Component Evaluator is scheduled.\n",
      "INFO:absl:Component Pusher depends on ['Run[Trainer]', 'Run[Evaluator]'].\n",
      "INFO:absl:Component Pusher is scheduled.\n",
      "INFO:absl:Component CsvExampleGen.Data_Extraction_Spliting is running.\n",
      "INFO:absl:Running driver for CsvExampleGen.Data_Extraction_Spliting\n",
      "INFO:absl:MetadataStore with DB connection initialized\n",
      "INFO:absl:select span and version = (0, None)\n",
      "INFO:absl:latest span and version = (0, None)\n",
      "INFO:absl:Running executor for CsvExampleGen.Data_Extraction_Spliting\n",
      "INFO:absl:Generating examples.\n",
      "INFO:absl:Processing input csv data gs://workshop-datasets/covertype/small/* to TFExample.\n",
      "INFO:absl:Examples generated.\n",
      "INFO:absl:Running publisher for CsvExampleGen.Data_Extraction_Spliting\n",
      "INFO:absl:MetadataStore with DB connection initialized\n",
      "INFO:absl:Component CsvExampleGen.Data_Extraction_Spliting is finished.\n",
      "INFO:absl:Component ResolverNode.latest_blessed_model_resolver is running.\n",
      "INFO:absl:Running driver for ResolverNode.latest_blessed_model_resolver\n",
      "INFO:absl:MetadataStore with DB connection initialized\n",
      "INFO:absl:Running publisher for ResolverNode.latest_blessed_model_resolver\n",
      "INFO:absl:MetadataStore with DB connection initialized\n",
      "INFO:absl:Component ResolverNode.latest_blessed_model_resolver is finished.\n",
      "INFO:absl:Component StatisticsGen.Statistics_Generation is running.\n",
      "INFO:absl:Running driver for StatisticsGen.Statistics_Generation\n",
      "INFO:absl:MetadataStore with DB connection initialized\n",
      "INFO:absl:Running executor for StatisticsGen.Statistics_Generation\n",
      "INFO:absl:We decided to produce LargeList and LargeBinary types.\n",
      "INFO:absl:We decided to produce LargeList and LargeBinary types.\n",
      "INFO:absl:Generating statistics for split train.\n",
      "INFO:absl:Statistics for split train written to /home/jupyter/pipeline-root/covertype-end-to-end/StatisticsGen.Statistics_Generation/statistics/4/train.\n",
      "INFO:absl:Generating statistics for split eval.\n",
      "INFO:absl:Statistics for split eval written to /home/jupyter/pipeline-root/covertype-end-to-end/StatisticsGen.Statistics_Generation/statistics/4/eval.\n",
      "INFO:absl:Running publisher for StatisticsGen.Statistics_Generation\n",
      "INFO:absl:MetadataStore with DB connection initialized\n",
      "INFO:absl:Component StatisticsGen.Statistics_Generation is finished.\n",
      "INFO:absl:Component SchemaGen is running.\n",
      "INFO:absl:Running driver for SchemaGen\n",
      "INFO:absl:MetadataStore with DB connection initialized\n",
      "INFO:absl:Running executor for SchemaGen\n",
      "INFO:absl:Processing schema from statistics for split train.\n"
     ]
    },
    {
     "name": "stdout",
     "output_type": "stream",
     "text": [
      "WARNING:tensorflow:From /home/jupyter/.local/lib/python3.7/site-packages/tensorflow_data_validation/utils/stats_util.py:229: tf_record_iterator (from tensorflow.python.lib.io.tf_record) is deprecated and will be removed in a future version.\n",
      "Instructions for updating:\n",
      "Use eager execution and: \n",
      "`tf.data.TFRecordDataset(path)`\n"
     ]
    },
    {
     "name": "stderr",
     "output_type": "stream",
     "text": [
      "INFO:absl:Processing schema from statistics for split eval.\n",
      "INFO:absl:Schema written to /home/jupyter/pipeline-root/covertype-end-to-end/SchemaGen/schema/5/schema.pbtxt.\n",
      "INFO:absl:Running publisher for SchemaGen\n",
      "INFO:absl:MetadataStore with DB connection initialized\n",
      "INFO:absl:Component SchemaGen is finished.\n",
      "INFO:absl:Component ExampleValidator.Data_Validation is running.\n",
      "INFO:absl:Running driver for ExampleValidator.Data_Validation\n",
      "INFO:absl:MetadataStore with DB connection initialized\n",
      "INFO:absl:Running executor for ExampleValidator.Data_Validation\n",
      "INFO:absl:Validating schema against the computed statistics for split train.\n",
      "INFO:absl:Validation complete for split train. Anomalies written to /home/jupyter/pipeline-root/covertype-end-to-end/ExampleValidator.Data_Validation/anomalies/6/train.\n",
      "INFO:absl:Validating schema against the computed statistics for split eval.\n",
      "INFO:absl:Validation complete for split eval. Anomalies written to /home/jupyter/pipeline-root/covertype-end-to-end/ExampleValidator.Data_Validation/anomalies/6/eval.\n",
      "INFO:absl:Running publisher for ExampleValidator.Data_Validation\n",
      "INFO:absl:MetadataStore with DB connection initialized\n",
      "INFO:absl:Component ExampleValidator.Data_Validation is finished.\n",
      "INFO:absl:Component Transform is running.\n",
      "INFO:absl:Running driver for Transform\n",
      "INFO:absl:MetadataStore with DB connection initialized\n",
      "INFO:absl:Running executor for Transform\n"
     ]
    },
    {
     "name": "stdout",
     "output_type": "stream",
     "text": [
      "WARNING:tensorflow:From /home/jupyter/.local/lib/python3.7/site-packages/tfx/components/transform/executor.py:485: Schema (from tensorflow_transform.tf_metadata.dataset_schema) is deprecated and will be removed in a future version.\n",
      "Instructions for updating:\n",
      "Schema is a deprecated, use schema_utils.schema_from_feature_spec to create a `Schema`\n"
     ]
    },
    {
     "name": "stderr",
     "output_type": "stream",
     "text": [
      "INFO:absl:We decided to produce LargeList and LargeBinary types.\n",
      "INFO:absl:We decided to produce LargeList and LargeBinary types.\n",
      "INFO:absl:We decided to produce LargeList and LargeBinary types.\n",
      "INFO:absl:Feature Soil_Type has no shape. Setting to VarLenSparseTensor.\n",
      "INFO:absl:Feature Wilderness_Area has no shape. Setting to VarLenSparseTensor.\n",
      "INFO:absl:Feature Aspect has no shape. Setting to VarLenSparseTensor.\n",
      "INFO:absl:Feature Cover_Type has no shape. Setting to VarLenSparseTensor.\n",
      "INFO:absl:Feature Elevation has no shape. Setting to VarLenSparseTensor.\n",
      "INFO:absl:Feature Hillshade_3pm has no shape. Setting to VarLenSparseTensor.\n",
      "INFO:absl:Feature Hillshade_9am has no shape. Setting to VarLenSparseTensor.\n",
      "INFO:absl:Feature Hillshade_Noon has no shape. Setting to VarLenSparseTensor.\n",
      "INFO:absl:Feature Horizontal_Distance_To_Fire_Points has no shape. Setting to VarLenSparseTensor.\n",
      "INFO:absl:Feature Horizontal_Distance_To_Hydrology has no shape. Setting to VarLenSparseTensor.\n",
      "INFO:absl:Feature Horizontal_Distance_To_Roadways has no shape. Setting to VarLenSparseTensor.\n",
      "INFO:absl:Feature Slope has no shape. Setting to VarLenSparseTensor.\n",
      "INFO:absl:Feature Vertical_Distance_To_Hydrology has no shape. Setting to VarLenSparseTensor.\n"
     ]
    },
    {
     "name": "stdout",
     "output_type": "stream",
     "text": [
      "WARNING:tensorflow:From /home/jupyter/.local/lib/python3.7/site-packages/tensorflow_transform/tf_utils.py:218: Tensor.experimental_ref (from tensorflow.python.framework.ops) is deprecated and will be removed in a future version.\n",
      "Instructions for updating:\n",
      "Use ref() instead.\n"
     ]
    },
    {
     "name": "stderr",
     "output_type": "stream",
     "text": [
      "INFO:absl:Feature Soil_Type has no shape. Setting to VarLenSparseTensor.\n",
      "INFO:absl:Feature Wilderness_Area has no shape. Setting to VarLenSparseTensor.\n",
      "INFO:absl:Feature Aspect has no shape. Setting to VarLenSparseTensor.\n",
      "INFO:absl:Feature Cover_Type has no shape. Setting to VarLenSparseTensor.\n",
      "INFO:absl:Feature Elevation has no shape. Setting to VarLenSparseTensor.\n",
      "INFO:absl:Feature Hillshade_3pm has no shape. Setting to VarLenSparseTensor.\n",
      "INFO:absl:Feature Hillshade_9am has no shape. Setting to VarLenSparseTensor.\n",
      "INFO:absl:Feature Hillshade_Noon has no shape. Setting to VarLenSparseTensor.\n",
      "INFO:absl:Feature Horizontal_Distance_To_Fire_Points has no shape. Setting to VarLenSparseTensor.\n",
      "INFO:absl:Feature Horizontal_Distance_To_Hydrology has no shape. Setting to VarLenSparseTensor.\n",
      "INFO:absl:Feature Horizontal_Distance_To_Roadways has no shape. Setting to VarLenSparseTensor.\n",
      "INFO:absl:Feature Slope has no shape. Setting to VarLenSparseTensor.\n",
      "INFO:absl:Feature Vertical_Distance_To_Hydrology has no shape. Setting to VarLenSparseTensor.\n",
      "INFO:absl:Feature Soil_Type has no shape. Setting to VarLenSparseTensor.\n",
      "INFO:absl:Feature Wilderness_Area has no shape. Setting to VarLenSparseTensor.\n",
      "INFO:absl:Feature Aspect has no shape. Setting to VarLenSparseTensor.\n",
      "INFO:absl:Feature Cover_Type has no shape. Setting to VarLenSparseTensor.\n",
      "INFO:absl:Feature Elevation has no shape. Setting to VarLenSparseTensor.\n",
      "INFO:absl:Feature Hillshade_3pm has no shape. Setting to VarLenSparseTensor.\n",
      "INFO:absl:Feature Hillshade_9am has no shape. Setting to VarLenSparseTensor.\n",
      "INFO:absl:Feature Hillshade_Noon has no shape. Setting to VarLenSparseTensor.\n",
      "INFO:absl:Feature Horizontal_Distance_To_Fire_Points has no shape. Setting to VarLenSparseTensor.\n",
      "INFO:absl:Feature Horizontal_Distance_To_Hydrology has no shape. Setting to VarLenSparseTensor.\n",
      "INFO:absl:Feature Horizontal_Distance_To_Roadways has no shape. Setting to VarLenSparseTensor.\n",
      "INFO:absl:Feature Slope has no shape. Setting to VarLenSparseTensor.\n",
      "INFO:absl:Feature Vertical_Distance_To_Hydrology has no shape. Setting to VarLenSparseTensor.\n",
      "INFO:absl:We decided to produce LargeList and LargeBinary types.\n",
      "INFO:absl:Feature Soil_Type has no shape. Setting to VarLenSparseTensor.\n",
      "INFO:absl:Feature Wilderness_Area has no shape. Setting to VarLenSparseTensor.\n",
      "INFO:absl:Feature Aspect has no shape. Setting to VarLenSparseTensor.\n",
      "INFO:absl:Feature Cover_Type has no shape. Setting to VarLenSparseTensor.\n",
      "INFO:absl:Feature Elevation has no shape. Setting to VarLenSparseTensor.\n",
      "INFO:absl:Feature Hillshade_3pm has no shape. Setting to VarLenSparseTensor.\n",
      "INFO:absl:Feature Hillshade_9am has no shape. Setting to VarLenSparseTensor.\n",
      "INFO:absl:Feature Hillshade_Noon has no shape. Setting to VarLenSparseTensor.\n",
      "INFO:absl:Feature Horizontal_Distance_To_Fire_Points has no shape. Setting to VarLenSparseTensor.\n",
      "INFO:absl:Feature Horizontal_Distance_To_Hydrology has no shape. Setting to VarLenSparseTensor.\n",
      "INFO:absl:Feature Horizontal_Distance_To_Roadways has no shape. Setting to VarLenSparseTensor.\n",
      "INFO:absl:Feature Slope has no shape. Setting to VarLenSparseTensor.\n",
      "INFO:absl:Feature Vertical_Distance_To_Hydrology has no shape. Setting to VarLenSparseTensor.\n",
      "INFO:absl:Feature Soil_Type has no shape. Setting to VarLenSparseTensor.\n",
      "INFO:absl:Feature Wilderness_Area has no shape. Setting to VarLenSparseTensor.\n",
      "INFO:absl:Feature Aspect has no shape. Setting to VarLenSparseTensor.\n",
      "INFO:absl:Feature Cover_Type has no shape. Setting to VarLenSparseTensor.\n",
      "INFO:absl:Feature Elevation has no shape. Setting to VarLenSparseTensor.\n",
      "INFO:absl:Feature Hillshade_3pm has no shape. Setting to VarLenSparseTensor.\n",
      "INFO:absl:Feature Hillshade_9am has no shape. Setting to VarLenSparseTensor.\n",
      "INFO:absl:Feature Hillshade_Noon has no shape. Setting to VarLenSparseTensor.\n",
      "INFO:absl:Feature Horizontal_Distance_To_Fire_Points has no shape. Setting to VarLenSparseTensor.\n",
      "INFO:absl:Feature Horizontal_Distance_To_Hydrology has no shape. Setting to VarLenSparseTensor.\n",
      "INFO:absl:Feature Horizontal_Distance_To_Roadways has no shape. Setting to VarLenSparseTensor.\n",
      "INFO:absl:Feature Slope has no shape. Setting to VarLenSparseTensor.\n",
      "INFO:absl:Feature Vertical_Distance_To_Hydrology has no shape. Setting to VarLenSparseTensor.\n",
      "INFO:absl:We decided to produce LargeList and LargeBinary types.\n",
      "INFO:absl:Feature Soil_Type has no shape. Setting to VarLenSparseTensor.\n",
      "INFO:absl:Feature Wilderness_Area has no shape. Setting to VarLenSparseTensor.\n",
      "INFO:absl:Feature Aspect has no shape. Setting to VarLenSparseTensor.\n",
      "INFO:absl:Feature Cover_Type has no shape. Setting to VarLenSparseTensor.\n",
      "INFO:absl:Feature Elevation has no shape. Setting to VarLenSparseTensor.\n",
      "INFO:absl:Feature Hillshade_3pm has no shape. Setting to VarLenSparseTensor.\n",
      "INFO:absl:Feature Hillshade_9am has no shape. Setting to VarLenSparseTensor.\n",
      "INFO:absl:Feature Hillshade_Noon has no shape. Setting to VarLenSparseTensor.\n",
      "INFO:absl:Feature Horizontal_Distance_To_Fire_Points has no shape. Setting to VarLenSparseTensor.\n",
      "INFO:absl:Feature Horizontal_Distance_To_Hydrology has no shape. Setting to VarLenSparseTensor.\n",
      "INFO:absl:Feature Horizontal_Distance_To_Roadways has no shape. Setting to VarLenSparseTensor.\n",
      "INFO:absl:Feature Slope has no shape. Setting to VarLenSparseTensor.\n",
      "INFO:absl:Feature Vertical_Distance_To_Hydrology has no shape. Setting to VarLenSparseTensor.\n",
      "INFO:absl:We decided to produce LargeList and LargeBinary types.\n"
     ]
    },
    {
     "name": "stdout",
     "output_type": "stream",
     "text": [
      "WARNING:tensorflow:Tensorflow version (2.3.0) found. Note that Tensorflow Transform support for TF 2.0 is currently in beta, and features such as tf.function may not work as intended. \n"
     ]
    },
    {
     "name": "stderr",
     "output_type": "stream",
     "text": [
      "WARNING:apache_beam.utils.interactive_utils:Failed to alter the label of a transform with the ipython prompt metadata. Cannot figure out the pipeline that the given pvalueish ({DatasetKey(key='covertype-end-to-end-CsvExampleGen.Data_Extraction_Spliting-examples-2-train-STAR'): <PCollection[TFXIOReadAndDecode[AnalysisIndex0]/RawRecordToRecordBatch/CollectRecordBatchTelemetry/ProfileRecordBatches.None] at 0x7fd3c864bfd0>}, None, TensorAdapterConfig(arrow_schema=Soil_Type: large_list<item: large_binary>\n",
      "  child 0, item: large_binary\n",
      "Wilderness_Area: large_list<item: large_binary>\n",
      "  child 0, item: large_binary\n",
      "Aspect: large_list<item: int64>\n",
      "  child 0, item: int64\n",
      "Elevation: large_list<item: int64>\n",
      "  child 0, item: int64\n",
      "Hillshade_3pm: large_list<item: int64>\n",
      "  child 0, item: int64\n",
      "Hillshade_9am: large_list<item: int64>\n",
      "  child 0, item: int64\n",
      "Hillshade_Noon: large_list<item: int64>\n",
      "  child 0, item: int64\n",
      "Horizontal_Distance_To_Fire_Points: large_list<item: int64>\n",
      "  child 0, item: int64\n",
      "Horizontal_Distance_To_Hydrology: large_list<item: int64>\n",
      "  child 0, item: int64\n",
      "Horizontal_Distance_To_Roadways: large_list<item: int64>\n",
      "  child 0, item: int64\n",
      "Slope: large_list<item: int64>\n",
      "  child 0, item: int64\n",
      "Vertical_Distance_To_Hydrology: large_list<item: int64>\n",
      "  child 0, item: int64, tensor_representations={'Soil_Type': varlen_sparse_tensor {\n",
      "  column_name: \"Soil_Type\"\n",
      "}\n",
      ", 'Hillshade_3pm': varlen_sparse_tensor {\n",
      "  column_name: \"Hillshade_3pm\"\n",
      "}\n",
      ", 'Hillshade_Noon': varlen_sparse_tensor {\n",
      "  column_name: \"Hillshade_Noon\"\n",
      "}\n",
      ", 'Horizontal_Distance_To_Fire_Points': varlen_sparse_tensor {\n",
      "  column_name: \"Horizontal_Distance_To_Fire_Points\"\n",
      "}\n",
      ", 'Aspect': varlen_sparse_tensor {\n",
      "  column_name: \"Aspect\"\n",
      "}\n",
      ", 'Hillshade_9am': varlen_sparse_tensor {\n",
      "  column_name: \"Hillshade_9am\"\n",
      "}\n",
      ", 'Horizontal_Distance_To_Hydrology': varlen_sparse_tensor {\n",
      "  column_name: \"Horizontal_Distance_To_Hydrology\"\n",
      "}\n",
      ", 'Elevation': varlen_sparse_tensor {\n",
      "  column_name: \"Elevation\"\n",
      "}\n",
      ", 'Horizontal_Distance_To_Roadways': varlen_sparse_tensor {\n",
      "  column_name: \"Horizontal_Distance_To_Roadways\"\n",
      "}\n",
      ", 'Slope': varlen_sparse_tensor {\n",
      "  column_name: \"Slope\"\n",
      "}\n",
      ", 'Wilderness_Area': varlen_sparse_tensor {\n",
      "  column_name: \"Wilderness_Area\"\n",
      "}\n",
      ", 'Vertical_Distance_To_Hydrology': varlen_sparse_tensor {\n",
      "  column_name: \"Vertical_Distance_To_Hydrology\"\n",
      "}\n",
      "}, original_type_specs={'Soil_Type': SparseTensorSpec(TensorShape([None, None]), tf.string), 'Wilderness_Area': SparseTensorSpec(TensorShape([None, None]), tf.string), 'Aspect': SparseTensorSpec(TensorShape([None, None]), tf.int64), 'Cover_Type': SparseTensorSpec(TensorShape([None, None]), tf.int64), 'Elevation': SparseTensorSpec(TensorShape([None, None]), tf.int64), 'Hillshade_3pm': SparseTensorSpec(TensorShape([None, None]), tf.int64), 'Hillshade_9am': SparseTensorSpec(TensorShape([None, None]), tf.int64), 'Hillshade_Noon': SparseTensorSpec(TensorShape([None, None]), tf.int64), 'Horizontal_Distance_To_Fire_Points': SparseTensorSpec(TensorShape([None, None]), tf.int64), 'Horizontal_Distance_To_Hydrology': SparseTensorSpec(TensorShape([None, None]), tf.int64), 'Horizontal_Distance_To_Roadways': SparseTensorSpec(TensorShape([None, None]), tf.int64), 'Slope': SparseTensorSpec(TensorShape([None, None]), tf.int64), 'Vertical_Distance_To_Hydrology': SparseTensorSpec(TensorShape([None, None]), tf.int64)})) belongs to. Thus noop.\n"
     ]
    },
    {
     "name": "stdout",
     "output_type": "stream",
     "text": [
      "WARNING:tensorflow:From /opt/conda/lib/python3.7/site-packages/tensorflow/python/saved_model/signature_def_utils_impl.py:201: build_tensor_info (from tensorflow.python.saved_model.utils_impl) is deprecated and will be removed in a future version.\n",
      "Instructions for updating:\n",
      "This function will only be available through the v1 compatibility library as tf.compat.v1.saved_model.utils.build_tensor_info or tf.compat.v1.saved_model.build_tensor_info.\n",
      "INFO:tensorflow:Assets added to graph.\n",
      "INFO:tensorflow:No assets to write.\n",
      "WARNING:tensorflow:Issue encountered when serializing tft_mapper_use.\n",
      "Type is unsupported, or the types of the items don't match field type in CollectionDef. Note this is a warning and probably safe to ignore.\n",
      "'Counter' object has no attribute 'name'\n",
      "INFO:tensorflow:SavedModel written to: /home/jupyter/pipeline-root/covertype-end-to-end/Transform/transform_graph/7/.temp_path/tftransform_tmp/b5c445f5e73d4807ad5e655ebc0135b0/saved_model.pb\n",
      "INFO:tensorflow:Assets added to graph.\n",
      "INFO:tensorflow:No assets to write.\n",
      "WARNING:tensorflow:Issue encountered when serializing tft_mapper_use.\n",
      "Type is unsupported, or the types of the items don't match field type in CollectionDef. Note this is a warning and probably safe to ignore.\n",
      "'Counter' object has no attribute 'name'\n",
      "INFO:tensorflow:SavedModel written to: /home/jupyter/pipeline-root/covertype-end-to-end/Transform/transform_graph/7/.temp_path/tftransform_tmp/f273df0d0e5946f5b83eab4a554e9a77/saved_model.pb\n"
     ]
    },
    {
     "name": "stderr",
     "output_type": "stream",
     "text": [
      "WARNING:apache_beam.utils.interactive_utils:Failed to alter the label of a transform with the ipython prompt metadata. Cannot figure out the pipeline that the given pvalueish {'_schema': feature {\n",
      "  name: \"Soil_Type\"\n",
      "  value_count {\n",
      "    min: 1\n",
      "    max: 1\n",
      "  }\n",
      "  type: BYTES\n",
      "  domain: \"Soil_Type\"\n",
      "  presence {\n",
      "    min_fraction: 1.0\n",
      "    min_count: 1\n",
      "  }\n",
      "}\n",
      "feature {\n",
      "  name: \"Wilderness_Area\"\n",
      "  value_count {\n",
      "    min: 1\n",
      "    max: 1\n",
      "  }\n",
      "  type: BYTES\n",
      "  domain: \"Wilderness_Area\"\n",
      "  presence {\n",
      "    min_fraction: 1.0\n",
      "    min_count: 1\n",
      "  }\n",
      "}\n",
      "feature {\n",
      "  name: \"Aspect\"\n",
      "  value_count {\n",
      "    min: 1\n",
      "    max: 1\n",
      "  }\n",
      "  type: INT\n",
      "  presence {\n",
      "    min_fraction: 1.0\n",
      "    min_count: 1\n",
      "  }\n",
      "}\n",
      "feature {\n",
      "  name: \"Cover_Type\"\n",
      "  value_count {\n",
      "    min: 1\n",
      "    max: 1\n",
      "  }\n",
      "  type: INT\n",
      "  presence {\n",
      "    min_fraction: 1.0\n",
      "    min_count: 1\n",
      "  }\n",
      "}\n",
      "feature {\n",
      "  name: \"Elevation\"\n",
      "  value_count {\n",
      "    min: 1\n",
      "    max: 1\n",
      "  }\n",
      "  type: INT\n",
      "  presence {\n",
      "    min_fraction: 1.0\n",
      "    min_count: 1\n",
      "  }\n",
      "}\n",
      "feature {\n",
      "  name: \"Hillshade_3pm\"\n",
      "  value_count {\n",
      "    min: 1\n",
      "    max: 1\n",
      "  }\n",
      "  type: INT\n",
      "  presence {\n",
      "    min_fraction: 1.0\n",
      "    min_count: 1\n",
      "  }\n",
      "}\n",
      "feature {\n",
      "  name: \"Hillshade_9am\"\n",
      "  value_count {\n",
      "    min: 1\n",
      "    max: 1\n",
      "  }\n",
      "  type: INT\n",
      "  presence {\n",
      "    min_fraction: 1.0\n",
      "    min_count: 1\n",
      "  }\n",
      "}\n",
      "feature {\n",
      "  name: \"Hillshade_Noon\"\n",
      "  value_count {\n",
      "    min: 1\n",
      "    max: 1\n",
      "  }\n",
      "  type: INT\n",
      "  presence {\n",
      "    min_fraction: 1.0\n",
      "    min_count: 1\n",
      "  }\n",
      "}\n",
      "feature {\n",
      "  name: \"Horizontal_Distance_To_Fire_Points\"\n",
      "  value_count {\n",
      "    min: 1\n",
      "    max: 1\n",
      "  }\n",
      "  type: INT\n",
      "  presence {\n",
      "    min_fraction: 1.0\n",
      "    min_count: 1\n",
      "  }\n",
      "}\n",
      "feature {\n",
      "  name: \"Horizontal_Distance_To_Hydrology\"\n",
      "  value_count {\n",
      "    min: 1\n",
      "    max: 1\n",
      "  }\n",
      "  type: INT\n",
      "  presence {\n",
      "    min_fraction: 1.0\n",
      "    min_count: 1\n",
      "  }\n",
      "}\n",
      "feature {\n",
      "  name: \"Horizontal_Distance_To_Roadways\"\n",
      "  value_count {\n",
      "    min: 1\n",
      "    max: 1\n",
      "  }\n",
      "  type: INT\n",
      "  presence {\n",
      "    min_fraction: 1.0\n",
      "    min_count: 1\n",
      "  }\n",
      "}\n",
      "feature {\n",
      "  name: \"Slope\"\n",
      "  value_count {\n",
      "    min: 1\n",
      "    max: 1\n",
      "  }\n",
      "  type: INT\n",
      "  presence {\n",
      "    min_fraction: 1.0\n",
      "    min_count: 1\n",
      "  }\n",
      "}\n",
      "feature {\n",
      "  name: \"Vertical_Distance_To_Hydrology\"\n",
      "  value_count {\n",
      "    min: 1\n",
      "    max: 1\n",
      "  }\n",
      "  type: INT\n",
      "  presence {\n",
      "    min_fraction: 1.0\n",
      "    min_count: 1\n",
      "  }\n",
      "}\n",
      "string_domain {\n",
      "  name: \"Soil_Type\"\n",
      "  value: \"C2702\"\n",
      "  value: \"C2703\"\n",
      "  value: \"C2704\"\n",
      "  value: \"C2705\"\n",
      "  value: \"C2706\"\n",
      "  value: \"C2717\"\n",
      "  value: \"C3501\"\n",
      "  value: \"C3502\"\n",
      "  value: \"C4201\"\n",
      "  value: \"C4703\"\n",
      "  value: \"C4704\"\n",
      "  value: \"C4744\"\n",
      "  value: \"C4758\"\n",
      "  value: \"C5101\"\n",
      "  value: \"C5151\"\n",
      "  value: \"C6101\"\n",
      "  value: \"C6102\"\n",
      "  value: \"C6731\"\n",
      "  value: \"C7101\"\n",
      "  value: \"C7102\"\n",
      "  value: \"C7103\"\n",
      "  value: \"C7201\"\n",
      "  value: \"C7202\"\n",
      "  value: \"C7700\"\n",
      "  value: \"C7701\"\n",
      "  value: \"C7702\"\n",
      "  value: \"C7709\"\n",
      "  value: \"C7710\"\n",
      "  value: \"C7745\"\n",
      "  value: \"C7746\"\n",
      "  value: \"C7755\"\n",
      "  value: \"C7756\"\n",
      "  value: \"C7757\"\n",
      "  value: \"C7790\"\n",
      "  value: \"C8703\"\n",
      "  value: \"C8707\"\n",
      "  value: \"C8708\"\n",
      "  value: \"C8771\"\n",
      "  value: \"C8772\"\n",
      "  value: \"C8776\"\n",
      "}\n",
      "string_domain {\n",
      "  name: \"Wilderness_Area\"\n",
      "  value: \"Cache\"\n",
      "  value: \"Commanche\"\n",
      "  value: \"Neota\"\n",
      "  value: \"Rawah\"\n",
      "}\n",
      "} belongs to. Thus noop.\n",
      "INFO:absl:Feature Soil_Type has no shape. Setting to VarLenSparseTensor.\n",
      "INFO:absl:Feature Wilderness_Area has no shape. Setting to VarLenSparseTensor.\n",
      "INFO:absl:Feature Aspect has no shape. Setting to VarLenSparseTensor.\n",
      "INFO:absl:Feature Cover_Type has no shape. Setting to VarLenSparseTensor.\n",
      "INFO:absl:Feature Elevation has no shape. Setting to VarLenSparseTensor.\n",
      "INFO:absl:Feature Hillshade_3pm has no shape. Setting to VarLenSparseTensor.\n",
      "INFO:absl:Feature Hillshade_9am has no shape. Setting to VarLenSparseTensor.\n",
      "INFO:absl:Feature Hillshade_Noon has no shape. Setting to VarLenSparseTensor.\n",
      "INFO:absl:Feature Horizontal_Distance_To_Fire_Points has no shape. Setting to VarLenSparseTensor.\n",
      "INFO:absl:Feature Horizontal_Distance_To_Hydrology has no shape. Setting to VarLenSparseTensor.\n",
      "INFO:absl:Feature Horizontal_Distance_To_Roadways has no shape. Setting to VarLenSparseTensor.\n",
      "INFO:absl:Feature Slope has no shape. Setting to VarLenSparseTensor.\n",
      "INFO:absl:Feature Vertical_Distance_To_Hydrology has no shape. Setting to VarLenSparseTensor.\n"
     ]
    },
    {
     "name": "stdout",
     "output_type": "stream",
     "text": [
      "WARNING:tensorflow:Tensorflow version (2.3.0) found. Note that Tensorflow Transform support for TF 2.0 is currently in beta, and features such as tf.function may not work as intended. \n"
     ]
    },
    {
     "name": "stderr",
     "output_type": "stream",
     "text": [
      "WARNING:apache_beam.utils.interactive_utils:Failed to alter the label of a transform with the ipython prompt metadata. Cannot figure out the pipeline that the given pvalueish ((<PCollection[TFXIOReadAndDecode[TransformIndex0]/RawRecordToRecordBatch/CollectRecordBatchTelemetry/ProfileRecordBatches.None] at 0x7fd3ded43a10>, TensorAdapterConfig(arrow_schema=Soil_Type: large_list<item: large_binary>\n",
      "  child 0, item: large_binary\n",
      "Wilderness_Area: large_list<item: large_binary>\n",
      "  child 0, item: large_binary\n",
      "Aspect: large_list<item: int64>\n",
      "  child 0, item: int64\n",
      "Cover_Type: large_list<item: int64>\n",
      "  child 0, item: int64\n",
      "Elevation: large_list<item: int64>\n",
      "  child 0, item: int64\n",
      "Hillshade_3pm: large_list<item: int64>\n",
      "  child 0, item: int64\n",
      "Hillshade_9am: large_list<item: int64>\n",
      "  child 0, item: int64\n",
      "Hillshade_Noon: large_list<item: int64>\n",
      "  child 0, item: int64\n",
      "Horizontal_Distance_To_Fire_Points: large_list<item: int64>\n",
      "  child 0, item: int64\n",
      "Horizontal_Distance_To_Hydrology: large_list<item: int64>\n",
      "  child 0, item: int64\n",
      "Horizontal_Distance_To_Roadways: large_list<item: int64>\n",
      "  child 0, item: int64\n",
      "Slope: large_list<item: int64>\n",
      "  child 0, item: int64\n",
      "Vertical_Distance_To_Hydrology: large_list<item: int64>\n",
      "  child 0, item: int64, tensor_representations={'Wilderness_Area': varlen_sparse_tensor {\n",
      "  column_name: \"Wilderness_Area\"\n",
      "}\n",
      ", 'Vertical_Distance_To_Hydrology': varlen_sparse_tensor {\n",
      "  column_name: \"Vertical_Distance_To_Hydrology\"\n",
      "}\n",
      ", 'Cover_Type': varlen_sparse_tensor {\n",
      "  column_name: \"Cover_Type\"\n",
      "}\n",
      ", 'Soil_Type': varlen_sparse_tensor {\n",
      "  column_name: \"Soil_Type\"\n",
      "}\n",
      ", 'Hillshade_3pm': varlen_sparse_tensor {\n",
      "  column_name: \"Hillshade_3pm\"\n",
      "}\n",
      ", 'Hillshade_Noon': varlen_sparse_tensor {\n",
      "  column_name: \"Hillshade_Noon\"\n",
      "}\n",
      ", 'Horizontal_Distance_To_Fire_Points': varlen_sparse_tensor {\n",
      "  column_name: \"Horizontal_Distance_To_Fire_Points\"\n",
      "}\n",
      ", 'Aspect': varlen_sparse_tensor {\n",
      "  column_name: \"Aspect\"\n",
      "}\n",
      ", 'Hillshade_9am': varlen_sparse_tensor {\n",
      "  column_name: \"Hillshade_9am\"\n",
      "}\n",
      ", 'Horizontal_Distance_To_Hydrology': varlen_sparse_tensor {\n",
      "  column_name: \"Horizontal_Distance_To_Hydrology\"\n",
      "}\n",
      ", 'Slope': varlen_sparse_tensor {\n",
      "  column_name: \"Slope\"\n",
      "}\n",
      ", 'Elevation': varlen_sparse_tensor {\n",
      "  column_name: \"Elevation\"\n",
      "}\n",
      ", 'Horizontal_Distance_To_Roadways': varlen_sparse_tensor {\n",
      "  column_name: \"Horizontal_Distance_To_Roadways\"\n",
      "}\n",
      "}, original_type_specs={'Soil_Type': SparseTensorSpec(TensorShape([None, None]), tf.string), 'Wilderness_Area': SparseTensorSpec(TensorShape([None, None]), tf.string), 'Aspect': SparseTensorSpec(TensorShape([None, None]), tf.int64), 'Cover_Type': SparseTensorSpec(TensorShape([None, None]), tf.int64), 'Elevation': SparseTensorSpec(TensorShape([None, None]), tf.int64), 'Hillshade_3pm': SparseTensorSpec(TensorShape([None, None]), tf.int64), 'Hillshade_9am': SparseTensorSpec(TensorShape([None, None]), tf.int64), 'Hillshade_Noon': SparseTensorSpec(TensorShape([None, None]), tf.int64), 'Horizontal_Distance_To_Fire_Points': SparseTensorSpec(TensorShape([None, None]), tf.int64), 'Horizontal_Distance_To_Hydrology': SparseTensorSpec(TensorShape([None, None]), tf.int64), 'Horizontal_Distance_To_Roadways': SparseTensorSpec(TensorShape([None, None]), tf.int64), 'Slope': SparseTensorSpec(TensorShape([None, None]), tf.int64), 'Vertical_Distance_To_Hydrology': SparseTensorSpec(TensorShape([None, None]), tf.int64)})), (<PCollection[Analyze/CreateSavedModel/BindTensors/ReplaceWithConstants.None] at 0x7fd3dec78c50>, BeamDatasetMetadata(dataset_metadata={'_schema': feature {\n",
      "  name: \"Aspect_xf\"\n",
      "  type: FLOAT\n",
      "  presence {\n",
      "    min_fraction: 1.0\n",
      "  }\n",
      "  shape {\n",
      "  }\n",
      "}\n",
      "feature {\n",
      "  name: \"Cover_Type_xf\"\n",
      "  type: INT\n",
      "  presence {\n",
      "    min_fraction: 1.0\n",
      "  }\n",
      "  shape {\n",
      "  }\n",
      "}\n",
      "feature {\n",
      "  name: \"Elevation_xf\"\n",
      "  type: FLOAT\n",
      "  presence {\n",
      "    min_fraction: 1.0\n",
      "  }\n",
      "  shape {\n",
      "  }\n",
      "}\n",
      "feature {\n",
      "  name: \"Hillshade_3pm_xf\"\n",
      "  type: FLOAT\n",
      "  presence {\n",
      "    min_fraction: 1.0\n",
      "  }\n",
      "  shape {\n",
      "  }\n",
      "}\n",
      "feature {\n",
      "  name: \"Hillshade_9am_xf\"\n",
      "  type: FLOAT\n",
      "  presence {\n",
      "    min_fraction: 1.0\n",
      "  }\n",
      "  shape {\n",
      "  }\n",
      "}\n",
      "feature {\n",
      "  name: \"Hillshade_Noon_xf\"\n",
      "  type: FLOAT\n",
      "  presence {\n",
      "    min_fraction: 1.0\n",
      "  }\n",
      "  shape {\n",
      "  }\n",
      "}\n",
      "feature {\n",
      "  name: \"Horizontal_Distance_To_Fire_Points_xf\"\n",
      "  type: FLOAT\n",
      "  presence {\n",
      "    min_fraction: 1.0\n",
      "  }\n",
      "  shape {\n",
      "  }\n",
      "}\n",
      "feature {\n",
      "  name: \"Horizontal_Distance_To_Hydrology_xf\"\n",
      "  type: FLOAT\n",
      "  presence {\n",
      "    min_fraction: 1.0\n",
      "  }\n",
      "  shape {\n",
      "  }\n",
      "}\n",
      "feature {\n",
      "  name: \"Horizontal_Distance_To_Roadways_xf\"\n",
      "  type: FLOAT\n",
      "  presence {\n",
      "    min_fraction: 1.0\n",
      "  }\n",
      "  shape {\n",
      "  }\n",
      "}\n",
      "feature {\n",
      "  name: \"Slope_xf\"\n",
      "  type: FLOAT\n",
      "  presence {\n",
      "    min_fraction: 1.0\n",
      "  }\n",
      "  shape {\n",
      "  }\n",
      "}\n",
      "feature {\n",
      "  name: \"Soil_Type_xf\"\n",
      "  type: INT\n",
      "  int_domain {\n",
      "    is_categorical: true\n",
      "  }\n",
      "  presence {\n",
      "    min_fraction: 1.0\n",
      "  }\n",
      "  shape {\n",
      "  }\n",
      "}\n",
      "feature {\n",
      "  name: \"Vertical_Distance_To_Hydrology_xf\"\n",
      "  type: FLOAT\n",
      "  presence {\n",
      "    min_fraction: 1.0\n",
      "  }\n",
      "  shape {\n",
      "  }\n",
      "}\n",
      "feature {\n",
      "  name: \"Wilderness_Area_xf\"\n",
      "  type: INT\n",
      "  int_domain {\n",
      "    is_categorical: true\n",
      "  }\n",
      "  presence {\n",
      "    min_fraction: 1.0\n",
      "  }\n",
      "  shape {\n",
      "  }\n",
      "}\n",
      "}, deferred_metadata=<PCollection[Analyze/ComputeDeferredMetadata.None] at 0x7fd3dec88290>))) belongs to. Thus noop.\n",
      "WARNING:apache_beam.typehints.typehints:Ignoring send_type hint: <class 'NoneType'>\n",
      "WARNING:apache_beam.typehints.typehints:Ignoring return_type hint: <class 'NoneType'>\n",
      "WARNING:apache_beam.typehints.typehints:Ignoring send_type hint: <class 'NoneType'>\n",
      "WARNING:apache_beam.typehints.typehints:Ignoring return_type hint: <class 'NoneType'>\n",
      "WARNING:apache_beam.typehints.typehints:Ignoring send_type hint: <class 'NoneType'>\n",
      "WARNING:apache_beam.typehints.typehints:Ignoring return_type hint: <class 'NoneType'>\n",
      "INFO:absl:Feature Soil_Type has no shape. Setting to VarLenSparseTensor.\n",
      "INFO:absl:Feature Wilderness_Area has no shape. Setting to VarLenSparseTensor.\n",
      "INFO:absl:Feature Aspect has no shape. Setting to VarLenSparseTensor.\n",
      "INFO:absl:Feature Cover_Type has no shape. Setting to VarLenSparseTensor.\n",
      "INFO:absl:Feature Elevation has no shape. Setting to VarLenSparseTensor.\n",
      "INFO:absl:Feature Hillshade_3pm has no shape. Setting to VarLenSparseTensor.\n",
      "INFO:absl:Feature Hillshade_9am has no shape. Setting to VarLenSparseTensor.\n",
      "INFO:absl:Feature Hillshade_Noon has no shape. Setting to VarLenSparseTensor.\n",
      "INFO:absl:Feature Horizontal_Distance_To_Fire_Points has no shape. Setting to VarLenSparseTensor.\n",
      "INFO:absl:Feature Horizontal_Distance_To_Hydrology has no shape. Setting to VarLenSparseTensor.\n",
      "INFO:absl:Feature Horizontal_Distance_To_Roadways has no shape. Setting to VarLenSparseTensor.\n",
      "INFO:absl:Feature Slope has no shape. Setting to VarLenSparseTensor.\n",
      "INFO:absl:Feature Vertical_Distance_To_Hydrology has no shape. Setting to VarLenSparseTensor.\n"
     ]
    },
    {
     "name": "stdout",
     "output_type": "stream",
     "text": [
      "WARNING:tensorflow:Tensorflow version (2.3.0) found. Note that Tensorflow Transform support for TF 2.0 is currently in beta, and features such as tf.function may not work as intended. \n"
     ]
    },
    {
     "name": "stderr",
     "output_type": "stream",
     "text": [
      "WARNING:apache_beam.utils.interactive_utils:Failed to alter the label of a transform with the ipython prompt metadata. Cannot figure out the pipeline that the given pvalueish ((<PCollection[TFXIOReadAndDecode[TransformIndex1]/RawRecordToRecordBatch/CollectRecordBatchTelemetry/ProfileRecordBatches.None] at 0x7fd3dec14250>, TensorAdapterConfig(arrow_schema=Soil_Type: large_list<item: large_binary>\n",
      "  child 0, item: large_binary\n",
      "Wilderness_Area: large_list<item: large_binary>\n",
      "  child 0, item: large_binary\n",
      "Aspect: large_list<item: int64>\n",
      "  child 0, item: int64\n",
      "Cover_Type: large_list<item: int64>\n",
      "  child 0, item: int64\n",
      "Elevation: large_list<item: int64>\n",
      "  child 0, item: int64\n",
      "Hillshade_3pm: large_list<item: int64>\n",
      "  child 0, item: int64\n",
      "Hillshade_9am: large_list<item: int64>\n",
      "  child 0, item: int64\n",
      "Hillshade_Noon: large_list<item: int64>\n",
      "  child 0, item: int64\n",
      "Horizontal_Distance_To_Fire_Points: large_list<item: int64>\n",
      "  child 0, item: int64\n",
      "Horizontal_Distance_To_Hydrology: large_list<item: int64>\n",
      "  child 0, item: int64\n",
      "Horizontal_Distance_To_Roadways: large_list<item: int64>\n",
      "  child 0, item: int64\n",
      "Slope: large_list<item: int64>\n",
      "  child 0, item: int64\n",
      "Vertical_Distance_To_Hydrology: large_list<item: int64>\n",
      "  child 0, item: int64, tensor_representations={'Cover_Type': varlen_sparse_tensor {\n",
      "  column_name: \"Cover_Type\"\n",
      "}\n",
      ", 'Soil_Type': varlen_sparse_tensor {\n",
      "  column_name: \"Soil_Type\"\n",
      "}\n",
      ", 'Hillshade_3pm': varlen_sparse_tensor {\n",
      "  column_name: \"Hillshade_3pm\"\n",
      "}\n",
      ", 'Hillshade_Noon': varlen_sparse_tensor {\n",
      "  column_name: \"Hillshade_Noon\"\n",
      "}\n",
      ", 'Horizontal_Distance_To_Fire_Points': varlen_sparse_tensor {\n",
      "  column_name: \"Horizontal_Distance_To_Fire_Points\"\n",
      "}\n",
      ", 'Aspect': varlen_sparse_tensor {\n",
      "  column_name: \"Aspect\"\n",
      "}\n",
      ", 'Hillshade_9am': varlen_sparse_tensor {\n",
      "  column_name: \"Hillshade_9am\"\n",
      "}\n",
      ", 'Horizontal_Distance_To_Hydrology': varlen_sparse_tensor {\n",
      "  column_name: \"Horizontal_Distance_To_Hydrology\"\n",
      "}\n",
      ", 'Slope': varlen_sparse_tensor {\n",
      "  column_name: \"Slope\"\n",
      "}\n",
      ", 'Elevation': varlen_sparse_tensor {\n",
      "  column_name: \"Elevation\"\n",
      "}\n",
      ", 'Horizontal_Distance_To_Roadways': varlen_sparse_tensor {\n",
      "  column_name: \"Horizontal_Distance_To_Roadways\"\n",
      "}\n",
      ", 'Wilderness_Area': varlen_sparse_tensor {\n",
      "  column_name: \"Wilderness_Area\"\n",
      "}\n",
      ", 'Vertical_Distance_To_Hydrology': varlen_sparse_tensor {\n",
      "  column_name: \"Vertical_Distance_To_Hydrology\"\n",
      "}\n",
      "}, original_type_specs={'Soil_Type': SparseTensorSpec(TensorShape([None, None]), tf.string), 'Wilderness_Area': SparseTensorSpec(TensorShape([None, None]), tf.string), 'Aspect': SparseTensorSpec(TensorShape([None, None]), tf.int64), 'Cover_Type': SparseTensorSpec(TensorShape([None, None]), tf.int64), 'Elevation': SparseTensorSpec(TensorShape([None, None]), tf.int64), 'Hillshade_3pm': SparseTensorSpec(TensorShape([None, None]), tf.int64), 'Hillshade_9am': SparseTensorSpec(TensorShape([None, None]), tf.int64), 'Hillshade_Noon': SparseTensorSpec(TensorShape([None, None]), tf.int64), 'Horizontal_Distance_To_Fire_Points': SparseTensorSpec(TensorShape([None, None]), tf.int64), 'Horizontal_Distance_To_Hydrology': SparseTensorSpec(TensorShape([None, None]), tf.int64), 'Horizontal_Distance_To_Roadways': SparseTensorSpec(TensorShape([None, None]), tf.int64), 'Slope': SparseTensorSpec(TensorShape([None, None]), tf.int64), 'Vertical_Distance_To_Hydrology': SparseTensorSpec(TensorShape([None, None]), tf.int64)})), (<PCollection[Analyze/CreateSavedModel/BindTensors/ReplaceWithConstants.None] at 0x7fd3dec78c50>, BeamDatasetMetadata(dataset_metadata={'_schema': feature {\n",
      "  name: \"Aspect_xf\"\n",
      "  type: FLOAT\n",
      "  presence {\n",
      "    min_fraction: 1.0\n",
      "  }\n",
      "  shape {\n",
      "  }\n",
      "}\n",
      "feature {\n",
      "  name: \"Cover_Type_xf\"\n",
      "  type: INT\n",
      "  presence {\n",
      "    min_fraction: 1.0\n",
      "  }\n",
      "  shape {\n",
      "  }\n",
      "}\n",
      "feature {\n",
      "  name: \"Elevation_xf\"\n",
      "  type: FLOAT\n",
      "  presence {\n",
      "    min_fraction: 1.0\n",
      "  }\n",
      "  shape {\n",
      "  }\n",
      "}\n",
      "feature {\n",
      "  name: \"Hillshade_3pm_xf\"\n",
      "  type: FLOAT\n",
      "  presence {\n",
      "    min_fraction: 1.0\n",
      "  }\n",
      "  shape {\n",
      "  }\n",
      "}\n",
      "feature {\n",
      "  name: \"Hillshade_9am_xf\"\n",
      "  type: FLOAT\n",
      "  presence {\n",
      "    min_fraction: 1.0\n",
      "  }\n",
      "  shape {\n",
      "  }\n",
      "}\n",
      "feature {\n",
      "  name: \"Hillshade_Noon_xf\"\n",
      "  type: FLOAT\n",
      "  presence {\n",
      "    min_fraction: 1.0\n",
      "  }\n",
      "  shape {\n",
      "  }\n",
      "}\n",
      "feature {\n",
      "  name: \"Horizontal_Distance_To_Fire_Points_xf\"\n",
      "  type: FLOAT\n",
      "  presence {\n",
      "    min_fraction: 1.0\n",
      "  }\n",
      "  shape {\n",
      "  }\n",
      "}\n",
      "feature {\n",
      "  name: \"Horizontal_Distance_To_Hydrology_xf\"\n",
      "  type: FLOAT\n",
      "  presence {\n",
      "    min_fraction: 1.0\n",
      "  }\n",
      "  shape {\n",
      "  }\n",
      "}\n",
      "feature {\n",
      "  name: \"Horizontal_Distance_To_Roadways_xf\"\n",
      "  type: FLOAT\n",
      "  presence {\n",
      "    min_fraction: 1.0\n",
      "  }\n",
      "  shape {\n",
      "  }\n",
      "}\n",
      "feature {\n",
      "  name: \"Slope_xf\"\n",
      "  type: FLOAT\n",
      "  presence {\n",
      "    min_fraction: 1.0\n",
      "  }\n",
      "  shape {\n",
      "  }\n",
      "}\n",
      "feature {\n",
      "  name: \"Soil_Type_xf\"\n",
      "  type: INT\n",
      "  int_domain {\n",
      "    is_categorical: true\n",
      "  }\n",
      "  presence {\n",
      "    min_fraction: 1.0\n",
      "  }\n",
      "  shape {\n",
      "  }\n",
      "}\n",
      "feature {\n",
      "  name: \"Vertical_Distance_To_Hydrology_xf\"\n",
      "  type: FLOAT\n",
      "  presence {\n",
      "    min_fraction: 1.0\n",
      "  }\n",
      "  shape {\n",
      "  }\n",
      "}\n",
      "feature {\n",
      "  name: \"Wilderness_Area_xf\"\n",
      "  type: INT\n",
      "  int_domain {\n",
      "    is_categorical: true\n",
      "  }\n",
      "  presence {\n",
      "    min_fraction: 1.0\n",
      "  }\n",
      "  shape {\n",
      "  }\n",
      "}\n",
      "}, deferred_metadata=<PCollection[Analyze/ComputeDeferredMetadata.None] at 0x7fd3dec88290>))) belongs to. Thus noop.\n",
      "WARNING:apache_beam.typehints.typehints:Ignoring send_type hint: <class 'NoneType'>\n",
      "WARNING:apache_beam.typehints.typehints:Ignoring return_type hint: <class 'NoneType'>\n",
      "WARNING:apache_beam.typehints.typehints:Ignoring send_type hint: <class 'NoneType'>\n",
      "WARNING:apache_beam.typehints.typehints:Ignoring return_type hint: <class 'NoneType'>\n",
      "WARNING:apache_beam.typehints.typehints:Ignoring send_type hint: <class 'NoneType'>\n",
      "WARNING:apache_beam.typehints.typehints:Ignoring return_type hint: <class 'NoneType'>\n"
     ]
    },
    {
     "name": "stdout",
     "output_type": "stream",
     "text": [
      "INFO:tensorflow:Saver not created because there are no variables in the graph to restore\n",
      "INFO:tensorflow:Saver not created because there are no variables in the graph to restore\n",
      "INFO:tensorflow:Assets added to graph.\n",
      "INFO:tensorflow:Assets written to: /home/jupyter/pipeline-root/covertype-end-to-end/Transform/transform_graph/7/.temp_path/tftransform_tmp/f266751770ce4584995b8df2451454c4/assets\n",
      "INFO:tensorflow:SavedModel written to: /home/jupyter/pipeline-root/covertype-end-to-end/Transform/transform_graph/7/.temp_path/tftransform_tmp/f266751770ce4584995b8df2451454c4/saved_model.pb\n",
      "WARNING:tensorflow:Expected binary or unicode string, got type_url: \"type.googleapis.com/tensorflow.AssetFileDef\"\n",
      "value: \"\\n\\013\\n\\tConst_3:0\\022\\017Wilderness_Area\"\n",
      "\n",
      "WARNING:tensorflow:Expected binary or unicode string, got type_url: \"type.googleapis.com/tensorflow.AssetFileDef\"\n",
      "value: \"\\n\\013\\n\\tConst_5:0\\022\\tSoil_Type\"\n",
      "\n",
      "INFO:tensorflow:Saver not created because there are no variables in the graph to restore\n",
      "WARNING:tensorflow:Expected binary or unicode string, got type_url: \"type.googleapis.com/tensorflow.AssetFileDef\"\n",
      "value: \"\\n\\013\\n\\tConst_3:0\\022\\017Wilderness_Area\"\n",
      "\n",
      "WARNING:tensorflow:Expected binary or unicode string, got type_url: \"type.googleapis.com/tensorflow.AssetFileDef\"\n",
      "value: \"\\n\\013\\n\\tConst_5:0\\022\\tSoil_Type\"\n",
      "\n",
      "INFO:tensorflow:Saver not created because there are no variables in the graph to restore\n",
      "WARNING:tensorflow:Expected binary or unicode string, got type_url: \"type.googleapis.com/tensorflow.AssetFileDef\"\n",
      "value: \"\\n\\013\\n\\tConst_3:0\\022\\017Wilderness_Area\"\n",
      "\n",
      "WARNING:tensorflow:Expected binary or unicode string, got type_url: \"type.googleapis.com/tensorflow.AssetFileDef\"\n",
      "value: \"\\n\\013\\n\\tConst_5:0\\022\\tSoil_Type\"\n",
      "\n",
      "INFO:tensorflow:Saver not created because there are no variables in the graph to restore\n"
     ]
    },
    {
     "name": "stderr",
     "output_type": "stream",
     "text": [
      "INFO:absl:Running publisher for Transform\n",
      "INFO:absl:MetadataStore with DB connection initialized\n",
      "INFO:absl:Component Transform is finished.\n",
      "INFO:absl:Component Trainer is running.\n",
      "INFO:absl:Running driver for Trainer\n",
      "INFO:absl:MetadataStore with DB connection initialized\n",
      "INFO:absl:Running executor for Trainer\n",
      "INFO:absl:Train on the 'train' split when train_args.splits is not set.\n",
      "INFO:absl:Evaluate on the 'eval' split when eval_args.splits is not set.\n",
      "INFO:absl:Training model.\n",
      "INFO:absl:Model: \"functional_1\"\n",
      "INFO:absl:__________________________________________________________________________________________________\n",
      "INFO:absl:Layer (type)                    Output Shape         Param #     Connected to                     \n",
      "INFO:absl:==================================================================================================\n",
      "INFO:absl:Aspect_xf (InputLayer)          [(None,)]            0                                            \n",
      "INFO:absl:__________________________________________________________________________________________________\n",
      "INFO:absl:Elevation_xf (InputLayer)       [(None,)]            0                                            \n",
      "INFO:absl:__________________________________________________________________________________________________\n",
      "INFO:absl:Hillshade_3pm_xf (InputLayer)   [(None,)]            0                                            \n",
      "INFO:absl:__________________________________________________________________________________________________\n",
      "INFO:absl:Hillshade_9am_xf (InputLayer)   [(None,)]            0                                            \n",
      "INFO:absl:__________________________________________________________________________________________________\n",
      "INFO:absl:Hillshade_Noon_xf (InputLayer)  [(None,)]            0                                            \n",
      "INFO:absl:__________________________________________________________________________________________________\n",
      "INFO:absl:Horizontal_Distance_To_Fire_Poi [(None,)]            0                                            \n",
      "INFO:absl:__________________________________________________________________________________________________\n",
      "INFO:absl:Horizontal_Distance_To_Hydrolog [(None,)]            0                                            \n",
      "INFO:absl:__________________________________________________________________________________________________\n",
      "INFO:absl:Horizontal_Distance_To_Roadways [(None,)]            0                                            \n",
      "INFO:absl:__________________________________________________________________________________________________\n",
      "INFO:absl:Slope_xf (InputLayer)           [(None,)]            0                                            \n",
      "INFO:absl:__________________________________________________________________________________________________\n",
      "INFO:absl:Soil_Type_xf (InputLayer)       [(None,)]            0                                            \n",
      "INFO:absl:__________________________________________________________________________________________________\n",
      "INFO:absl:Vertical_Distance_To_Hydrology_ [(None,)]            0                                            \n",
      "INFO:absl:__________________________________________________________________________________________________\n",
      "INFO:absl:Wilderness_Area_xf (InputLayer) [(None,)]            0                                            \n",
      "INFO:absl:__________________________________________________________________________________________________\n",
      "INFO:absl:dense_features (DenseFeatures)  (None, 10)           0           Aspect_xf[0][0]                  \n",
      "INFO:absl:                                                                 Elevation_xf[0][0]               \n",
      "INFO:absl:                                                                 Hillshade_3pm_xf[0][0]           \n",
      "INFO:absl:                                                                 Hillshade_9am_xf[0][0]           \n",
      "INFO:absl:                                                                 Hillshade_Noon_xf[0][0]          \n",
      "INFO:absl:                                                                 Horizontal_Distance_To_Fire_Point\n",
      "INFO:absl:                                                                 Horizontal_Distance_To_Hydrology_\n",
      "INFO:absl:                                                                 Horizontal_Distance_To_Roadways_x\n",
      "INFO:absl:                                                                 Slope_xf[0][0]                   \n",
      "INFO:absl:                                                                 Soil_Type_xf[0][0]               \n",
      "INFO:absl:                                                                 Vertical_Distance_To_Hydrology_xf\n",
      "INFO:absl:                                                                 Wilderness_Area_xf[0][0]         \n",
      "INFO:absl:__________________________________________________________________________________________________\n",
      "INFO:absl:dense (Dense)                   (None, 16)           176         dense_features[0][0]             \n",
      "INFO:absl:__________________________________________________________________________________________________\n",
      "INFO:absl:dense_1 (Dense)                 (None, 8)            136         dense[0][0]                      \n",
      "INFO:absl:__________________________________________________________________________________________________\n",
      "INFO:absl:dense_features_1 (DenseFeatures (None, 46)           0           Aspect_xf[0][0]                  \n",
      "INFO:absl:                                                                 Elevation_xf[0][0]               \n",
      "INFO:absl:                                                                 Hillshade_3pm_xf[0][0]           \n",
      "INFO:absl:                                                                 Hillshade_9am_xf[0][0]           \n",
      "INFO:absl:                                                                 Hillshade_Noon_xf[0][0]          \n",
      "INFO:absl:                                                                 Horizontal_Distance_To_Fire_Point\n",
      "INFO:absl:                                                                 Horizontal_Distance_To_Hydrology_\n",
      "INFO:absl:                                                                 Horizontal_Distance_To_Roadways_x\n",
      "INFO:absl:                                                                 Slope_xf[0][0]                   \n",
      "INFO:absl:                                                                 Soil_Type_xf[0][0]               \n",
      "INFO:absl:                                                                 Vertical_Distance_To_Hydrology_xf\n",
      "INFO:absl:                                                                 Wilderness_Area_xf[0][0]         \n",
      "INFO:absl:__________________________________________________________________________________________________\n",
      "INFO:absl:concatenate (Concatenate)       (None, 54)           0           dense_1[0][0]                    \n",
      "INFO:absl:                                                                 dense_features_1[0][0]           \n",
      "INFO:absl:__________________________________________________________________________________________________\n",
      "INFO:absl:dense_2 (Dense)                 (None, 7)            385         concatenate[0][0]                \n",
      "INFO:absl:==================================================================================================\n",
      "INFO:absl:Total params: 697\n",
      "INFO:absl:Trainable params: 697\n",
      "INFO:absl:Non-trainable params: 0\n",
      "INFO:absl:__________________________________________________________________________________________________\n"
     ]
    },
    {
     "name": "stdout",
     "output_type": "stream",
     "text": [
      "WARNING:tensorflow:From /opt/conda/lib/python3.7/site-packages/tensorflow/python/ops/summary_ops_v2.py:1277: stop (from tensorflow.python.eager.profiler) is deprecated and will be removed after 2020-07-01.\n",
      "Instructions for updating:\n",
      "use `tf.profiler.experimental.stop` instead.\n",
      "WARNING:tensorflow:Callbacks method `on_train_batch_end` is slow compared to the batch time (batch time: 0.0103s vs `on_train_batch_end` time: 0.0425s). Check your callbacks.\n",
      "5000/5000 - 26s - loss: 0.6998 - sparse_categorical_accuracy: 0.7031 - val_loss: 0.6469 - val_sparse_categorical_accuracy: 0.7194\n",
      "INFO:tensorflow:Saver not created because there are no variables in the graph to restore\n",
      "WARNING:tensorflow:From /opt/conda/lib/python3.7/site-packages/tensorflow/python/training/tracking/tracking.py:111: Model.state_updates (from tensorflow.python.keras.engine.training) is deprecated and will be removed in a future version.\n",
      "Instructions for updating:\n",
      "This property should not be used in TensorFlow 2.0, as updates are applied automatically.\n",
      "WARNING:tensorflow:From /opt/conda/lib/python3.7/site-packages/tensorflow/python/training/tracking/tracking.py:111: Layer.updates (from tensorflow.python.keras.engine.base_layer) is deprecated and will be removed in a future version.\n",
      "Instructions for updating:\n",
      "This property should not be used in TensorFlow 2.0, as updates are applied automatically.\n",
      "INFO:tensorflow:Assets written to: /home/jupyter/pipeline-root/covertype-end-to-end/Trainer/model/8/serving_model_dir/assets\n"
     ]
    },
    {
     "name": "stderr",
     "output_type": "stream",
     "text": [
      "INFO:absl:Training complete. Model written to /home/jupyter/pipeline-root/covertype-end-to-end/Trainer/model/8/serving_model_dir. ModelRun written to /home/jupyter/pipeline-root/covertype-end-to-end/Trainer/model_run/8\n",
      "INFO:absl:Running publisher for Trainer\n",
      "INFO:absl:MetadataStore with DB connection initialized\n",
      "INFO:absl:Component Trainer is finished.\n",
      "INFO:absl:Component Evaluator is running.\n",
      "INFO:absl:Running driver for Evaluator\n",
      "INFO:absl:MetadataStore with DB connection initialized\n",
      "INFO:absl:Running executor for Evaluator\n",
      "INFO:absl:Request was made to ignore the baseline ModelSpec and any change thresholds. This is likely because a baseline model was not provided: updated_config=\n",
      "model_specs {\n",
      "  label_key: \"Cover_Type\"\n",
      "}\n",
      "slicing_specs {\n",
      "}\n",
      "slicing_specs {\n",
      "  feature_keys: \"Wilderness_Area\"\n",
      "}\n",
      "metrics_specs {\n",
      "  metrics {\n",
      "    class_name: \"SparseCategoricalAccuracy\"\n",
      "    threshold {\n",
      "      value_threshold {\n",
      "        lower_bound {\n",
      "          value: 0.5\n",
      "        }\n",
      "        upper_bound {\n",
      "          value: 0.99\n",
      "        }\n",
      "      }\n",
      "    }\n",
      "  }\n",
      "  metrics {\n",
      "    class_name: \"ExampleCount\"\n",
      "    threshold {\n",
      "    }\n",
      "  }\n",
      "}\n",
      "\n",
      "INFO:absl:Using /home/jupyter/pipeline-root/covertype-end-to-end/Trainer/model/8/serving_model_dir as  model.\n",
      "INFO:absl:The 'example_splits' parameter is not set, using 'eval' split.\n",
      "INFO:absl:Evaluating model.\n"
     ]
    },
    {
     "name": "stdout",
     "output_type": "stream",
     "text": [
      "WARNING:tensorflow:5 out of the last 5 calls to <function recreate_function.<locals>.restored_function_body at 0x7fd3a63f70e0> triggered tf.function retracing. Tracing is expensive and the excessive number of tracings could be due to (1) creating @tf.function repeatedly in a loop, (2) passing tensors with different shapes, (3) passing Python objects instead of tensors. For (1), please define your @tf.function outside of the loop. For (2), @tf.function has experimental_relax_shapes=True option that relaxes argument shapes that can avoid unnecessary retracing. For (3), please refer to https://www.tensorflow.org/tutorials/customization/performance#python_or_tensor_args and https://www.tensorflow.org/api_docs/python/tf/function for  more details.\n"
     ]
    },
    {
     "name": "stderr",
     "output_type": "stream",
     "text": [
      "WARNING:absl:inputs do not match those expected by the model: input_names=['examples'], found in extracts={}\n",
      "INFO:absl:Evaluation complete. Results written to /home/jupyter/pipeline-root/covertype-end-to-end/Evaluator/evaluation/9.\n",
      "INFO:absl:Checking validation results.\n",
      "INFO:absl:Blessing result True written to /home/jupyter/pipeline-root/covertype-end-to-end/Evaluator/blessing/9.\n",
      "INFO:absl:Running publisher for Evaluator\n",
      "INFO:absl:MetadataStore with DB connection initialized\n",
      "INFO:absl:Component Evaluator is finished.\n",
      "INFO:absl:Component Pusher is running.\n",
      "INFO:absl:Running driver for Pusher\n",
      "INFO:absl:MetadataStore with DB connection initialized\n",
      "INFO:absl:Running executor for Pusher\n",
      "INFO:absl:Model version: 1598736107\n",
      "INFO:absl:Model written to serving path gs://mlops-dev-workspace/model-store/covertype_classifier/1598736107.\n",
      "INFO:absl:Model pushed to /home/jupyter/pipeline-root/covertype-end-to-end/Pusher/pushed_model/10.\n",
      "INFO:absl:Running publisher for Pusher\n",
      "INFO:absl:MetadataStore with DB connection initialized\n",
      "INFO:absl:Component Pusher is finished.\n"
     ]
    }
   ],
   "source": [
    "BeamDagRunner().run(pipeline)"
   ]
  },
  {
   "cell_type": "markdown",
   "metadata": {},
   "source": [
    "### Examine the artifacts created by the pipeline run\n",
    "\n",
    "#### Visualize statistics"
   ]
  },
  {
   "cell_type": "code",
   "execution_count": 34,
   "metadata": {
    "tags": []
   },
   "outputs": [
    {
     "name": "stderr",
     "output_type": "stream",
     "text": [
      "INFO:absl:MetadataStore with DB connection initialized\n"
     ]
    },
    {
     "data": {
      "text/html": [
       "<iframe id='facets-iframe' width=\"100%\" height=\"500px\"></iframe>\n",
       "        <script>\n",
       "        facets_iframe = document.getElementById('facets-iframe');\n",
       "        facets_html = '<script src=\"https://cdnjs.cloudflare.com/ajax/libs/webcomponentsjs/1.3.3/webcomponents-lite.js\"><\\/script><link rel=\"import\" href=\"https://raw.githubusercontent.com/PAIR-code/facets/master/facets-dist/facets-jupyter.html\"><facets-overview proto-input=\"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\"></facets-overview>';\n",
       "        facets_iframe.srcdoc = facets_html;\n",
       "         facets_iframe.id = \"\";\n",
       "         setTimeout(() => {\n",
       "           facets_iframe.setAttribute('height', facets_iframe.contentWindow.document.body.offsetHeight + 'px')\n",
       "         }, 1500)\n",
       "         </script>"
      ],
      "text/plain": [
       "<IPython.core.display.HTML object>"
      ]
     },
     "metadata": {},
     "output_type": "display_data"
    }
   ],
   "source": [
    "with metadata.Metadata(connection_config) as store:\n",
    "    stats_artifacts = store.get_artifacts_by_type(ExampleStatistics.TYPE_NAME)\n",
    "\n",
    "stats_path = stats_artifacts[-1].uri\n",
    "train_stats_file = os.path.join(stats_path, 'train', 'stats_tfrecord')\n",
    "eval_stats_file = os.path.join(stats_path, 'eval', 'stats_tfrecord')\n",
    "train_stats = tfdv.load_statistics(train_stats_file)\n",
    "eval_stats = tfdv.load_statistics(eval_stats_file)\n",
    "tfdv.visualize_statistics(lhs_statistics=eval_stats, rhs_statistics=train_stats,\n",
    "                          lhs_name='EVAL_DATASET', rhs_name='TRAIN_DATASET')"
   ]
  },
  {
   "cell_type": "markdown",
   "metadata": {},
   "source": [
    "#### Visualize model evaluations"
   ]
  },
  {
   "cell_type": "code",
   "execution_count": 35,
   "metadata": {
    "tags": []
   },
   "outputs": [
    {
     "name": "stderr",
     "output_type": "stream",
     "text": [
      "INFO:absl:MetadataStore with DB connection initialized\n"
     ]
    },
    {
     "data": {
      "application/vnd.jupyter.widget-view+json": {
       "model_id": "d4a4f2221bf0481eb5926a8821ef4638",
       "version_major": 2,
       "version_minor": 0
      },
      "text/plain": [
       "SlicingMetricsViewer(config={'weightedExamplesColumn': 'example_count'}, data=[{'slice': 'Wilderness_Area:Cach…"
      ]
     },
     "metadata": {},
     "output_type": "display_data"
    }
   ],
   "source": [
    "with metadata.Metadata(connection_config) as store:\n",
    "    model_eval_artifacts = store.get_artifacts_by_type(ModelEvaluation.TYPE_NAME)\n",
    "\n",
    "model_eval_path = model_eval_artifacts[-1].uri\n",
    "eval_result = tfma.load_eval_result(model_eval_path)\n",
    "tfma.view.render_slicing_metrics(\n",
    "    eval_result, slicing_column='Wilderness_Area')"
   ]
  },
  {
   "cell_type": "markdown",
   "metadata": {},
   "source": [
    "## Submit a pipeline run to Managed Pipelines\n",
    "\n",
    "### Create custom docker image\n",
    "\n",
    "Write the Dockerfile."
   ]
  },
  {
   "cell_type": "code",
   "execution_count": 36,
   "metadata": {},
   "outputs": [
    {
     "name": "stdout",
     "output_type": "stream",
     "text": [
      "Overwriting Dockerfile\n"
     ]
    }
   ],
   "source": [
    "%%writefile Dockerfile\n",
    "FROM gcr.io/caip-pipelines-assets/tfx:latest\n",
    "WORKDIR /pipeline\n",
    "COPY ./*.py ./\n",
    "ENV PYTHONPATH=\"/pipeline:${PYTHONPATH}\""
   ]
  },
  {
   "cell_type": "markdown",
   "metadata": {},
   "source": [
    "Create the Skaffold build configuration."
   ]
  },
  {
   "cell_type": "code",
   "execution_count": 37,
   "metadata": {},
   "outputs": [
    {
     "name": "stdout",
     "output_type": "stream",
     "text": [
      "\n",
      "apiVersion: skaffold/v2beta3\n",
      "kind: Config\n",
      "metadata:\n",
      "  name: my-pipeline\n",
      "build:\n",
      "  artifacts:\n",
      "  - image: 'gcr.io/mlops-dev-env/caip-tfx-custom'\n",
      "    context: .\n",
      "    docker:\n",
      "      dockerfile: Dockerfile\n",
      "  tagPolicy:\n",
      "    envTemplate:\n",
      "      template: \"{{.IMAGE_NAME}}:latest\"\n"
     ]
    }
   ],
   "source": [
    "TAG = 'latest'\n",
    "SK_TEMPLATE = \"{{{{.IMAGE_NAME}}}}:{}\".format(TAG)\n",
    "CUSTOM_IMAGE = f'gcr.io/{PROJECT_ID}/caip-tfx-custom'\n",
    "\n",
    "skaffold_template = f\"\"\"\n",
    "apiVersion: skaffold/v2beta3\n",
    "kind: Config\n",
    "metadata:\n",
    "  name: my-pipeline\n",
    "build:\n",
    "  artifacts:\n",
    "  - image: '{CUSTOM_IMAGE}'\n",
    "    context: .\n",
    "    docker:\n",
    "      dockerfile: Dockerfile\n",
    "  tagPolicy:\n",
    "    envTemplate:\n",
    "      template: \"{{SK_TEMPLATE}}\"\n",
    "\"\"\"\n",
    "\n",
    "with open('skaffold.yaml', 'w') as f:\n",
    "    f.write(skaffold_template.format(**globals()))\n",
    "\n",
    "!cat skaffold.yaml"
   ]
  },
  {
   "cell_type": "markdown",
   "metadata": {},
   "source": [
    "Build and push the image"
   ]
  },
  {
   "cell_type": "code",
   "execution_count": 38,
   "metadata": {},
   "outputs": [
    {
     "name": "stdout",
     "output_type": "stream",
     "text": [
      "Generating tags...\n",
      " - gcr.io/mlops-dev-env/caip-tfx-custom -> WARN[0000] {{.IMAGE_NAME}} is deprecated, envTemplate's template should only specify the tag value. See https://skaffold.dev/docs/pipeline-stages/taggers/ \n",
      "gcr.io/mlops-dev-env/caip-tfx-custom:latest\n",
      "Checking cache...\n",
      " - gcr.io/mlops-dev-env/caip-tfx-custom: Found Remotely\n"
     ]
    }
   ],
   "source": [
    "!skaffold build"
   ]
  },
  {
   "cell_type": "markdown",
   "metadata": {},
   "source": [
    "### Create the pipeline"
   ]
  },
  {
   "cell_type": "code",
   "execution_count": 42,
   "metadata": {},
   "outputs": [],
   "source": [
    "pipeline_name = 'covertype-end-to-end'\n",
    "pipeline_root = f'{GCS_PIPELINE_ROOT}/{pipeline_name}'\n",
    "\n",
    "components = [example_gen, \n",
    "              statistics_gen, \n",
    "              schema_gen,\n",
    "              example_validator,\n",
    "              transform,\n",
    "              trainer,\n",
    "              model_resolver,\n",
    "              model_analyzer,\n",
    "              pusher]\n",
    "\n",
    "pipeline = Pipeline(\n",
    "    pipeline_name=pipeline_name,\n",
    "    pipeline_root=pipeline_root,\n",
    "    components=components\n",
    ")"
   ]
  },
  {
   "cell_type": "markdown",
   "metadata": {},
   "source": [
    "### Configure Manage Pipelines runner"
   ]
  },
  {
   "cell_type": "code",
   "execution_count": 43,
   "metadata": {},
   "outputs": [],
   "source": [
    "pipeline_display_name = 'Covertype Classifier Training'\n",
    "\n",
    "runner = ai_platform_pipelines_dag_runner.AIPlatformPipelinesDagRunner(\n",
    "    config=ai_platform_pipelines_dag_runner.AIPlatformPipelinesDagRunnerConfig(\n",
    "        project_id=PROJECT_ID,\n",
    "        display_name=pipeline_display_name,\n",
    "        default_image=CUSTOM_IMAGE))"
   ]
  },
  {
   "cell_type": "markdown",
   "metadata": {},
   "source": [
    "### Submit run"
   ]
  },
  {
   "cell_type": "code",
   "execution_count": 44,
   "metadata": {},
   "outputs": [
    {
     "name": "stderr",
     "output_type": "stream",
     "text": [
      "INFO:absl:Compiled JSON request: {\"name\": \"projects/mlops-dev-env/pipelineJobs/covertype-end-to-end_20200829212412\", \"displayName\": \"Covertype Classifier Training\", \"spec\": {\"pipelineContext\": \"covertype-end-to-end\", \"steps\": {\"SchemaGen\": {\"task\": {\"inputs\": {\"statistics\": {\"stepOutput\": {\"step\": \"StatisticsGen.Statistics_Generation\", \"output\": \"statistics\"}}}, \"executionProperties\": {\"infer_feature_shape\": {\"intValue\": \"0\"}, \"exclude_splits\": {\"stringValue\": \"[]\"}}, \"outputs\": {\"schema\": {\"artifact\": {\"customProperties\": {\"custom:producer_component\": {\"stringValue\": \"SchemaGen\"}, \"custom:name\": {\"stringValue\": \"schema\"}, \"custom:pipeline_name\": {\"stringValue\": \"covertype-end-to-end\"}, \"tfx_type\": {\"stringValue\": \"tfx.types.standard_artifacts.Schema\"}, \"type_name\": {\"stringValue\": \"Schema\"}}, \"schema\": {}}}}, \"container\": {\"image\": \"gcr.io/mlops-dev-env/caip-tfx-custom\", \"command\": [\"python3\", \"/tfx-src/tfx/orchestration/ai_platform_pipelines/container/ai_platform_run_executor.py\"], \"args\": [\"--executor_class_path\", \"tfx.components.schema_gen.executor.Executor\", \"--json_serialized_invocation_args\", \"{{$}}\"]}}, \"dependencies\": [{\"step\": \"StatisticsGen.Statistics_Generation\"}], \"cachePolicy\": {}}, \"Evaluator\": {\"task\": {\"inputs\": {\"model\": {\"stepOutput\": {\"step\": \"Trainer\", \"output\": \"model\"}}, \"examples\": {\"stepOutput\": {\"step\": \"CsvExampleGen.Data_Extraction_Spliting\", \"output\": \"examples\"}}, \"baseline_model\": {\"stepOutput\": {\"step\": \"ResolverNode.latest_blessed_model_resolver\", \"output\": \"model\"}}}, \"executionProperties\": {\"example_splits\": {\"stringValue\": \"null\"}, \"eval_config\": {\"stringValue\": \"{\\n  \\\"metrics_specs\\\": [\\n    {\\n      \\\"metrics\\\": [\\n        {\\n          \\\"class_name\\\": \\\"SparseCategoricalAccuracy\\\",\\n          \\\"threshold\\\": {\\n            \\\"change_threshold\\\": {\\n              \\\"absolute\\\": 0.0001,\\n              \\\"direction\\\": \\\"HIGHER_IS_BETTER\\\"\\n            },\\n            \\\"value_threshold\\\": {\\n              \\\"lower_bound\\\": 0.5,\\n              \\\"upper_bound\\\": 0.99\\n            }\\n          }\\n        },\\n        {\\n          \\\"class_name\\\": \\\"ExampleCount\\\"\\n        }\\n      ]\\n    }\\n  ],\\n  \\\"model_specs\\\": [\\n    {\\n      \\\"label_key\\\": \\\"Cover_Type\\\"\\n    }\\n  ],\\n  \\\"slicing_specs\\\": [\\n    {},\\n    {\\n      \\\"feature_keys\\\": [\\n        \\\"Wilderness_Area\\\"\\n      ]\\n    }\\n  ]\\n}\"}}, \"outputs\": {\"blessing\": {\"artifact\": {\"customProperties\": {\"type_name\": {\"stringValue\": \"ModelBlessing\"}, \"custom:producer_component\": {\"stringValue\": \"Evaluator\"}, \"custom:name\": {\"stringValue\": \"blessing\"}, \"custom:pipeline_name\": {\"stringValue\": \"covertype-end-to-end\"}, \"tfx_type\": {\"stringValue\": \"tfx.types.standard_artifacts.ModelBlessing\"}}, \"file\": {}}}, \"evaluation\": {\"artifact\": {\"customProperties\": {\"type_name\": {\"stringValue\": \"ModelEvaluation\"}, \"custom:producer_component\": {\"stringValue\": \"Evaluator\"}, \"custom:name\": {\"stringValue\": \"evaluation\"}, \"custom:pipeline_name\": {\"stringValue\": \"covertype-end-to-end\"}, \"tfx_type\": {\"stringValue\": \"tfx.types.standard_artifacts.ModelEvaluation\"}}, \"metrics\": {}}}}, \"container\": {\"image\": \"gcr.io/mlops-dev-env/caip-tfx-custom\", \"command\": [\"python3\", \"/tfx-src/tfx/orchestration/ai_platform_pipelines/container/ai_platform_run_executor.py\"], \"args\": [\"--executor_class_path\", \"tfx.components.evaluator.executor.Executor\", \"--json_serialized_invocation_args\", \"{{$}}\"]}}, \"dependencies\": [{\"step\": \"CsvExampleGen.Data_Extraction_Spliting\"}, {\"step\": \"ResolverNode.latest_blessed_model_resolver\"}, {\"step\": \"Trainer\"}], \"cachePolicy\": {}}, \"Transform\": {\"task\": {\"inputs\": {\"schema\": {\"stepOutput\": {\"step\": \"SchemaGen\", \"output\": \"schema\"}}, \"examples\": {\"stepOutput\": {\"step\": \"CsvExampleGen.Data_Extraction_Spliting\", \"output\": \"examples\"}}}, \"executionProperties\": {\"module_file\": {\"stringValue\": \"preprocessing.py\"}, \"custom_config\": {\"stringValue\": \"null\"}}, \"outputs\": {\"transformed_examples\": {\"artifact\": {\"customProperties\": {\"type_name\": {\"stringValue\": \"Examples\"}, \"custom:producer_component\": {\"stringValue\": \"Transform\"}, \"custom:name\": {\"stringValue\": \"transformed_examples\"}, \"custom:pipeline_name\": {\"stringValue\": \"covertype-end-to-end\"}, \"tfx_type\": {\"stringValue\": \"tfx.types.standard_artifacts.Examples\"}}, \"dataset\": {}}}, \"transform_graph\": {\"artifact\": {\"customProperties\": {\"custom:name\": {\"stringValue\": \"transform_graph\"}, \"custom:pipeline_name\": {\"stringValue\": \"covertype-end-to-end\"}, \"tfx_type\": {\"stringValue\": \"tfx.types.standard_artifacts.TransformGraph\"}, \"type_name\": {\"stringValue\": \"TransformGraph\"}, \"custom:producer_component\": {\"stringValue\": \"Transform\"}}, \"file\": {}}}}, \"container\": {\"image\": \"gcr.io/mlops-dev-env/caip-tfx-custom\", \"command\": [\"python3\", \"/tfx-src/tfx/orchestration/ai_platform_pipelines/container/ai_platform_run_executor.py\"], \"args\": [\"--executor_class_path\", \"tfx.components.transform.executor.Executor\", \"--json_serialized_invocation_args\", \"{{$}}\"]}}, \"dependencies\": [{\"step\": \"CsvExampleGen.Data_Extraction_Spliting\"}, {\"step\": \"SchemaGen\"}], \"cachePolicy\": {}}, \"StatisticsGen.Statistics_Generation\": {\"task\": {\"inputs\": {\"examples\": {\"stepOutput\": {\"step\": \"CsvExampleGen.Data_Extraction_Spliting\", \"output\": \"examples\"}}}, \"executionProperties\": {\"exclude_splits\": {\"stringValue\": \"[]\"}}, \"outputs\": {\"statistics\": {\"artifact\": {\"customProperties\": {\"type_name\": {\"stringValue\": \"ExampleStatistics\"}, \"custom:producer_component\": {\"stringValue\": \"StatisticsGen.Statistics_Generation\"}, \"custom:name\": {\"stringValue\": \"statistics\"}, \"custom:pipeline_name\": {\"stringValue\": \"covertype-end-to-end\"}, \"tfx_type\": {\"stringValue\": \"tfx.types.standard_artifacts.ExampleStatistics\"}}, \"statistics\": {}}}}, \"container\": {\"image\": \"gcr.io/mlops-dev-env/caip-tfx-custom\", \"command\": [\"python3\", \"/tfx-src/tfx/orchestration/ai_platform_pipelines/container/ai_platform_run_executor.py\"], \"args\": [\"--executor_class_path\", \"tfx.components.statistics_gen.executor.Executor\", \"--json_serialized_invocation_args\", \"{{$}}\"]}}, \"dependencies\": [{\"step\": \"CsvExampleGen.Data_Extraction_Spliting\"}], \"cachePolicy\": {}}, \"Trainer\": {\"task\": {\"inputs\": {\"transform_graph\": {\"stepOutput\": {\"step\": \"Transform\", \"output\": \"transform_graph\"}}, \"schema\": {\"stepOutput\": {\"step\": \"SchemaGen\", \"output\": \"schema\"}}, \"examples\": {\"stepOutput\": {\"step\": \"Transform\", \"output\": \"transformed_examples\"}}}, \"executionProperties\": {\"custom_config\": {\"stringValue\": \"null\"}, \"module_file\": {\"stringValue\": \"model.py\"}, \"eval_args\": {\"stringValue\": \"{\\n  \\\"num_steps\\\": 1000\\n}\"}, \"train_args\": {\"stringValue\": \"{\\n  \\\"num_steps\\\": 5000\\n}\"}}, \"outputs\": {\"model\": {\"artifact\": {\"customProperties\": {\"custom:name\": {\"stringValue\": \"model\"}, \"custom:pipeline_name\": {\"stringValue\": \"covertype-end-to-end\"}, \"tfx_type\": {\"stringValue\": \"tfx.types.standard_artifacts.Model\"}, \"type_name\": {\"stringValue\": \"Model\"}, \"custom:producer_component\": {\"stringValue\": \"Trainer\"}}, \"model\": {}}}, \"model_run\": {\"artifact\": {\"customProperties\": {\"custom:name\": {\"stringValue\": \"model_run\"}, \"custom:pipeline_name\": {\"stringValue\": \"covertype-end-to-end\"}, \"tfx_type\": {\"stringValue\": \"tfx.types.standard_artifacts.ModelRun\"}, \"type_name\": {\"stringValue\": \"ModelRun\"}, \"custom:producer_component\": {\"stringValue\": \"Trainer\"}}, \"file\": {}}}}, \"container\": {\"image\": \"gcr.io/mlops-dev-env/caip-tfx-custom\", \"command\": [\"python3\", \"/tfx-src/tfx/orchestration/ai_platform_pipelines/container/ai_platform_run_executor.py\"], \"args\": [\"--executor_class_path\", \"tfx.components.trainer.executor.GenericExecutor\", \"--json_serialized_invocation_args\", \"{{$}}\"]}}, \"dependencies\": [{\"step\": \"SchemaGen\"}, {\"step\": \"Transform\"}], \"cachePolicy\": {}}, \"Pusher\": {\"task\": {\"inputs\": {\"model\": {\"stepOutput\": {\"step\": \"Trainer\", \"output\": \"model\"}}, \"model_blessing\": {\"stepOutput\": {\"step\": \"Evaluator\", \"output\": \"blessing\"}}}, \"executionProperties\": {\"custom_config\": {\"stringValue\": \"null\"}, \"push_destination\": {\"stringValue\": \"{\\n  \\\"filesystem\\\": {\\n    \\\"base_directory\\\": \\\"gs://mlops-dev-workspace/model-store/covertype_classifier\\\"\\n  }\\n}\"}}, \"outputs\": {\"pushed_model\": {\"artifact\": {\"customProperties\": {\"custom:producer_component\": {\"stringValue\": \"Pusher\"}, \"custom:name\": {\"stringValue\": \"pushed_model\"}, \"custom:pipeline_name\": {\"stringValue\": \"covertype-end-to-end\"}, \"tfx_type\": {\"stringValue\": \"tfx.types.standard_artifacts.PushedModel\"}, \"type_name\": {\"stringValue\": \"PushedModel\"}}, \"file\": {}}}}, \"container\": {\"image\": \"gcr.io/mlops-dev-env/caip-tfx-custom\", \"command\": [\"python3\", \"/tfx-src/tfx/orchestration/ai_platform_pipelines/container/ai_platform_run_executor.py\"], \"args\": [\"--executor_class_path\", \"tfx.components.pusher.executor.Executor\", \"--json_serialized_invocation_args\", \"{{$}}\"]}}, \"dependencies\": [{\"step\": \"Evaluator\"}, {\"step\": \"Trainer\"}], \"cachePolicy\": {}}, \"CsvExampleGen.Data_Extraction_Spliting\": {\"fileBasedExampleGen\": {\"inputBaseUri\": \"gs://workshop-datasets/covertype/small\", \"inputConfig\": {\"splits\": [{\"pattern\": \"*\", \"name\": \"single_split\"}]}, \"outputConfig\": {\"split_config\": {\"splits\": [{\"hash_buckets\": 4.0, \"name\": \"train\"}, {\"hash_buckets\": 1.0, \"name\": \"eval\"}]}}, \"container\": {\"image\": \"gcr.io/mlops-dev-env/caip-tfx-custom\", \"command\": [\"python3\", \"/tfx-src/tfx/orchestration/ai_platform_pipelines/container/ai_platform_run_executor.py\"], \"args\": [\"--executor_class_path\", \"tfx.components.example_gen.csv_example_gen.executor.Executor\", \"--json_serialized_invocation_args\", \"{{$}}\"]}}, \"cachePolicy\": {}}, \"ResolverNode.latest_blessed_model_resolver\": {\"resolver\": {\"resolverPolicy\": \"LATEST_BLESSED_MODEL\"}, \"cachePolicy\": {}}, \"ExampleValidator.Data_Validation\": {\"task\": {\"inputs\": {\"schema\": {\"stepOutput\": {\"step\": \"SchemaGen\", \"output\": \"schema\"}}, \"statistics\": {\"stepOutput\": {\"step\": \"StatisticsGen.Statistics_Generation\", \"output\": \"statistics\"}}}, \"executionProperties\": {\"exclude_splits\": {\"stringValue\": \"[]\"}}, \"outputs\": {\"anomalies\": {\"artifact\": {\"customProperties\": {\"type_name\": {\"stringValue\": \"ExampleAnomalies\"}, \"custom:producer_component\": {\"stringValue\": \"ExampleValidator.Data_Validation\"}, \"custom:name\": {\"stringValue\": \"anomalies\"}, \"custom:pipeline_name\": {\"stringValue\": \"covertype-end-to-end\"}, \"tfx_type\": {\"stringValue\": \"tfx.types.standard_artifacts.ExampleAnomalies\"}}, \"file\": {}}}}, \"container\": {\"image\": \"gcr.io/mlops-dev-env/caip-tfx-custom\", \"command\": [\"python3\", \"/tfx-src/tfx/orchestration/ai_platform_pipelines/container/ai_platform_run_executor.py\"], \"args\": [\"--executor_class_path\", \"tfx.components.example_validator.executor.Executor\", \"--json_serialized_invocation_args\", \"{{$}}\"]}}, \"dependencies\": [{\"step\": \"SchemaGen\"}, {\"step\": \"StatisticsGen.Statistics_Generation\"}], \"cachePolicy\": {}}}}, \"outputPathConfig\": {\"pipelineRoot\": \"gs://mlops-dev-workspace/pipeline-root/covertype-end-to-end\"}}\n",
      "INFO:absl:Received server response: {\"name\": \"projects/mlops-dev-env/pipelineJobs/covertype-end-to-end_20200829212412\", \"displayName\": \"Covertype Classifier Training\", \"spec\": {\"pipelineContext\": \"covertype-end-to-end\", \"steps\": {\"Transform\": {\"task\": {\"inputs\": {\"schema\": {\"stepOutput\": {\"step\": \"SchemaGen\", \"output\": \"schema\"}}, \"examples\": {\"stepOutput\": {\"step\": \"CsvExampleGen.Data_Extraction_Spliting\", \"output\": \"examples\"}}}, \"executionProperties\": {\"custom_config\": {\"stringValue\": \"null\"}, \"module_file\": {\"stringValue\": \"preprocessing.py\"}}, \"outputs\": {\"transform_graph\": {\"artifact\": {\"customProperties\": {\"tfx_type\": {\"stringValue\": \"tfx.types.standard_artifacts.TransformGraph\"}, \"custom:pipeline_name\": {\"stringValue\": \"covertype-end-to-end\"}, \"custom:name\": {\"stringValue\": \"transform_graph\"}, \"custom:producer_component\": {\"stringValue\": \"Transform\"}, \"type_name\": {\"stringValue\": \"TransformGraph\"}}, \"file\": {}}}, \"transformed_examples\": {\"artifact\": {\"customProperties\": {\"type_name\": {\"stringValue\": \"Examples\"}, \"tfx_type\": {\"stringValue\": \"tfx.types.standard_artifacts.Examples\"}, \"custom:producer_component\": {\"stringValue\": \"Transform\"}, \"custom:pipeline_name\": {\"stringValue\": \"covertype-end-to-end\"}, \"custom:name\": {\"stringValue\": \"transformed_examples\"}}, \"dataset\": {}}}}, \"container\": {\"image\": \"gcr.io/mlops-dev-env/caip-tfx-custom\", \"command\": [\"python3\", \"/tfx-src/tfx/orchestration/ai_platform_pipelines/container/ai_platform_run_executor.py\"], \"args\": [\"--executor_class_path\", \"tfx.components.transform.executor.Executor\", \"--json_serialized_invocation_args\", \"{{$}}\"]}}, \"dependencies\": [{\"step\": \"CsvExampleGen.Data_Extraction_Spliting\"}, {\"step\": \"SchemaGen\"}], \"cachePolicy\": {}}, \"ResolverNode.latest_blessed_model_resolver\": {\"resolver\": {\"resolverPolicy\": \"LATEST_BLESSED_MODEL\"}, \"cachePolicy\": {}}, \"CsvExampleGen.Data_Extraction_Spliting\": {\"fileBasedExampleGen\": {\"inputBaseUri\": \"gs://workshop-datasets/covertype/small\", \"inputConfig\": {\"splits\": [{\"name\": \"single_split\", \"pattern\": \"*\"}]}, \"outputConfig\": {\"split_config\": {\"splits\": [{\"name\": \"train\", \"hash_buckets\": 4}, {\"name\": \"eval\", \"hash_buckets\": 1}]}}, \"container\": {\"image\": \"gcr.io/mlops-dev-env/caip-tfx-custom\", \"command\": [\"python3\", \"/tfx-src/tfx/orchestration/ai_platform_pipelines/container/ai_platform_run_executor.py\"], \"args\": [\"--executor_class_path\", \"tfx.components.example_gen.csv_example_gen.executor.Executor\", \"--json_serialized_invocation_args\", \"{{$}}\"]}}, \"cachePolicy\": {}}, \"Trainer\": {\"task\": {\"inputs\": {\"examples\": {\"stepOutput\": {\"step\": \"Transform\", \"output\": \"transformed_examples\"}}, \"transform_graph\": {\"stepOutput\": {\"step\": \"Transform\", \"output\": \"transform_graph\"}}, \"schema\": {\"stepOutput\": {\"step\": \"SchemaGen\", \"output\": \"schema\"}}}, \"executionProperties\": {\"module_file\": {\"stringValue\": \"model.py\"}, \"train_args\": {\"stringValue\": \"{\\n  \\\"num_steps\\\": 5000\\n}\"}, \"custom_config\": {\"stringValue\": \"null\"}, \"eval_args\": {\"stringValue\": \"{\\n  \\\"num_steps\\\": 1000\\n}\"}}, \"outputs\": {\"model\": {\"artifact\": {\"customProperties\": {\"custom:pipeline_name\": {\"stringValue\": \"covertype-end-to-end\"}, \"tfx_type\": {\"stringValue\": \"tfx.types.standard_artifacts.Model\"}, \"custom:producer_component\": {\"stringValue\": \"Trainer\"}, \"custom:name\": {\"stringValue\": \"model\"}, \"type_name\": {\"stringValue\": \"Model\"}}, \"model\": {}}}, \"model_run\": {\"artifact\": {\"customProperties\": {\"tfx_type\": {\"stringValue\": \"tfx.types.standard_artifacts.ModelRun\"}, \"custom:name\": {\"stringValue\": \"model_run\"}, \"custom:producer_component\": {\"stringValue\": \"Trainer\"}, \"custom:pipeline_name\": {\"stringValue\": \"covertype-end-to-end\"}, \"type_name\": {\"stringValue\": \"ModelRun\"}}, \"file\": {}}}}, \"container\": {\"image\": \"gcr.io/mlops-dev-env/caip-tfx-custom\", \"command\": [\"python3\", \"/tfx-src/tfx/orchestration/ai_platform_pipelines/container/ai_platform_run_executor.py\"], \"args\": [\"--executor_class_path\", \"tfx.components.trainer.executor.GenericExecutor\", \"--json_serialized_invocation_args\", \"{{$}}\"]}}, \"dependencies\": [{\"step\": \"SchemaGen\"}, {\"step\": \"Transform\"}], \"cachePolicy\": {}}, \"SchemaGen\": {\"task\": {\"inputs\": {\"statistics\": {\"stepOutput\": {\"step\": \"StatisticsGen.Statistics_Generation\", \"output\": \"statistics\"}}}, \"executionProperties\": {\"infer_feature_shape\": {\"intValue\": \"0\"}, \"exclude_splits\": {\"stringValue\": \"[]\"}}, \"outputs\": {\"schema\": {\"artifact\": {\"customProperties\": {\"tfx_type\": {\"stringValue\": \"tfx.types.standard_artifacts.Schema\"}, \"custom:producer_component\": {\"stringValue\": \"SchemaGen\"}, \"type_name\": {\"stringValue\": \"Schema\"}, \"custom:pipeline_name\": {\"stringValue\": \"covertype-end-to-end\"}, \"custom:name\": {\"stringValue\": \"schema\"}}, \"schema\": {}}}}, \"container\": {\"image\": \"gcr.io/mlops-dev-env/caip-tfx-custom\", \"command\": [\"python3\", \"/tfx-src/tfx/orchestration/ai_platform_pipelines/container/ai_platform_run_executor.py\"], \"args\": [\"--executor_class_path\", \"tfx.components.schema_gen.executor.Executor\", \"--json_serialized_invocation_args\", \"{{$}}\"]}}, \"dependencies\": [{\"step\": \"StatisticsGen.Statistics_Generation\"}], \"cachePolicy\": {}}, \"StatisticsGen.Statistics_Generation\": {\"task\": {\"inputs\": {\"examples\": {\"stepOutput\": {\"step\": \"CsvExampleGen.Data_Extraction_Spliting\", \"output\": \"examples\"}}}, \"executionProperties\": {\"exclude_splits\": {\"stringValue\": \"[]\"}}, \"outputs\": {\"statistics\": {\"artifact\": {\"customProperties\": {\"tfx_type\": {\"stringValue\": \"tfx.types.standard_artifacts.ExampleStatistics\"}, \"custom:name\": {\"stringValue\": \"statistics\"}, \"custom:producer_component\": {\"stringValue\": \"StatisticsGen.Statistics_Generation\"}, \"custom:pipeline_name\": {\"stringValue\": \"covertype-end-to-end\"}, \"type_name\": {\"stringValue\": \"ExampleStatistics\"}}, \"statistics\": {}}}}, \"container\": {\"image\": \"gcr.io/mlops-dev-env/caip-tfx-custom\", \"command\": [\"python3\", \"/tfx-src/tfx/orchestration/ai_platform_pipelines/container/ai_platform_run_executor.py\"], \"args\": [\"--executor_class_path\", \"tfx.components.statistics_gen.executor.Executor\", \"--json_serialized_invocation_args\", \"{{$}}\"]}}, \"dependencies\": [{\"step\": \"CsvExampleGen.Data_Extraction_Spliting\"}], \"cachePolicy\": {}}, \"ExampleValidator.Data_Validation\": {\"task\": {\"inputs\": {\"statistics\": {\"stepOutput\": {\"step\": \"StatisticsGen.Statistics_Generation\", \"output\": \"statistics\"}}, \"schema\": {\"stepOutput\": {\"step\": \"SchemaGen\", \"output\": \"schema\"}}}, \"executionProperties\": {\"exclude_splits\": {\"stringValue\": \"[]\"}}, \"outputs\": {\"anomalies\": {\"artifact\": {\"customProperties\": {\"custom:name\": {\"stringValue\": \"anomalies\"}, \"type_name\": {\"stringValue\": \"ExampleAnomalies\"}, \"custom:pipeline_name\": {\"stringValue\": \"covertype-end-to-end\"}, \"tfx_type\": {\"stringValue\": \"tfx.types.standard_artifacts.ExampleAnomalies\"}, \"custom:producer_component\": {\"stringValue\": \"ExampleValidator.Data_Validation\"}}, \"file\": {}}}}, \"container\": {\"image\": \"gcr.io/mlops-dev-env/caip-tfx-custom\", \"command\": [\"python3\", \"/tfx-src/tfx/orchestration/ai_platform_pipelines/container/ai_platform_run_executor.py\"], \"args\": [\"--executor_class_path\", \"tfx.components.example_validator.executor.Executor\", \"--json_serialized_invocation_args\", \"{{$}}\"]}}, \"dependencies\": [{\"step\": \"SchemaGen\"}, {\"step\": \"StatisticsGen.Statistics_Generation\"}], \"cachePolicy\": {}}, \"Evaluator\": {\"task\": {\"inputs\": {\"model\": {\"stepOutput\": {\"step\": \"Trainer\", \"output\": \"model\"}}, \"examples\": {\"stepOutput\": {\"step\": \"CsvExampleGen.Data_Extraction_Spliting\", \"output\": \"examples\"}}, \"baseline_model\": {\"stepOutput\": {\"step\": \"ResolverNode.latest_blessed_model_resolver\", \"output\": \"model\"}}}, \"executionProperties\": {\"example_splits\": {\"stringValue\": \"null\"}, \"eval_config\": {\"stringValue\": \"{\\n  \\\"metrics_specs\\\": [\\n    {\\n      \\\"metrics\\\": [\\n        {\\n          \\\"class_name\\\": \\\"SparseCategoricalAccuracy\\\",\\n          \\\"threshold\\\": {\\n            \\\"change_threshold\\\": {\\n              \\\"absolute\\\": 0.0001,\\n              \\\"direction\\\": \\\"HIGHER_IS_BETTER\\\"\\n            },\\n            \\\"value_threshold\\\": {\\n              \\\"lower_bound\\\": 0.5,\\n              \\\"upper_bound\\\": 0.99\\n            }\\n          }\\n        },\\n        {\\n          \\\"class_name\\\": \\\"ExampleCount\\\"\\n        }\\n      ]\\n    }\\n  ],\\n  \\\"model_specs\\\": [\\n    {\\n      \\\"label_key\\\": \\\"Cover_Type\\\"\\n    }\\n  ],\\n  \\\"slicing_specs\\\": [\\n    {},\\n    {\\n      \\\"feature_keys\\\": [\\n        \\\"Wilderness_Area\\\"\\n      ]\\n    }\\n  ]\\n}\"}}, \"outputs\": {\"evaluation\": {\"artifact\": {\"customProperties\": {\"tfx_type\": {\"stringValue\": \"tfx.types.standard_artifacts.ModelEvaluation\"}, \"type_name\": {\"stringValue\": \"ModelEvaluation\"}, \"custom:producer_component\": {\"stringValue\": \"Evaluator\"}, \"custom:name\": {\"stringValue\": \"evaluation\"}, \"custom:pipeline_name\": {\"stringValue\": \"covertype-end-to-end\"}}, \"metrics\": {}}}, \"blessing\": {\"artifact\": {\"customProperties\": {\"custom:name\": {\"stringValue\": \"blessing\"}, \"custom:producer_component\": {\"stringValue\": \"Evaluator\"}, \"tfx_type\": {\"stringValue\": \"tfx.types.standard_artifacts.ModelBlessing\"}, \"type_name\": {\"stringValue\": \"ModelBlessing\"}, \"custom:pipeline_name\": {\"stringValue\": \"covertype-end-to-end\"}}, \"file\": {}}}}, \"container\": {\"image\": \"gcr.io/mlops-dev-env/caip-tfx-custom\", \"command\": [\"python3\", \"/tfx-src/tfx/orchestration/ai_platform_pipelines/container/ai_platform_run_executor.py\"], \"args\": [\"--executor_class_path\", \"tfx.components.evaluator.executor.Executor\", \"--json_serialized_invocation_args\", \"{{$}}\"]}}, \"dependencies\": [{\"step\": \"CsvExampleGen.Data_Extraction_Spliting\"}, {\"step\": \"ResolverNode.latest_blessed_model_resolver\"}, {\"step\": \"Trainer\"}], \"cachePolicy\": {}}, \"Pusher\": {\"task\": {\"inputs\": {\"model_blessing\": {\"stepOutput\": {\"step\": \"Evaluator\", \"output\": \"blessing\"}}, \"model\": {\"stepOutput\": {\"step\": \"Trainer\", \"output\": \"model\"}}}, \"executionProperties\": {\"push_destination\": {\"stringValue\": \"{\\n  \\\"filesystem\\\": {\\n    \\\"base_directory\\\": \\\"gs://mlops-dev-workspace/model-store/covertype_classifier\\\"\\n  }\\n}\"}, \"custom_config\": {\"stringValue\": \"null\"}}, \"outputs\": {\"pushed_model\": {\"artifact\": {\"customProperties\": {\"custom:name\": {\"stringValue\": \"pushed_model\"}, \"custom:pipeline_name\": {\"stringValue\": \"covertype-end-to-end\"}, \"type_name\": {\"stringValue\": \"PushedModel\"}, \"custom:producer_component\": {\"stringValue\": \"Pusher\"}, \"tfx_type\": {\"stringValue\": \"tfx.types.standard_artifacts.PushedModel\"}}, \"file\": {}}}}, \"container\": {\"image\": \"gcr.io/mlops-dev-env/caip-tfx-custom\", \"command\": [\"python3\", \"/tfx-src/tfx/orchestration/ai_platform_pipelines/container/ai_platform_run_executor.py\"], \"args\": [\"--executor_class_path\", \"tfx.components.pusher.executor.Executor\", \"--json_serialized_invocation_args\", \"{{$}}\"]}}, \"dependencies\": [{\"step\": \"Evaluator\"}, {\"step\": \"Trainer\"}], \"cachePolicy\": {}}}}, \"state\": \"PENDING\", \"outputPathConfig\": {\"pipelineRoot\": \"gs://mlops-dev-workspace/pipeline-root/covertype-end-to-end\"}}\n"
     ]
    },
    {
     "name": "stdout",
     "output_type": "stream",
     "text": [
      "Execution triggered. Job name: projects/mlops-dev-env/pipelineJobs/covertype-end-to-end_20200829212412\n"
     ]
    },
    {
     "data": {
      "text/plain": [
       "'projects/mlops-dev-env/pipelineJobs/covertype-end-to-end_20200829212412'"
      ]
     },
     "execution_count": 44,
     "metadata": {},
     "output_type": "execute_result"
    }
   ],
   "source": [
    "api_key = ''\n",
    "\n",
    "runner.run(pipeline, api_key=api_key)"
   ]
  },
  {
   "cell_type": "markdown",
   "metadata": {},
   "source": [
    "## License"
   ]
  },
  {
   "cell_type": "markdown",
   "metadata": {},
   "source": [
    "<font size=-1>Licensed under the Apache License, Version 2.0 (the \\\"License\\\");\n",
    "you may not use this file except in compliance with the License.\n",
    "You may obtain a copy of the License at [https://www.apache.org/licenses/LICENSE-2.0](https://www.apache.org/licenses/LICENSE-2.0)\n",
    "\n",
    "Unless required by applicable law or agreed to in writing, software distributed under the License is distributed on an \\\"AS IS\\\" BASIS, WITHOUT WARRANTIES OR CONDITIONS OF ANY KIND, either express or implied.  See the License for the specific language governing permissions and limitations under the License.</font>"
   ]
  }
 ],
 "metadata": {
  "environment": {
   "name": "tf2-2-3-gpu.2-3.m55",
   "type": "gcloud",
   "uri": "gcr.io/deeplearning-platform-release/tf2-2-3-gpu.2-3:m55"
  },
  "kernelspec": {
   "display_name": "Python 3",
   "language": "python",
   "name": "python3"
  },
  "language_info": {
   "codemirror_mode": {
    "name": "ipython",
    "version": 3
   },
   "file_extension": ".py",
   "mimetype": "text/x-python",
   "name": "python",
   "nbconvert_exporter": "python",
   "pygments_lexer": "ipython3",
   "version": "3.7.8"
  }
 },
 "nbformat": 4,
 "nbformat_minor": 4
}
