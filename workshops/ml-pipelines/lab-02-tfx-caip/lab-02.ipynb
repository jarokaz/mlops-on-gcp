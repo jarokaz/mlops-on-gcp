{
 "cells": [
  {
   "cell_type": "markdown",
   "metadata": {},
   "source": [
    "# Continuous training with TFX and Cloud AI Platform"
   ]
  },
  {
   "cell_type": "markdown",
   "metadata": {},
   "source": [
    "This lab demonstrates how to develop a Managed Pipelines pipeline that uses **AI Platform** and **Cloud Dataflow** as executors to run the TFX components at scale. You will also learn how to structure your pipeline code and how to use **TFX CLI** to submit pipeline runs"
   ]
  },
  {
   "cell_type": "markdown",
   "metadata": {},
   "source": [
    "## Set up the environment\n",
    "\n",
    "### Verify TFX SDK Version\n",
    "\n",
    "*Note**: this lab was developed and tested with the following TF ecosystem package versions:\n",
    "\n",
    "`Tensorflow Version: 2.3.0`  \n",
    "`TFX Version: 0.23.0.caip20200818`  \n",
    "`TFDV Version: 0.23.0`  \n",
    "`TFMA Version: 0.23.0`\n",
    "\n"
   ]
  },
  {
   "cell_type": "code",
   "execution_count": null,
   "metadata": {
    "tags": []
   },
   "outputs": [],
   "source": [
    "import os\n",
    "import tensorflow as tf\n",
    "import tensorflow_data_validation as tfdv\n",
    "import tensorflow_model_analysis as tfma\n",
    "import tfx\n",
    "\n",
    "from tfx.tools.cli.ai_platform_pipelines import labels\n",
    "\n",
    "print(\"Tensorflow Version:\", tf.__version__)\n",
    "print(\"TFX Version:\", tfx.__version__)\n",
    "print(\"TFDV Version:\", tfdv.__version__)\n",
    "print(\"TFMA Version:\", tfma.VERSION_STRING)"
   ]
  },
  {
   "cell_type": "markdown",
   "metadata": {},
   "source": [
    "If the versions above do not match, update your packages in the current Jupyter kernel. \n",
    "\n",
    "### Update `PATH` with the location of TFX SDK."
   ]
  },
  {
   "cell_type": "code",
   "execution_count": null,
   "metadata": {},
   "outputs": [],
   "source": [
    "os.environ['PATH'] += os.pathsep + '/home/jupyter/.local/bin'"
   ]
  },
  {
   "cell_type": "markdown",
   "metadata": {},
   "source": [
    "## Understanding the pipeline design\n",
    "The pipeline source code can be found in the `pipeline` and `modules` folders."
   ]
  },
  {
   "cell_type": "code",
   "execution_count": null,
   "metadata": {
    "tags": []
   },
   "outputs": [],
   "source": [
    "!ls -la pipeline"
   ]
  },
  {
   "cell_type": "markdown",
   "metadata": {},
   "source": [
    "The `pipeline` folder contains the pipeline DSL and configurations.\n",
    "\n",
    "The `configs.py` module configures the default values for the pipeline's settings.\n",
    "The default values can be overwritten at compile time by using environment variables.\n",
    "\n",
    "The `pipeline.py` module contains the TFX DSL defining the workflow implemented by the pipeline.\n",
    "\n"
   ]
  },
  {
   "cell_type": "code",
   "execution_count": null,
   "metadata": {
    "tags": []
   },
   "outputs": [],
   "source": [
    "!ls -la modules"
   ]
  },
  {
   "cell_type": "markdown",
   "metadata": {},
   "source": [
    "The `modules` folder contains user code for `Transform` and `Trainer` components.\n",
    "\n",
    "\n",
    "The `preprocessing.py` module implements the data preprocessing logic  the `Transform` component.\n",
    "\n",
    "The `model.py` module implements the training logic for the   `Train` component.\n",
    "\n",
    "The `features.py` module contains common definitions for the `model.py` and `preprocessing.py` modules.\n"
   ]
  },
  {
   "cell_type": "code",
   "execution_count": null,
   "metadata": {},
   "outputs": [],
   "source": [
    "!ls -la runner.py"
   ]
  },
  {
   "cell_type": "markdown",
   "metadata": {},
   "source": [
    "The `runner.py` module in the root folder of the lab contains configurations for the Managed Pipelines runner."
   ]
  },
  {
   "cell_type": "markdown",
   "metadata": {},
   "source": [
    "## Building and deploying the pipeline\n",
    "\n",
    "You will use TFX CLI to compile and deploy the pipeline. As noted in the previous section, the environment specific settings can be updated by modifying the `configs.py` file or setting respective environment variables.\n",
    "\n",
    "### Set the environment variables"
   ]
  },
  {
   "cell_type": "code",
   "execution_count": null,
   "metadata": {},
   "outputs": [],
   "source": [
    "API_KEY = ''\n",
    "\n",
    "PROJECT_ID = !(gcloud config get-value core/project)\n",
    "PROJECT_ID = PROJECT_ID[0]\n",
    "GCP_REGION = 'us-central1'\n",
    "PIPELINE_NAME = 'tfx_covertype_continuous_training'\n",
    "ARTIFACT_STORE = 'gs://mlops-dev-env-artifact-store'\n",
    "DATA_ROOT = 'gs://workshop-datasets/covertype/small'\n",
    "\n",
    "TARGET_IMAGE = f'gcr.io/{PROJECT_ID}/caip-tfx-custom'\n",
    "BASE_IMAGE = 'gcr.io/caip-pipelines-assets/tfx:latest'"
   ]
  },
  {
   "cell_type": "code",
   "execution_count": null,
   "metadata": {
    "tags": []
   },
   "outputs": [],
   "source": [
    "%env PIPELINE_NAME={PIPELINE_NAME}\n",
    "%env ARTIFACT_STORE={ARTIFACT_STORE}\n",
    "%env DATA_ROOT={DATA_ROOT}\n",
    "%env GCP_REGION={GCP_REGION}"
   ]
  },
  {
   "cell_type": "markdown",
   "metadata": {},
   "source": [
    "***Currently there is an issue with TFX CLI and environment variables. As a temporary mitigation update the `pipeline/configs.py` with equivalent values***"
   ]
  },
  {
   "cell_type": "code",
   "execution_count": null,
   "metadata": {},
   "outputs": [],
   "source": [
    "%%writefile pipeline/configs.py\n",
    "# Copyright 2020 Google LLC. All Rights Reserved.\n",
    "#\n",
    "# Licensed under the Apache License, Version 2.0 (the \"License\");\n",
    "# you may not use this file except in compliance with the License.\n",
    "# You may obtain a copy of the License at\n",
    "#\n",
    "#     http://www.apache.org/licenses/LICENSE-2.0\n",
    "#\n",
    "# Unless required by applicable law or agreed to in writing, software\n",
    "# distributed under the License is distributed on an \"AS IS\" BASIS,\n",
    "# WITHOUT WARRANTIES OR CONDITIONS OF ANY KIND, either express or implied.\n",
    "# See the License for the specific language governing permissions and\n",
    "# limitations under the License.\n",
    "\"\"\"The pipeline configurations.\n",
    "\"\"\"\n",
    "\n",
    "import os\n",
    "\n",
    "\n",
    "PIPELINE_NAME = os.getenv(\"PIPELINE_NAME\", \"tfx_covertype_continuous_training\")\n",
    "ARTIFACT_STORE = os.getenv(\"ARTIFACT_STORE\", \"gs://mlops-dev-env-artifact-store\")\n",
    "DATA_ROOT = os.getenv(\"DATA_ROOT\", \"gs://workshop-datasets/covertype/small\")\n",
    "SCHEMA_URI = os.getenv(\"SCHEMA_URI\", \"schema\")\n",
    "GCP_REGION = os.getenv(\"GCP_REGION\", \"us-central1\")\n",
    "DATAFLOW_MACHINE_TYPE = os.getenv(\"DATAFLOW_MACHINE_TYPE\", \"n1-standard-8\")\n",
    "DATAFLOW_DISK_SIZE = os.getenv(\"DATAFLOW_DISK_SIZE\", \"100\")\n",
    "PREPROCESSING_FN = os.getenv(\"PREPROCESSING_FN\", \"modules.preprocessing.preprocessing_fn\")\n",
    "RUN_FN = os.getenv(\"RUN_FUN\", \"modules.model.run_fn\")\n",
    "TRAIN_NUM_STEPS = os.getenv(\"TRAIN_NUM_STEPS\", 5000)\n",
    "EVAL_NUM_STEPS = os.getenv(\"EVAL_NUM_STEPS\", 500)\n",
    "CAIP_TRAINING_MACHINE_TYPE = os.getenv(\"CAIP_TRAINING_MACHINE_TYPE\", \"n1-standard-8\")\n",
    "SERVING_MODEL_DIR = os.getenv(\"SERVING_MODEL_DIR\", \"gs://mlops-dev-env-artifact-store/models/covertype\")\n",
    "EVAL_ACCURACY_THRESHOLD = os.getenv(\"EVAL_ACCURACY_THRESHOLD\", 0.5)\n",
    "MODEL_NAME=os.getenv(\"MODEL_NAME\", \"covertype_classifier\")\n",
    "RUNTIME_VERSION=os.getenv(\"RUNTIME_VERSION\", \"2.1\")\n",
    "PYTHON_VERSION=os.getenv(\"PYTHON_VERSION\", \"3.7\")"
   ]
  },
  {
   "cell_type": "markdown",
   "metadata": {},
   "source": [
    "### Build the pipeline\n",
    "\n",
    "You can build a custom TFX container image  and compile the pipeline into the JSON IR in one step, using the `tfx caipp pipeline create` command. \n",
    "\n",
    "As you debug the pipeline DSL, you may prefer to first use the `tfx caipp pipeline compile` command, which is faster as it only executes the compilation step. After the DSL compiles successfully you can use the `tfx caipp pipeline create` to go through both steps.\n"
   ]
  },
  {
   "cell_type": "markdown",
   "metadata": {},
   "source": [
    "#### Compile the pipeline"
   ]
  },
  {
   "cell_type": "code",
   "execution_count": null,
   "metadata": {
    "tags": []
   },
   "outputs": [],
   "source": [
    "!tfx caipp pipeline compile \\\n",
    "--pipeline_path=runner.py \\\n",
    "--project_id={PROJECT_ID} \\\n",
    "--target-image={TARGET_IMAGE} "
   ]
  },
  {
   "cell_type": "markdown",
   "metadata": {},
   "source": [
    "#### Create the pipeline "
   ]
  },
  {
   "cell_type": "code",
   "execution_count": null,
   "metadata": {
    "tags": []
   },
   "outputs": [],
   "source": [
    "!tfx caipp pipeline create  \\\n",
    "--pipeline_path=runner.py \\\n",
    "--build-base-image={BASE_IMAGE} \\\n",
    "--build-target-image={TARGET_IMAGE} "
   ]
  },
  {
   "cell_type": "markdown",
   "metadata": {},
   "source": [
    "If you need to rebuild the pipeline you can first delete the previous version using `tfx pipeline delete` or you can update the pipeline in-place using `tfx pipeline update`.\n",
    "\n",
    "To delete the pipeline:\n",
    "\n",
    "`tfx caipp pipeline delete --pipeline_name {PIPELINE_NAME}`\n",
    "\n",
    "To update the pipeline:\n",
    "\n",
    "`tfx caipp pipeline update --pipeline_path runner.py`"
   ]
  },
  {
   "cell_type": "markdown",
   "metadata": {},
   "source": [
    "### Submit the pipeline run"
   ]
  },
  {
   "cell_type": "code",
   "execution_count": null,
   "metadata": {
    "tags": []
   },
   "outputs": [],
   "source": [
    "!tfx caipp run create \\\n",
    "--pipeline-name={PIPELINE_NAME} \\\n",
    "--project-id={PROJECT_ID} \\\n",
    "--api-key={API_KEY} \\\n",
    "--target-image={TARGET_IMAGE}"
   ]
  },
  {
   "cell_type": "markdown",
   "metadata": {},
   "source": [
    "To list all active runs of the pipeline:"
   ]
  },
  {
   "cell_type": "code",
   "execution_count": null,
   "metadata": {},
   "outputs": [],
   "source": [
    "!tfx caipp run list \\\n",
    "--project_id {PROJECT_ID} \\\n",
    "--pipeline_name {PIPELINE_NAME} \\\n",
    "--api-key {API_KEY}"
   ]
  },
  {
   "cell_type": "markdown",
   "metadata": {},
   "source": [
    "To retrieve the status of a given run:"
   ]
  },
  {
   "cell_type": "code",
   "execution_count": null,
   "metadata": {},
   "outputs": [],
   "source": [
    "JOB_NAME='tfx_covertype_continuous_training_20200831022237'\n",
    "\n",
    "!tfx caipp run status \\\n",
    "--project_id {PROJECT_ID} \\\n",
    "--job_name {JOB_NAME} \\\n",
    "--api-key {API_KEY}"
   ]
  },
  {
   "cell_type": "markdown",
   "metadata": {},
   "source": [
    "## License"
   ]
  },
  {
   "cell_type": "markdown",
   "metadata": {},
   "source": [
    "<font size=-1>Licensed under the Apache License, Version 2.0 (the \\\"License\\\");\n",
    "you may not use this file except in compliance with the License.\n",
    "You may obtain a copy of the License at [https://www.apache.org/licenses/LICENSE-2.0](https://www.apache.org/licenses/LICENSE-2.0)\n",
    "\n",
    "Unless required by applicable law or agreed to in writing, software distributed under the License is distributed on an \\\"AS IS\\\" BASIS, WITHOUT WARRANTIES OR CONDITIONS OF ANY KIND, either express or implied.  See the License for the specific language governing permissions and limitations under the License.</font>"
   ]
  }
 ],
 "metadata": {
  "environment": {
   "name": "tf2-2-3-gpu.2-3.m55",
   "type": "gcloud",
   "uri": "gcr.io/deeplearning-platform-release/tf2-2-3-gpu.2-3:m55"
  },
  "kernelspec": {
   "display_name": "Python 3",
   "language": "python",
   "name": "python3"
  },
  "language_info": {
   "codemirror_mode": {
    "name": "ipython",
    "version": 3
   },
   "file_extension": ".py",
   "mimetype": "text/x-python",
   "name": "python",
   "nbconvert_exporter": "python",
   "pygments_lexer": "ipython3",
   "version": "3.7.8"
  }
 },
 "nbformat": 4,
 "nbformat_minor": 4
}
