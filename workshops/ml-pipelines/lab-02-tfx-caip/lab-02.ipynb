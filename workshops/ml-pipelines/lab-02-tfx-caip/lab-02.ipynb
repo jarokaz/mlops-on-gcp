{
 "cells": [
  {
   "cell_type": "markdown",
   "metadata": {},
   "source": [
    "# Continuous training with TFX and Cloud AI Platform"
   ]
  },
  {
   "cell_type": "markdown",
   "metadata": {},
   "source": [
    "This lab demonstrates how to develop a Managed Pipelines pipeline that uses **AI Platform** and **Cloud Dataflow** as executors to run the TFX components at scale. You will also learn how to structure your pipeline code and how to use **TFX CLI** to submit pipeline runs"
   ]
  },
  {
   "cell_type": "markdown",
   "metadata": {},
   "source": [
    "## Set up the environment\n",
    "\n",
    "### Verify TFX SDK Version\n",
    "\n",
    "*Note**: this lab was developed and tested with the following TF ecosystem package versions:\n",
    "\n",
    "`Tensorflow Version: 2.3.0`  \n",
    "`TFX Version: 0.23.0.caip20200818`  \n",
    "`TFDV Version: 0.23.0`  \n",
    "`TFMA Version: 0.23.0`\n",
    "\n"
   ]
  },
  {
   "cell_type": "code",
   "execution_count": 1,
   "metadata": {
    "tags": []
   },
   "outputs": [
    {
     "name": "stdout",
     "output_type": "stream",
     "text": [
      "Tensorflow Version: 2.3.0\n",
      "TFX Version: 0.23.0.caip20200818\n",
      "TFDV Version: 0.23.0\n",
      "TFMA Version: 0.23.0\n"
     ]
    }
   ],
   "source": [
    "import os\n",
    "import tensorflow as tf\n",
    "import tensorflow_data_validation as tfdv\n",
    "import tensorflow_model_analysis as tfma\n",
    "import tfx\n",
    "\n",
    "from tfx.tools.cli.ai_platform_pipelines import labels\n",
    "\n",
    "print(\"Tensorflow Version:\", tf.__version__)\n",
    "print(\"TFX Version:\", tfx.__version__)\n",
    "print(\"TFDV Version:\", tfdv.__version__)\n",
    "print(\"TFMA Version:\", tfma.VERSION_STRING)"
   ]
  },
  {
   "cell_type": "markdown",
   "metadata": {},
   "source": [
    "If the versions above do not match, update your packages in the current Jupyter kernel. \n",
    "\n",
    "### Update `PATH` with the location of TFX SDK."
   ]
  },
  {
   "cell_type": "code",
   "execution_count": 2,
   "metadata": {},
   "outputs": [],
   "source": [
    "os.environ['PATH'] += os.pathsep + '/home/jupyter/.local/bin'"
   ]
  },
  {
   "cell_type": "markdown",
   "metadata": {},
   "source": [
    "## Understanding the pipeline design\n",
    "The pipeline source code can be found in the `pipeline` and `modules` folders."
   ]
  },
  {
   "cell_type": "code",
   "execution_count": 3,
   "metadata": {
    "tags": []
   },
   "outputs": [
    {
     "name": "stdout",
     "output_type": "stream",
     "text": [
      "total 32\n",
      "drwxr-xr-x 4 jupyter jupyter 4096 Sep  1 02:12 .\n",
      "drwxr-xr-x 7 jupyter jupyter 4096 Sep  1 03:38 ..\n",
      "-rw-r--r-- 1 jupyter jupyter 1787 Sep  1 01:13 configs.py\n",
      "-rw-r--r-- 1 jupyter jupyter    0 Aug 30 01:57 __init__.py\n",
      "drwxr-xr-x 2 jupyter jupyter 4096 Aug 31 01:37 .ipynb_checkpoints\n",
      "-rw-r--r-- 1 jupyter jupyter 8636 Sep  1 02:12 pipeline.py\n",
      "drwxr-xr-x 2 jupyter jupyter 4096 Sep  1 02:13 __pycache__\n"
     ]
    }
   ],
   "source": [
    "!ls -la pipeline"
   ]
  },
  {
   "cell_type": "markdown",
   "metadata": {},
   "source": [
    "The `pipeline` folder contains the pipeline DSL and configurations.\n",
    "\n",
    "The `configs.py` module configures the default values for the pipeline's settings.\n",
    "The default values can be overwritten at compile time by using environment variables.\n",
    "\n",
    "The `pipeline.py` module contains the TFX DSL defining the workflow implemented by the pipeline.\n",
    "\n"
   ]
  },
  {
   "cell_type": "code",
   "execution_count": 4,
   "metadata": {
    "tags": []
   },
   "outputs": [
    {
     "name": "stdout",
     "output_type": "stream",
     "text": [
      "total 28\n",
      "drwxr-xr-x 3 jupyter jupyter 4096 Aug 31 20:56 .\n",
      "drwxr-xr-x 7 jupyter jupyter 4096 Sep  1 03:38 ..\n",
      "-rw-r--r-- 1 jupyter jupyter 1220 Aug 31 20:42 features.py\n",
      "-rw-r--r-- 1 jupyter jupyter    0 Aug 30 01:57 __init__.py\n",
      "drwxr-xr-x 2 jupyter jupyter 4096 Aug 31 20:55 .ipynb_checkpoints\n",
      "-rw-r--r-- 1 jupyter jupyter 7374 Aug 31 20:56 model.py\n",
      "-rw-r--r-- 1 jupyter jupyter 2044 Aug 31 20:55 preprocessing.py\n"
     ]
    }
   ],
   "source": [
    "!ls -la modules"
   ]
  },
  {
   "cell_type": "markdown",
   "metadata": {},
   "source": [
    "The `modules` folder contains user code for `Transform` and `Trainer` components.\n",
    "\n",
    "\n",
    "The `preprocessing.py` module implements the data preprocessing logic  the `Transform` component.\n",
    "\n",
    "The `model.py` module implements the training logic for the   `Train` component.\n",
    "\n",
    "The `features.py` module contains common definitions for the `model.py` and `preprocessing.py` modules.\n"
   ]
  },
  {
   "cell_type": "code",
   "execution_count": 5,
   "metadata": {},
   "outputs": [
    {
     "name": "stdout",
     "output_type": "stream",
     "text": [
      "-rw-r--r-- 1 jupyter jupyter 3887 Sep  1 02:10 runner.py\n"
     ]
    }
   ],
   "source": [
    "!ls -la runner.py"
   ]
  },
  {
   "cell_type": "markdown",
   "metadata": {},
   "source": [
    "The `runner.py` module in the root folder of the lab contains configurations for the Managed Pipelines runner."
   ]
  },
  {
   "cell_type": "markdown",
   "metadata": {},
   "source": [
    "## Building and deploying the pipeline\n",
    "\n",
    "You will use TFX CLI to compile and deploy the pipeline. As noted in the previous section, the environment specific settings can be updated by modifying the `configs.py` file or setting respective environment variables.\n",
    "\n",
    "### Set the environment variables"
   ]
  },
  {
   "cell_type": "code",
   "execution_count": 8,
   "metadata": {},
   "outputs": [],
   "source": [
    "API_KEY = ''\n",
    "\n",
    "PROJECT_ID = !(gcloud config get-value core/project)\n",
    "PROJECT_ID = PROJECT_ID[0]\n",
    "GCP_REGION = 'us-central1'\n",
    "PIPELINE_NAME = 'tfx_covertype_continuous_training'\n",
    "ARTIFACT_STORE = 'gs://mlops-dev-env-artifact-store'\n",
    "DATA_ROOT = 'gs://workshop-datasets/covertype/small'\n",
    "\n",
    "TARGET_IMAGE = f'gcr.io/{PROJECT_ID}/caip-tfx-custom'\n",
    "BASE_IMAGE = 'gcr.io/caip-pipelines-assets/tfx:latest'"
   ]
  },
  {
   "cell_type": "code",
   "execution_count": 9,
   "metadata": {
    "tags": []
   },
   "outputs": [
    {
     "name": "stdout",
     "output_type": "stream",
     "text": [
      "env: PIPELINE_NAME=tfx_covertype_continuous_training\n",
      "env: ARTIFACT_STORE=gs://mlops-dev-env-artifact-store\n",
      "env: DATA_ROOT=gs://workshop-datasets/covertype/small\n",
      "env: GCP_REGION=us-central1\n"
     ]
    }
   ],
   "source": [
    "%env PIPELINE_NAME={PIPELINE_NAME}\n",
    "%env ARTIFACT_STORE={ARTIFACT_STORE}\n",
    "%env DATA_ROOT={DATA_ROOT}\n",
    "%env GCP_REGION={GCP_REGION}"
   ]
  },
  {
   "cell_type": "markdown",
   "metadata": {},
   "source": [
    "***Currently there is an issue with TFX CLI and environment variables. As a temporary mitigation update the `pipeline/configs.py` with equivalent values***"
   ]
  },
  {
   "cell_type": "code",
   "execution_count": 10,
   "metadata": {},
   "outputs": [
    {
     "name": "stdout",
     "output_type": "stream",
     "text": [
      "Overwriting pipeline/configs.py\n"
     ]
    }
   ],
   "source": [
    "%%writefile pipeline/configs.py\n",
    "# Copyright 2020 Google LLC. All Rights Reserved.\n",
    "#\n",
    "# Licensed under the Apache License, Version 2.0 (the \"License\");\n",
    "# you may not use this file except in compliance with the License.\n",
    "# You may obtain a copy of the License at\n",
    "#\n",
    "#     http://www.apache.org/licenses/LICENSE-2.0\n",
    "#\n",
    "# Unless required by applicable law or agreed to in writing, software\n",
    "# distributed under the License is distributed on an \"AS IS\" BASIS,\n",
    "# WITHOUT WARRANTIES OR CONDITIONS OF ANY KIND, either express or implied.\n",
    "# See the License for the specific language governing permissions and\n",
    "# limitations under the License.\n",
    "\"\"\"The pipeline configurations.\n",
    "\"\"\"\n",
    "\n",
    "import os\n",
    "\n",
    "\n",
    "PIPELINE_NAME = os.getenv(\"PIPELINE_NAME\", \"tfx_covertype_continuous_training\")\n",
    "ARTIFACT_STORE = os.getenv(\"ARTIFACT_STORE\", \"gs://mlops-dev-env-artifact-store\")\n",
    "DATA_ROOT = os.getenv(\"DATA_ROOT\", \"gs://workshop-datasets/covertype/small\")\n",
    "SCHEMA_URI = os.getenv(\"SCHEMA_URI\", \"schema\")\n",
    "GCP_REGION = os.getenv(\"GCP_REGION\", \"us-central1\")\n",
    "DATAFLOW_MACHINE_TYPE = os.getenv(\"DATAFLOW_MACHINE_TYPE\", \"n1-standard-8\")\n",
    "DATAFLOW_DISK_SIZE = os.getenv(\"DATAFLOW_DISK_SIZE\", \"100\")\n",
    "PREPROCESSING_FN = os.getenv(\"PREPROCESSING_FN\", \"modules.preprocessing.preprocessing_fn\")\n",
    "RUN_FN = os.getenv(\"RUN_FUN\", \"modules.model.run_fn\")\n",
    "TRAIN_NUM_STEPS = os.getenv(\"TRAIN_NUM_STEPS\", 5000)\n",
    "EVAL_NUM_STEPS = os.getenv(\"EVAL_NUM_STEPS\", 500)\n",
    "CAIP_TRAINING_MACHINE_TYPE = os.getenv(\"CAIP_TRAINING_MACHINE_TYPE\", \"n1-standard-8\")\n",
    "SERVING_MODEL_DIR = os.getenv(\"SERVING_MODEL_DIR\", \"gs://mlops-dev-env-artifact-store/models/covertype\")\n",
    "EVAL_ACCURACY_THRESHOLD = os.getenv(\"EVAL_ACCURACY_THRESHOLD\", 0.5)\n",
    "MODEL_NAME=os.getenv(\"MODEL_NAME\", \"covertype_classifier\")\n",
    "RUNTIME_VERSION=os.getenv(\"RUNTIME_VERSION\", \"2.1\")\n",
    "PYTHON_VERSION=os.getenv(\"PYTHON_VERSION\", \"3.7\")"
   ]
  },
  {
   "cell_type": "markdown",
   "metadata": {},
   "source": [
    "### Build the pipeline\n",
    "\n",
    "You can build a custom TFX container image  and compile the pipeline into the JSON IR in one step, using the `tfx caipp pipeline create` command. \n",
    "\n",
    "As you debug the pipeline DSL, you may prefer to first use the `tfx caipp pipeline compile` command, which is faster as it only executes the compilation step. After the DSL compiles successfully you can use the `tfx caipp pipeline create` to go through both steps.\n"
   ]
  },
  {
   "cell_type": "markdown",
   "metadata": {},
   "source": [
    "#### Compile the pipeline"
   ]
  },
  {
   "cell_type": "code",
   "execution_count": 11,
   "metadata": {
    "tags": []
   },
   "outputs": [
    {
     "name": "stdout",
     "output_type": "stream",
     "text": [
      "/home/jupyter/.local/lib/python3.7/site-packages/tfx/orchestration/data_types.py:191: UserWarning: RuntimeParameter is only supported on KubeflowDagRunner currently.\n",
      "  warnings.warn('RuntimeParameter is only supported on KubeflowDagRunner '\n",
      "CLI\n",
      "Cloud AI Platform Pipelines\n",
      "Compiling pipeline\n",
      "/home/jupyter/.local/lib/python3.7/site-packages/tfx/orchestration/data_types.py:191: UserWarning: RuntimeParameter is only supported on KubeflowDagRunner currently.\n",
      "  warnings.warn('RuntimeParameter is only supported on KubeflowDagRunner '\n",
      "INFO:absl:Excluding no splits because exclude_splits is not set.\n",
      "INFO:absl:Excluding no splits because exclude_splits is not set.\n",
      "INFO:absl:Excluding no splits because exclude_splits is not set.\n",
      "WARNING:absl:Only one of `artifacts` and `matching_channel_name` should be set.\n",
      "\u001b[0mPipeline compiled successfully.\n",
      "\u001b[0m"
     ]
    }
   ],
   "source": [
    "!tfx caipp pipeline compile \\\n",
    "--pipeline_path=runner.py \\\n",
    "--project_id={PROJECT_ID} \\\n",
    "--target-image={TARGET_IMAGE} "
   ]
  },
  {
   "cell_type": "markdown",
   "metadata": {},
   "source": [
    "#### Create the pipeline "
   ]
  },
  {
   "cell_type": "code",
   "execution_count": 12,
   "metadata": {
    "tags": []
   },
   "outputs": [
    {
     "name": "stdout",
     "output_type": "stream",
     "text": [
      "/home/jupyter/.local/lib/python3.7/site-packages/tfx/orchestration/data_types.py:191: UserWarning: RuntimeParameter is only supported on KubeflowDagRunner currently.\n",
      "  warnings.warn('RuntimeParameter is only supported on KubeflowDagRunner '\n",
      "CLI\n",
      "Cloud AI Platform Pipelines\n",
      "Creating pipeline\n",
      "Reading build spec from build.yaml\n",
      "No local setup.py, copying the directory and configuring the PYTHONPATH.\n",
      "[Skaffold] Generating tags...\n",
      "[Skaffold]  - gcr.io/mlops-dev-env/caip-tfx-custom -> gcr.io/mlops-dev-env/caip-tfx-custom:latest\n",
      "[Skaffold] Checking cache...\n",
      "[Skaffold]  - gcr.io/mlops-dev-env/caip-tfx-custom: Not found. Building\n",
      "[Skaffold] Building [gcr.io/mlops-dev-env/caip-tfx-custom]...\n",
      "[Skaffold] Sending build context to Docker daemon    151kB\n",
      "[Skaffold] Step 1/4 : FROM gcr.io/caip-pipelines-assets/tfx:latest\n",
      "[Skaffold]  ---> 19c14dda2bb5\n",
      "[Skaffold] Step 2/4 : WORKDIR /pipeline\n",
      "[Skaffold]  ---> Using cache\n",
      "[Skaffold]  ---> 73280faa1be8\n",
      "[Skaffold] Step 3/4 : COPY ./ ./\n",
      "[Skaffold]  ---> 2a2b6460fd63\n",
      "[Skaffold] Step 4/4 : ENV PYTHONPATH=\"/pipeline:${PYTHONPATH}\"\n",
      "[Skaffold]  ---> Running in 43b4c94baa3d\n",
      "[Skaffold]  ---> 9d73df9c65fb\n",
      "[Skaffold] Successfully built 9d73df9c65fb\n",
      "[Skaffold] Successfully tagged gcr.io/mlops-dev-env/caip-tfx-custom:latest\n",
      "[Skaffold] The push refers to repository [gcr.io/mlops-dev-env/caip-tfx-custom]\n",
      "[Skaffold] 2e8a2db8f414: Preparing\n",
      "[Skaffold] 096a31859079: Preparing\n",
      "[Skaffold] 040e39b76df7: Preparing\n",
      "[Skaffold] 34d223592bf6: Preparing\n",
      "[Skaffold] 076274ac0c03: Preparing\n",
      "[Skaffold] d73a82f851f0: Preparing\n",
      "[Skaffold] 4058ae03fa32: Preparing\n",
      "[Skaffold] e3437c61d457: Preparing\n",
      "[Skaffold] 84ff92691f90: Preparing\n",
      "[Skaffold] 54b00d861a7a: Preparing\n",
      "[Skaffold] c547358928ab: Preparing\n",
      "[Skaffold] 84ff92691f90: Preparing\n",
      "[Skaffold] c4e66be694ce: Preparing\n",
      "[Skaffold] 47cc65c6dd57: Preparing\n",
      "[Skaffold] d73a82f851f0: Waiting\n",
      "[Skaffold] 4058ae03fa32: Waiting\n",
      "[Skaffold] 54b00d861a7a: Waiting\n",
      "[Skaffold] e3437c61d457: Waiting\n",
      "[Skaffold] 84ff92691f90: Waiting\n",
      "[Skaffold] c547358928ab: Waiting\n",
      "[Skaffold] 47cc65c6dd57: Waiting\n",
      "[Skaffold] c4e66be694ce: Waiting\n",
      "[Skaffold] 34d223592bf6: Layer already exists\n",
      "[Skaffold] 076274ac0c03: Layer already exists\n",
      "[Skaffold] 096a31859079: Layer already exists\n",
      "[Skaffold] 040e39b76df7: Layer already exists\n",
      "[Skaffold] d73a82f851f0: Layer already exists\n",
      "[Skaffold] 84ff92691f90: Layer already exists\n",
      "[Skaffold] e3437c61d457: Layer already exists\n",
      "[Skaffold] 4058ae03fa32: Layer already exists\n",
      "[Skaffold] 54b00d861a7a: Layer already exists\n",
      "[Skaffold] c547358928ab: Layer already exists\n",
      "[Skaffold] 47cc65c6dd57: Layer already exists\n",
      "[Skaffold] c4e66be694ce: Layer already exists\n",
      "[Skaffold] 2e8a2db8f414: Pushed\n",
      "[Skaffold] latest: digest: sha256:7bface6c33fedbc0d2ccc78c782353d341ed556168f2a0f65f0ba69ff7a275a1 size: 3265\n",
      "New container image is built. Target image is available in the build spec file.\n",
      "/home/jupyter/.local/lib/python3.7/site-packages/tfx/orchestration/data_types.py:191: UserWarning: RuntimeParameter is only supported on KubeflowDagRunner currently.\n",
      "  warnings.warn('RuntimeParameter is only supported on KubeflowDagRunner '\n",
      "INFO:absl:Excluding no splits because exclude_splits is not set.\n",
      "INFO:absl:Excluding no splits because exclude_splits is not set.\n",
      "INFO:absl:Excluding no splits because exclude_splits is not set.\n",
      "WARNING:absl:Only one of `artifacts` and `matching_channel_name` should be set.\n",
      "\u001b[0mPipeline compiled successfully.\n",
      "Pipeline \"tfx_covertype_continuous_training\" created successfully.\n",
      "\u001b[0m"
     ]
    }
   ],
   "source": [
    "!tfx caipp pipeline create  \\\n",
    "--pipeline_path=runner.py \\\n",
    "--build-base-image={BASE_IMAGE} \\\n",
    "--build-target-image={TARGET_IMAGE} "
   ]
  },
  {
   "cell_type": "markdown",
   "metadata": {},
   "source": [
    "If you need to rebuild the pipeline you can first delete the previous version using `tfx pipeline delete` or you can update the pipeline in-place using `tfx pipeline update`.\n",
    "\n",
    "To delete the pipeline:\n",
    "\n",
    "`tfx caipp pipeline delete --pipeline_name {PIPELINE_NAME}`\n",
    "\n",
    "To update the pipeline:\n",
    "\n",
    "`tfx caipp pipeline update --pipeline_path runner.py`"
   ]
  },
  {
   "cell_type": "markdown",
   "metadata": {},
   "source": [
    "### Submit the pipeline run"
   ]
  },
  {
   "cell_type": "code",
   "execution_count": 13,
   "metadata": {
    "tags": []
   },
   "outputs": [
    {
     "name": "stdout",
     "output_type": "stream",
     "text": [
      "/home/jupyter/.local/lib/python3.7/site-packages/tfx/orchestration/data_types.py:191: UserWarning: RuntimeParameter is only supported on KubeflowDagRunner currently.\n",
      "  warnings.warn('RuntimeParameter is only supported on KubeflowDagRunner '\n",
      "CLI\n",
      "Cloud AI Platform Pipelines\n",
      "Creating a run for pipeline: tfx_covertype_continuous_training\n",
      "/home/jupyter/.local/lib/python3.7/site-packages/tfx/orchestration/data_types.py:191: UserWarning: RuntimeParameter is only supported on KubeflowDagRunner currently.\n",
      "  warnings.warn('RuntimeParameter is only supported on KubeflowDagRunner '\n",
      "INFO:absl:Excluding no splits because exclude_splits is not set.\n",
      "INFO:absl:Excluding no splits because exclude_splits is not set.\n",
      "INFO:absl:Excluding no splits because exclude_splits is not set.\n",
      "WARNING:absl:Only one of `artifacts` and `matching_channel_name` should be set.\n",
      "INFO:absl:Compiled JSON request: {\"name\": \"projects/mlops-dev-env/pipelineJobs/tfx_covertype_continuous_training_20200901034258\", \"displayName\": \"tfx_covertype_continuous_training\", \"spec\": {\"pipelineContext\": \"tfx_covertype_continuous_training\", \"steps\": {\"StatisticsGen.generate_statistics\": {\"task\": {\"inputs\": {\"examples\": {\"stepOutput\": {\"step\": \"CsvExampleGen.import_csv_data\", \"output\": \"examples\"}}}, \"executionProperties\": {\"exclude_splits\": {\"stringValue\": \"[]\"}}, \"outputs\": {\"statistics\": {\"artifact\": {\"customProperties\": {\"type_name\": {\"stringValue\": \"ExampleStatistics\"}, \"custom:producer_component\": {\"stringValue\": \"StatisticsGen.generate_statistics\"}, \"custom:name\": {\"stringValue\": \"statistics\"}, \"custom:pipeline_name\": {\"stringValue\": \"tfx_covertype_continuous_training\"}, \"tfx_type\": {\"stringValue\": \"tfx.types.standard_artifacts.ExampleStatistics\"}}, \"statistics\": {}}}}, \"container\": {\"image\": \"gcr.io/mlops-dev-env/caip-tfx-custom\", \"command\": [\"python3\", \"/tfx-src/tfx/orchestration/ai_platform_pipelines/container/ai_platform_run_executor.py\"], \"args\": [\"--executor_class_path\", \"tfx.components.statistics_gen.executor.Executor\", \"--json_serialized_invocation_args\", \"{{$}}\"]}}, \"dependencies\": [{\"step\": \"CsvExampleGen.import_csv_data\"}], \"cachePolicy\": {}}, \"ResolverNode.latest_blessed_model_resolver\": {\"resolver\": {\"resolverPolicy\": \"LATEST_BLESSED_MODEL\"}, \"cachePolicy\": {}}, \"ImporterNode.import_user_schema\": {\"importer\": {\"artifact\": {\"uri\": \"schema\", \"customProperties\": {\"type_name\": {\"stringValue\": \"Schema\"}, \"tfx_type\": {\"stringValue\": \"tfx.types.standard_artifacts.Schema\"}}, \"schema\": {}}}, \"cachePolicy\": {}}, \"CsvExampleGen.import_csv_data\": {\"fileBasedExampleGen\": {\"inputBaseUri\": \"gs://workshop-datasets/covertype/small\", \"inputConfig\": {\"splits\": [{\"pattern\": \"*\", \"name\": \"single_split\"}]}, \"outputConfig\": {\"split_config\": {\"splits\": [{\"hash_buckets\": 4.0, \"name\": \"train\"}, {\"hash_buckets\": 1.0, \"name\": \"eval\"}]}}, \"container\": {\"image\": \"gcr.io/mlops-dev-env/caip-tfx-custom\", \"command\": [\"python3\", \"/tfx-src/tfx/orchestration/ai_platform_pipelines/container/ai_platform_run_executor.py\"], \"args\": [\"--executor_class_path\", \"tfx.components.example_gen.csv_example_gen.executor.Executor\", \"--json_serialized_invocation_args\", \"{{$}}\"]}}, \"cachePolicy\": {}}, \"SchemaGen.auto_generate_schema\": {\"task\": {\"inputs\": {\"statistics\": {\"stepOutput\": {\"step\": \"StatisticsGen.generate_statistics\", \"output\": \"statistics\"}}}, \"executionProperties\": {\"infer_feature_shape\": {\"intValue\": \"0\"}, \"exclude_splits\": {\"stringValue\": \"[]\"}}, \"outputs\": {\"schema\": {\"artifact\": {\"customProperties\": {\"custom:pipeline_name\": {\"stringValue\": \"tfx_covertype_continuous_training\"}, \"tfx_type\": {\"stringValue\": \"tfx.types.standard_artifacts.Schema\"}, \"type_name\": {\"stringValue\": \"Schema\"}, \"custom:producer_component\": {\"stringValue\": \"SchemaGen.auto_generate_schema\"}, \"custom:name\": {\"stringValue\": \"schema\"}}, \"schema\": {}}}}, \"container\": {\"image\": \"gcr.io/mlops-dev-env/caip-tfx-custom\", \"command\": [\"python3\", \"/tfx-src/tfx/orchestration/ai_platform_pipelines/container/ai_platform_run_executor.py\"], \"args\": [\"--executor_class_path\", \"tfx.components.schema_gen.executor.Executor\", \"--json_serialized_invocation_args\", \"{{$}}\"]}}, \"dependencies\": [{\"step\": \"StatisticsGen.generate_statistics\"}], \"cachePolicy\": {}}, \"Evaluator\": {\"task\": {\"inputs\": {\"examples\": {\"stepOutput\": {\"step\": \"CsvExampleGen.import_csv_data\", \"output\": \"examples\"}}, \"model\": {\"stepOutput\": {\"step\": \"Trainer\", \"output\": \"model\"}}}, \"executionProperties\": {\"eval_config\": {\"stringValue\": \"{\\n  \\\"metrics_specs\\\": [\\n    {\\n      \\\"metrics\\\": [\\n        {\\n          \\\"class_name\\\": \\\"SparseCategoricalAccuracy\\\",\\n          \\\"threshold\\\": {\\n            \\\"change_threshold\\\": {\\n              \\\"absolute\\\": 0.0001,\\n              \\\"direction\\\": \\\"HIGHER_IS_BETTER\\\"\\n            },\\n            \\\"value_threshold\\\": {\\n              \\\"lower_bound\\\": 0.5,\\n              \\\"upper_bound\\\": 0.995\\n            }\\n          }\\n        },\\n        {\\n          \\\"class_name\\\": \\\"ExampleCount\\\"\\n        }\\n      ]\\n    }\\n  ],\\n  \\\"model_specs\\\": [\\n    {\\n      \\\"label_key\\\": \\\"Cover_Type\\\"\\n    }\\n  ],\\n  \\\"slicing_specs\\\": [\\n    {},\\n    {\\n      \\\"feature_keys\\\": [\\n        \\\"Wilderness_Area\\\"\\n      ]\\n    }\\n  ]\\n}\"}, \"example_splits\": {\"stringValue\": \"null\"}}, \"outputs\": {\"evaluation\": {\"artifact\": {\"customProperties\": {\"custom:producer_component\": {\"stringValue\": \"Evaluator\"}, \"custom:name\": {\"stringValue\": \"evaluation\"}, \"custom:pipeline_name\": {\"stringValue\": \"tfx_covertype_continuous_training\"}, \"tfx_type\": {\"stringValue\": \"tfx.types.standard_artifacts.ModelEvaluation\"}, \"type_name\": {\"stringValue\": \"ModelEvaluation\"}}, \"metrics\": {}}}, \"blessing\": {\"artifact\": {\"customProperties\": {\"type_name\": {\"stringValue\": \"ModelBlessing\"}, \"custom:producer_component\": {\"stringValue\": \"Evaluator\"}, \"custom:name\": {\"stringValue\": \"blessing\"}, \"custom:pipeline_name\": {\"stringValue\": \"tfx_covertype_continuous_training\"}, \"tfx_type\": {\"stringValue\": \"tfx.types.standard_artifacts.ModelBlessing\"}}, \"file\": {}}}}, \"container\": {\"image\": \"gcr.io/mlops-dev-env/caip-tfx-custom\", \"command\": [\"python3\", \"/tfx-src/tfx/orchestration/ai_platform_pipelines/container/ai_platform_run_executor.py\"], \"args\": [\"--executor_class_path\", \"tfx.components.evaluator.executor.Executor\", \"--json_serialized_invocation_args\", \"{{$}}\"]}}, \"dependencies\": [{\"step\": \"CsvExampleGen.import_csv_data\"}, {\"step\": \"Trainer\"}], \"cachePolicy\": {}}, \"Transform\": {\"task\": {\"inputs\": {\"schema\": {\"stepOutput\": {\"step\": \"ImporterNode.import_user_schema\", \"output\": \"result\"}}, \"examples\": {\"stepOutput\": {\"step\": \"CsvExampleGen.import_csv_data\", \"output\": \"examples\"}}}, \"executionProperties\": {\"custom_config\": {\"stringValue\": \"null\"}, \"preprocessing_fn\": {\"stringValue\": \"modules.preprocessing.preprocessing_fn\"}}, \"outputs\": {\"transformed_examples\": {\"artifact\": {\"customProperties\": {\"type_name\": {\"stringValue\": \"Examples\"}, \"custom:producer_component\": {\"stringValue\": \"Transform\"}, \"custom:name\": {\"stringValue\": \"transformed_examples\"}, \"custom:pipeline_name\": {\"stringValue\": \"tfx_covertype_continuous_training\"}, \"tfx_type\": {\"stringValue\": \"tfx.types.standard_artifacts.Examples\"}}, \"dataset\": {}}}, \"transform_graph\": {\"artifact\": {\"customProperties\": {\"type_name\": {\"stringValue\": \"TransformGraph\"}, \"custom:producer_component\": {\"stringValue\": \"Transform\"}, \"custom:name\": {\"stringValue\": \"transform_graph\"}, \"custom:pipeline_name\": {\"stringValue\": \"tfx_covertype_continuous_training\"}, \"tfx_type\": {\"stringValue\": \"tfx.types.standard_artifacts.TransformGraph\"}}, \"file\": {}}}}, \"container\": {\"image\": \"gcr.io/mlops-dev-env/caip-tfx-custom\", \"command\": [\"python3\", \"/tfx-src/tfx/orchestration/ai_platform_pipelines/container/ai_platform_run_executor.py\"], \"args\": [\"--executor_class_path\", \"tfx.components.transform.executor.Executor\", \"--json_serialized_invocation_args\", \"{{$}}\"]}}, \"dependencies\": [{\"step\": \"CsvExampleGen.import_csv_data\"}, {\"step\": \"ImporterNode.import_user_schema\"}], \"cachePolicy\": {}}, \"Trainer\": {\"task\": {\"inputs\": {\"examples\": {\"stepOutput\": {\"step\": \"Transform\", \"output\": \"transformed_examples\"}}, \"transform_graph\": {\"stepOutput\": {\"step\": \"Transform\", \"output\": \"transform_graph\"}}, \"schema\": {\"stepOutput\": {\"step\": \"ImporterNode.import_user_schema\", \"output\": \"result\"}}}, \"executionProperties\": {\"eval_args\": {\"stringValue\": \"{\\n  \\\"num_steps\\\": 500\\n}\"}, \"train_args\": {\"stringValue\": \"{\\n  \\\"num_steps\\\": 5000\\n}\"}, \"run_fn\": {\"stringValue\": \"modules.model.run_fn\"}, \"custom_config\": {\"stringValue\": \"null\"}}, \"outputs\": {\"model\": {\"artifact\": {\"customProperties\": {\"type_name\": {\"stringValue\": \"Model\"}, \"custom:producer_component\": {\"stringValue\": \"Trainer\"}, \"custom:name\": {\"stringValue\": \"model\"}, \"custom:pipeline_name\": {\"stringValue\": \"tfx_covertype_continuous_training\"}, \"tfx_type\": {\"stringValue\": \"tfx.types.standard_artifacts.Model\"}}, \"model\": {}}}, \"model_run\": {\"artifact\": {\"customProperties\": {\"custom:pipeline_name\": {\"stringValue\": \"tfx_covertype_continuous_training\"}, \"tfx_type\": {\"stringValue\": \"tfx.types.standard_artifacts.ModelRun\"}, \"type_name\": {\"stringValue\": \"ModelRun\"}, \"custom:producer_component\": {\"stringValue\": \"Trainer\"}, \"custom:name\": {\"stringValue\": \"model_run\"}}, \"file\": {}}}}, \"container\": {\"image\": \"gcr.io/mlops-dev-env/caip-tfx-custom\", \"command\": [\"python3\", \"/tfx-src/tfx/orchestration/ai_platform_pipelines/container/ai_platform_run_executor.py\"], \"args\": [\"--executor_class_path\", \"tfx.components.trainer.executor.GenericExecutor\", \"--json_serialized_invocation_args\", \"{{$}}\"]}}, \"dependencies\": [{\"step\": \"ImporterNode.import_user_schema\"}, {\"step\": \"Transform\"}], \"cachePolicy\": {}}, \"ExampleValidator\": {\"task\": {\"inputs\": {\"statistics\": {\"stepOutput\": {\"step\": \"StatisticsGen.generate_statistics\", \"output\": \"statistics\"}}, \"schema\": {\"stepOutput\": {\"step\": \"ImporterNode.import_user_schema\", \"output\": \"result\"}}}, \"executionProperties\": {\"exclude_splits\": {\"stringValue\": \"[]\"}}, \"outputs\": {\"anomalies\": {\"artifact\": {\"customProperties\": {\"type_name\": {\"stringValue\": \"ExampleAnomalies\"}, \"custom:producer_component\": {\"stringValue\": \"ExampleValidator\"}, \"custom:name\": {\"stringValue\": \"anomalies\"}, \"custom:pipeline_name\": {\"stringValue\": \"tfx_covertype_continuous_training\"}, \"tfx_type\": {\"stringValue\": \"tfx.types.standard_artifacts.ExampleAnomalies\"}}, \"file\": {}}}}, \"container\": {\"image\": \"gcr.io/mlops-dev-env/caip-tfx-custom\", \"command\": [\"python3\", \"/tfx-src/tfx/orchestration/ai_platform_pipelines/container/ai_platform_run_executor.py\"], \"args\": [\"--executor_class_path\", \"tfx.components.example_validator.executor.Executor\", \"--json_serialized_invocation_args\", \"{{$}}\"]}}, \"dependencies\": [{\"step\": \"ImporterNode.import_user_schema\"}, {\"step\": \"StatisticsGen.generate_statistics\"}], \"cachePolicy\": {}}, \"Pusher\": {\"task\": {\"inputs\": {\"model\": {\"stepOutput\": {\"step\": \"Trainer\", \"output\": \"model\"}}, \"model_blessing\": {\"stepOutput\": {\"step\": \"Evaluator\", \"output\": \"blessing\"}}}, \"executionProperties\": {\"custom_config\": {\"stringValue\": \"{\\\"ai_platform_serving_args\\\": {\\\"model_name\\\": \\\"covertype_classifier\\\", \\\"project_id\\\": \\\"mlops-dev-env\\\", \\\"pythonVersion\\\": \\\"3.7\\\", \\\"regions\\\": [\\\"us-central1\\\"], \\\"runtimeVersion\\\": \\\"2.1\\\"}}\"}, \"push_destination\": {\"stringValue\": \"{\\n  \\\"filesystem\\\": {\\n    \\\"base_directory\\\": \\\"gs://mlops-dev-env-artifact-store/models/covertype\\\"\\n  }\\n}\"}}, \"outputs\": {\"pushed_model\": {\"artifact\": {\"customProperties\": {\"custom:name\": {\"stringValue\": \"pushed_model\"}, \"custom:pipeline_name\": {\"stringValue\": \"tfx_covertype_continuous_training\"}, \"tfx_type\": {\"stringValue\": \"tfx.types.standard_artifacts.PushedModel\"}, \"type_name\": {\"stringValue\": \"PushedModel\"}, \"custom:producer_component\": {\"stringValue\": \"Pusher\"}}, \"file\": {}}}}, \"container\": {\"image\": \"gcr.io/mlops-dev-env/caip-tfx-custom\", \"command\": [\"python3\", \"/tfx-src/tfx/orchestration/ai_platform_pipelines/container/ai_platform_run_executor.py\"], \"args\": [\"--executor_class_path\", \"tfx.extensions.google_cloud_ai_platform.pusher.executor.Executor\", \"--json_serialized_invocation_args\", \"{{$}}\"]}}, \"dependencies\": [{\"step\": \"Evaluator\"}, {\"step\": \"Trainer\"}], \"cachePolicy\": {}}}}, \"outputPathConfig\": {\"pipelineRoot\": \"gs://mlops-dev-env-artifact-store/tfx_covertype_continuous_training\"}}\n",
      "INFO:absl:Received server response: {\"name\": \"projects/mlops-dev-env/pipelineJobs/tfx_covertype_continuous_training_20200901034258\", \"displayName\": \"tfx_covertype_continuous_training\", \"spec\": {\"pipelineContext\": \"tfx_covertype_continuous_training\", \"steps\": {\"Transform\": {\"task\": {\"inputs\": {\"schema\": {\"stepOutput\": {\"step\": \"ImporterNode.import_user_schema\", \"output\": \"result\"}}, \"examples\": {\"stepOutput\": {\"step\": \"CsvExampleGen.import_csv_data\", \"output\": \"examples\"}}}, \"executionProperties\": {\"custom_config\": {\"stringValue\": \"null\"}, \"preprocessing_fn\": {\"stringValue\": \"modules.preprocessing.preprocessing_fn\"}}, \"outputs\": {\"transform_graph\": {\"artifact\": {\"customProperties\": {\"custom:producer_component\": {\"stringValue\": \"Transform\"}, \"tfx_type\": {\"stringValue\": \"tfx.types.standard_artifacts.TransformGraph\"}, \"custom:name\": {\"stringValue\": \"transform_graph\"}, \"type_name\": {\"stringValue\": \"TransformGraph\"}, \"custom:pipeline_name\": {\"stringValue\": \"tfx_covertype_continuous_training\"}}, \"file\": {}}}, \"transformed_examples\": {\"artifact\": {\"customProperties\": {\"custom:pipeline_name\": {\"stringValue\": \"tfx_covertype_continuous_training\"}, \"type_name\": {\"stringValue\": \"Examples\"}, \"custom:name\": {\"stringValue\": \"transformed_examples\"}, \"tfx_type\": {\"stringValue\": \"tfx.types.standard_artifacts.Examples\"}, \"custom:producer_component\": {\"stringValue\": \"Transform\"}}, \"dataset\": {}}}}, \"container\": {\"image\": \"gcr.io/mlops-dev-env/caip-tfx-custom\", \"command\": [\"python3\", \"/tfx-src/tfx/orchestration/ai_platform_pipelines/container/ai_platform_run_executor.py\"], \"args\": [\"--executor_class_path\", \"tfx.components.transform.executor.Executor\", \"--json_serialized_invocation_args\", \"{{$}}\"]}}, \"dependencies\": [{\"step\": \"CsvExampleGen.import_csv_data\"}, {\"step\": \"ImporterNode.import_user_schema\"}], \"cachePolicy\": {}}, \"CsvExampleGen.import_csv_data\": {\"fileBasedExampleGen\": {\"inputBaseUri\": \"gs://workshop-datasets/covertype/small\", \"inputConfig\": {\"splits\": [{\"name\": \"single_split\", \"pattern\": \"*\"}]}, \"outputConfig\": {\"split_config\": {\"splits\": [{\"name\": \"train\", \"hash_buckets\": 4}, {\"name\": \"eval\", \"hash_buckets\": 1}]}}, \"container\": {\"image\": \"gcr.io/mlops-dev-env/caip-tfx-custom\", \"command\": [\"python3\", \"/tfx-src/tfx/orchestration/ai_platform_pipelines/container/ai_platform_run_executor.py\"], \"args\": [\"--executor_class_path\", \"tfx.components.example_gen.csv_example_gen.executor.Executor\", \"--json_serialized_invocation_args\", \"{{$}}\"]}}, \"cachePolicy\": {}}, \"SchemaGen.auto_generate_schema\": {\"task\": {\"inputs\": {\"statistics\": {\"stepOutput\": {\"step\": \"StatisticsGen.generate_statistics\", \"output\": \"statistics\"}}}, \"executionProperties\": {\"infer_feature_shape\": {\"intValue\": \"0\"}, \"exclude_splits\": {\"stringValue\": \"[]\"}}, \"outputs\": {\"schema\": {\"artifact\": {\"customProperties\": {\"custom:name\": {\"stringValue\": \"schema\"}, \"tfx_type\": {\"stringValue\": \"tfx.types.standard_artifacts.Schema\"}, \"type_name\": {\"stringValue\": \"Schema\"}, \"custom:pipeline_name\": {\"stringValue\": \"tfx_covertype_continuous_training\"}, \"custom:producer_component\": {\"stringValue\": \"SchemaGen.auto_generate_schema\"}}, \"schema\": {}}}}, \"container\": {\"image\": \"gcr.io/mlops-dev-env/caip-tfx-custom\", \"command\": [\"python3\", \"/tfx-src/tfx/orchestration/ai_platform_pipelines/container/ai_platform_run_executor.py\"], \"args\": [\"--executor_class_path\", \"tfx.components.schema_gen.executor.Executor\", \"--json_serialized_invocation_args\", \"{{$}}\"]}}, \"dependencies\": [{\"step\": \"StatisticsGen.generate_statistics\"}], \"cachePolicy\": {}}, \"ExampleValidator\": {\"task\": {\"inputs\": {\"statistics\": {\"stepOutput\": {\"step\": \"StatisticsGen.generate_statistics\", \"output\": \"statistics\"}}, \"schema\": {\"stepOutput\": {\"step\": \"ImporterNode.import_user_schema\", \"output\": \"result\"}}}, \"executionProperties\": {\"exclude_splits\": {\"stringValue\": \"[]\"}}, \"outputs\": {\"anomalies\": {\"artifact\": {\"customProperties\": {\"type_name\": {\"stringValue\": \"ExampleAnomalies\"}, \"tfx_type\": {\"stringValue\": \"tfx.types.standard_artifacts.ExampleAnomalies\"}, \"custom:pipeline_name\": {\"stringValue\": \"tfx_covertype_continuous_training\"}, \"custom:producer_component\": {\"stringValue\": \"ExampleValidator\"}, \"custom:name\": {\"stringValue\": \"anomalies\"}}, \"file\": {}}}}, \"container\": {\"image\": \"gcr.io/mlops-dev-env/caip-tfx-custom\", \"command\": [\"python3\", \"/tfx-src/tfx/orchestration/ai_platform_pipelines/container/ai_platform_run_executor.py\"], \"args\": [\"--executor_class_path\", \"tfx.components.example_validator.executor.Executor\", \"--json_serialized_invocation_args\", \"{{$}}\"]}}, \"dependencies\": [{\"step\": \"ImporterNode.import_user_schema\"}, {\"step\": \"StatisticsGen.generate_statistics\"}], \"cachePolicy\": {}}, \"Evaluator\": {\"task\": {\"inputs\": {\"model\": {\"stepOutput\": {\"step\": \"Trainer\", \"output\": \"model\"}}, \"examples\": {\"stepOutput\": {\"step\": \"CsvExampleGen.import_csv_data\", \"output\": \"examples\"}}}, \"executionProperties\": {\"eval_config\": {\"stringValue\": \"{\\n  \\\"metrics_specs\\\": [\\n    {\\n      \\\"metrics\\\": [\\n        {\\n          \\\"class_name\\\": \\\"SparseCategoricalAccuracy\\\",\\n          \\\"threshold\\\": {\\n            \\\"change_threshold\\\": {\\n              \\\"absolute\\\": 0.0001,\\n              \\\"direction\\\": \\\"HIGHER_IS_BETTER\\\"\\n            },\\n            \\\"value_threshold\\\": {\\n              \\\"lower_bound\\\": 0.5,\\n              \\\"upper_bound\\\": 0.995\\n            }\\n          }\\n        },\\n        {\\n          \\\"class_name\\\": \\\"ExampleCount\\\"\\n        }\\n      ]\\n    }\\n  ],\\n  \\\"model_specs\\\": [\\n    {\\n      \\\"label_key\\\": \\\"Cover_Type\\\"\\n    }\\n  ],\\n  \\\"slicing_specs\\\": [\\n    {},\\n    {\\n      \\\"feature_keys\\\": [\\n        \\\"Wilderness_Area\\\"\\n      ]\\n    }\\n  ]\\n}\"}, \"example_splits\": {\"stringValue\": \"null\"}}, \"outputs\": {\"blessing\": {\"artifact\": {\"customProperties\": {\"type_name\": {\"stringValue\": \"ModelBlessing\"}, \"custom:producer_component\": {\"stringValue\": \"Evaluator\"}, \"custom:pipeline_name\": {\"stringValue\": \"tfx_covertype_continuous_training\"}, \"custom:name\": {\"stringValue\": \"blessing\"}, \"tfx_type\": {\"stringValue\": \"tfx.types.standard_artifacts.ModelBlessing\"}}, \"file\": {}}}, \"evaluation\": {\"artifact\": {\"customProperties\": {\"tfx_type\": {\"stringValue\": \"tfx.types.standard_artifacts.ModelEvaluation\"}, \"custom:name\": {\"stringValue\": \"evaluation\"}, \"custom:pipeline_name\": {\"stringValue\": \"tfx_covertype_continuous_training\"}, \"type_name\": {\"stringValue\": \"ModelEvaluation\"}, \"custom:producer_component\": {\"stringValue\": \"Evaluator\"}}, \"metrics\": {}}}}, \"container\": {\"image\": \"gcr.io/mlops-dev-env/caip-tfx-custom\", \"command\": [\"python3\", \"/tfx-src/tfx/orchestration/ai_platform_pipelines/container/ai_platform_run_executor.py\"], \"args\": [\"--executor_class_path\", \"tfx.components.evaluator.executor.Executor\", \"--json_serialized_invocation_args\", \"{{$}}\"]}}, \"dependencies\": [{\"step\": \"CsvExampleGen.import_csv_data\"}, {\"step\": \"Trainer\"}], \"cachePolicy\": {}}, \"StatisticsGen.generate_statistics\": {\"task\": {\"inputs\": {\"examples\": {\"stepOutput\": {\"step\": \"CsvExampleGen.import_csv_data\", \"output\": \"examples\"}}}, \"executionProperties\": {\"exclude_splits\": {\"stringValue\": \"[]\"}}, \"outputs\": {\"statistics\": {\"artifact\": {\"customProperties\": {\"tfx_type\": {\"stringValue\": \"tfx.types.standard_artifacts.ExampleStatistics\"}, \"type_name\": {\"stringValue\": \"ExampleStatistics\"}, \"custom:producer_component\": {\"stringValue\": \"StatisticsGen.generate_statistics\"}, \"custom:name\": {\"stringValue\": \"statistics\"}, \"custom:pipeline_name\": {\"stringValue\": \"tfx_covertype_continuous_training\"}}, \"statistics\": {}}}}, \"container\": {\"image\": \"gcr.io/mlops-dev-env/caip-tfx-custom\", \"command\": [\"python3\", \"/tfx-src/tfx/orchestration/ai_platform_pipelines/container/ai_platform_run_executor.py\"], \"args\": [\"--executor_class_path\", \"tfx.components.statistics_gen.executor.Executor\", \"--json_serialized_invocation_args\", \"{{$}}\"]}}, \"dependencies\": [{\"step\": \"CsvExampleGen.import_csv_data\"}], \"cachePolicy\": {}}, \"Pusher\": {\"task\": {\"inputs\": {\"model_blessing\": {\"stepOutput\": {\"step\": \"Evaluator\", \"output\": \"blessing\"}}, \"model\": {\"stepOutput\": {\"step\": \"Trainer\", \"output\": \"model\"}}}, \"executionProperties\": {\"custom_config\": {\"stringValue\": \"{\\\"ai_platform_serving_args\\\": {\\\"model_name\\\": \\\"covertype_classifier\\\", \\\"project_id\\\": \\\"mlops-dev-env\\\", \\\"pythonVersion\\\": \\\"3.7\\\", \\\"regions\\\": [\\\"us-central1\\\"], \\\"runtimeVersion\\\": \\\"2.1\\\"}}\"}, \"push_destination\": {\"stringValue\": \"{\\n  \\\"filesystem\\\": {\\n    \\\"base_directory\\\": \\\"gs://mlops-dev-env-artifact-store/models/covertype\\\"\\n  }\\n}\"}}, \"outputs\": {\"pushed_model\": {\"artifact\": {\"customProperties\": {\"tfx_type\": {\"stringValue\": \"tfx.types.standard_artifacts.PushedModel\"}, \"custom:name\": {\"stringValue\": \"pushed_model\"}, \"type_name\": {\"stringValue\": \"PushedModel\"}, \"custom:producer_component\": {\"stringValue\": \"Pusher\"}, \"custom:pipeline_name\": {\"stringValue\": \"tfx_covertype_continuous_training\"}}, \"file\": {}}}}, \"container\": {\"image\": \"gcr.io/mlops-dev-env/caip-tfx-custom\", \"command\": [\"python3\", \"/tfx-src/tfx/orchestration/ai_platform_pipelines/container/ai_platform_run_executor.py\"], \"args\": [\"--executor_class_path\", \"tfx.extensions.google_cloud_ai_platform.pusher.executor.Executor\", \"--json_serialized_invocation_args\", \"{{$}}\"]}}, \"dependencies\": [{\"step\": \"Evaluator\"}, {\"step\": \"Trainer\"}], \"cachePolicy\": {}}, \"ImporterNode.import_user_schema\": {\"importer\": {\"artifact\": {\"uri\": \"schema\", \"customProperties\": {\"type_name\": {\"stringValue\": \"Schema\"}, \"tfx_type\": {\"stringValue\": \"tfx.types.standard_artifacts.Schema\"}}, \"schema\": {}}}, \"cachePolicy\": {}}, \"ResolverNode.latest_blessed_model_resolver\": {\"resolver\": {\"resolverPolicy\": \"LATEST_BLESSED_MODEL\"}, \"cachePolicy\": {}}, \"Trainer\": {\"task\": {\"inputs\": {\"examples\": {\"stepOutput\": {\"step\": \"Transform\", \"output\": \"transformed_examples\"}}, \"schema\": {\"stepOutput\": {\"step\": \"ImporterNode.import_user_schema\", \"output\": \"result\"}}, \"transform_graph\": {\"stepOutput\": {\"step\": \"Transform\", \"output\": \"transform_graph\"}}}, \"executionProperties\": {\"eval_args\": {\"stringValue\": \"{\\n  \\\"num_steps\\\": 500\\n}\"}, \"run_fn\": {\"stringValue\": \"modules.model.run_fn\"}, \"train_args\": {\"stringValue\": \"{\\n  \\\"num_steps\\\": 5000\\n}\"}, \"custom_config\": {\"stringValue\": \"null\"}}, \"outputs\": {\"model_run\": {\"artifact\": {\"customProperties\": {\"custom:pipeline_name\": {\"stringValue\": \"tfx_covertype_continuous_training\"}, \"tfx_type\": {\"stringValue\": \"tfx.types.standard_artifacts.ModelRun\"}, \"custom:producer_component\": {\"stringValue\": \"Trainer\"}, \"custom:name\": {\"stringValue\": \"model_run\"}, \"type_name\": {\"stringValue\": \"ModelRun\"}}, \"file\": {}}}, \"model\": {\"artifact\": {\"customProperties\": {\"custom:name\": {\"stringValue\": \"model\"}, \"custom:producer_component\": {\"stringValue\": \"Trainer\"}, \"custom:pipeline_name\": {\"stringValue\": \"tfx_covertype_continuous_training\"}, \"type_name\": {\"stringValue\": \"Model\"}, \"tfx_type\": {\"stringValue\": \"tfx.types.standard_artifacts.Model\"}}, \"model\": {}}}}, \"container\": {\"image\": \"gcr.io/mlops-dev-env/caip-tfx-custom\", \"command\": [\"python3\", \"/tfx-src/tfx/orchestration/ai_platform_pipelines/container/ai_platform_run_executor.py\"], \"args\": [\"--executor_class_path\", \"tfx.components.trainer.executor.GenericExecutor\", \"--json_serialized_invocation_args\", \"{{$}}\"]}}, \"dependencies\": [{\"step\": \"ImporterNode.import_user_schema\"}, {\"step\": \"Transform\"}], \"cachePolicy\": {}}}}, \"state\": \"PENDING\", \"outputPathConfig\": {\"pipelineRoot\": \"gs://mlops-dev-env-artifact-store/tfx_covertype_continuous_training\"}}\n",
      "Execution triggered. Job name: projects/mlops-dev-env/pipelineJobs/tfx_covertype_continuous_training_20200901034258\n",
      "\u001b[0m\u001b[0m"
     ]
    }
   ],
   "source": [
    "!tfx caipp run create \\\n",
    "--pipeline-name={PIPELINE_NAME} \\\n",
    "--project-id={PROJECT_ID} \\\n",
    "--api-key={API_KEY} \\\n",
    "--target-image={TARGET_IMAGE}"
   ]
  },
  {
   "cell_type": "markdown",
   "metadata": {},
   "source": [
    "To list all active runs of the pipeline:"
   ]
  },
  {
   "cell_type": "code",
   "execution_count": null,
   "metadata": {},
   "outputs": [],
   "source": [
    "!tfx caipp run list \\\n",
    "--project_id {PROJECT_ID} \\\n",
    "--pipeline_name {PIPELINE_NAME} \\\n",
    "--api-key {API_KEY}"
   ]
  },
  {
   "cell_type": "markdown",
   "metadata": {},
   "source": [
    "To retrieve the status of a given run:"
   ]
  },
  {
   "cell_type": "code",
   "execution_count": null,
   "metadata": {},
   "outputs": [],
   "source": [
    "JOB_NAME='tfx_covertype_continuous_training_20200831022237'\n",
    "\n",
    "!tfx caipp run status \\\n",
    "--project_id {PROJECT_ID} \\\n",
    "--job_name {JOB_NAME} \\\n",
    "--api-key {API_KEY}"
   ]
  },
  {
   "cell_type": "markdown",
   "metadata": {},
   "source": [
    "## License"
   ]
  },
  {
   "cell_type": "markdown",
   "metadata": {},
   "source": [
    "<font size=-1>Licensed under the Apache License, Version 2.0 (the \\\"License\\\");\n",
    "you may not use this file except in compliance with the License.\n",
    "You may obtain a copy of the License at [https://www.apache.org/licenses/LICENSE-2.0](https://www.apache.org/licenses/LICENSE-2.0)\n",
    "\n",
    "Unless required by applicable law or agreed to in writing, software distributed under the License is distributed on an \\\"AS IS\\\" BASIS, WITHOUT WARRANTIES OR CONDITIONS OF ANY KIND, either express or implied.  See the License for the specific language governing permissions and limitations under the License.</font>"
   ]
  }
 ],
 "metadata": {
  "environment": {
   "name": "tf2-2-3-gpu.2-3.m55",
   "type": "gcloud",
   "uri": "gcr.io/deeplearning-platform-release/tf2-2-3-gpu.2-3:m55"
  },
  "kernelspec": {
   "display_name": "Python 3",
   "language": "python",
   "name": "python3"
  },
  "language_info": {
   "codemirror_mode": {
    "name": "ipython",
    "version": 3
   },
   "file_extension": ".py",
   "mimetype": "text/x-python",
   "name": "python",
   "nbconvert_exporter": "python",
   "pygments_lexer": "ipython3",
   "version": "3.7.8"
  }
 },
 "nbformat": 4,
 "nbformat_minor": 4
}
